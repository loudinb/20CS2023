{
 "cells": [
  {
   "cell_type": "markdown",
   "metadata": {},
   "source": [
    "# Python Dictionary Exercises\n",
    "\n",
    "This notebook contains 20 exercises to help you practice working with Python dictionaries."
   ]
  },
  {
   "cell_type": "markdown",
   "metadata": {},
   "source": [
    "Create a dictionary named `fruit_prices` with the following key-value pairs:\n",
    "- 'apple': 0.5\n",
    "- 'banana': 0.3\n",
    "- 'orange': 0.4\n",
    "- 'pear': 0.6"
   ]
  },
  {
   "cell_type": "code",
   "execution_count": null,
   "metadata": {},
   "outputs": [],
   "source": [
    "fruit_prices = {\n",
    "    'apple': 0.5,\n",
    "    'banana': 0.3,\n",
    "    'orange': 0.4,\n",
    "    'pear': 0.6\n",
    "}\n",
    "print(fruit_prices)"
   ]
  },
  {
   "cell_type": "markdown",
   "metadata": {},
   "source": [
    "Access and print the price of an orange from the `fruit_prices` dictionary."
   ]
  },
  {
   "cell_type": "code",
   "execution_count": null,
   "metadata": {},
   "outputs": [],
   "source": [
    "orange_price = fruit_prices['orange']\n",
    "print(f\"The price of an orange is ${orange_price}\")"
   ]
  },
  {
   "cell_type": "markdown",
   "metadata": {},
   "source": [
    "Add a new fruit 'grape' with a price of 0.7 to the `fruit_prices` dictionary."
   ]
  },
  {
   "cell_type": "code",
   "execution_count": null,
   "metadata": {},
   "outputs": [],
   "source": [
    "fruit_prices['grape'] = 0.7\n",
    "print(fruit_prices)"
   ]
  },
  {
   "cell_type": "markdown",
   "metadata": {},
   "source": [
    "Create a function `total_cost(fruits, quantities)` that calculates the total cost of a fruit purchase. The function should take two parameters:\n",
    "- `fruits`: a list of fruit names\n",
    "- `quantities`: a list of quantities corresponding to the fruits\n",
    "\n",
    "Use the `fruit_prices` dictionary to look up the prices."
   ]
  },
  {
   "cell_type": "code",
   "execution_count": null,
   "metadata": {},
   "outputs": [],
   "source": [
    "def total_cost(fruits, quantities):\n",
    "    total = 0\n",
    "    for fruit, quantity in zip(fruits, quantities):\n",
    "        total += fruit_prices[fruit] * quantity\n",
    "    return total\n",
    "\n",
    "# Test the function\n",
    "fruits = ['apple', 'banana', 'orange']\n",
    "quantities = [2, 3, 1]\n",
    "print(f\"Total cost: ${total_cost(fruits, quantities):.2f}\")"
   ]
  },
  {
   "cell_type": "markdown",
   "metadata": {},
   "source": [
    "Use a dictionary method to get all the keys from the `fruit_prices` dictionary and print them."
   ]
  },
  {
   "cell_type": "code",
   "execution_count": null,
   "metadata": {},
   "outputs": [],
   "source": [
    "fruit_names = fruit_prices.keys()\n",
    "print(\"Available fruits:\", list(fruit_names))"
   ]
  },
  {
   "cell_type": "markdown",
   "metadata": {},
   "source": [
    "Use a dictionary method to get all the values from the `fruit_prices` dictionary and calculate the average price of fruits."
   ]
  },
  {
   "cell_type": "code",
   "execution_count": null,
   "metadata": {},
   "outputs": [],
   "source": [
    "prices = fruit_prices.values()\n",
    "average_price = sum(prices) / len(prices)\n",
    "print(f\"Average fruit price: ${average_price:.2f}\")"
   ]
  },
  {
   "cell_type": "markdown",
   "metadata": {},
   "source": [
    "Create a new dictionary `fruit_inventory` with the same keys as `fruit_prices`, but set all values to 0. Use a dictionary comprehension."
   ]
  },
  {
   "cell_type": "code",
   "execution_count": null,
   "metadata": {},
   "outputs": [],
   "source": [
    "fruit_inventory = {fruit: 0 for fruit in fruit_prices}\n",
    "print(fruit_inventory)"
   ]
  },
  {
   "cell_type": "markdown",
   "metadata": {},
   "source": [
    "Write a function `update_inventory(fruit, quantity)` that updates the `fruit_inventory` dictionary. If the fruit doesn't exist, add it with the given quantity."
   ]
  },
  {
   "cell_type": "code",
   "execution_count": null,
   "metadata": {},
   "outputs": [],
   "source": [
    "def update_inventory(fruit, quantity):\n",
    "    if fruit in fruit_inventory:\n",
    "        fruit_inventory[fruit] += quantity\n",
    "    else:\n",
    "        fruit_inventory[fruit] = quantity\n",
    "\n",
    "# Test the function\n",
    "update_inventory('apple', 10)\n",
    "update_inventory('kiwi', 5)\n",
    "print(fruit_inventory)"
   ]
  },
  {
   "cell_type": "markdown",
   "metadata": {},
   "source": [
    "Create a nested dictionary `fruit_details` where each fruit is a key, and the value is another dictionary containing 'price' and 'quantity' keys."
   ]
  },
  {
   "cell_type": "code",
   "execution_count": null,
   "metadata": {},
   "outputs": [],
   "source": [
    "fruit_details = {\n",
    "    fruit: {'price': price, 'quantity': fruit_inventory.get(fruit, 0)}\n",
    "    for fruit, price in fruit_prices.items()\n",
    "}\n",
    "print(fruit_details)"
   ]
  },
  {
   "cell_type": "markdown",
   "metadata": {},
   "source": [
    "Write a function `get_fruit_value(fruit)` that returns the total value of a given fruit's inventory (price * quantity) using the `fruit_details` dictionary."
   ]
  },
  {
   "cell_type": "code",
   "execution_count": null,
   "metadata": {},
   "outputs": [],
   "source": [
    "def get_fruit_value(fruit):\n",
    "    if fruit in fruit_details:\n",
    "        return fruit_details[fruit]['price'] * fruit_details[fruit]['quantity']\n",
    "    else:\n",
    "        return 0\n",
    "\n",
    "# Test the function\n",
    "print(f\"Value of apples: ${get_fruit_value('apple'):.2f}\")\n",
    "print(f\"Value of kiwis: ${get_fruit_value('kiwi'):.2f}\")"
   ]
  },
  {
   "cell_type": "markdown",
   "metadata": {},
   "source": [
    "Use the `dict.fromkeys()` method to create a new dictionary `fruit_colors` with fruits from `fruit_prices` as keys and all values set to an empty string."
   ]
  },
  {
   "cell_type": "code",
   "execution_count": null,
   "metadata": {},
   "outputs": [],
   "source": [
    "fruit_colors = dict.fromkeys(fruit_prices.keys(), '')\n",
    "print(fruit_colors)"
   ]
  },
  {
   "cell_type": "markdown",
   "metadata": {},
   "source": [
    "Write a function `set_fruit_color(fruit, color)` that updates the `fruit_colors` dictionary. If the fruit doesn't exist, print an error message."
   ]
  },
  {
   "cell_type": "code",
   "execution_count": null,
   "metadata": {},
   "outputs": [],
   "source": [
    "def set_fruit_color(fruit, color):\n",
    "    if fruit in fruit_colors:\n",
    "        fruit_colors[fruit] = color\n",
    "    else:\n",
    "        print(f\"Error: {fruit} is not in the fruit_colors dictionary.\")\n",
    "\n",
    "# Test the function\n",
    "set_fruit_color('apple', 'red')\n",
    "set_fruit_color('banana', 'yellow')\n",
    "set_fruit_color('mango', 'orange')  # This should print an error\n",
    "print(fruit_colors)"
   ]
  },
  {
   "cell_type": "markdown",
   "metadata": {},
   "source": [
    "Create a function `get_fruits_by_price_range(min_price, max_price)` that returns a list of fruits within the specified price range."
   ]
  },
  {
   "cell_type": "code",
   "execution_count": null,
   "metadata": {},
   "outputs": [],
   "source": [
    "def get_fruits_by_price_range(min_price, max_price):\n",
    "    return [fruit for fruit, price in fruit_prices.items() if min_price <= price <= max_price]\n",
    "\n",
    "# Test the function\n",
    "print(\"Fruits between $0.3 and $0.5:\", get_fruits_by_price_range(0.3, 0.5))"
   ]
  },
  {
   "cell_type": "markdown",
   "metadata": {},
   "source": [
    "Write a function `merge_dictionaries(dict1, dict2)` that merges two dictionaries. If there are duplicate keys, the value from `dict2` should overwrite the value from `dict1`."
   ]
  },
  {
   "cell_type": "code",
   "execution_count": null,
   "metadata": {},
   "outputs": [],
   "source": [
    "def merge_dictionaries(dict1, dict2):\n",
    "    merged = dict1.copy()\n",
    "    merged.update(dict2)\n",
    "    return merged\n",
    "\n",
    "# Test the function\n",
    "dict1 = {'a': 1, 'b': 2, 'c': 3}\n",
    "dict2 = {'b': 4, 'd': 5}\n",
    "print(\"Merged dictionary:\", merge_dictionaries(dict1, dict2))"
   ]
  },
  {
   "cell_type": "markdown",
   "metadata": {},
   "source": [
    "Create a function `invert_dictionary(d)` that returns a new dictionary where the keys and values of the input dictionary are swapped."
   ]
  },
  {
   "cell_type": "code",
   "execution_count": null,
   "metadata": {},
   "outputs": [],
   "source": [
    "def invert_dictionary(d):\n",
    "    return {v: k for k, v in d.items()}\n",
    "\n",
    "# Test the function\n",
    "inverted_prices = invert_dictionary(fruit_prices)\n",
    "print(\"Inverted fruit prices:\", inverted_prices)"
   ]
  },
  {
   "cell_type": "markdown",
   "metadata": {},
   "source": [
    "Write a function `find_max_value(d)` that returns the key with the maximum value in the dictionary."
   ]
  },
  {
   "cell_type": "code",
   "execution_count": null,
   "metadata": {},
   "outputs": [],
   "source": [
    "def find_max_value(d):\n",
    "    return max(d, key=d.get)\n",
    "\n",
    "# Test the function\n",
    "most_expensive_fruit = find_max_value(fruit_prices)\n",
    "print(f\"The most expensive fruit is: {most_expensive_fruit}\")"
   ]
  },
  {
   "cell_type": "markdown",
   "metadata": {},
   "source": [
    "Create a function `filter_dictionary(d, condition)` that returns a new dictionary with key-value pairs that satisfy the given condition function."
   ]
  },
  {
   "cell_type": "code",
   "execution_count": null,
   "metadata": {},
   "outputs": [],
   "source": [
    "def filter_dictionary(d, condition):\n",
    "    return {k: v for k, v in d.items() if condition(k, v)}\n",
    "\n",
    "# Test the function\n",
    "expensive_fruits = filter_dictionary(fruit_prices, lambda k, v: v > 0.4)\n",
    "print(\"Fruits more expensive than $0.4:\", expensive_fruits)"
   ]
  },
  {
   "cell_type": "markdown",
   "metadata": {},
   "source": [
    "Create a function `deep_update(d, update_dict)` that updates a nested dictionary `d` with key-value pairs from `update_dict`. The function should handle nested dictionaries of any depth."
   ]
  },
  {
   "cell_type": "code",
   "execution_count": null,
   "metadata": {},
   "outputs": [],
   "source": [
    "def deep_update(d, update_dict):\n",
    "    for k, v in update_dict.items():\n",
    "        if isinstance(v, dict) and k in d and isinstance(d[k], dict):\n",
    "            deep_update(d[k], v)\n",
    "        else:\n",
    "            d[k] = v\n",
    "\n",
    "# Test the function\n",
    "nested_dict = {\n",
    "    'a': 1,\n",
    "    'b': {\n",
    "        'c': 2,\n",
    "        'd': {\n",
    "            'e': 3\n",
    "        }\n",
    "    }\n",
    "}\n",
    "update_dict = {\n",
    "    'b': {\n",
    "        'c': 4,\n",
    "        'd': {\n",
    "            'f': 5\n",
    "        }\n",
    "    }\n",
    "}\n",
    "deep_update(nested_dict, update_dict)\n",
    "print(\"Updated nested dictionary:\", nested_dict)"
   ]
  },
  {
   "cell_type": "markdown",
   "metadata": {},
   "source": [
    "Write a function `flatten_dict(d, separator='_')` that flattens a nested dictionary into a single-level dictionary. The keys of the flattened dictionary should be the concatenated keys of the nested dictionary, joined by the specified separator."
   ]
  },
  {
   "cell_type": "code",
   "execution_count": null,
   "metadata": {},
   "outputs": [],
   "source": [
    "def flatten_dict(d, parent_key='', separator='_'):\n",
    "    flattened = {}\n",
    "    for k, v in d.items():\n",
    "        new_key = f\"{parent_key}{separator}{k}\" if parent_key else k\n",
    "        if isinstance(v, dict):\n",
    "            flattened.update(flatten_dict(v, new_key, separator))\n",
    "        else:\n",
    "            flattened[new_key] = v\n",
    "    return flattened\n",
    "\n",
    "# Test the function\n",
    "nested_dict = {\n",
    "    'a': 1,\n",
    "    'b': {\n",
    "        'c': 2,\n",
    "        'd': {\n",
    "            'e': 3,\n",
    "            'f': 4\n",
    "        }\n",
    "    }\n",
    "}\n",
    "flattened_dict = flatten_dict(nested_dict)\n",
    "print(\"Flattened dictionary:\", flattened_dict)"
   ]
  },
  {
   "cell_type": "markdown",
   "metadata": {},
   "source": [
    "Write a function `group_by_first_letter(words)` that takes a list of words and returns a dictionary where the keys are the first letters of the words and the values are lists of words starting with that letter."
   ]
  },
  {
   "cell_type": "code",
   "execution_count": null,
   "metadata": {},
   "outputs": [],
   "source": [
    "from collections import defaultdict\n",
    "\n",
    "def group_by_first_letter(words):\n",
    "    groups = defaultdict(list)\n",
    "    for word in words:\n",
    "        groups[word[0].lower()].append(word)\n",
    "    return dict(groups)\n",
    "\n",
    "# Test the function\n",
    "fruit_list = list(fruit_prices.keys())\n",
    "grouped_fruits = group_by_first_letter(fruit_list)\n",
    "print(\"Fruits grouped by first letter:\", grouped_fruits)"
   ]
  }
 ],
 "metadata": {
  "kernelspec": {
   "display_name": "Python 3",
   "language": "python",
   "name": "python3"
  },
  "language_info": {
   "codemirror_mode": {
    "name": "ipython",
    "version": 3
   },
   "file_extension": ".py",
   "mimetype": "text/x-python",
   "name": "python",
   "nbconvert_exporter": "python",
   "pygments_lexer": "ipython3",
   "version": "3.8.8"
  }
 },
 "nbformat": 4,
 "nbformat_minor": 4
}
