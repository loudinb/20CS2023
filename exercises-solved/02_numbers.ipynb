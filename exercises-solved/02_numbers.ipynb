{
 "cells": [
  {
   "cell_type": "markdown",
   "metadata": {},
   "source": [
    "# Python Integers and Floats Exercises\n",
    "\n",
    "This notebook contains 20 exercises focusing on the fundamentals of Python integers and floats."
   ]
  },
  {
   "cell_type": "markdown",
   "metadata": {},
   "source": [
    "Calculate the sum of the integers from 1 to 10 (inclusive)."
   ]
  },
  {
   "cell_type": "code",
   "execution_count": null,
   "metadata": {},
   "outputs": [],
   "source": [
    "sum_1_to_10 = sum(range(1, 11))\n",
    "print(f\"The sum of integers from 1 to 10 is: {sum_1_to_10}\")"
   ]
  },
  {
   "cell_type": "markdown",
   "metadata": {},
   "source": [
    "Convert the float 3.14159 to an integer and print the result."
   ]
  },
  {
   "cell_type": "code",
   "execution_count": null,
   "metadata": {},
   "outputs": [],
   "source": [
    "pi_float = 3.14159\n",
    "pi_int = int(pi_float)\n",
    "print(f\"3.14159 converted to an integer is: {pi_int}\")"
   ]
  },
  {
   "cell_type": "markdown",
   "metadata": {},
   "source": [
    "Calculate the result of 7 raised to the power of 5."
   ]
  },
  {
   "cell_type": "code",
   "execution_count": null,
   "metadata": {},
   "outputs": [],
   "source": [
    "result = 7 ** 5\n",
    "print(f\"7 raised to the power of 5 is: {result}\")"
   ]
  },
  {
   "cell_type": "markdown",
   "metadata": {},
   "source": [
    "Determine if 1234567890123456789 is an even or odd number."
   ]
  },
  {
   "cell_type": "code",
   "execution_count": null,
   "metadata": {},
   "outputs": [],
   "source": [
    "number = 1234567890123456789\n",
    "if number % 2 == 0:\n",
    "    print(f\"{number} is even\")\n",
    "else:\n",
    "    print(f\"{number} is odd\")"
   ]
  },
  {
   "cell_type": "markdown",
   "metadata": {},
   "source": [
    "Calculate the average of the following numbers: 10, 15, 20, 25, 30."
   ]
  },
  {
   "cell_type": "code",
   "execution_count": null,
   "metadata": {},
   "outputs": [],
   "source": [
    "numbers = [10, 15, 20, 25, 30]\n",
    "average = sum(numbers) / len(numbers)\n",
    "print(f\"The average is: {average}\")"
   ]
  },
  {
   "cell_type": "markdown",
   "metadata": {},
   "source": [
    "Round 3.14159 to 2 decimal places."
   ]
  },
  {
   "cell_type": "code",
   "execution_count": null,
   "metadata": {},
   "outputs": [],
   "source": [
    "pi = 3.14159\n",
    "rounded_pi = round(pi, 2)\n",
    "print(f\"3.14159 rounded to 2 decimal places is: {rounded_pi}\")"
   ]
  },
  {
   "cell_type": "markdown",
   "metadata": {},
   "source": [
    "Calculate the absolute difference between 5 and -7."
   ]
  },
  {
   "cell_type": "code",
   "execution_count": null,
   "metadata": {},
   "outputs": [],
   "source": [
    "diff = abs(5 - (-7))\n",
    "print(f\"The absolute difference between 5 and -7 is: {diff}\")"
   ]
  },
  {
   "cell_type": "markdown",
   "metadata": {},
   "source": [
    "Convert the binary number 1010 to decimal."
   ]
  },
  {
   "cell_type": "code",
   "execution_count": null,
   "metadata": {},
   "outputs": [],
   "source": [
    "binary = \"1010\"\n",
    "decimal = int(binary, 2)\n",
    "print(f\"The binary number 1010 in decimal is: {decimal}\")"
   ]
  },
  {
   "cell_type": "markdown",
   "metadata": {},
   "source": [
    "Calculate the floor division of 17 by 5."
   ]
  },
  {
   "cell_type": "code",
   "execution_count": null,
   "metadata": {},
   "outputs": [],
   "source": [
    "result = 17 // 5\n",
    "print(f\"The floor division of 17 by 5 is: {result}\")"
   ]
  },
  {
   "cell_type": "markdown",
   "metadata": {},
   "source": [
    "Convert the hexadecimal number 'A5' to decimal."
   ]
  },
  {
   "cell_type": "code",
   "execution_count": null,
   "metadata": {},
   "outputs": [],
   "source": [
    "hex_num = \"A5\"\n",
    "decimal = int(hex_num, 16)\n",
    "print(f\"The hexadecimal number A5 in decimal is: {decimal}\")"
   ]
  },
  {
   "cell_type": "markdown",
   "metadata": {},
   "source": [
    "Calculate the remainder when 100 is divided by 7."
   ]
  },
  {
   "cell_type": "code",
   "execution_count": null,
   "metadata": {},
   "outputs": [],
   "source": [
    "remainder = 100 % 7\n",
    "print(f\"The remainder when 100 is divided by 7 is: {remainder}\")"
   ]
  },
  {
   "cell_type": "markdown",
   "metadata": {},
   "source": [
    "Determine if 2^10 is greater than 1000."
   ]
  },
  {
   "cell_type": "code",
   "execution_count": null,
   "metadata": {},
   "outputs": [],
   "source": [
    "result = 2 ** 10\n",
    "is_greater = result > 1000\n",
    "print(f\"2^10 = {result}\")\n",
    "print(f\"Is 2^10 greater than 1000? {is_greater}\")"
   ]
  },
  {
   "cell_type": "markdown",
   "metadata": {},
   "source": [
    "Calculate the square root of 144 without using the math module."
   ]
  },
  {
   "cell_type": "code",
   "execution_count": null,
   "metadata": {},
   "outputs": [],
   "source": [
    "sqrt_144 = 144 ** 0.5\n",
    "print(f\"The square root of 144 is: {sqrt_144}\")"
   ]
  },
  {
   "cell_type": "markdown",
   "metadata": {},
   "source": [
    "Convert the octal number 75 to decimal."
   ]
  },
  {
   "cell_type": "code",
   "execution_count": null,
   "metadata": {},
   "outputs": [],
   "source": [
    "octal = \"75\"\n",
    "decimal = int(octal, 8)\n",
    "print(f\"The octal number 75 in decimal is: {decimal}\")"
   ]
  },
  {
   "cell_type": "markdown",
   "metadata": {},
   "source": [
    "Calculate the result of (1 + 2) * 3 - 4 / 2."
   ]
  },
  {
   "cell_type": "code",
   "execution_count": null,
   "metadata": {},
   "outputs": [],
   "source": [
    "result = (1 + 2) * 3 - 4 / 2\n",
    "print(f\"The result of (1 + 2) * 3 - 4 / 2 is: {result}\")"
   ]
  },
  {
   "cell_type": "markdown",
   "metadata": {},
   "source": [
    "Determine if 1.0 is equal to 1 (consider type)."
   ]
  },
  {
   "cell_type": "code",
   "execution_count": null,
   "metadata": {},
   "outputs": [],
   "source": [
    "is_equal = 1.0 == 1\n",
    "is_identical = 1.0 is 1\n",
    "print(f\"Is 1.0 equal to 1? {is_equal}\")\n",
    "print(f\"Is 1.0 identical to 1? {is_identical}\")\n",
    "print(f\"Type of 1.0: {type(1.0)}, Type of 1: {type(1)}\")"
   ]
  },
  {
   "cell_type": "markdown",
   "metadata": {},
   "source": [
    "Calculate the value of e (Euler's number) raised to the power of 2."
   ]
  },
  {
   "cell_type": "code",
   "execution_count": null,
   "metadata": {},
   "outputs": [],
   "source": [
    "import math\n",
    "result = math.e ** 2\n",
    "print(f\"e raised to the power of 2 is approximately: {result:.6f}\")"
   ]
  },
  {
   "cell_type": "markdown",
   "metadata": {},
   "source": [
    "Convert -15.75 to an integer using both floor division and the int() function. Compare the results."
   ]
  },
  {
   "cell_type": "code",
   "execution_count": null,
   "metadata": {},
   "outputs": [],
   "source": [
    "num = -15.75\n",
    "floor_div = num // 1\n",
    "int_func = int(num)\n",
    "print(f\"Floor division result: {floor_div}\")\n",
    "print(f\"int() function result: {int_func}\")\n",
    "print(f\"Are the results the same? {floor_div == int_func}\")"
   ]
  },
  {
   "cell_type": "markdown",
   "metadata": {},
   "source": [
    "Calculate the hypotenuse of a right triangle with sides of length 3 and 4."
   ]
  },
  {
   "cell_type": "code",
   "execution_count": null,
   "metadata": {},
   "outputs": [],
   "source": [
    "a = 3\n",
    "b = 4\n",
    "hypotenuse = (a**2 + b**2) ** 0.5\n",
    "print(f\"The hypotenuse of a right triangle with sides 3 and 4 is: {hypotenuse}\")"
   ]
  },
  {
   "cell_type": "markdown",
   "metadata": {},
   "source": [
    "Determine if 0.1 + 0.2 is exactly equal to 0.3 in Python, and explain the result."
   ]
  },
  {
   "cell_type": "code",
   "execution_count": null,
   "metadata": {},
   "outputs": [],
   "source": [
    "result = 0.1 + 0.2\n",
    "is_equal = result == 0.3\n",
    "print(f\"Is 0.1 + 0.2 exactly equal to 0.3? {is_equal}\")\n",
    "print(f\"0.1 + 0.2 = {result}\")\n",
    "print(\"Explanation: Due to the way floating-point numbers are represented in binary,\")\n",
    "print(\"some decimal numbers cannot be represented exactly, leading to small rounding errors.\")\n",
    "print(\"This is why 0.1 + 0.2 is not exactly equal to 0.3 in most programming languages, including Python.\")"
   ]
  },
  {
   "cell_type": "markdown",
   "metadata": {},
   "source": [
    "Use the `decimal` module to calculate 1.1 + 2.2 with exact precision. Compare this result with the same calculation using regular floats."
   ]
  },
  {
   "cell_type": "code",
   "execution_count": null,
   "metadata": {},
   "outputs": [],
   "source": [
    "from decimal import Decimal, getcontext\n",
    "\n",
    "# Set the precision to 28 digits (default for Decimal)\n",
    "getcontext().prec = 28\n",
    "\n",
    "# Calculate using Decimal\n",
    "decimal_result = Decimal('1.1') + Decimal('2.2')\n",
    "\n",
    "# Calculate using regular floats\n",
    "float_result = 1.1 + 2.2\n",
    "\n",
    "print(f\"Decimal result: {decimal_result}\")\n",
    "print(f\"Float result:   {float_result}\")\n",
    "print(f\"Are they equal? {decimal_result == float_result}\")"
   ]
  },
  {
   "cell_type": "markdown",
   "metadata": {},
   "source": [
    "Write a function that demonstrates the limitations of floating-point representation by finding two float numbers that are mathematically equal but not equal when compared in Python."
   ]
  },
  {
   "cell_type": "code",
   "execution_count": null,
   "metadata": {},
   "outputs": [],
   "source": [
    "def demonstrate_float_limitation():\n",
    "    a = 0.1 + 0.2\n",
    "    b = 0.3\n",
    "    \n",
    "    print(f\"a = {a}\")\n",
    "    print(f\"b = {b}\")\n",
    "    print(f\"a == b: {a == b}\")\n",
    "    print(f\"Difference: {abs(a - b)}\")\n",
    "\n",
    "demonstrate_float_limitation()"
   ]
  },
  {
   "cell_type": "markdown",
   "metadata": {},
   "source": [
    "Calculate the machine epsilon for float type in Python without using any built-in constants or functions specifically designed for this purpose."
   ]
  },
  {
   "cell_type": "code",
   "execution_count": null,
   "metadata": {},
   "outputs": [],
   "source": [
    "def calculate_machine_epsilon():\n",
    "    epsilon = 1.0\n",
    "    while 1.0 + epsilon / 2 > 1.0:\n",
    "        epsilon /= 2\n",
    "    return epsilon\n",
    "\n",
    "calculated_epsilon = calculate_machine_epsilon()\n",
    "print(f\"Calculated machine epsilon: {calculated_epsilon}\")\n",
    "\n",
    "# Compare with sys.float_info.epsilon\n",
    "import sys\n",
    "print(f\"sys.float_info.epsilon:     {sys.float_info.epsilon}\")\n",
    "print(f\"Are they equal? {calculated_epsilon == sys.float_info.epsilon}\")"
   ]
  },
  {
   "cell_type": "markdown",
   "metadata": {},
   "source": [
    "Write a function that safely compares two float numbers for equality within a specified tolerance."
   ]
  },
  {
   "cell_type": "code",
   "execution_count": null,
   "metadata": {},
   "outputs": [],
   "source": [
    "def are_floats_equal(a, b, tolerance=1e-9):\n",
    "    return abs(a - b) < tolerance\n",
    "\n",
    "# Test the function\n",
    "print(are_floats_equal(0.1 + 0.2, 0.3))  # Should return True\n",
    "print(are_floats_equal(0.1 + 0.2, 0.30000000000000004))  # Should return True\n",
    "print(are_floats_equal(0.1 + 0.2, 0.30001))  # Should return False\n",
    "\n",
    "# Test with a custom tolerance\n",
    "print(are_floats_equal(0.1 + 0.2, 0.30001, tolerance=1e-4))  # Should return True"
   ]
  },
  {
   "cell_type": "markdown",
   "metadata": {},
   "source": [
    "Use the `decimal` module to perform rounding operations that demonstrate the difference between round-half-up and round-half-even (banker's rounding) methods."
   ]
  },
  {
   "cell_type": "code",
   "execution_count": null,
   "metadata": {},
   "outputs": [],
   "source": [
    "from decimal import Decimal, ROUND_HALF_UP, ROUND_HALF_EVEN\n",
    "\n",
    "def compare_rounding_methods(number):\n",
    "    d = Decimal(str(number))\n",
    "    \n",
    "    round_half_up = d.quantize(Decimal('1.0'), rounding=ROUND_HALF_UP)\n",
    "    round_half_even = d.quantize(Decimal('1.0'), rounding=ROUND_HALF_EVEN)\n",
    "    \n",
    "    print(f\"Number: {number}\")\n",
    "    print(f\"Round half up:  {round_half_up}\")\n",
    "    print(f\"Round half even: {round_half_even}\")\n",
    "    print()\n",
    "\n",
    "# Test cases\n",
    "compare_rounding_methods(1.5)\n",
    "compare_rounding_methods(2.5)\n",
    "compare_rounding_methods(3.5)\n",
    "compare_rounding_methods(4.5)"
   ]
  }
 ],
 "metadata": {
  "kernelspec": {
   "display_name": "Python 3",
   "language": "python",
   "name": "python3"
  },
  "language_info": {
   "codemirror_mode": {
    "name": "ipython",
    "version": 3
   },
   "file_extension": ".py",
   "mimetype": "text/x-python",
   "name": "python",
   "nbconvert_exporter": "python",
   "pygments_lexer": "ipython3",
   "version": "3.8.5"
  }
 },
 "nbformat": 4,
 "nbformat_minor": 4
}
