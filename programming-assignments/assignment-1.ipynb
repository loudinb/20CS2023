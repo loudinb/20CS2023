{
 "cells": [
  {
   "cell_type": "code",
   "execution_count": 1,
   "metadata": {},
   "outputs": [],
   "source": [
    "import unittest"
   ]
  },
  {
   "cell_type": "markdown",
   "metadata": {},
   "source": [
    "Write a procedure sum_digits(n) that takes a positive integer and returns the sum of the digits\n",
    "\n",
    "Examples:\n",
    "   \n",
    "`>>> sum_digits(13)`\n",
    "   \n",
    "4\n",
    "\n",
    ">>> sum_digits(1000000)\n",
    "\n",
    "1\n",
    "\n",
    ">>> sum_digits(123456789)\n",
    "\n",
    "45\n",
    "   \n",
    ">>> sum_digits(9)\n",
    "\n",
    "9"
   ]
  },
  {
   "cell_type": "code",
   "execution_count": 9,
   "metadata": {},
   "outputs": [],
   "source": [
    "def sum_digits(n):\n",
    "    if n <= 0:\n",
    "        raise ValueError(\"Input must be a positive integer\")\n",
    "    return sum(int(digit) for digit in str(n))\n",
    "\n",
    "import unittest\n",
    "\n",
    "class TestSumDigits(unittest.TestCase):\n",
    "    def test_sum_digits(self):\n",
    "        self.assertEqual(sum_digits(13), 4)\n",
    "        self.assertEqual(sum_digits(1000000), 1)\n",
    "        self.assertEqual(sum_digits(123456789), 45)\n",
    "        self.assertEqual(sum_digits(9), 9)\n",
    "    \n",
    "    def test_invalid_input(self):\n",
    "        with self.assertRaises(ValueError):\n",
    "            sum_digits(0)\n",
    "        with self.assertRaises(ValueError):\n",
    "            sum_digits(-5)"
   ]
  },
  {
   "cell_type": "code",
   "execution_count": 11,
   "metadata": {},
   "outputs": [
    {
     "name": "stderr",
     "output_type": "stream",
     "text": [
      "test_invalid_input (__main__.TestSumDigits.test_invalid_input) ... ok\n",
      "test_sum_digits (__main__.TestSumDigits.test_sum_digits) ... ok\n",
      "\n",
      "----------------------------------------------------------------------\n",
      "Ran 2 tests in 0.002s\n",
      "\n",
      "OK\n"
     ]
    },
    {
     "data": {
      "text/plain": [
       "<unittest.runner.TextTestResult run=2 errors=0 failures=0>"
      ]
     },
     "execution_count": 11,
     "metadata": {},
     "output_type": "execute_result"
    }
   ],
   "source": [
    "suite = unittest.TestLoader().loadTestsFromTestCase(TestSumDigits)\n",
    "runner = unittest.TextTestRunner(verbosity=2)\n",
    "runner.run(suite)"
   ]
  },
  {
   "cell_type": "code",
   "execution_count": 15,
   "metadata": {},
   "outputs": [],
   "source": [
    "def reduce(n):\n",
    "    if n < 10:\n",
    "        return n\n",
    "    return reduce(sum_digits(n))\n",
    "\n",
    "import unittest\n",
    "\n",
    "class TestReduce(unittest.TestCase):\n",
    "    def test_reduce(self):\n",
    "        self.assertEqual(reduce(123455667888), 9)\n",
    "        self.assertEqual(reduce(9999), 9)\n",
    "        self.assertEqual(reduce(8888), 5)\n",
    "        self.assertEqual(reduce(10101010019999), 5)"
   ]
  },
  {
   "cell_type": "code",
   "execution_count": 16,
   "metadata": {},
   "outputs": [
    {
     "name": "stderr",
     "output_type": "stream",
     "text": [
      "test_reduce (__main__.TestReduce.test_reduce) ... ok\n",
      "\n",
      "----------------------------------------------------------------------\n",
      "Ran 1 test in 0.001s\n",
      "\n",
      "OK\n"
     ]
    },
    {
     "data": {
      "text/plain": [
       "<unittest.runner.TextTestResult run=1 errors=0 failures=0>"
      ]
     },
     "execution_count": 16,
     "metadata": {},
     "output_type": "execute_result"
    }
   ],
   "source": [
    "suite = unittest.TestLoader().loadTestsFromTestCase(TestReduce)\n",
    "runner = unittest.TextTestRunner(verbosity=2)\n",
    "runner.run(suite)"
   ]
  },
  {
   "cell_type": "code",
   "execution_count": 19,
   "metadata": {},
   "outputs": [],
   "source": [
    "def largest_digit(n):\n",
    "    return int(max(str(abs(n))))\n",
    "\n",
    "\n",
    "class TestLargestDigit(unittest.TestCase):\n",
    "    def test_positive_numbers(self):\n",
    "        self.assertEqual(largest_digit(12345), 5)\n",
    "        self.assertEqual(largest_digit(11111), 1)\n",
    "        self.assertEqual(largest_digit(54321), 5)\n",
    "        self.assertEqual(largest_digit(5432123456789123), 9)\n",
    "    \n",
    "    def test_negative_numbers(self):\n",
    "        self.assertEqual(largest_digit(-12345), 5)\n",
    "        self.assertEqual(largest_digit(-54321), 5)\n",
    "    \n",
    "    def test_single_digit(self):\n",
    "        self.assertEqual(largest_digit(7), 7)\n",
    "        self.assertEqual(largest_digit(-3), 3)\n",
    "    \n",
    "    def test_zero(self):\n",
    "        self.assertEqual(largest_digit(0), 0)\n",
    "\n",
    "        "
   ]
  },
  {
   "cell_type": "code",
   "execution_count": 20,
   "metadata": {},
   "outputs": [
    {
     "name": "stderr",
     "output_type": "stream",
     "text": [
      "test_negative_numbers (__main__.TestLargestDigit.test_negative_numbers) ... ok\n",
      "test_positive_numbers (__main__.TestLargestDigit.test_positive_numbers) ... ok\n",
      "test_single_digit (__main__.TestLargestDigit.test_single_digit) ... ok\n",
      "test_zero (__main__.TestLargestDigit.test_zero) ... ok\n",
      "\n",
      "----------------------------------------------------------------------\n",
      "Ran 4 tests in 0.005s\n",
      "\n",
      "OK\n"
     ]
    },
    {
     "data": {
      "text/plain": [
       "<unittest.runner.TextTestResult run=4 errors=0 failures=0>"
      ]
     },
     "execution_count": 20,
     "metadata": {},
     "output_type": "execute_result"
    }
   ],
   "source": [
    "suite = unittest.TestLoader().loadTestsFromTestCase(TestLargestDigit)\n",
    "runner = unittest.TextTestRunner(verbosity=2)\n",
    "runner.run(suite)"
   ]
  },
  {
   "cell_type": "code",
   "execution_count": 21,
   "metadata": {},
   "outputs": [],
   "source": [
    "def inflate(lst, value=1):\n",
    "    return [x + value if isinstance(x, (int, float, complex)) else x for x in lst]\n",
    "\n",
    "def lcinflate(lst, value=1):\n",
    "    return [x + value if isinstance(x, (int, float, complex)) else x for x in lst]\n",
    "\n",
    "class TestInflateFunctions(unittest.TestCase):\n",
    "    def test_inflate(self):\n",
    "        self.assertEqual(inflate([1, 2, 3]), [2, 3, 4])\n",
    "        self.assertEqual(inflate([1]), [2])\n",
    "        self.assertEqual(inflate([]), [])\n",
    "        self.assertEqual(inflate([\"a\", \"b\", \"c\", 2, 3, 4]), ['a', 'b', 'c', 3, 4, 5])\n",
    "        self.assertEqual(inflate([[1], [2], [3]]), [[1], [2], [3]])\n",
    "        self.assertEqual(inflate([1, 2, 3], 2), [3, 4, 5])\n",
    "        self.assertEqual(inflate([1, 2, 3], 0), [1, 2, 3])\n",
    "        self.assertEqual(inflate([1, 2, 3], -1), [0, 1, 2])\n",
    "        self.assertEqual(inflate([1, 2, 3], 100), [101, 102, 103])\n",
    "        self.assertEqual(inflate([\"a\", \"b\", \"c\", 2, 3, 4], 5), ['a', 'b', 'c', 7, 8, 9])\n",
    "        self.assertEqual(inflate([1.1, 2.2, 3+3j], 2), [3.1, 4.2, (5+3j)])\n",
    "        self.assertEqual(inflate([1.1, 2.2, 3+3j], 2.5), [3.6, 4.7, (5.5+3j)])\n",
    "        self.assertEqual(inflate([1.1, 2.2, 3+3j], 2+5j), [(3.1+5j), (4.2+5j), (5+8j)])\n",
    "\n",
    "    def test_lcinflate(self):\n",
    "        self.assertEqual(lcinflate([1, 2, 3]), [2, 3, 4])\n",
    "        self.assertEqual(lcinflate([1]), [2])\n",
    "        self.assertEqual(lcinflate([]), [])\n",
    "        self.assertEqual(lcinflate([\"a\", \"b\", \"c\", 2, 3, 4]), ['a', 'b', 'c', 3, 4, 5])\n",
    "        self.assertEqual(lcinflate([[1], [2], [3]]), [[1], [2], [3]])\n",
    "        self.assertEqual(lcinflate([1, 2, 3], 2), [3, 4, 5])\n",
    "        self.assertEqual(lcinflate([1, 2, 3], 0), [1, 2, 3])\n",
    "        self.assertEqual(lcinflate([1, 2, 3], -1), [0, 1, 2])\n",
    "        self.assertEqual(lcinflate([1, 2, 3], 100), [101, 102, 103])\n",
    "        self.assertEqual(lcinflate([\"a\", \"b\", \"c\", 2, 3, 4], 5), ['a', 'b', 'c', 7, 8, 9])\n",
    "        self.assertEqual(lcinflate([1.1, 2.2, 3+3j], 2), [3.1, 4.2, (5+3j)])\n",
    "        self.assertEqual(lcinflate([1.1, 2.2, 3+3j], 2.5), [3.6, 4.7, (5.5+3j)])\n",
    "        self.assertEqual(lcinflate([1.1, 2.2, 3+3j], 2+5j), [(3.1+5j), (4.2+5j), (5+8j)])"
   ]
  },
  {
   "cell_type": "code",
   "execution_count": 22,
   "metadata": {},
   "outputs": [
    {
     "name": "stderr",
     "output_type": "stream",
     "text": [
      "test_inflate (__main__.TestInflateFunctions.test_inflate) ... ok\n",
      "test_lcinflate (__main__.TestInflateFunctions.test_lcinflate) ... ok\n",
      "\n",
      "----------------------------------------------------------------------\n",
      "Ran 2 tests in 0.002s\n",
      "\n",
      "OK\n"
     ]
    },
    {
     "data": {
      "text/plain": [
       "<unittest.runner.TextTestResult run=2 errors=0 failures=0>"
      ]
     },
     "execution_count": 22,
     "metadata": {},
     "output_type": "execute_result"
    }
   ],
   "source": [
    "suite = unittest.TestLoader().loadTestsFromTestCase(TestInflateFunctions)\n",
    "runner = unittest.TextTestRunner(verbosity=2)\n",
    "runner.run(suite)"
   ]
  },
  {
   "cell_type": "code",
   "execution_count": 23,
   "metadata": {},
   "outputs": [],
   "source": [
    "def removep(lst, pred):\n",
    "    return [x for x in lst if not pred(x)]\n",
    "\n",
    "def removep_traditional(lst, pred):\n",
    "    result = []\n",
    "    for x in lst:\n",
    "        if not pred(x):\n",
    "            result.append(x)\n",
    "    return result\n",
    "\n",
    "class TestRemovep(unittest.TestCase):\n",
    "    def test_remove_even(self):\n",
    "        self.assertEqual(removep([1,2,3,4,5,6], lambda x: x % 2 == 0), [1,3,5])\n",
    "        self.assertEqual(removep_traditional([1,2,3,4,5,6], lambda x: x % 2 == 0), [1,3,5])\n",
    "\n",
    "    def test_remove_odd(self):\n",
    "        self.assertEqual(removep([1,2,3,4,5,6], lambda x: x % 2), [2,4,6])\n",
    "        self.assertEqual(removep_traditional([1,2,3,4,5,6], lambda x: x % 2), [2,4,6])\n",
    "\n",
    "    def test_remove_greater_than_three(self):\n",
    "        self.assertEqual(removep([1,2,3,4,5,6], lambda a: a > 3), [1,2,3])\n",
    "        self.assertEqual(removep_traditional([1,2,3,4,5,6], lambda a: a > 3), [1,2,3])\n",
    "\n",
    "    def test_remove_less_than_three(self):\n",
    "        self.assertEqual(removep([1,2,3,4,5,6], lambda a: a < 3), [3,4,5,6])\n",
    "        self.assertEqual(removep_traditional([1,2,3,4,5,6], lambda a: a < 3), [3,4,5,6])"
   ]
  },
  {
   "cell_type": "code",
   "execution_count": 24,
   "metadata": {},
   "outputs": [
    {
     "name": "stderr",
     "output_type": "stream",
     "text": [
      "test_remove_even (__main__.TestRemovep.test_remove_even) ... ok\n",
      "test_remove_greater_than_three (__main__.TestRemovep.test_remove_greater_than_three) ... ok\n",
      "test_remove_less_than_three (__main__.TestRemovep.test_remove_less_than_three) ... ok\n",
      "test_remove_odd (__main__.TestRemovep.test_remove_odd) ... ok\n",
      "\n",
      "----------------------------------------------------------------------\n",
      "Ran 4 tests in 0.003s\n",
      "\n",
      "OK\n"
     ]
    },
    {
     "data": {
      "text/plain": [
       "<unittest.runner.TextTestResult run=4 errors=0 failures=0>"
      ]
     },
     "execution_count": 24,
     "metadata": {},
     "output_type": "execute_result"
    }
   ],
   "source": [
    "suite = unittest.TestLoader().loadTestsFromTestCase(TestRemovep)\n",
    "runner = unittest.TextTestRunner(verbosity=2)\n",
    "runner.run(suite)"
   ]
  },
  {
   "cell_type": "code",
   "execution_count": 25,
   "metadata": {},
   "outputs": [],
   "source": [
    "# Traditional approach\n",
    "def evenout(lst):\n",
    "    return [item + 1 if isinstance(item, int) and item % 2 != 0 else item for item in lst]\n",
    "\n",
    "# List comprehension approach\n",
    "evenout_comprehension = lambda lst: [item + 1 if isinstance(item, int) and item % 2 != 0 else item for item in lst]\n",
    "\n",
    "class TestEvenout(unittest.TestCase):\n",
    "    def test_mixed_integers(self):\n",
    "        self.assertEqual(evenout([1, 2, 3, 4]), [2, 2, 4, 4])\n",
    "        self.assertEqual(evenout_comprehension([1, 2, 3, 4]), [2, 2, 4, 4])\n",
    "\n",
    "    def test_strings(self):\n",
    "        self.assertEqual(evenout(['a', 'b', 'c']), ['a', 'b', 'c'])\n",
    "        self.assertEqual(evenout_comprehension(['a', 'b', 'c']), ['a', 'b', 'c'])\n",
    "\n",
    "    def test_nested_list(self):\n",
    "        self.assertEqual(evenout([1, [2], [3], [4]]), [2, [2], [3], [4]])\n",
    "        self.assertEqual(evenout_comprehension([1, [2], [3], [4]]), [2, [2], [3], [4]])\n",
    "\n",
    "    def test_empty_list(self):\n",
    "        self.assertEqual(evenout([]), [])\n",
    "        self.assertEqual(evenout_comprehension([]), [])\n",
    "\n",
    "    def test_words(self):\n",
    "        self.assertEqual(evenout(['hello', 'world']), ['hello', 'world'])\n",
    "        self.assertEqual(evenout_comprehension(['hello', 'world']), ['hello', 'world'])\n"
   ]
  },
  {
   "cell_type": "code",
   "execution_count": 26,
   "metadata": {},
   "outputs": [
    {
     "name": "stderr",
     "output_type": "stream",
     "text": [
      "test_empty_list (__main__.TestEvenout.test_empty_list) ... ok\n",
      "test_mixed_integers (__main__.TestEvenout.test_mixed_integers) ... ok\n",
      "test_nested_list (__main__.TestEvenout.test_nested_list) ... ok\n",
      "test_strings (__main__.TestEvenout.test_strings) ... ok\n",
      "test_words (__main__.TestEvenout.test_words) ... ok\n",
      "\n",
      "----------------------------------------------------------------------\n",
      "Ran 5 tests in 0.004s\n",
      "\n",
      "OK\n"
     ]
    },
    {
     "data": {
      "text/plain": [
       "<unittest.runner.TextTestResult run=5 errors=0 failures=0>"
      ]
     },
     "execution_count": 26,
     "metadata": {},
     "output_type": "execute_result"
    }
   ],
   "source": [
    "suite = unittest.TestLoader().loadTestsFromTestCase(TestEvenout)\n",
    "runner = unittest.TextTestRunner(verbosity=2)\n",
    "runner.run(suite)"
   ]
  },
  {
   "cell_type": "code",
   "execution_count": 27,
   "metadata": {},
   "outputs": [],
   "source": [
    "def double_factor(factor, lst):\n",
    "    return [num * 2 if num % factor == 0 else num for num in lst]\n",
    "\n",
    "class TestDoubleFactor(unittest.TestCase):\n",
    "    def test_double_even_numbers(self):\n",
    "        self.assertEqual(double_factor(2, [1, 2, 3, 4, 5, 6]), [1, 4, 3, 8, 5, 12])\n",
    "\n",
    "    def test_double_multiples_of_three(self):\n",
    "        self.assertEqual(double_factor(3, [1, 2, 3, 4, 5, 6]), [1, 2, 6, 4, 5, 12])\n",
    "\n",
    "    def test_empty_list(self):\n",
    "        self.assertEqual(double_factor(3, []), [])\n",
    "\n",
    "    def test_no_multiples(self):\n",
    "        self.assertEqual(double_factor(100, [1, 2, 3, 4, 5, 6]), [1, 2, 3, 4, 5, 6])\n",
    "\n",
    "    def test_negative_numbers(self):\n",
    "        self.assertEqual(double_factor(2, [-1, -2, -3, -4, -5, -6]), [-1, -4, -3, -8, -5, -12])\n"
   ]
  },
  {
   "cell_type": "code",
   "execution_count": 28,
   "metadata": {},
   "outputs": [
    {
     "name": "stderr",
     "output_type": "stream",
     "text": [
      "test_double_even_numbers (__main__.TestDoubleFactor.test_double_even_numbers) ... ok\n",
      "test_double_multiples_of_three (__main__.TestDoubleFactor.test_double_multiples_of_three) ... ok\n",
      "test_empty_list (__main__.TestDoubleFactor.test_empty_list) ... ok\n",
      "test_negative_numbers (__main__.TestDoubleFactor.test_negative_numbers) ... ok\n",
      "test_no_multiples (__main__.TestDoubleFactor.test_no_multiples) ... ok\n",
      "\n",
      "----------------------------------------------------------------------\n",
      "Ran 5 tests in 0.004s\n",
      "\n",
      "OK\n"
     ]
    },
    {
     "data": {
      "text/plain": [
       "<unittest.runner.TextTestResult run=5 errors=0 failures=0>"
      ]
     },
     "execution_count": 28,
     "metadata": {},
     "output_type": "execute_result"
    }
   ],
   "source": [
    "suite = unittest.TestLoader().loadTestsFromTestCase(TestDoubleFactor)\n",
    "runner = unittest.TextTestRunner(verbosity=2)\n",
    "runner.run(suite)"
   ]
  },
  {
   "cell_type": "code",
   "execution_count": 29,
   "metadata": {},
   "outputs": [],
   "source": [
    "def primes(n):\n",
    "    if n <= 2:\n",
    "        return []\n",
    "    sieve = [True] * n\n",
    "    sieve[0] = sieve[1] = False\n",
    "    for i in range(2, int(n**0.5) + 1):\n",
    "        if sieve[i]:\n",
    "            for j in range(i*i, n, i):\n",
    "                sieve[j] = False\n",
    "    return [i for i in range(n) if sieve[i]]\n",
    "\n",
    "def prime_factors(n):\n",
    "    factors = []\n",
    "    d = 2\n",
    "    while n > 1:\n",
    "        while n % d == 0:\n",
    "            factors.append(d)\n",
    "            n //= d\n",
    "        d += 1\n",
    "        if d * d > n:\n",
    "            if n > 1:\n",
    "                factors.append(n)\n",
    "            break\n",
    "    return factors\n",
    "\n",
    "class TestPrimeFunctions(unittest.TestCase):\n",
    "    def test_primes(self):\n",
    "        self.assertEqual(primes(20), [2, 3, 5, 7, 11, 13, 17, 19])\n",
    "        self.assertEqual(primes(100), [2, 3, 5, 7, 11, 13, 17, 19, 23, 29, 31, 37, 41, 43, 47, 53, 59, 61, 67, 71, 73, 79, 83, 89, 97])\n",
    "\n",
    "    def test_prime_factors(self):\n",
    "        self.assertEqual(prime_factors(20), [2, 2, 5])\n",
    "        self.assertEqual(prime_factors(32), [2, 2, 2, 2, 2])\n",
    "        self.assertEqual(prime_factors(97), [97])\n",
    "        self.assertEqual(prime_factors(1000), [2, 2, 2, 5, 5, 5])\n",
    "        self.assertEqual(prime_factors(30030), [2, 3, 5, 7, 11, 13])\n"
   ]
  },
  {
   "cell_type": "code",
   "execution_count": 30,
   "metadata": {},
   "outputs": [
    {
     "name": "stderr",
     "output_type": "stream",
     "text": [
      "test_prime_factors (__main__.TestPrimeFunctions.test_prime_factors) ... ok\n",
      "test_primes (__main__.TestPrimeFunctions.test_primes) ... ok\n",
      "\n",
      "----------------------------------------------------------------------\n",
      "Ran 2 tests in 0.002s\n",
      "\n",
      "OK\n"
     ]
    },
    {
     "data": {
      "text/plain": [
       "<unittest.runner.TextTestResult run=2 errors=0 failures=0>"
      ]
     },
     "execution_count": 30,
     "metadata": {},
     "output_type": "execute_result"
    }
   ],
   "source": [
    "suite = unittest.TestLoader().loadTestsFromTestCase(TestPrimeFunctions)\n",
    "runner = unittest.TextTestRunner(verbosity=2)\n",
    "runner.run(suite)"
   ]
  },
  {
   "cell_type": "code",
   "execution_count": 31,
   "metadata": {},
   "outputs": [],
   "source": [
    "from itertools import chain, combinations\n",
    "\n",
    "def power_set(lst):\n",
    "    # Convert list to set to remove duplicates\n",
    "    unique_set = set(lst)\n",
    "    # Generate all combinations and chain them together\n",
    "    return list(chain.from_iterable(combinations(unique_set, r) for r in range(len(unique_set) + 1)))\n",
    "\n",
    "class TestPowerSet(unittest.TestCase):\n",
    "    def test_empty_set(self):\n",
    "        self.assertEqual(power_set([]), [()])\n",
    "\n",
    "    def test_single_element(self):\n",
    "        self.assertEqual(set(map(tuple, power_set([1]))), {(), (1,)})\n",
    "\n",
    "    def test_two_elements(self):\n",
    "        self.assertEqual(set(map(tuple, power_set([1, 2]))), {(), (1,), (2,), (1, 2)})\n",
    "\n",
    "    def test_three_elements(self):\n",
    "        expected = {(), (1,), (2,), (3,), (1, 2), (1, 3), (2, 3), (1, 2, 3)}\n",
    "        self.assertEqual(set(map(tuple, power_set([1, 2, 3]))), expected)\n",
    "\n",
    "    def test_duplicate_elements(self):\n",
    "        self.assertEqual(set(map(tuple, power_set([2, 2]))), {(), (2,)})\n"
   ]
  },
  {
   "cell_type": "code",
   "execution_count": 32,
   "metadata": {},
   "outputs": [
    {
     "name": "stderr",
     "output_type": "stream",
     "text": [
      "test_duplicate_elements (__main__.TestPowerSet.test_duplicate_elements) ... ok\n",
      "test_empty_set (__main__.TestPowerSet.test_empty_set) ... ok\n",
      "test_single_element (__main__.TestPowerSet.test_single_element) ... ok\n",
      "test_three_elements (__main__.TestPowerSet.test_three_elements) ... ok\n",
      "test_two_elements (__main__.TestPowerSet.test_two_elements) ... ok\n",
      "\n",
      "----------------------------------------------------------------------\n",
      "Ran 5 tests in 0.004s\n",
      "\n",
      "OK\n"
     ]
    },
    {
     "data": {
      "text/plain": [
       "<unittest.runner.TextTestResult run=5 errors=0 failures=0>"
      ]
     },
     "execution_count": 32,
     "metadata": {},
     "output_type": "execute_result"
    }
   ],
   "source": [
    "suite = unittest.TestLoader().loadTestsFromTestCase(TestPowerSet)\n",
    "runner = unittest.TextTestRunner(verbosity=2)\n",
    "runner.run(suite)"
   ]
  },
  {
   "cell_type": "code",
   "execution_count": 33,
   "metadata": {},
   "outputs": [],
   "source": [
    "import math\n",
    "from itertools import chain, combinations\n",
    "\n",
    "def prime_factors(n):\n",
    "    factors = []\n",
    "    d = 2\n",
    "    while n > 1:\n",
    "        while n % d == 0:\n",
    "            factors.append(d)\n",
    "            n //= d\n",
    "        d += 1\n",
    "        if d * d > n:\n",
    "            if n > 1:\n",
    "                factors.append(n)\n",
    "            break\n",
    "    return factors\n",
    "\n",
    "def all_factors(n):\n",
    "    if n <= 0:\n",
    "        raise ValueError(\"Input must be a positive integer\")\n",
    "    \n",
    "    prime_facts = prime_factors(n)\n",
    "    power_set = chain.from_iterable(combinations(prime_facts, r) for r in range(len(prime_facts) + 1))\n",
    "    \n",
    "    factors = set()\n",
    "    for combo in power_set:\n",
    "        factors.add(math.prod(combo) if combo else 1)\n",
    "    \n",
    "    return sorted(factors)\n",
    "\n",
    "class TestAllFactors(unittest.TestCase):\n",
    "    def test_all_factors(self):\n",
    "        test_cases = [\n",
    "            (20, [1, 2, 4, 5, 10, 20]),\n",
    "            (32, [1, 2, 4, 8, 16, 32]),\n",
    "            (97, [1, 97]),\n",
    "            (1000, [1, 2, 4, 5, 8, 10, 20, 25, 40, 50, 100, 125, 200, 250, 500, 1000]),\n",
    "            (30030, [1, 2, 3, 5, 6, 7, 10, 11, 13, 14, 15, 21, 22, 26, 30, 33, 35, 39, 42, 55, 65, 66, 70, 77, 78, 91, 105, 110, 130, 143, 154, 165, 182, 195, 210, 231, 273, 286, 330, 385, 390, 429, 455, 462, 546, 715, 770, 858, 910, 1001, 1155, 1365, 1430, 2002, 2145, 2310, 2730, 3003, 4290, 5005, 6006, 10010, 15015, 30030])\n",
    "        ]\n",
    "        \n",
    "        for input_n, expected_output in test_cases:\n",
    "            with self.subTest(input_n=input_n):\n",
    "                self.assertEqual(all_factors(input_n), expected_output)\n",
    "    \n",
    "    def test_invalid_input(self):\n",
    "        with self.assertRaises(ValueError):\n",
    "            all_factors(0)\n",
    "        with self.assertRaises(ValueError):\n",
    "            all_factors(-5)\n"
   ]
  },
  {
   "cell_type": "code",
   "execution_count": 34,
   "metadata": {},
   "outputs": [
    {
     "name": "stderr",
     "output_type": "stream",
     "text": [
      "test_all_factors (__main__.TestAllFactors.test_all_factors) ... ok\n",
      "test_invalid_input (__main__.TestAllFactors.test_invalid_input) ... ok\n",
      "\n",
      "----------------------------------------------------------------------\n",
      "Ran 2 tests in 0.002s\n",
      "\n",
      "OK\n"
     ]
    },
    {
     "data": {
      "text/plain": [
       "<unittest.runner.TextTestResult run=2 errors=0 failures=0>"
      ]
     },
     "execution_count": 34,
     "metadata": {},
     "output_type": "execute_result"
    }
   ],
   "source": [
    "suite = unittest.TestLoader().loadTestsFromTestCase(TestAllFactors)\n",
    "runner = unittest.TextTestRunner(verbosity=2)\n",
    "runner.run(suite)"
   ]
  },
  {
   "cell_type": "code",
   "execution_count": 37,
   "metadata": {},
   "outputs": [],
   "source": [
    "def productorsum(x, y):\n",
    "    product = x * y\n",
    "    if abs(product) > 1000:\n",
    "        return x + y\n",
    "    return product\n",
    "\n",
    "class TestProductOrSum(unittest.TestCase):\n",
    "    def test_product_less_than_1000(self):\n",
    "        self.assertEqual(productorsum(1, 2), 2)\n",
    "        \n",
    "    def test_product_greater_than_1000(self):\n",
    "        self.assertEqual(productorsum(100, 200), 300)\n",
    "        \n",
    "    def test_product_equal_to_1000(self):\n",
    "        self.assertEqual(productorsum(40, 25), 1000)\n",
    "        \n",
    "    def test_product_greater_than_1000_with_negative(self):\n",
    "        self.assertEqual(productorsum(40, -50), -10)\n",
    "        \n",
    "    def test_zero_input(self):\n",
    "        self.assertEqual(productorsum(0, 5), 0)\n",
    "    "
   ]
  },
  {
   "cell_type": "code",
   "execution_count": 38,
   "metadata": {},
   "outputs": [
    {
     "name": "stderr",
     "output_type": "stream",
     "text": [
      "test_product_equal_to_1000 (__main__.TestProductOrSum.test_product_equal_to_1000) ... ok\n",
      "test_product_greater_than_1000 (__main__.TestProductOrSum.test_product_greater_than_1000) ... ok\n",
      "test_product_greater_than_1000_with_negative (__main__.TestProductOrSum.test_product_greater_than_1000_with_negative) ... ok\n",
      "test_product_less_than_1000 (__main__.TestProductOrSum.test_product_less_than_1000) ... ok\n",
      "test_zero_input (__main__.TestProductOrSum.test_zero_input) ... ok\n",
      "\n",
      "----------------------------------------------------------------------\n",
      "Ran 5 tests in 0.004s\n",
      "\n",
      "OK\n"
     ]
    },
    {
     "data": {
      "text/plain": [
       "<unittest.runner.TextTestResult run=5 errors=0 failures=0>"
      ]
     },
     "execution_count": 38,
     "metadata": {},
     "output_type": "execute_result"
    }
   ],
   "source": [
    "suite = unittest.TestLoader().loadTestsFromTestCase(TestProductOrSum)\n",
    "runner = unittest.TextTestRunner(verbosity=2)\n",
    "runner.run(suite)"
   ]
  },
  {
   "cell_type": "code",
   "execution_count": null,
   "metadata": {},
   "outputs": [],
   "source": []
  }
 ],
 "metadata": {
  "kernelspec": {
   "display_name": "Python 3",
   "language": "python",
   "name": "python3"
  },
  "language_info": {
   "codemirror_mode": {
    "name": "ipython",
    "version": 3
   },
   "file_extension": ".py",
   "mimetype": "text/x-python",
   "name": "python",
   "nbconvert_exporter": "python",
   "pygments_lexer": "ipython3",
   "version": "3.12.5"
  }
 },
 "nbformat": 4,
 "nbformat_minor": 2
}
