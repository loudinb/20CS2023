{
 "cells": [
  {
   "cell_type": "markdown",
   "id": "6d9c5910",
   "metadata": {},
   "source": [
    "\n",
    "# Python Classes and Objects\n",
    "\n",
    "Python supports the Object-Oriented Programming (OOP) paradigm. OOP is a programming paradigm that uses objects to design applications and computer programs. It aims to implement real-world entities like inheritance, hiding, polymorphism, etc., in programming.  \n",
    "\n",
    "Classes are blueprints for objects, allowing us to define both the **data** (attributes) and **behavior** (methods) of objects in a single unit.\n",
    "\n",
    "### Why use OOP?\n",
    "\n",
    "1. **Modularity**: Break down complex problems into manageable parts.\n",
    "2. **Reusability**: Create multiple instances of a class to reuse code.\n",
    "3. **Encapsulation**: Hide the internal details and expose only what’s necessary.\n",
    "4. **Inheritance**: Create new classes that inherit properties/methods from existing ones.\n",
    "5. **Polymorphism**: Use the same interface for different data types.\n",
    "\n",
    "### Procedural vs. Object-Oriented Approaches\n",
    "- **Procedural Programming**: Focuses on writing functions that operate on data.\n",
    "- **OOP**: Combines data and functions into objects that interact with each other."
   ]
  },
  {
   "cell_type": "markdown",
   "id": "35fd6f4a",
   "metadata": {},
   "source": [
    "\n",
    "## Guiding Example: Rational Numbers\n",
    "\n",
    "To illustrate the purpose and power of classes, let's create a class for representing rational numbers (fractions). This class will allow us to perform operations on fractions such as addition, subtraction, multiplication, and division.\n"
   ]
  },
  {
   "cell_type": "code",
   "execution_count": null,
   "id": "621cb303",
   "metadata": {},
   "outputs": [],
   "source": [
    "\n",
    "class Rational:\n",
    "    def __init__(self, numerator, denominator):\n",
    "        if denominator == 0:  # Handle the case where the denominator is zero\n",
    "            raise ValueError(\"Denominator cannot be zero.\")\n",
    "        self.numerator = numerator\n",
    "        self.denominator = denominator\n",
    "\n",
    "    def __str__(self):\n",
    "        return f\"{self.numerator}/{self.denominator}\"\n",
    "\n",
    "# Create some rational numbers\n",
    "half = Rational(1, 2)\n",
    "third = Rational(1, 3)\n",
    "\n",
    "print(f\"Half: {half}\")\n",
    "print(f\"Third: {third}\")\n"
   ]
  },
  {
   "cell_type": "markdown",
   "id": "26a18072",
   "metadata": {},
   "source": [
    "\n",
    "## 1.2 Defining a Class and Making an Instance\n",
    "\n",
    "Let's break down the process of defining a class and creating instances:\n"
   ]
  },
  {
   "cell_type": "code",
   "execution_count": null,
   "id": "4f01f5ee",
   "metadata": {},
   "outputs": [],
   "source": [
    "\n",
    "# Basic class definition\n",
    "class SimpleClass:\n",
    "    pass\n",
    "\n",
    "# Creating an instance\n",
    "simple_instance = SimpleClass()\n",
    "\n",
    "print(type(simple_instance))\n"
   ]
  },
  {
   "cell_type": "markdown",
   "id": "fc155d0a",
   "metadata": {},
   "source": [
    "\n",
    "### Exercise:\n",
    "1. Create a few more instances of the `Rational` class with different numerators and denominators.\n",
    "2. What happens if you try to create a fraction with a denominator of zero? Try it out and explain the result.\n"
   ]
  },
  {
   "cell_type": "markdown",
   "id": "784d1aa1",
   "metadata": {},
   "source": [
    "\n",
    "## 1.3 The `__init__` Method\n",
    "\n",
    "The `__init__` method is a special method in Python classes. It's called when an object is created and is used to initialize the object's attributes.\n"
   ]
  },
  {
   "cell_type": "code",
   "execution_count": null,
   "id": "071d432f",
   "metadata": {},
   "outputs": [],
   "source": [
    "\n",
    "# Creating instances now calls __init__\n",
    "half = Rational(1, 2)  # Automatically calls __init__\n",
    "third = Rational(1, 3)\n",
    "\n",
    "print(f\"Half: {half}\")\n",
    "print(f\"Third: {third}\")\n"
   ]
  },
  {
   "cell_type": "markdown",
   "id": "7d190a40",
   "metadata": {},
   "source": [
    "\n",
    "### Exercise:\n",
    "1. Modify the `Rational` class to print a message whenever a new instance is created.\n",
    "2. Try creating a few instances and observe the output.\n"
   ]
  },
  {
   "cell_type": "markdown",
   "id": "dd11d296",
   "metadata": {},
   "source": [
    "\n",
    "## 1.4 Attributes and Methods\n",
    "\n",
    "Classes can have both attributes (data) and methods (functions associated with the class). Let's add some methods to our `Rational` class.\n"
   ]
  },
  {
   "cell_type": "code",
   "execution_count": null,
   "id": "98291959",
   "metadata": {},
   "outputs": [],
   "source": [
    "\n",
    "import math\n",
    "\n",
    "class Rational:\n",
    "    def __init__(self, numerator, denominator):\n",
    "        self.numerator = numerator\n",
    "        self.denominator = denominator\n",
    "\n",
    "    def __str__(self):\n",
    "        return f\"{self.numerator}/{self.denominator}\"\n",
    "\n",
    "    # Adding methods to perform arithmetic operations\n",
    "    def add(self, other):\n",
    "        new_num = self.numerator * other.denominator + self.denominator * other.numerator\n",
    "        new_den = self.denominator * other.denominator\n",
    "        return Rational(new_num, new_den)\n",
    "\n",
    "    def subtract(self, other):\n",
    "        new_num = self.numerator * other.denominator - self.denominator * other.numerator\n",
    "        new_den = self.denominator * other.denominator\n",
    "        return Rational(new_num, new_den)\n",
    "\n",
    "    def simplify(self):\n",
    "        gcd = math.gcd(self.numerator, self.denominator)\n",
    "        self.numerator //= gcd\n",
    "        self.denominator //= gcd\n",
    "\n",
    "# Let's use our new methods\n",
    "a = Rational(1, 2)\n",
    "b = Rational(1, 3)\n",
    "\n",
    "sum_result = a.add(b)\n",
    "print(f\"{a} + {b} = {sum_result}\")\n",
    "\n",
    "diff_result = a.subtract(b)\n",
    "print(f\"{a} - {b} = {diff_result}\")\n",
    "\n",
    "# Simplify the sum\n",
    "sum_result.simplify()\n",
    "print(f\"Simplified sum: {sum_result}\")\n"
   ]
  },
  {
   "cell_type": "markdown",
   "id": "69c8d8e2",
   "metadata": {},
   "source": [
    "\n",
    "## 1.5 Special Methods\n",
    "\n",
    "Python classes can define special methods (also known as \"dunder\" methods) that allow instances to interact with Python syntax in intuitive ways.\n"
   ]
  },
  {
   "cell_type": "code",
   "execution_count": null,
   "id": "ec15f014",
   "metadata": {},
   "outputs": [],
   "source": [
    "\n",
    "class Rational:\n",
    "    def __init__(self, numerator, denominator):\n",
    "        self.numerator = numerator\n",
    "        self.denominator = denominator\n",
    "\n",
    "    def __str__(self):\n",
    "        return f\"{self.numerator}/{self.denominator}\"\n",
    "\n",
    "    def __add__(self, other):\n",
    "        new_num = self.numerator * other.denominator + self.denominator * other.numerator\n",
    "        new_den = self.denominator * other.denominator\n",
    "        return Rational(new_num, new_den)\n",
    "\n",
    "    def __radd__(self, other):\n",
    "        # Assuming 'other' is an integer\n",
    "        return Rational(other * self.denominator + self.numerator, self.denominator)\n",
    "\n",
    "    def __call__(self):\n",
    "        return self.numerator / self.denominator\n",
    "\n",
    "# Using special methods\n",
    "a = Rational(1, 2)\n",
    "b = Rational(1, 3)\n",
    "\n",
    "print(f\"{a} + {b} = {a + b}\")\n",
    "print(f\"1 + {a} = {1 + a}\")\n",
    "print(f\"Value of {a}: {a()}\")\n"
   ]
  },
  {
   "cell_type": "markdown",
   "id": "03f85761",
   "metadata": {},
   "source": [
    "\n",
    "## Conclusion\n",
    "\n",
    "We've covered the basics of Python classes, including:\n",
    "- Defining classes and creating instances\n",
    "- The `__init__` method for initialization\n",
    "- Adding attributes and methods to classes\n",
    "- Special methods for intuitive syntax\n",
    "\n",
    "Classes are a powerful tool in Python, allowing you to create custom data types that behave intuitively and encapsulate complex behavior. As you continue to work with Python, you'll find that understanding and using classes effectively is key to writing maintainable and efficient code.\n"
   ]
  }
 ],
 "metadata": {
  "language_info": {
   "name": "python"
  }
 },
 "nbformat": 4,
 "nbformat_minor": 5
}
