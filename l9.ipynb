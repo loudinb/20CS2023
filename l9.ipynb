{
 "cells": [
  {
   "cell_type": "code",
   "execution_count": 24,
   "metadata": {},
   "outputs": [],
   "source": [
    "from abc import ABC, abstractmethod\n",
    "\n",
    "class Shape(ABC):\n",
    "    @abstractmethod\n",
    "    def area(self):\n",
    "        pass\n",
    "\n",
    "    def __str__(self):\n",
    "        return f\"{self.__class__.__name__}, Area: {self.area()}\""
   ]
  },
  {
   "cell_type": "code",
   "execution_count": 25,
   "metadata": {},
   "outputs": [],
   "source": [
    "\n",
    "class Rectangle(Shape):\n",
    "    def __init__(self, width, height):\n",
    "        self.width = width\n",
    "        self.height = height\n",
    "\n",
    "    def area(self):\n",
    "        return self.width * self.height\n",
    "\n",
    "class Circle(Shape):\n",
    "    def __init__(self, radius):\n",
    "        self.radius = radius\n",
    "\n",
    "    def area(self):\n",
    "        return 3.14 * (self.radius ** 2)\n"
   ]
  },
  {
   "cell_type": "code",
   "execution_count": 26,
   "metadata": {},
   "outputs": [],
   "source": [
    "circle = Circle(5)\n",
    "rectangle = Rectangle(5, 10)"
   ]
  },
  {
   "cell_type": "code",
   "execution_count": 27,
   "metadata": {},
   "outputs": [
    {
     "name": "stdout",
     "output_type": "stream",
     "text": [
      "Rectangle, Area: 50\n"
     ]
    }
   ],
   "source": [
    "print(rectangle)"
   ]
  },
  {
   "cell_type": "code",
   "execution_count": 31,
   "metadata": {},
   "outputs": [],
   "source": []
  },
  {
   "cell_type": "code",
   "execution_count": 35,
   "metadata": {},
   "outputs": [],
   "source": []
  },
  {
   "cell_type": "code",
   "execution_count": 36,
   "metadata": {},
   "outputs": [
    {
     "data": {
      "text/plain": [
       "113.5"
      ]
     },
     "execution_count": 36,
     "metadata": {},
     "output_type": "execute_result"
    }
   ],
   "source": []
  },
  {
   "cell_type": "code",
   "execution_count": 38,
   "metadata": {},
   "outputs": [
    {
     "name": "stdout",
     "output_type": "stream",
     "text": [
      "113.5\n"
     ]
    }
   ],
   "source": [
    "print(total_area) # 128.5"
   ]
  },
  {
   "cell_type": "code",
   "execution_count": 1,
   "metadata": {},
   "outputs": [],
   "source": [
    "class SimpleClass:\n",
    "    def __new__(cls, *args, **kwargs):\n",
    "        print(\"Creating an instance...\")\n",
    "        return super().__new__(cls)\n",
    "\n",
    "    def __init__(self, name):\n",
    "        print(\"Initializing the object...\")\n",
    "        self.name = name\n",
    "\n",
    "    def greet(self):\n",
    "        print(f\"Hello, my name is {self.name}\")\n",
    "\n",
    "    def __del__(self):\n",
    "        print(f\"Object with name {self.name} is being destroyed...\")"
   ]
  },
  {
   "cell_type": "code",
   "execution_count": 2,
   "metadata": {},
   "outputs": [
    {
     "name": "stdout",
     "output_type": "stream",
     "text": [
      "Creating an instance...\n",
      "Initializing the object...\n"
     ]
    }
   ],
   "source": [
    "\n",
    "# Example usage\n",
    "obj = SimpleClass(\"Alice\")"
   ]
  },
  {
   "cell_type": "code",
   "execution_count": 3,
   "metadata": {},
   "outputs": [
    {
     "name": "stdout",
     "output_type": "stream",
     "text": [
      "Hello, my name is Alice\n"
     ]
    }
   ],
   "source": [
    "obj.greet()"
   ]
  },
  {
   "cell_type": "code",
   "execution_count": 4,
   "metadata": {},
   "outputs": [
    {
     "name": "stdout",
     "output_type": "stream",
     "text": [
      "Object with name Alice is being destroyed...\n"
     ]
    }
   ],
   "source": [
    "del obj"
   ]
  },
  {
   "cell_type": "code",
   "execution_count": 20,
   "metadata": {},
   "outputs": [
    {
     "name": "stdout",
     "output_type": "stream",
     "text": [
      "Creating an instance...\n",
      "Initializing the object...\n",
      "Object with name Alice is being destroyed...\n",
      "Reference count after creation: 2\n",
      "Reference count after creation: 2\n"
     ]
    }
   ],
   "source": [
    "import sys\n",
    "import gc\n",
    "\n",
    "class SimpleClass:\n",
    "    def __new__(cls, *args, **kwargs):\n",
    "        print(\"Creating an instance...\")\n",
    "        return super().__new__(cls)\n",
    "\n",
    "    def __init__(self, name):\n",
    "        print(\"Initializing the object...\")\n",
    "        self.name = name\n",
    "\n",
    "    def greet(self):\n",
    "        print(f\"Hello, my name is {self.name}\")\n",
    "\n",
    "    def __del__(self):\n",
    "        print(f\"Object with name {self.name} is being destroyed...\")\n",
    "\n",
    "# Create the object and check reference count\n",
    "obj = SimpleClass(\"Alice\")\n",
    "print(\"Reference count after creation:\", sys.getrefcount(obj))\n",
    "# #x = obj\n",
    "# print(\"Reference count after creation:\", sys.getrefcount(obj))\n",
    "# # y = obj\n",
    "\n",
    "# print(\"Reference count after creation:\", sys.getrefcount(obj))\n",
    "# # Use the object and check reference count again\n",
    "# obj.greet()\n",
    "# print(\"Reference count after method call:\", sys.getrefcount(obj))\n",
    "\n",
    "# # Delete the object and force garbage collection\n",
    "# del obj\n",
    "# gc.collect()  # This will trigger the __del__ method and reclaim memory\n"
   ]
  },
  {
   "cell_type": "code",
   "execution_count": null,
   "metadata": {},
   "outputs": [],
   "source": []
  },
  {
   "cell_type": "code",
   "execution_count": null,
   "metadata": {},
   "outputs": [],
   "source": []
  },
  {
   "cell_type": "code",
   "execution_count": null,
   "metadata": {},
   "outputs": [],
   "source": []
  },
  {
   "cell_type": "code",
   "execution_count": null,
   "metadata": {},
   "outputs": [],
   "source": []
  }
 ],
 "metadata": {
  "kernelspec": {
   "display_name": "Python 3",
   "language": "python",
   "name": "python3"
  },
  "language_info": {
   "codemirror_mode": {
    "name": "ipython",
    "version": 3
   },
   "file_extension": ".py",
   "mimetype": "text/x-python",
   "name": "python",
   "nbconvert_exporter": "python",
   "pygments_lexer": "ipython3",
   "version": "3.12.6"
  }
 },
 "nbformat": 4,
 "nbformat_minor": 2
}
