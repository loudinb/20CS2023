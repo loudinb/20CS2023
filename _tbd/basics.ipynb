{
 "cells": [
  {
   "cell_type": "markdown",
   "metadata": {},
   "source": [
    "# Language Basics"
   ]
  },
  {
   "cell_type": "markdown",
   "metadata": {},
   "source": [
    "## Math Operators\n",
    "\n",
    "From **highest** to **lowest** precedence:\n",
    "\n",
    "| Operators | Operation         | Example         |\n",
    "| --------- | ----------------- | --------------- |\n",
    "| \\*\\*      | Exponent          | `2 ** 3 = 8`    |\n",
    "| %         | Modulus/Remainder | `22 % 8 = 6`    |\n",
    "| //        | Integer division  | `22 // 8 = 2`   |\n",
    "| /         | Division          | `22 / 8 = 2.75` |\n",
    "| \\*        | Multiplication    | `3 * 3 = 9`     |\n",
    "| -         | Subtraction       | `5 - 2 = 3`     |\n",
    "| +         | Addition          | `2 + 2 = 4`     |\n",
    "\n",
    "Examples of expressions:\n",
    "\n",
    "```python\n",
    "```\n",
    "\n"
   ]
  },
  {
   "cell_type": "code",
   "execution_count": 4,
   "metadata": {},
   "outputs": [
    {
     "name": "stdout",
     "output_type": "stream",
     "text": [
      "20\n",
      "30\n",
      "256\n",
      "3\n",
      "2\n",
      "16.0\n"
     ]
    }
   ],
   "source": [
    "print(2 + 3 * 6)  # 20\n",
    "\n",
    "print((2 + 3) * 6)  # 30\n",
    "\n",
    "print(2 ** 8)  # 256\n",
    "\n",
    "print(23 // 7)  # 3\n",
    "\n",
    "print(23 % 7)  # 2\n",
    "\n",
    "print((5 - 1) * ((7 + 1) / (3 - 1)))  # 16.0"
   ]
  },
  {
   "cell_type": "markdown",
   "metadata": {},
   "source": [
    "## Augmented Assignment Operators\n",
    "\n",
    "| Operator    | Equivalent       |\n",
    "| ----------- | ---------------- |\n",
    "| `var += 1`  | `var = var + 1`  |\n",
    "| `var -= 1`  | `var = var - 1`  |\n",
    "| `var *= 1`  | `var = var * 1`  |\n",
    "| `var /= 1`  | `var = var / 1`  |\n",
    "| `var //= 1` | `var = var // 1` |\n",
    "| `var %= 1`  | `var = var % 1`  |\n",
    "| `var **= 1` | `var = var ** 1` |"
   ]
  },
  {
   "cell_type": "code",
   "execution_count": 5,
   "metadata": {},
   "outputs": [
    {
     "data": {
      "text/plain": [
       "['item', 'item', 'item']"
      ]
     },
     "execution_count": 5,
     "metadata": {},
     "output_type": "execute_result"
    }
   ],
   "source": [
    "greeting = 'Hello'\n",
    "greeting += ' world!'\n",
    "greeting\n",
    "# 'Hello world!'\n",
    "\n",
    "number = 1\n",
    "number += 1\n",
    "number\n",
    "# 2\n",
    "\n",
    "my_list = ['item']\n",
    "my_list *= 3\n",
    "my_list\n",
    "# ['item', 'item', 'item']"
   ]
  },
  {
   "cell_type": "markdown",
   "metadata": {},
   "source": [
    "## Walrus Operator\n",
    "\n",
    "The Walrus Operator allows assignment of variables within an expression while returning the value of the variable"
   ]
  },
  {
   "cell_type": "code",
   "execution_count": 6,
   "metadata": {},
   "outputs": [
    {
     "name": "stdout",
     "output_type": "stream",
     "text": [
      "Hello World!\n",
      "Yes\n",
      "Hello\n"
     ]
    }
   ],
   "source": [
    "print(my_var:=\"Hello World!\")\n",
    "# 'Hello world!'\n",
    "\n",
    "my_var=\"Yes\"\n",
    "print(my_var)\n",
    "# 'Yes'\n",
    "\n",
    "print(my_var:=\"Hello\")\n",
    "# 'Hello'"
   ]
  },
  {
   "cell_type": "markdown",
   "metadata": {},
   "source": [
    "## Data Types\n",
    "\n",
    "| Data Type              | Examples                                  |\n",
    "| ---------------------- | ----------------------------------------- |\n",
    "| Integers               | `-2, -1, 0, 1, 2, 3, 4, 5`                |\n",
    "| Floating-point numbers | `-1.25, -1.0, --0.5, 0.0, 0.5, 1.0, 1.25` |\n",
    "| Strings                | `'a', 'aa', 'aaa', 'Hello!', '11 cats'`   |"
   ]
  },
  {
   "cell_type": "markdown",
   "metadata": {},
   "source": [
    "## Concatenation and Replication\n",
    "\n",
    "String concatenation:\n",
    "\n",
    "```python\n",
    ">>> 'Alice' 'Bob'\n",
    "# 'AliceBob'\n",
    "```\n",
    "\n",
    "String replication:\n",
    "\n",
    "```python\n",
    ">>> 'Alice' * 5\n",
    "# 'AliceAliceAliceAliceAlice'\n",
    "```"
   ]
  },
  {
   "cell_type": "markdown",
   "metadata": {},
   "source": [
    "## Variables\n",
    "\n",
    "You can name a variable anything as long as it obeys the following rules:\n",
    "\n",
    "1. It can be only one word.\n",
    "\n",
    "```python\n",
    ">>> # bad\n",
    ">>> my variable = 'Hello'\n",
    "\n",
    ">>> # good\n",
    ">>> var = 'Hello'\n",
    "```\n",
    "\n",
    "2. It can use only letters, numbers, and the underscore (`_`) character.\n",
    "\n",
    "```python\n",
    ">>> # bad\n",
    ">>> %$@variable = 'Hello'\n",
    "\n",
    ">>> # good\n",
    ">>> my_var = 'Hello'\n",
    "\n",
    ">>> # good\n",
    ">>> my_var_2 = 'Hello'\n",
    "```\n",
    "\n",
    "3. It can’t begin with a number.\n",
    "\n",
    "```python\n",
    ">>> # this wont work\n",
    ">>> 23_var = 'hello'\n",
    "```\n",
    "\n",
    "4. Variable name starting with an underscore (`_`) are considered as \"unuseful\".\n",
    "\n",
    "```python\n",
    ">>> # _spam should not be used again in the code\n",
    ">>> _spam = 'Hello'\n",
    "```\n"
   ]
  },
  {
   "cell_type": "markdown",
   "metadata": {},
   "source": [
    "## Comments\n",
    "\n",
    "Inline comment:\n",
    "\n",
    "```python\n",
    "# This is a comment\n",
    "```\n",
    "\n",
    "Multiline comment:\n",
    "\n",
    "```python\n",
    "# This is a\n",
    "# multiline comment\n",
    "```\n",
    "\n",
    "Code with a comment:\n",
    "\n",
    "```python\n",
    "a = 1  # initialization\n",
    "```\n",
    "\n",
    "Please note the two spaces in front of the comment.\n",
    "\n",
    "Function docstring:\n",
    "\n",
    "```python\n",
    "def foo():\n",
    "    \"\"\"\n",
    "    This is a function docstring\n",
    "    You can also use:\n",
    "    ''' Function Docstring '''\n",
    "    \"\"\"\n",
    "```"
   ]
  },
  {
   "cell_type": "markdown",
   "metadata": {},
   "source": [
    "## The print() Function\n",
    "\n",
    "The `print()` function writes the value of the argument(s) it is given. [...] it handles multiple arguments, floating point-quantities, and strings. Strings are printed without quotes, and a space is inserted between items, so you can format things nicely:\n",
    "\n",
    "```python\n",
    ">>> print('Hello world!')\n",
    "# Hello world!\n",
    "\n",
    ">>> a = 1\n",
    ">>> print('Hello world!', a)\n",
    "# Hello world! 1\n",
    "```\n",
    "\n",
    "### The end keyword\n",
    "\n",
    "The keyword argument `end` can be used to avoid the newline after the output, or end the output with a different string:\n",
    "\n",
    "```python\n",
    "phrase = ['printed', 'with', 'a', 'dash', 'in', 'between']\n",
    ">>> for word in phrase:\n",
    "...     print(word, end='-')\n",
    "...\n",
    "# printed-with-a-dash-in-between-\n",
    "```\n",
    "\n",
    "### The sep keyword\n",
    "\n",
    "The keyword `sep` specify how to separate the objects, if there is more than one:\n",
    "\n",
    "```python\n",
    "print('cats', 'dogs', 'mice', sep=',')\n",
    "# cats,dogs,mice\n",
    "```"
   ]
  },
  {
   "cell_type": "markdown",
   "metadata": {},
   "source": [
    "## The input() Function\n",
    "\n",
    "This function takes the input from the user and converts it into a string:\n",
    "\n",
    "```python\n",
    ">>> print('What is your name?')   # ask for their name\n",
    ">>> my_name = input()\n",
    ">>> print('Hi, {}'.format(my_name))\n",
    "# What is your name?\n",
    "# Martha\n",
    "# Hi, Martha\n",
    "```\n",
    "\n",
    "`input()` can also set a default message without using `print()`:\n",
    "\n",
    "```python\n",
    ">>> my_name = input('What is your name? ')  # default message\n",
    ">>> print('Hi, {}'.format(my_name))\n",
    "# What is your name? Martha\n",
    "# Hi, Martha\n",
    "```\n",
    "\n",
    "It is also possible to use formatted strings to avoid using .format:\n",
    "\n",
    "```python\n",
    ">>> my_name = input('What is your name? ')  # default message\n",
    ">>> print(f'Hi, {my_name}')\n",
    "# What is your name? Martha\n",
    "# Hi, Martha\n",
    "```"
   ]
  },
  {
   "cell_type": "markdown",
   "metadata": {},
   "source": [
    "## The len() Function\n",
    "\n",
    "Evaluates to the integer value of the number of characters in a string, list, dictionary, etc.:\n",
    "\n",
    "```python\n",
    ">>> len('hello')\n",
    "# 5\n",
    "\n",
    ">>> len(['cat', 3, 'dog'])\n",
    "# 3\n",
    "```\n",
    "\n",
    "<base-warning>\n",
    "  <base-warning-title>Test of emptiness</base-warning-title>\n",
    "  <base-warning-content>\n",
    "    Test of emptiness of strings, lists, dictionaries, etc., should not use\n",
    "    <code>len</code>, but prefer direct boolean evaluation.\n",
    "  </base-warning-content>\n",
    "</base-warning>\n",
    "\n",
    "Test of emptiness example:\n",
    "\n",
    "```python\n",
    ">>> a = [1, 2, 3]\n",
    "\n",
    "# bad\n",
    ">>> if len(a) > 0:  # evaluates to True\n",
    "...     print(\"the list is not empty!\")\n",
    "...\n",
    "# the list is not empty!\n",
    "\n",
    "# good\n",
    ">>> if a: # evaluates to True\n",
    "...     print(\"the list is not empty!\")\n",
    "...\n",
    "# the list is not empty!\n",
    "```"
   ]
  },
  {
   "cell_type": "markdown",
   "metadata": {},
   "source": [
    "## The str(), int(), and float() Functions\n",
    "\n",
    "These functions allow you to change the type of variable. For example, you can transform from an `integer` or `float` to a `string`:\n",
    "\n",
    "```python\n",
    ">>> str(29)\n",
    "# '29'\n",
    "\n",
    ">>> str(-3.14)\n",
    "# '-3.14'\n",
    "```\n",
    "\n",
    "Or from a `string` to an `integer` or `float`:\n",
    "\n",
    "```python\n",
    ">>> int('11')\n",
    "# 11\n",
    "\n",
    ">>> float('3.14')\n",
    "# 3.14\n",
    "```"
   ]
  },
  {
   "cell_type": "markdown",
   "metadata": {},
   "source": []
  }
 ],
 "metadata": {
  "kernelspec": {
   "display_name": "Python 3",
   "language": "python",
   "name": "python3"
  },
  "language_info": {
   "codemirror_mode": {
    "name": "ipython",
    "version": 3
   },
   "file_extension": ".py",
   "mimetype": "text/x-python",
   "name": "python",
   "nbconvert_exporter": "python",
   "pygments_lexer": "ipython3",
   "version": "3.12.5"
  }
 },
 "nbformat": 4,
 "nbformat_minor": 2
}
