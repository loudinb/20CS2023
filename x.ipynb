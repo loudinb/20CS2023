{
 "cells": [
  {
   "cell_type": "code",
   "execution_count": 2,
   "metadata": {},
   "outputs": [
    {
     "data": {
      "text/plain": [
       "PosixPath('other.txt')"
      ]
     },
     "execution_count": 2,
     "metadata": {},
     "output_type": "execute_result"
    }
   ],
   "source": [
    "from pathlib import Path\n",
    "path = Path(\"testfile.txt\")\n",
    "\n",
    "# File system checks\n",
    "path.exists()          # Check if path exists\n",
    "path.is_file()         # Check if path is a file\n",
    "path.is_dir()         # Check if path is a directory\n",
    "\n",
    "# Path information\n",
    "path.name             # File name with extension ('testfile.txt')\n",
    "path.stem             # File name without extension ('testfile')\n",
    "path.suffix           # File extension ('.txt')\n",
    "path.parent           # Parent directory path\n",
    "path.absolute()       # Absolute path from root\n",
    "path.resolve()        # Absolute path, resolving symlinks\n",
    "\n",
    "# Path modification\n",
    "path.with_suffix('.md')  # Return new path with different extension\n",
    "path.with_name('other.txt')  # Return new path with different name"
   ]
  },
  {
   "cell_type": "code",
   "execution_count": 9,
   "metadata": {},
   "outputs": [
    {
     "name": "stdout",
     "output_type": "stream",
     "text": [
      "/workspaces/20CS2023/new_directory\n"
     ]
    }
   ],
   "source": [
    "import os\n",
    "\n",
    "# Change to a new directory\n",
    "try:\n",
    "    os.chdir(\"new_directory\")\n",
    "except FileNotFoundError:\n",
    "    print(\"Directory not found\")\n",
    "print(Path.cwd())"
   ]
  },
  {
   "cell_type": "code",
   "execution_count": 3,
   "metadata": {},
   "outputs": [],
   "source": [
    "# Deleting a file\n",
    "file = Path(\"testfile.txt\")\n",
    "file.unlink()  # Removes the file"
   ]
  },
  {
   "cell_type": "code",
   "execution_count": 4,
   "metadata": {},
   "outputs": [],
   "source": [
    "new_dir = Path(\"new_directory\")\n",
    "new_dir.mkdir(exist_ok=True)  # 'exist_ok=True' prevents errors if it already exists"
   ]
  },
  {
   "cell_type": "code",
   "execution_count": 5,
   "metadata": {},
   "outputs": [],
   "source": [
    "# Deleting a directory\n",
    "dir = Path(\"new_directory\")\n",
    "dir.rmdir()  # Removes the directory (must be empty)"
   ]
  },
  {
   "cell_type": "code",
   "execution_count": 6,
   "metadata": {},
   "outputs": [
    {
     "name": "stdout",
     "output_type": "stream",
     "text": [
      "_quarto.yml\n",
      "x.ipynb\n",
      "repos\n",
      ".DS_Store\n",
      "requirements.txt\n",
      "binder\n",
      "exercises-solved\n",
      "solutions\n",
      "__pycache__\n",
      "docs\n",
      ".devcontainer\n",
      "gitnotes\n",
      "presentations\n",
      ".gitignore\n",
      "_tbd\n",
      ".github\n",
      ".git\n",
      ".quarto\n"
     ]
    }
   ],
   "source": [
    "for item in Path(\".\").iterdir():\n",
    "    print(item)"
   ]
  },
  {
   "cell_type": "code",
   "execution_count": null,
   "metadata": {},
   "outputs": [],
   "source": []
  }
 ],
 "metadata": {
  "kernelspec": {
   "display_name": "Python 3",
   "language": "python",
   "name": "python3"
  },
  "language_info": {
   "codemirror_mode": {
    "name": "ipython",
    "version": 3
   },
   "file_extension": ".py",
   "mimetype": "text/x-python",
   "name": "python",
   "nbconvert_exporter": "python",
   "pygments_lexer": "ipython3",
   "version": "3.12.6"
  }
 },
 "nbformat": 4,
 "nbformat_minor": 2
}
