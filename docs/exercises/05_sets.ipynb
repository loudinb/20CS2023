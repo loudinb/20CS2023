{
 "cells": [
  {
   "cell_type": "markdown",
   "metadata": {},
   "source": [
    "# Python Sets and Frozen Sets Exercises\n",
    "\n",
    "This notebook contains 20 exercises to practice working with sets and frozen sets in Python."
   ]
  },
  {
   "cell_type": "markdown",
   "metadata": {},
   "source": [
    "Create a set of unique integers from the following list: [1, 2, 2, 3, 4, 4, 5]"
   ]
  },
  {
   "cell_type": "code",
   "execution_count": null,
   "metadata": {},
   "outputs": [],
   "source": [
    "numbers = [1, 2, 2, 3, 4, 4, 5]\n",
    "unique_numbers = set(numbers)\n",
    "print(unique_numbers)"
   ]
  },
  {
   "cell_type": "markdown",
   "metadata": {},
   "source": [
    "Create two sets: `set1` with elements {1, 2, 3, 4} and `set2` with elements {3, 4, 5, 6}. Find their union."
   ]
  },
  {
   "cell_type": "code",
   "execution_count": null,
   "metadata": {},
   "outputs": [],
   "source": [
    "set1 = {1, 2, 3, 4}\n",
    "set2 = {3, 4, 5, 6}\n",
    "union_set = set1.union(set2)\n",
    "print(union_set)"
   ]
  },
  {
   "cell_type": "markdown",
   "metadata": {},
   "source": [
    "Using the sets from Exercise 2, find their intersection."
   ]
  },
  {
   "cell_type": "code",
   "execution_count": null,
   "metadata": {},
   "outputs": [],
   "source": [
    "intersection_set = set1.intersection(set2)\n",
    "print(intersection_set)"
   ]
  },
  {
   "cell_type": "markdown",
   "metadata": {},
   "source": [
    "Create a set of fruits: {\"apple\", \"banana\", \"cherry\"}. Add \"date\" to the set."
   ]
  },
  {
   "cell_type": "code",
   "execution_count": null,
   "metadata": {},
   "outputs": [],
   "source": [
    "fruits = {\"apple\", \"banana\", \"cherry\"}\n",
    "fruits.add(\"date\")\n",
    "print(fruits)"
   ]
  },
  {
   "cell_type": "markdown",
   "metadata": {},
   "source": [
    "Remove \"banana\" from the set of fruits created in Exercise 4."
   ]
  },
  {
   "cell_type": "code",
   "execution_count": null,
   "metadata": {},
   "outputs": [],
   "source": [
    "fruits.remove(\"banana\")\n",
    "print(fruits)"
   ]
  },
  {
   "cell_type": "markdown",
   "metadata": {},
   "source": [
    "Create a frozen set with elements {1, 2, 3, 4, 5}. Try to add a new element to it and observe the result."
   ]
  },
  {
   "cell_type": "code",
   "execution_count": null,
   "metadata": {},
   "outputs": [],
   "source": [
    "frozen_set = frozenset({1, 2, 3, 4, 5})\n",
    "print(frozen_set)\n",
    "\n",
    "try:\n",
    "    frozen_set.add(6)\n",
    "except AttributeError as e:\n",
    "    print(f\"Error: {e}\")"
   ]
  },
  {
   "cell_type": "markdown",
   "metadata": {},
   "source": [
    "Create two sets: `set_A` with elements {1, 2, 3, 4, 5} and `set_B` with elements {4, 5, 6, 7, 8}. Find the elements that are in `set_A` but not in `set_B`."
   ]
  },
  {
   "cell_type": "code",
   "execution_count": null,
   "metadata": {},
   "outputs": [],
   "source": [
    "set_A = {1, 2, 3, 4, 5}\n",
    "set_B = {4, 5, 6, 7, 8}\n",
    "difference = set_A - set_B\n",
    "print(difference)"
   ]
  },
  {
   "cell_type": "markdown",
   "metadata": {},
   "source": [
    "Check if the set {1, 2, 3} is a subset of {1, 2, 3, 4, 5}."
   ]
  },
  {
   "cell_type": "code",
   "execution_count": null,
   "metadata": {},
   "outputs": [],
   "source": [
    "set1 = {1, 2, 3}\n",
    "set2 = {1, 2, 3, 4, 5}\n",
    "is_subset = set1.issubset(set2)\n",
    "print(f\"Is {set1} a subset of {set2}? {is_subset}\")"
   ]
  },
  {
   "cell_type": "markdown",
   "metadata": {},
   "source": [
    "Create a set of prime numbers less than 20 and a set of even numbers less than 20. Find their symmetric difference."
   ]
  },
  {
   "cell_type": "code",
   "execution_count": null,
   "metadata": {},
   "outputs": [],
   "source": [
    "primes = {2, 3, 5, 7, 11, 13, 17, 19}\n",
    "evens = {2, 4, 6, 8, 10, 12, 14, 16, 18}\n",
    "symmetric_diff = primes.symmetric_difference(evens)\n",
    "print(symmetric_diff)"
   ]
  },
  {
   "cell_type": "markdown",
   "metadata": {},
   "source": [
    "Create a set of vowels and a string of text. Count how many unique vowels are in the text."
   ]
  },
  {
   "cell_type": "code",
   "execution_count": null,
   "metadata": {},
   "outputs": [],
   "source": [
    "vowels = set('aeiou')\n",
    "text = \"Hello, how are you today?\"\n",
    "unique_vowels = set(text.lower()) & vowels\n",
    "print(f\"Number of unique vowels: {len(unique_vowels)}\")\n",
    "print(f\"Unique vowels: {unique_vowels}\")"
   ]
  },
  {
   "cell_type": "markdown",
   "metadata": {},
   "source": [
    "Create a frozen set of primary colors: {\"red\", \"blue\", \"yellow\"}. Try to remove an element from it and observe the result."
   ]
  },
  {
   "cell_type": "code",
   "execution_count": null,
   "metadata": {},
   "outputs": [],
   "source": [
    "primary_colors = frozenset({\"red\", \"blue\", \"yellow\"})\n",
    "print(primary_colors)\n",
    "\n",
    "try:\n",
    "    primary_colors.remove(\"red\")\n",
    "except AttributeError as e:\n",
    "    print(f\"Error: {e}\")"
   ]
  },
  {
   "cell_type": "markdown",
   "metadata": {},
   "source": [
    "Create two sets: `set1` with elements {1, 2, 3} and `set2` with elements {3, 4, 5}. Check if they are disjoint."
   ]
  },
  {
   "cell_type": "code",
   "execution_count": null,
   "metadata": {},
   "outputs": [],
   "source": [
    "set1 = {1, 2, 3}\n",
    "set2 = {3, 4, 5}\n",
    "are_disjoint = set1.isdisjoint(set2)\n",
    "print(f\"Are set1 and set2 disjoint? {are_disjoint}\")"
   ]
  },
  {
   "cell_type": "markdown",
   "metadata": {},
   "source": [
    "Create a set of numbers from 1 to 10. Remove all even numbers from the set using a loop."
   ]
  },
  {
   "cell_type": "code",
   "execution_count": null,
   "metadata": {},
   "outputs": [],
   "source": [
    "numbers = set(range(1, 11))\n",
    "for num in list(numbers):  # Create a list to avoid modifying the set during iteration\n",
    "    if num % 2 == 0:\n",
    "        numbers.remove(num)\n",
    "print(numbers)"
   ]
  },
  {
   "cell_type": "markdown",
   "metadata": {},
   "source": [
    "Create two sets of your choice. Perform set difference using both the `-` operator and the `difference()` method. Compare the results."
   ]
  },
  {
   "cell_type": "code",
   "execution_count": null,
   "metadata": {},
   "outputs": [],
   "source": [
    "set_A = {1, 2, 3, 4, 5}\n",
    "set_B = {3, 4, 5, 6, 7}\n",
    "\n",
    "diff_operator = set_A - set_B\n",
    "diff_method = set_A.difference(set_B)\n",
    "\n",
    "print(f\"Difference using - operator: {diff_operator}\")\n",
    "print(f\"Difference using difference() method: {diff_method}\")\n",
    "print(f\"Are the results equal? {diff_operator == diff_method}\")"
   ]
  },
  {
   "cell_type": "markdown",
   "metadata": {},
   "source": [
    "Create a set of words from a sentence. Find the length of the longest word in the set."
   ]
  },
  {
   "cell_type": "code",
   "execution_count": null,
   "metadata": {},
   "outputs": [],
   "source": [
    "sentence = \"The quick brown fox jumps over the lazy dog\"\n",
    "words = set(sentence.split())\n",
    "longest_word_length = max(len(word) for word in words)\n",
    "print(f\"Length of the longest word: {longest_word_length}\")"
   ]
  },
  {
   "cell_type": "markdown",
   "metadata": {},
   "source": [
    "Create a frozen set of the first 5 prime numbers. Use this frozen set to create a new set that includes the next 5 prime numbers."
   ]
  },
  {
   "cell_type": "code",
   "execution_count": null,
   "metadata": {},
   "outputs": [],
   "source": [
    "first_five_primes = frozenset({2, 3, 5, 7, 11})\n",
    "next_five_primes = {13, 17, 19, 23, 29}\n",
    "all_primes = set(first_five_primes) | next_five_primes\n",
    "print(all_primes)"
   ]
  },
  {
   "cell_type": "markdown",
   "metadata": {},
   "source": [
    "Create two sets: one with uppercase letters and another with lowercase letters of the English alphabet. Find their union and intersection."
   ]
  },
  {
   "cell_type": "code",
   "execution_count": null,
   "metadata": {},
   "outputs": [],
   "source": [
    "import string\n",
    "\n",
    "uppercase = set(string.ascii_uppercase)\n",
    "lowercase = set(string.ascii_lowercase)\n",
    "\n",
    "union_result = uppercase.union(lowercase)\n",
    "intersection_result = uppercase.intersection(lowercase)\n",
    "\n",
    "print(f\"Union: {union_result}\")\n",
    "print(f\"Intersection: {intersection_result}\")"
   ]
  },
  {
   "cell_type": "markdown",
   "metadata": {},
   "source": [
    "Create a set of numbers from 1 to 20. Use set comprehension to create a new set containing only the square numbers from the original set."
   ]
  },
  {
   "cell_type": "code",
   "execution_count": null,
   "metadata": {},
   "outputs": [],
   "source": [
    "numbers = set(range(1, 21))\n",
    "square_numbers = {num for num in numbers if int(num**0.5)**2 == num}\n",
    "print(square_numbers)"
   ]
  },
  {
   "cell_type": "markdown",
   "metadata": {},
   "source": [
    "Create three sets: `A`, `B`, and `C`. Verify whether the set `A` is a subset of the union of sets `B` and `C`."
   ]
  },
  {
   "cell_type": "code",
   "execution_count": null,
   "metadata": {},
   "outputs": [],
   "source": [
    "A = {1, 2, 3, 4}\n",
    "B = {2, 3, 5, 6}\n",
    "C = {1, 4, 7, 8}\n",
    "\n",
    "is_subset = A.issubset(B.union(C))\n",
    "print(f\"Is A a subset of the union of B and C? {is_subset}\")"
   ]
  },
  {
   "cell_type": "markdown",
   "metadata": {},
   "source": [
    "Create a function that takes two sets as input and returns a new set containing elements that are in either set, but not in both (symmetric difference). Test your function with sample sets."
   ]
  },
  {
   "cell_type": "code",
   "execution_count": null,
   "metadata": {},
   "outputs": [],
   "source": [
    "def custom_symmetric_difference(set1, set2):\n",
    "    return (set1 - set2) | (set2 - set1)\n",
    "\n",
    "# Test the function\n",
    "A = {1, 2, 3, 4, 5}\n",
    "B = {4, 5, 6, 7, 8}\n",
    "\n",
    "result = custom_symmetric_difference(A, B)\n",
    "print(f\"Symmetric difference of {A} and {B}: {result}\")\n",
    "\n",
    "# Verify with built-in method\n",
    "built_in_result = A.symmetric_difference(B)\n",
    "print(f\"Built-in symmetric_difference result: {built_in_result}\")\n",
    "print(f\"Custom function matches built-in method: {result == built_in_result}\")"
   ]
  }
 ],
 "metadata": {
  "kernelspec": {
   "display_name": "Python 3",
   "language": "python",
   "name": "python3"
  },
  "language_info": {
   "codemirror_mode": {
    "name": "ipython",
    "version": 3
   },
   "file_extension": ".py",
   "mimetype": "text/x-python",
   "name": "python",
   "nbconvert_exporter": "python",
   "pygments_lexer": "ipython3",
   "version": "3.8.8"
  }
 },
 "nbformat": 4,
 "nbformat_minor": 4
}
