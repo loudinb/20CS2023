{
 "cells": [
  {
   "cell_type": "markdown",
   "metadata": {},
   "source": [
    "# Python Tuple Exercises\n",
    "\n",
    "This notebook contains 20 exercises to practice working with tuples in Python."
   ]
  },
  {
   "cell_type": "markdown",
   "metadata": {},
   "source": [
    "Create a tuple containing the first five prime numbers."
   ]
  },
  {
   "cell_type": "code",
   "execution_count": null,
   "metadata": {},
   "outputs": [],
   "source": [
    "prime_tuple = (2, 3, 5, 7, 11)\n",
    "print(prime_tuple)"
   ]
  },
  {
   "cell_type": "markdown",
   "metadata": {},
   "source": [
    "Access and print the third element of the tuple created in Exercise 1."
   ]
  },
  {
   "cell_type": "code",
   "execution_count": null,
   "metadata": {},
   "outputs": [],
   "source": [
    "print(prime_tuple[2])"
   ]
  },
  {
   "cell_type": "markdown",
   "metadata": {},
   "source": [
    "Create a tuple of tuples representing a small multiplication table (2x3) for numbers 1, 2, and 3."
   ]
  },
  {
   "cell_type": "code",
   "execution_count": null,
   "metadata": {},
   "outputs": [],
   "source": [
    "multiplication_table = ((1, 2, 3), (2, 4, 6), (3, 6, 9))\n",
    "print(multiplication_table)"
   ]
  },
  {
   "cell_type": "markdown",
   "metadata": {},
   "source": [
    "Unpack the tuple `(\"apple\", \"banana\", \"cherry\")` into three variables and print them."
   ]
  },
  {
   "cell_type": "code",
   "execution_count": null,
   "metadata": {},
   "outputs": [],
   "source": [
    "fruit_tuple = (\"apple\", \"banana\", \"cherry\")\n",
    "a, b, c = fruit_tuple\n",
    "print(a, b, c)"
   ]
  },
  {
   "cell_type": "markdown",
   "metadata": {},
   "source": [
    "Count and print the number of occurrences of the number 3 in the tuple `(1, 2, 3, 4, 3, 5, 3)`."
   ]
  },
  {
   "cell_type": "code",
   "execution_count": null,
   "metadata": {},
   "outputs": [],
   "source": [
    "number_tuple = (1, 2, 3, 4, 3, 5, 3)\n",
    "count_3 = number_tuple.count(3)\n",
    "print(f\"The number 3 appears {count_3} times in the tuple.\")"
   ]
  },
  {
   "cell_type": "markdown",
   "metadata": {},
   "source": [
    "Convert the list `[1, 2, 3, 4, 5]` to a tuple and print its type."
   ]
  },
  {
   "cell_type": "code",
   "execution_count": null,
   "metadata": {},
   "outputs": [],
   "source": [
    "number_list = [1, 2, 3, 4, 5]\n",
    "number_tuple = tuple(number_list)\n",
    "print(type(number_tuple))"
   ]
  },
  {
   "cell_type": "markdown",
   "metadata": {},
   "source": [
    "Create a tuple with a single element \"python\" and print its type."
   ]
  },
  {
   "cell_type": "code",
   "execution_count": null,
   "metadata": {},
   "outputs": [],
   "source": [
    "single_element_tuple = (\"python\",)\n",
    "print(type(single_element_tuple))"
   ]
  },
  {
   "cell_type": "markdown",
   "metadata": {},
   "source": [
    "Concatenate two tuples `(1, 2, 3)` and `(4, 5, 6)` and print the result."
   ]
  },
  {
   "cell_type": "code",
   "execution_count": null,
   "metadata": {},
   "outputs": [],
   "source": [
    "tuple1 = (1, 2, 3)\n",
    "tuple2 = (4, 5, 6)\n",
    "concatenated_tuple = tuple1 + tuple2\n",
    "print(concatenated_tuple)"
   ]
  },
  {
   "cell_type": "markdown",
   "metadata": {},
   "source": [
    "Create a tuple of 5 integers, then use slicing to print the first three elements."
   ]
  },
  {
   "cell_type": "code",
   "execution_count": null,
   "metadata": {},
   "outputs": [],
   "source": [
    "integer_tuple = (10, 20, 30, 40, 50)\n",
    "print(integer_tuple[:3])"
   ]
  },
  {
   "cell_type": "markdown",
   "metadata": {},
   "source": [
    "Find and print the index of \"banana\" in the tuple `(\"apple\", \"banana\", \"cherry\", \"date\")`."
   ]
  },
  {
   "cell_type": "code",
   "execution_count": null,
   "metadata": {},
   "outputs": [],
   "source": [
    "fruit_tuple = (\"apple\", \"banana\", \"cherry\", \"date\")\n",
    "banana_index = fruit_tuple.index(\"banana\")\n",
    "print(f\"The index of 'banana' is: {banana_index}\")"
   ]
  },
  {
   "cell_type": "markdown",
   "metadata": {},
   "source": [
    "Create a tuple of tuples containing name and age pairs, then sort and print the tuple based on age."
   ]
  },
  {
   "cell_type": "code",
   "execution_count": null,
   "metadata": {},
   "outputs": [],
   "source": [
    "people = ((\"Alice\", 25), (\"Bob\", 30), (\"Charlie\", 22), (\"David\", 27))\n",
    "sorted_people = tuple(sorted(people, key=lambda x: x[1]))\n",
    "print(sorted_people)"
   ]
  },
  {
   "cell_type": "markdown",
   "metadata": {},
   "source": [
    "Create a tuple of 10 random integers between 1 and 100, then find and print the maximum and minimum values."
   ]
  },
  {
   "cell_type": "code",
   "execution_count": null,
   "metadata": {},
   "outputs": [],
   "source": [
    "import random\n",
    "\n",
    "random_tuple = tuple(random.randint(1, 100) for _ in range(10))\n",
    "print(\"Tuple:\", random_tuple)\n",
    "print(\"Maximum:\", max(random_tuple))\n",
    "print(\"Minimum:\", min(random_tuple))"
   ]
  },
  {
   "cell_type": "markdown",
   "metadata": {},
   "source": [
    "Create two tuples of 5 integers each, then create a new tuple that contains the common elements between them."
   ]
  },
  {
   "cell_type": "code",
   "execution_count": null,
   "metadata": {},
   "outputs": [],
   "source": [
    "tuple1 = (1, 2, 3, 4, 5)\n",
    "tuple2 = (4, 5, 6, 7, 8)\n",
    "common_elements = tuple(set(tuple1) & set(tuple2))\n",
    "print(\"Common elements:\", common_elements)"
   ]
  },
  {
   "cell_type": "markdown",
   "metadata": {},
   "source": [
    "Create a tuple of weekdays, then use a for loop to print each day."
   ]
  },
  {
   "cell_type": "code",
   "execution_count": null,
   "metadata": {},
   "outputs": [],
   "source": [
    "weekdays = (\"Monday\", \"Tuesday\", \"Wednesday\", \"Thursday\", \"Friday\", \"Saturday\", \"Sunday\")\n",
    "for day in weekdays:\n",
    "    print(day)"
   ]
  },
  {
   "cell_type": "markdown",
   "metadata": {},
   "source": [
    "Create a tuple of 5 floats, then calculate and print their average."
   ]
  },
  {
   "cell_type": "code",
   "execution_count": null,
   "metadata": {},
   "outputs": [],
   "source": [
    "float_tuple = (1.5, 2.3, 3.7, 4.1, 5.8)\n",
    "average = sum(float_tuple) / len(float_tuple)\n",
    "print(f\"The average is: {average:.2f}\")"
   ]
  },
  {
   "cell_type": "markdown",
   "metadata": {},
   "source": [
    "Create a tuple of 5 strings, then join them into a single string separated by spaces."
   ]
  },
  {
   "cell_type": "code",
   "execution_count": null,
   "metadata": {},
   "outputs": [],
   "source": [
    "word_tuple = (\"Python\", \"is\", \"a\", \"great\", \"language\")\n",
    "sentence = \" \".join(word_tuple)\n",
    "print(sentence)"
   ]
  },
  {
   "cell_type": "markdown",
   "metadata": {},
   "source": [
    "Create a tuple of tuples representing (x, y) coordinates, then use a list comprehension to create a new tuple with only the coordinates in the first quadrant (x > 0 and y > 0)."
   ]
  },
  {
   "cell_type": "code",
   "execution_count": null,
   "metadata": {},
   "outputs": [],
   "source": [
    "coordinates = ((1, 2), (-3, 4), (5, -6), (7, 8), (-9, -10))\n",
    "first_quadrant = tuple((x, y) for x, y in coordinates if x > 0 and y > 0)\n",
    "print(\"Coordinates in the first quadrant:\", first_quadrant)"
   ]
  },
  {
   "cell_type": "markdown",
   "metadata": {},
   "source": [
    "Create a tuple of 10 integers, then use tuple unpacking to assign the first three numbers to variables a, b, c, and the rest to a list called rest."
   ]
  },
  {
   "cell_type": "code",
   "execution_count": null,
   "metadata": {},
   "outputs": [],
   "source": [
    "numbers = (1, 2, 3, 4, 5, 6, 7, 8, 9, 10)\n",
    "a, b, c, *rest = numbers\n",
    "print(f\"a = {a}, b = {b}, c = {c}\")\n",
    "print(f\"rest = {rest}\")"
   ]
  },
  {
   "cell_type": "markdown",
   "metadata": {},
   "source": [
    "Create a tuple of 5 complex numbers, then create a new tuple containing only their real parts."
   ]
  },
  {
   "cell_type": "code",
   "execution_count": null,
   "metadata": {},
   "outputs": [],
   "source": [
    "complex_tuple = (1+2j, 3-4j, 5+6j, 7-8j, 9+10j)\n",
    "real_parts = tuple(c.real for c in complex_tuple)\n",
    "print(\"Real parts:\", real_parts)"
   ]
  },
  {
   "cell_type": "markdown",
   "metadata": {},
   "source": [
    "Create a tuple of 5 boolean values, then use the all() and any() functions to check if all values are True and if any value is True, respectively."
   ]
  },
  {
   "cell_type": "code",
   "execution_count": null,
   "metadata": {},
   "outputs": [],
   "source": [
    "bool_tuple = (True, False, True, True, False)\n",
    "print(\"All values are True:\", all(bool_tuple))\n",
    "print(\"Any value is True:\", any(bool_tuple))"
   ]
  }
 ],
 "metadata": {
  "kernelspec": {
   "display_name": "Python 3",
   "language": "python",
   "name": "python3"
  },
  "language_info": {
   "codemirror_mode": {
    "name": "ipython",
    "version": 3
   },
   "file_extension": ".py",
   "mimetype": "text/x-python",
   "name": "python",
   "nbconvert_exporter": "python",
   "pygments_lexer": "ipython3",
   "version": "3.8.5"
  }
 },
 "nbformat": 4,
 "nbformat_minor": 4
}
