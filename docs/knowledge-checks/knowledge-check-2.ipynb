{
    "cells": [
        {
            "cell_type": "markdown",
            "metadata": {},
            "source": [
                "# Knowledge Check 2"
            ]
        },
        {
            "cell_type": "markdown",
            "metadata": {},
            "source": [
                "1. Complete this statement regarding mutability: Lists are ____________ while tuples are ____________."
            ]
        },
        {
            "cell_type": "markdown",
            "metadata": {},
            "source": [
                "2. Consider the following code:\n",
                "\n",
                "   ```python\n",
                "   coffee = ['pumpkin spice', 'pistachio', 'normal', 'decaf']\n",
                "   ```\n",
                "   Match the results of the index to the output:\n",
                "   - `coffee[-1]`\n",
                "   - `coffee[0]`\n",
                "   - `coffee[:0]`\n",
                "   - `coffee[:-2]`\n",
                "\n",
                "   Options:\n",
                "   - decaf\n",
                "   - pumpkin spice\n",
                "   - []\n",
                "   - ['pumpkin spice', 'pistachio']"
            ]
        },
        {
            "cell_type": "markdown",
            "metadata": {},
            "source": [
                "3. Consider the matrix defined by the following nested list:\n",
                "\n",
                "   ```python\n",
                "   matrix = [[9,0,1],[3,3,2],[7,8,3]]\n",
                "   ```\n",
                "\n",
                "   Fill in the indices that will return the first element of the third row:\n",
                "   \n",
                "   ```python\n",
                "   matrix[__][__]\n",
                "   ```"
            ]
        },
        {
            "cell_type": "markdown",
            "metadata": {},
            "source": [
                "4. The `zip()` function takes two or more lists and merges them. The return type of the function is what? _____________"
            ]
        },
        {
            "cell_type": "markdown",
            "metadata": {},
            "source": [
                "5. Consider the following code:\n",
                "   ```python\n",
                "   money_in_stocks = [500, 1, 200, 4700]\n",
                "   stock_tickers = ['TSLA', 'ME', 'ADBE', 'LLY']\n",
                "   combined = list(zip(money_in_stocks, stock_tickers))\n",
                "   ```\n",
                "   Which statement correctly squares my investments? (resulting in `rich = [250000, 1, 40000, 22090000]`)\n",
                "\n",
                "   - [ ] `rich = [i[0]**2 for i in combined]`\n",
                "   - [ ] `rich = [i**2 for x[0] in combined]`\n",
                "   - [ ] `rich = = [i[0]^2 for i in combined]`\n",
                "   - [ ] `rich = [i^2 for x[0] in combined]`"
            ]
        },
        {
            "cell_type": "markdown",
            "metadata": {},
            "source": [
                "6. Are list slices deep or shallow?"
            ]
        },
        {
            "cell_type": "markdown",
            "metadata": {},
            "source": [
                "7. Match the command to the action:\n",
                "   - `list.append(x)`\n",
                "   - `list.pop()`\n",
                "   - `list.remove(x)`\n",
                "\n",
                "   Options:\n",
                "   - Adds x to the end of the list.\n",
                "   - Remove the last element of the list.\n",
                "   - Remove the first item from the list whose value is x."
            ]
        },
        {
            "cell_type": "markdown",
            "metadata": {},
            "source": [
                "8. ```python\n",
                "   og_list = ['c', 'b', [53, 21], 40, 'a']\n",
                "   copied = og_list.copy()\n",
                "   ```\n",
                "   If I do a shallow copy of the og_list, which of the following have different addresses?\n",
                "   \n",
                "   - [ ] List objects\n",
                "   - [ ] Element 3: [53, 21]\n",
                "   - [ ] Element 3, inner 1 and 2: 53 and 21\n",
                "   - [ ] Element 4: 40"
            ]
        },
        {
            "cell_type": "markdown",
            "metadata": {},
            "source": [
                "9. Which of the following are mutable?\n",
                "\n",
                "   - [ ] strings\n",
                "   - [ ] dictionaries\n",
                "   - [ ] numbers\n",
                "   - [ ] tuples"
            ]
        },
        {
            "cell_type": "markdown",
            "metadata": {},
            "source": [
                "10. What function creates a new object and recursively inserts copies into it of the objects found in the original?"
            ]
        },
        {
            "cell_type": "markdown",
            "metadata": {},
            "source": [
                "11. If you modify an immutable object in either the original or the copied list, the change will be reflected in both lists.\n",
                "\n",
                "\n",
                "    - [ ] True\n",
                "    - [ ] False"
            ]
        },
        {
            "cell_type": "markdown",
            "metadata": {},
            "source": [
                "12. Can you access a tuple element by index?\n",
                "\n",
                "    - [ ] Yep\n",
                "    - [ ] No"
            ]
        },
        {
            "cell_type": "markdown",
            "metadata": {},
            "source": [
                "13. The memory addresses for two list objects are shown below. No modifications to the list were made after the copy operation. Was the copy operation a deep copy or shallow copy?\n",
                "\n",
                "    ```\n",
                "    List objs: 1007dc940 1008c4900 False\n",
                "    Element 1: 1015c22a0 1015c22a0 True\n",
                "    Element 2: 1015c1f00 1015c1f00 True\n",
                "    Element 3: 1007dd040 1007dcac0 False\n",
                "    - Inner 1: 1015b9e38 1015b9e38 True\n",
                "    - Inner 2: 1015b9a38 1015b9a38 True\n",
                "    Element 4: 1015b9c98 1015b9c98 True\n",
                "    Element 5: 1015c1ae0 1015c1ae0 True\n",
                "    ```\n",
                "\n",
                "    - [ ] deep\n",
                "    - [ ] shallow"
            ]
        },
        {
            "cell_type": "markdown",
            "metadata": {},
            "source": [
                "14. Consider the following statement about list copying in Python:\n",
                "    You modify a mutable object (sometime referred to as shared objects) within either the original list or a copied list, and the change was not reflected in the other list. \n",
                "\n",
                "    Which of the following statements correctly explains why this statement is true or false?\n",
                "\n",
                "    - [ ] Deep copying creates new objects for all nested elements, preventing changes from affecting both lists\n",
                "    - [ ] Shallow copying creates new objects for the top-level elements, but nested mutable objects still share references.\n",
                "    - [ ] Both the original and copied lists reference the same memory addresses for all elements."
            ]
        },
        {
            "cell_type": "markdown",
            "metadata": {},
            "source": [
                "15. When defining a function, the input variables are called the __________ of the function."
            ]
        },
        {
            "cell_type": "markdown",
            "metadata": {},
            "source": [
                "16. When calling a function, what term is used to describe the values passed to the function when it is called?\n",
                "\n",
                "    - [ ] argument\n",
                "    - [ ] parameters\n",
                "    - [ ] domain"
            ]
        },
        {
            "cell_type": "markdown",
            "metadata": {},
            "source": [
                "17. When `calculate_letter_grade` is called, every parameter is replaced by an argument, the actual value. True or false?\n",
                "\n",
                "    ```python\n",
                "    grade_percent = 98\n",
                "    letter_grade = calculate_letter_grade(grade_percent)\n",
                "    ```\n",
                "\n",
                "    - [ ] True\n",
                "    - [ ] False"
            ]
        },
        {
            "cell_type": "markdown",
            "metadata": {},
            "source": [
                "18. If a function has no return statement, it returns what?\n",
                "\n",
                "    - [ ] None\n",
                "    - [ ] 0\n",
                "    - [ ] NaN\n",
                "    - [ ] null"
            ]
        },
        {
            "cell_type": "markdown",
            "metadata": {},
            "source": [
                "19. In Python, functions are __________.\n",
                "\n",
                "    - [ ] objects\n",
                "    - [ ] articles\n",
                "    - [ ] things\n",
                "    - [ ] items"
            ]
        },
        {
            "cell_type": "markdown",
            "metadata": {},
            "source": [
                "20. True or false: Functions can be used as arguments just like other objects.\n",
                "\n",
                "    - [ ] True\n",
                "    - [ ] False\n",
                "    "
            ]
        },
        {
            "cell_type": "markdown",
            "metadata": {},
            "source": [
                "21. Which of the following is **not** a purpose of python decorators?\n",
                "\n",
                "    - [ ] Make my program pretty\n",
                "    - [ ] add functionality\n",
                "    - [ ] increase readability"
            ]
        },
        {
            "cell_type": "markdown",
            "metadata": {},
            "source": [
                "22. Dictionaries are unordered sets of pairs. You access dictionary data by what?\n",
                "\n",
                "    - [ ] key\n",
                "    - [ ] index\n",
                "    - [ ] cell"
            ]
        },
        {
            "cell_type": "markdown",
            "metadata": {},
            "source": [
                "23. Which of the following is **not** a native type in Python?\n",
                "    a) matrix\n",
                "    b) float\n",
                "    c) bool\n",
                "    d) dict"
            ]
        },
        {
            "cell_type": "markdown",
            "metadata": {},
            "source": [
                "24. What is the index variable here?\n",
                "    ```python\n",
                "    >>> x = [4,5,6]\n",
                "    >>> for k, element in enumerate(x):\n",
                "    ...     print(k,element)\n",
                "    ```"
            ]
        },
        {
            "cell_type": "markdown",
            "metadata": {},
            "source": [
                "25. What is used to define a set?\n",
                "\n",
                "    - [ ] {}\n",
                "    - [ ] ()\n",
                "    - [ ] []\n",
                "    - [ ] ||"
            ]
        },
        {
            "cell_type": "markdown",
            "metadata": {},
            "source": [
                "26. Are there duplicates when you union two sets?\n",
                "\n",
                "    Example:\n",
                "    ```python\n",
                "    A = {1, 9.0, 7}\n",
                "    B = {4.5, 8, 7}\n",
                "    print(A.union(B))\n",
                "    ```\n",
                "    \n",
                "    - [ ] No\n",
                "    - [ ] Yes"
            ]
        },
        {
            "cell_type": "markdown",
            "metadata": {},
            "source": [
                "27. How would you compute A ∩ B in python?\n",
                "\n",
                "    - [ ] A.intersection(B)\n",
                "    - [ ] A.symmetric_difference(B)\n",
                "    - [ ] A.int(B)"
            ]
        },
        {
            "cell_type": "markdown",
            "metadata": {},
            "source": [
                "28. In Python, a dictionary element has both a _____________ and __________."
            ]
        },
        {
            "cell_type": "markdown",
            "metadata": {},
            "source": [
                "29. Is \"vacuous\" a key or value?\n",
                "\n",
                "    ```python\n",
                "    dictionary = {\n",
                "        \"vacuous\": \"having or showing a lack of thought or intelligence; mindless.\",\n",
                "        \"apocryphal\": \" of doubtful authenticity\",\n",
                "        \"Machiavellian\": \"devious\"\n",
                "    }\n",
                "    ```"
            ]
        },
        {
            "cell_type": "markdown",
            "metadata": {},
            "source": [
                "30. Sets in Python can contain all kinds of immutable objects (numeric objects, strings, and Booleans)\n",
                "\n",
                "    - [ ] True\n",
                "    - [ ] False"
            ]
        },
        {
            "cell_type": "markdown",
            "metadata": {},
            "source": [
                "31. Are dictionaries in python accessed by index or key?"
            ]
        },
        {
            "cell_type": "markdown",
            "metadata": {},
            "source": [
                "32. What is the type resulting from this conversion of a dictionary?\n",
                "\n",
                "    ```python\n",
                "    {'number_of_pets':4}.values()\n",
                "    ```\n",
                "\n",
                "    - [ ] list\n",
                "    - [ ] array\n",
                "    - [ ] tuple\n",
                "    - [ ] set"
            ]
        },
        {
            "cell_type": "markdown",
            "metadata": {},
            "source": [
                "33. To access an element of a vector, we need one index, while an element of a matrix is addressed by two indexes\n",
                "\n",
                "    - [ ] True\n",
                "    - [ ] False"
            ]
        },
        {
            "cell_type": "markdown",
            "metadata": {},
            "source": [
                "34. Two lists can be concatenated using what operator?  ________"
            ]
        },
        {
            "cell_type": "markdown",
            "metadata": {},
            "source": [
                "35. Lists can store elements of one type.\n",
                "    \n",
                "    - [ ] True\n",
                "    - [ ] False"
            ]
        },
        {
            "cell_type": "markdown",
            "metadata": {},
            "source": [
                "36. If an object cannot be modified, which of the following describe it?\n",
                "\n",
                "    - [ ] mutable\n",
                "    - [ ] immutable\n",
                "    - [ ] static"
            ]
        },
        {
            "cell_type": "markdown",
            "metadata": {},
            "source": [
                "37. Will `x` have different addresses? (think about integers' immutability, and reassignment versus modification)\n",
                "    ```python\n",
                "    x = 5 # init value of x\n",
                "    print(f\"init address of x:  {id(x)}\")\n",
                "\n",
                "    x = x + 1 # updated value of x\n",
                "    print(f\"after updating x: {id(x)}\")\n",
                "    ```\n",
                "    - [ ] Yes\n",
                "    - [ ] No"
            ]
        },
        {
            "cell_type": "markdown",
            "metadata": {},
            "source": [
                "38. Choose all that apply: Which of the following can be used as dictionary keys?\n",
                "\n",
                "    - [ ] integers\n",
                "    - [ ] strings\n",
                "    - [ ] tuples\n",
                "    - [ ] lists"
            ]
        },
        {
            "cell_type": "markdown",
            "metadata": {},
            "source": [
                "39. Fill in the blank: The average time complexity for dictionary operations (insert, delete, lookup) is O(___)."
            ]
        },
        {
            "cell_type": "markdown",
            "metadata": {},
            "source": [
                "40. Fill in the blank: To remove and return the last element from a list, use the ________ method."
            ]
        },
        {
            "cell_type": "markdown",
            "metadata": {},
            "source": [
                "41. Fill in the blank: The time complexity of accessing an element in a list by index is O(___)."
            ]
        },
        {
            "cell_type": "markdown",
            "metadata": {},
            "source": [
                "42. Select all that apply: Which of the characteristics describe tuples?\n",
                "\n",
                "    - [ ] immutable\n",
                "    - [ ] unordered\n",
                "    - [ ] elements can be referenced by index\n",
                "    - [ ] can be used in sets"
            ]
        },
        {
            "cell_type": "markdown",
            "metadata": {},
            "source": [
                "43. What does this return?\n",
                "\n",
                "    ```python\n",
                "    isinstance(3.24, int)\n",
                "    ```"
            ]
        },
        {
            "cell_type": "markdown",
            "metadata": {},
            "source": [
                "44. Select all that apply: What are the advantages of using frozen sets?\n",
                "\n",
                "    - [ ] They can be used as dictionary keys\n",
                "    - [ ] They are hashable\n",
                "    - [ ] They can be modified after creation\n",
                "    - [ ] They can be elements of other sets"
            ]
        },
        {
            "cell_type": "markdown",
            "metadata": {},
            "source": [
                "45. Write a constructor method used to create an empty set in Python?"
            ]
        },
        {
            "cell_type": "markdown",
            "metadata": {},
            "source": [
                "46. How would you check if x is an integer?\n",
                "\n",
                "    - [ ] x=int\n",
                "    - [ ] x(isinstance(integer))\n",
                "    - [ ] x == type(integer)\n",
                "    - [ ] isinstance(x,int)"
            ]
        },
        {
            "cell_type": "markdown",
            "metadata": {},
            "source": [
                "47. To safely get a value from a dictionary with a default if the key doesn't exist, use the ________ method"
            ]
        },
        {
            "cell_type": "markdown",
            "metadata": {},
            "source": [
                "48. Which of the following methods modify a list in-place?\n",
                "\n",
                "    - [ ] sort()\n",
                "    - [ ] reverse()\n",
                "    - [ ] append()\n",
                "    - [ ] extend()"
            ]
        },
        {
            "cell_type": "markdown",
            "metadata": {},
            "source": [
                "49. Python dictionaries are considered hash tables?\n",
                "\n",
                "    - [ ] True\n",
                "    - [ ] False"
            ]
        },
        {
            "cell_type": "markdown",
            "metadata": {},
            "source": [
                "50. Which of the following methods is not available for frozen sets?\n",
                "\n",
                "    - [ ] intersection()\n",
                "    - [ ] union()\n",
                "    - [ ] add()\n",
                "    - [ ] is subset()"
            ]
        }
    ],
    "metadata": {
        "kernelspec": {
            "display_name": "Python 3",
            "language": "python",
            "name": "python3"
        },
        "language_info": {
            "codemirror_mode": {
                "name": "ipython",
                "version": 3
            },
            "file_extension": ".py",
            "mimetype": "text/x-python",
            "name": "python",
            "nbconvert_exporter": "python",
            "pygments_lexer": "ipython3",
            "version": "3.8.5"
        }
    },
    "nbformat": 4,
    "nbformat_minor": 4
}
