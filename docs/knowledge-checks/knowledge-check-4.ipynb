{
 "cells": [
  {
   "cell_type": "markdown",
   "metadata": {},
   "source": [
    "# Knowledge Check 4"
   ]
  },
  {
   "cell_type": "markdown",
   "metadata": {},
   "source": [
    "1. Which of the following are true regarding objects? (Select all that apply)\n",
    "\n",
    "   A. [ ] an object is an instance of a class <br>\n",
    "   B. [ ] an object can have its unique set of attribute values <br>\n",
    "   C. [ ] an object can only have one function"
   ]
  },
  {
   "cell_type": "markdown",
   "metadata": {},
   "source": [
    "2. What is the special method that is automatically called when a new instance of a class is created, allowing you to initialize the attributes of the class?\n",
    "\n",
    "    ```python\n",
    "    class Dog:\n",
    "        def _________(self, name, breed):\n",
    "            self.name = name\n",
    "            self.breed = breed\n",
    "    ```\n"
   ]
  },
  {
   "cell_type": "markdown",
   "metadata": {},
   "source": [
    "3. For the code below, we call the variables `genus` and `species` _____________ of the instance, `instance_of_Fungi_class`.\n",
    "\n",
    "    ```python\n",
    "    class Fungi:\n",
    "        def __init__(self, genus, species):\n",
    "            self.genus = genus\n",
    "            self.species = species\n",
    "\n",
    "    instance_of_Fungi_class = Fungi(\"Agaricus\", \"bisporus\") #instantiate \n",
    "    print(f\"{instance_of_Fungi_class.genus}\")\n",
    "    ```\n"
   ]
  },
  {
   "cell_type": "markdown",
   "metadata": {},
   "source": [
    "4. Fill in the missing parameter in the method definition.\n",
    "\n",
    "    ```python\n",
    "    class Fungi:\n",
    "        def __init__(self, genus, species):\n",
    "            self.genus = genus\n",
    "            self.species = species\n",
    "            self.favorite_fungi = {}\n",
    "        \n",
    "        def add_fungus(_______, fungus_species, common_name):\n",
    "            self.favorite_fungi[fungus_species] = common_name\n",
    "\n",
    "    deadly_fungus = Fungi(\"Amanita\", \"ocreata\") \n",
    "    deadly_fungus.add_fungus(deadly_fungus.species, \"Destroying Angel\")\n",
    "    print(f\"favorite_fungi: {deadly_fungus.favorite_fungi}\")\n",
    "    ```"
   ]
  },
  {
   "cell_type": "markdown",
   "metadata": {},
   "source": [
    "5. Which of the following are true about the bolded line of code: (Select all that apply)\n",
    "\n",
    "    ```python\n",
    "    class Fungi:\n",
    "        def __init__(self, genus, species):\n",
    "            self.genus = genus\n",
    "            self.species = species\n",
    "\n",
    "    tasty_fungus = Fungi(\"Agaricus\", \"bisporus\") \n",
    "    print(f\"{tasty_fungus.genus}\")\n",
    "    ```\n",
    "\n",
    "   A. [ ] this is object instantiation <br>\n",
    "   B. [ ] the __init__ function is invoked <br>\n",
    "   C. [ ] you forgot to explicitly pass \"self\". It should be tasty_fungus = Fungi(self, \"Agaricus\", \"bisporus\")"
   ]
  },
  {
   "cell_type": "markdown",
   "metadata": {},
   "source": [
    "6. We use dot notation to access both attributes and call methods on instances of classes.\n",
    "\n",
    "   [ ] True <br>\n",
    "   [ ] False"
   ]
  },
  {
   "cell_type": "markdown",
   "metadata": {},
   "source": [
    "7. You're working on a `Fungi` class to catalog different species of fungi. You've noticed that the `favorite_fungi` dictionary is currently an instance attribute, which means each `Fungi` object has its own separate dictionary. However, you want to maintain a single shared dictionary across all instances of the `Fungi` class.\n",
    "\n",
    "    ```python\n",
    "    class Fungi:\n",
    "        def __init__(self, genus, species):\n",
    "            self.genus = genus\n",
    "            self.species = species\n",
    "            self.favorite_fungi = {}  # This is currently an instance attribute\n",
    "        \n",
    "        def add_fungus(self, fungus_species, common_name):\n",
    "            self.favorite_fungi[fungus_species] = common_name\n",
    "\n",
    "    # Creating instances\n",
    "    tasty_fungus = Fungi(\"Agaricus\", \"bisporus\")\n",
    "    tasty_fungus.add_fungus(tasty_fungus.species, \"Portobello\")\n",
    "    print(f\"tasty_fungus favorite_fungi: {tasty_fungus.favorite_fungi}\")\n",
    "\n",
    "    deadly_fungus = Fungi(\"Amanita\", \"ocreata\")\n",
    "    deadly_fungus.add_fungus(deadly_fungus.species, \"Destroying Angel\")\n",
    "    print(f\"deadly_fungus favorite_fungi: {deadly_fungus.favorite_fungi}\")\n",
    "    ```\n",
    "\n",
    "   Which of the following would solve this problem? (Select all that apply)\n",
    "\n",
    "   A. [ ] Use a global variable <br>\n",
    "   B. [ ] Make favorite_fungi a class variable <br>\n",
    "   C. [ ] Use a static method"
   ]
  },
  {
   "cell_type": "markdown",
   "metadata": {},
   "source": [
    "8. For instance methods, what is always the first parameter?\n"
   ]
  },
  {
   "cell_type": "markdown",
   "metadata": {},
   "source": [
    "9. Instance methods always begin with __init__\n",
    "\n",
    "   [ ] True <br>\n",
    "   [ ] False"
   ]
  },
  {
   "cell_type": "markdown",
   "metadata": {},
   "source": [
    "10. Select the correct statement regarding class methods:\n",
    "\n",
    "    A. [ ] Class methods are always bound to the class and can be called on both the class and its instances. <br>\n",
    "    B. [ ] Class methods are unbound and can only be called on the class itself, not on instances. <br>\n",
    "    C. [ ] Class methods are bound to instances and can only be called on instances of the class. <br>\n",
    "    D. [ ] Class methods are dynamically bound at runtime and can change their binding."
   ]
  },
  {
   "cell_type": "markdown",
   "metadata": {},
   "source": [
    "11. To indicate that a method is a class method, what is the decorator line that precedes the method definition?"
   ]
  },
  {
   "cell_type": "markdown",
   "metadata": {},
   "source": [
    "12. Attributes specified in the class declaration are called ______ attributes."
   ]
  },
  {
   "cell_type": "markdown",
   "metadata": {},
   "source": [
    "13. OOP is a programming approach that organizes code around objects.\n",
    "\n",
    "    [ ] True <br>\n",
    "    [ ] False"
   ]
  },
  {
   "cell_type": "markdown",
   "metadata": {},
   "source": [
    "14. Objects are used to represent entities with both characteristics and behaviors. Which of the following statements most accurately describes the relationship between attributes and data:\n",
    "\n",
    "     A. [ ] Attributes are external variables that are passed to the object's methods. <br>\n",
    "     B. [ ] Attributes are synonymous with class methods and cannot store data. <br>\n",
    "     C. [ ] Attributes are the data stored within the object, representing its state or characteristics. <br>\n",
    "     D. [ ] Attributes are the methods that operate on the object's data."
   ]
  },
  {
   "cell_type": "markdown",
   "metadata": {},
   "source": [
    "15. Match the programming paradigm to the description:\n",
    "\n",
    "    Term: \n",
    "    - Procedural Programming <br>\n",
    "    - Functional Programming <br>\n",
    "    - Object-Oriented Programming <br>\n",
    "\n",
    "    Meaning:\n",
    "    - Step-by-step instructions <br>\n",
    "    - Functions to solve problems <br>\n",
    "    - Objects with data and methods\n"
   ]
  },
  {
   "cell_type": "markdown",
   "metadata": {},
   "source": [
    "16. ____________ is a core concept of OOP about creating new classes from existing ones."
   ]
  },
  {
   "cell_type": "markdown",
   "metadata": {},
   "source": [
    "17. ____________ is a core concept of OOP about hiding complex details."
   ]
  },
  {
   "cell_type": "markdown",
   "metadata": {},
   "source": [
    "18. Which of the following are benefits of OOP? (Select all that apply)\n",
    "\n",
    "    A. [ ] Modularity <br>\n",
    "    B. [ ] Maintainability <br>\n",
    "    C. [ ] Complexity"
   ]
  },
  {
   "cell_type": "markdown",
   "metadata": {},
   "source": [
    "19. You can only instantiate a class object once.\n",
    "\n",
    "    [ ] True <br>\n",
    "    [ ] False"
   ]
  },
  {
   "cell_type": "markdown",
   "metadata": {},
   "source": [
    "20. The `__init__` method is the __________ for a class."
   ]
  },
  {
   "cell_type": "markdown",
   "metadata": {},
   "source": [
    "21. Match the term to the definition:\n",
    "\n",
    "    Term:\n",
    "    - Attributes\n",
    "    - Methods\n",
    "\n",
    "    Meaning:\n",
    "    - Functions that operate on the object's data (behavior)\n",
    "    - Data associated with an object"
   ]
  },
  {
   "cell_type": "markdown",
   "metadata": {},
   "source": [
    "22. We _________ objects from a class to create concrete instances with specific attribute values.\n",
    "\n",
    "    A. [ ] instantiate <br>\n",
    "    B. [ ] concatenate <br>\n",
    "    C. [ ] interpret <br>\n",
    "    D. [ ] syscall"
   ]
  },
  {
   "cell_type": "markdown",
   "metadata": {},
   "source": [
    "23. A class is named `Dog`. We want to access the value of the attribute, `name`, (after instantiation). \n",
    "\n",
    "    Which option is correct to do this? \n",
    "\n",
    "    ```python\n",
    "    class Dog:\n",
    "        def __init__(self, name):\n",
    "            self.name = name\n",
    "    res = Dog(\"Sunday\") # yes like the day, not like Sundae \n",
    "    my_dog_name = ______________\n",
    "    print(my_dog_name)\n",
    "    ```\n",
    "\n",
    "    A. [ ] res.name <br>\n",
    "    B. [ ] Dog.name <br>\n",
    "    C. [ ] res(Dog).name <br>\n",
    "    D. [ ] name(Dog)"
   ]
  },
  {
   "cell_type": "markdown",
   "metadata": {},
   "source": [
    "24. Which of the following are true about **class** attributes? (Select all that apply)\n",
    "\n",
    "    A. [ ] Attributes are shared by all instances of a class <br>\n",
    "    B. [ ] They always accessed with get() <br>\n",
    "    C. [ ] They are defined with the methods of the class <br>\n",
    "    D. [ ] They are defined within the class construction but outside of any method definitions."
   ]
  },
  {
   "cell_type": "markdown",
   "metadata": {},
   "source": [
    "25. Which of the following is a class attribute for this code? \n",
    "\n",
    "    ```python\n",
    "    class Book:\n",
    "        book_count = 0 \n",
    "        def __init__(self, book):\n",
    "            self.book = book\n",
    "            Book.book_count += 1\n",
    "    ```\n",
    "\n",
    "    A. [ ] book_count <br>\n",
    "    B. [ ] book <br>\n",
    "    C. [ ] Book <br>\n",
    "    D. [ ] init"
   ]
  },
  {
   "cell_type": "markdown",
   "metadata": {},
   "source": [
    "26. The bolded and underlined code demonstrates __________ attribute access.\n",
    "\n",
    "    ```python\n",
    "    class Book:\n",
    "        book_count = 0 \n",
    "        def __init__(self, book):\n",
    "            self.book = book\n",
    "            Book.book_count += 1\n",
    "    book1 = Book(\"The Hitchhiker's Guide to the Galaxy\")\n",
    "    book2 = Book(\"The Restaurant at the End of the Universe\")\n",
    "    book3 = Book(\"Life, the Universe and Everything\")\n",
    "    print(book2.book)\n",
    "    print(Book.book_count)\n",
    "    ```\n",
    "\n",
    "    A. [ ] instance <br>\n",
    "    B. [ ] class <br>\n",
    "    C. [ ] API <br>\n",
    "    D. [ ] port"
   ]
  },
  {
   "cell_type": "markdown",
   "metadata": {},
   "source": [
    "27. Which of the following are true about class methods? (Select all that apply)\n",
    "\n",
    "    A. [ ] they that operate on the class itself <br>\n",
    "    B. [ ] they're defined using @classmethod <br>\n",
    "    C. [ ] the first param is cls <br>\n",
    "    D. [ ] the first param is self"
   ]
  },
  {
   "cell_type": "markdown",
   "metadata": {},
   "source": [
    "28. Both class attributes and instance attributes can be modified in class methods.\n",
    "\n",
    "    [ ] True <br>\n",
    "    [ ] False"
   ]
  },
  {
   "cell_type": "markdown",
   "metadata": {},
   "source": [
    "29. A class method is only called on an instance of a class.\n",
    "\n",
    "    [ ] True <br>\n",
    "    [ ] False"
   ]
  },
  {
   "cell_type": "markdown",
   "metadata": {},
   "source": [
    "30. You use the decorator, @___________ to denote static methods."
   ]
  },
  {
   "cell_type": "markdown",
   "metadata": {},
   "source": [
    "31. Is a class method or static method intended to be essentially a utility function? \n",
    "\n",
    "    A. [ ] static <br>\n",
    "    B. [ ] class"
   ]
  },
  {
   "cell_type": "markdown",
   "metadata": {},
   "source": [
    "32. Static methods can access or modify class state. \n",
    "\n",
    "    [ ] True <br>\n",
    "    [ ] False"
   ]
  },
  {
   "cell_type": "markdown",
   "metadata": {},
   "source": [
    "33. Which of the following are reasons to use a class method? (Select all that apply)\n",
    "\n",
    "    A. [ ] When you want the method to be able to modify the class state <br>\n",
    "    B. [ ] When the method is creating instances (factory method) <br>\n",
    "    C. [ ] When defining instance attributes"
   ]
  },
  {
   "cell_type": "markdown",
   "metadata": {},
   "source": [
    "34. Which of the following is a key benefit of using setter methods in object-oriented programming?\n",
    "\n",
    "    A. [ ] They automatically optimize the performance of attribute access. <br>\n",
    "    B. [ ] They allow for data validation, preventing invalid states. <br>\n",
    "    C. [ ] They enable automatic synchronization with external databases. <br>\n",
    "    D. [ ] They provide built-in encryption for sensitive attributes."
   ]
  },
  {
   "cell_type": "markdown",
   "metadata": {},
   "source": [
    "35. When using the @property decorator to create a getter method in Python, you are always required to also implement a corresponding setter method.\n",
    "\n",
    "    [ ] True <br>\n",
    "    [ ] False"
   ]
  },
  {
   "cell_type": "markdown",
   "metadata": {},
   "source": [
    "36. All methods and attributes of the parent class are inherited by the subclasses as long as they are not overridden.\n",
    "\n",
    "    [ ] True <br>\n",
    "    [ ] False"
   ]
  },
  {
   "cell_type": "markdown",
   "metadata": {},
   "source": [
    "37. _________ methods don't operate on instance or class data."
   ]
  },
  {
   "cell_type": "markdown",
   "metadata": {},
   "source": [
    "38. Do static methods have a standard first parameter like instance and class methods? If so which of the following? \n",
    "\n",
    "    A. [ ] No parameters are passed to static methods. <br>\n",
    "    B. [ ] self <br>\n",
    "    C. [ ] cls"
   ]
  },
  {
   "cell_type": "markdown",
   "metadata": {},
   "source": [
    "39. Static methods behave like regular functions but belong to the class namespace.\n",
    "\n",
    "    [ ] True <br>\n",
    "    [ ] False"
   ]
  },
  {
   "cell_type": "markdown",
   "metadata": {},
   "source": [
    "40. Which of the following are limitations of static methods? (Select all that apply)\n",
    "\n",
    "    A. [ ] They don't have access to self and cls <br>\n",
    "    B. [ ] Race conditions are of primary concern <br>\n",
    "    C. [ ] They are detrimental to namespace organization"
   ]
  },
  {
   "cell_type": "markdown",
   "metadata": {},
   "source": [
    "41. In inheritance, the new class, (subclass) inherits attributes and methods from the existing class, called the _________."
   ]
  },
  {
   "cell_type": "markdown",
   "metadata": {},
   "source": [
    "42. The @property decorator in Python is used to:\n",
    "\n",
    "    A. [ ] To make the methods private and inaccessible from outside the class <br>\n",
    "    B. [ ] To allow the methods to be called without parentheses, as if they were attributes <br>\n",
    "    C. [ ] To automatically convert the return values of the methods to properties of the class <br>\n",
    "    D. [ ] To enable method chaining for these particular methods"
   ]
  },
  {
   "cell_type": "markdown",
   "metadata": {},
   "source": [
    "43. The function, ___________() can be used to call methods from the superclass. "
   ]
  },
  {
   "cell_type": "markdown",
   "metadata": {},
   "source": [
    "44. A class can inherit from multiple superclasses.\n",
    "\n",
    "    [ ] True <br>\n",
    "    [ ] False"
   ]
  },
  {
   "cell_type": "markdown",
   "metadata": {},
   "source": [
    "45. Fill in the blank with the correct argument(s) to have the `Bike` class inherit from `Transportation.`\n",
    "\n",
    "    ```python\n",
    "    class Transportation:\n",
    "        def __init__(self, action):\n",
    "            self.action = action\n",
    "\n",
    "        def does(self):\n",
    "            pass\n",
    "\n",
    "    class Bike(_____________):\n",
    "        def does(self):\n",
    "            return f\"{self.action} cycles\" \n",
    "\n",
    "    bike = Bike(\"Andrew\")\n",
    "    print(bike.does()) \n",
    "    ```"
   ]
  },
  {
   "cell_type": "markdown",
   "metadata": {},
   "source": [
    "46. You can only define a method once in a subclass that already exists in the superclass\n",
    "\n",
    "    [ ] True <br>\n",
    "    [ ] False"
   ]
  },
  {
   "cell_type": "markdown",
   "metadata": {},
   "source": [
    "47. Match the term to the type of relationship:\n",
    "\n",
    "    Term:\n",
    "    - inheritance\n",
    "    - composition\n",
    "\n",
    "    Meaning:\n",
    "    - is-a\n",
    "    - has-a"
   ]
  },
  {
   "cell_type": "markdown",
   "metadata": {},
   "source": [
    "48. Composition often provides more flexibility than inheritance.\n",
    "\n",
    "    [ ] True <br>\n",
    "    [ ] False"
   ]
  },
  {
   "cell_type": "markdown",
   "metadata": {},
   "source": [
    "49. A best practice for inheritance is to use _______ _______ classes to define interfaces.  (2 words)"
   ]
  }
 ],
 "metadata": {
  "kernelspec": {
   "display_name": "Python 3",
   "language": "python",
   "name": "python3"
  },
  "language_info": {
   "codemirror_mode": {
    "name": "ipython",
    "version": 3
   },
   "file_extension": ".py",
   "mimetype": "text/x-python",
   "name": "python",
   "nbconvert_exporter": "python",
   "pygments_lexer": "ipython3",
   "version": "3.8.5"
  }
 },
 "nbformat": 4,
 "nbformat_minor": 4
}
