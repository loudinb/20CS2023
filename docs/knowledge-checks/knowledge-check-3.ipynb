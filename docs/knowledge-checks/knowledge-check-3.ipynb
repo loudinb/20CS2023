{
  "cells": [
    {
      "cell_type": "markdown",
      "metadata": {},
      "source": [
        "# Knowledge Check 3"
      ]
    },
    {
      "cell_type": "markdown",
      "metadata": {},
      "source": [
        "1. What keyword is used to indicate we are defining a function?"
      ]
    },
    {
      "cell_type": "markdown",
      "metadata": {},
      "source": [
        "2. Which statement expresses that a function maps elements from the domain to the range? \n",
        "\n",
        "    - [ ] f: D→R\n",
        "    - [ ] f(D,R)\n",
        "    - [ ] f: D==R"
      ]
    },
    {
      "cell_type": "markdown",
      "metadata": {},
      "source": [
        "3. Anonymous functions in python are defined with what keyword? "
      ]
    },
    {
      "cell_type": "markdown",
      "metadata": {},
      "source": [
        "4. Arguments can be passed only by position.\n",
        "\n",
        "    - [ ] True\n",
        "    - [ ] False"
      ]
    },
    {
      "cell_type": "markdown",
      "metadata": {},
      "source": [
        "5. This is an example of passing arguments by _____________.\n",
        "\n",
        "    ```python\n",
        "    def mess(name, message):\n",
        "        print(f\"To {name}, {message}\")\n",
        "\n",
        "    mess(message=\"Happy Fall\", name=\"You\")\n",
        "    ```"
      ]
    },
    {
      "cell_type": "markdown",
      "metadata": {},
      "source": [
        "6. This is an example of passing arguments by _____________.\n",
        "\n",
        "    ```python\n",
        "    def mess(name, message):\n",
        "        print(f\"To {name}, {message}\")\n",
        "\n",
        "    mess(\"You\", \"Happy Fall\")\n",
        "    ```"
      ]
    },
    {
      "cell_type": "markdown",
      "metadata": {},
      "source": [
        "7. Passing mutable input arguments to a function and changing them inside the function can change them outside the function too.\n",
        "\n",
        "    - [ ] True\n",
        "    - [ ] False"
      ]
    },
    {
      "cell_type": "markdown",
      "metadata": {},
      "source": [
        "8. Which of the following is an example of assigning a default value to a parameter in this function? \n",
        "\n",
        "    ```python\n",
        "    def add(__________):\n",
        "        return x1 + x2\n",
        "    ```\n",
        "\n",
        "    - [ ] x1, x2=0\n",
        "    - [ ] x1:0, x2\n",
        "    - [ ] x1, x2"
      ]
    },
    {
      "cell_type": "markdown",
      "metadata": {},
      "source": [
        "9. All keyword arguments are not needed as long as those omitted arguments have default values in the function definition.\n",
        "\n",
        "    - [ ] True\n",
        "    - [ ] False"
      ]
    },
    {
      "cell_type": "markdown",
      "metadata": {},
      "source": [
        "10. What operator is used to unpack a list or tuple? "
      ]
    },
    {
      "cell_type": "markdown",
      "metadata": {},
      "source": [
        "11. You don't know how many people will attend your club meeting, but you want to make a record of who attended by passing names through our function. Fill in the blank to unpack the arguments. \n",
        "\n",
        "    ```python\n",
        "    def record_attendance(meeting_date, _______):\n",
        "        # could save the data somewhere\n",
        "        print(\"meeting_date: \", meeting_date)\n",
        "        print(\"People who attended: \", args)\n",
        "\n",
        "    # after the meeting, we pass our arguments\n",
        "    record_attendance(\"9/8\", \"Jonathan\", \"Andrew\", \"Matthew\", \"Megan\")\n",
        "    ```\n",
        "\n",
        "    returns: \n",
        "\n",
        "    ```\n",
        "    meeting_date:  9/8\n",
        "    People who attended:  ('Jonathan', 'Andrew', 'Matthew', 'Megan')\n",
        "    ```"
      ]
    },
    {
      "cell_type": "markdown",
      "metadata": {},
      "source": [
        "12. Match to the purpose \n",
        "\n",
        "    *args\n",
        "    - [ ] collects positional arguments\n",
        "    - [ ] collects keyword arguments\n",
        "\n",
        "    *kwargs\n",
        "    - [ ] collects positional arguments\n",
        "    - [ ] collects keyword arguments"
      ]
    },
    {
      "cell_type": "markdown",
      "metadata": {},
      "source": [
        "13. What is the documentation called when it is below a function is denoted with ```\"\"\"```?"
      ]
    },
    {
      "cell_type": "markdown",
      "metadata": {},
      "source": [
        "14. You can pass functions as arguments, rename them, or delete them.\n",
        "\n",
        "    - [ ] True\n",
        "    - [ ] False"
      ]
    },
    {
      "cell_type": "markdown",
      "metadata": {},
      "source": [
        "15. Which of the following are true about lambda functions?\n",
        "\n",
        "    - [ ] They are single-expression functions that encapsulate one logical operation,\n",
        "    - [ ] You can assign it to a variable name\n",
        "    - [ ] The def keyword is necessary\n",
        "    - [ ] lambda functions are always used as decorators"
      ]
    },
    {
      "cell_type": "markdown",
      "metadata": {},
      "source": [
        "16. You want to add some functionality to boring_house() by implementing a decorator. What code is missing?\n",
        "\n",
        "    ```python\n",
        "    def landscape(house):\n",
        "        print(f\"Before landscaping: {house()}\")\n",
        "        def add_lanscaping():\n",
        "            print(f\"After adding landscaping 🌳{house()}🌾🪻🌳\" )\n",
        "        return add_lanscaping\n",
        "\n",
        "    def boring_house():\n",
        "        return \"🏠\"\n",
        "\n",
        "    boring_house()\n",
        "    ```\n",
        "\n",
        "    Returns: \n",
        "\n",
        "    ```\n",
        "    Before landscaping: 🏠\n",
        "    After adding landscaping 🌳🏠🌾🪻🌳\n",
        "    ```"
      ]
    },
    {
      "cell_type": "markdown",
      "metadata": {},
      "source": [
        "17. A function that calls itself is called a(n) ____________ function."
      ]
    },
    {
      "cell_type": "markdown",
      "metadata": {},
      "source": [
        "18. The number of levels passed by the execution of a recursive function is called the ________ ________."
      ]
    },
    {
      "cell_type": "markdown",
      "metadata": {},
      "source": [
        "19. Which of the following are iterable objects?\n",
        "\n",
        "    - [ ] lists\n",
        "    - [ ] tuples\n",
        "    - [ ] strings\n",
        "    - [ ] dictionaries"
      ]
    },
    {
      "cell_type": "markdown",
      "metadata": {},
      "source": [
        "20. What is the value of x before the break condition occurs? \n",
        "\n",
        "    ```python\n",
        "    for x in range (0,10):\n",
        "        print(f\"x: {x}\")\n",
        "        if x >=3:\n",
        "            break\n",
        "    ```"
      ]
    },
    {
      "cell_type": "markdown",
      "metadata": {},
      "source": [
        "21. What function do you use on an iterable if you'd like keep the index for each element when iterating through it? "
      ]
    },
    {
      "cell_type": "markdown",
      "metadata": {},
      "source": [
        "22. Which of the following are valid iterator tools?\n",
        "\n",
        "    - [ ] enumerate\n",
        "    - [ ] reversed\n",
        "    - [ ] parse\n",
        "    - [ ] split"
      ]
    },
    {
      "cell_type": "markdown",
      "metadata": {},
      "source": [
        "23. What logical comparison operator do you use to compare two values?"
      ]
    },
    {
      "cell_type": "markdown",
      "metadata": {},
      "source": [
        "24. When performing comparisons in Python using operators like `==`, `>=`, `>`, `!=`, `<`, and `<=`, the result of the evaluation is always of what type?"
      ]
    },
    {
      "cell_type": "markdown",
      "metadata": {},
      "source": [
        "25. Match the operator to the description. \n",
        "\n",
        "    `<=`\n",
        "    - [ ] less than or equal to\n",
        "    - [ ] not equal to\n",
        "    - [ ] equal to\n",
        "    - [ ] greater than\n",
        "\n",
        "    `!=`\n",
        "    - [ ] less than or equal to\n",
        "    - [ ] not equal to\n",
        "    - [ ] equal to\n",
        "    - [ ] greater than\n",
        "\n",
        "    `==`\n",
        "    - [ ] less than or equal to\n",
        "    - [ ] not equal to\n",
        "    - [ ] equal to\n",
        "    - [ ] greater than\n",
        "\n",
        "    `>`\n",
        "    - [ ] less than or equal to\n",
        "    - [ ] not equal to\n",
        "    - [ ] equal to\n",
        "    - [ ] greater than"
      ]
    },
    {
      "cell_type": "markdown",
      "metadata": {},
      "source": [
        "26. Which of the following are considered `False`?\n",
        "\n",
        "    - [ ] 0\n",
        "    - [ ] set()\n",
        "    - [ ] 1\n",
        "    - [ ] None"
      ]
    },
    {
      "cell_type": "markdown",
      "metadata": {},
      "source": [
        "27. What is this type of evaluation between x and y called?\n",
        "\n",
        "    ```python\n",
        "    x = 1\n",
        "    y = 1\n",
        "    if x and y:\n",
        "        print(\"both true\")\n",
        "    ```\n",
        "\n",
        "    - [ ] short-circuit evulation\n",
        "    - [ ] shortcut evaluation\n",
        "    - [ ] lazy evaluation"
      ]
    },
    {
      "cell_type": "markdown",
      "metadata": {},
      "source": [
        "28. What type of loop can be used to repeat a code block until a condition is fulfilled?"
      ]
    },
    {
      "cell_type": "markdown",
      "metadata": {},
      "source": [
        "29. The `if-else` statement is an extension of the `if` statement that allows you to execute one block of code if the condition is `True` and another block of code if the condition is `False`.\n",
        "\n",
        "    - [ ] True\n",
        "    - [ ] False"
      ]
    },
    {
      "cell_type": "markdown",
      "metadata": {},
      "source": [
        "30. The `if-elif-else` statement is an extension of the `if-else` statement that allows you to evaluate multiple conditions. \n",
        "\n",
        "    - [ ] True\n",
        "    - [ ] False"
      ]
    },
    {
      "cell_type": "markdown",
      "metadata": {},
      "source": [
        "31. What keyword is used as the short version of `else if`? "
      ]
    },
    {
      "cell_type": "markdown",
      "metadata": {},
      "source": [
        "32. The `__________` statement can be used to replace complex `if-elif-else` chains."
      ]
    },
    {
      "cell_type": "markdown",
      "metadata": {},
      "source": [
        "33. What statement do you use to help prevent an infinite while loop?"
      ]
    },
    {
      "cell_type": "markdown",
      "metadata": {},
      "source": [
        "34. The `break` statement skips the rest of the current iteration and moves to the next iteration.\n",
        "\n",
        "    - [ ] True\n",
        "    - [ ] False"
      ]
    },
    {
      "cell_type": "markdown",
      "metadata": {},
      "source": [
        "35. _______ loops are often used when working with multidimensional data structures?  (single word answer)\n",
        "\n",
        "(just fyi.... like on tensors if you're into ML!) "
      ]
    },
    {
      "cell_type": "markdown",
      "metadata": {},
      "source": [
        "36. The `return` statement is required.\n",
        "\n",
        "    - [ ] True\n",
        "    - [ ] False"
      ]
    },
    {
      "cell_type": "markdown",
      "metadata": {},
      "source": [
        "37. We try to avoid global variables because it can be difficult to keep track of their values and can encourage convoluted control flow of the program. \n",
        "\n",
        "    - [ ] True\n",
        "    - [ ] False"
      ]
    },
    {
      "cell_type": "markdown",
      "metadata": {},
      "source": [
        "38. What error does this return? \n",
        "\n",
        "    ```python\n",
        "    def define_local(number):\n",
        "        local_variable = 7\n",
        "        return local_variable\n",
        "\n",
        "    print(local_variable)\n",
        "    ```\n",
        "\n",
        "    - [ ] NameError: name 'local_variable' is not defined\n",
        "    - [ ] SyntaxError: expected ':'\n",
        "    - [ ] TypeError: can only concatenate str (not \"int\") to str"
      ]
    },
    {
      "cell_type": "markdown",
      "metadata": {},
      "source": [
        "39. Arguments are passed by assignment, meaning a _________ to the object is passed to the function."
      ]
    },
    {
      "cell_type": "markdown",
      "metadata": {},
      "source": [
        "40. You can access the docstring of a function using the __________ attribute.\n",
        "\n",
        "    - [ ] __doc__\n",
        "    - [ ] __iter__\n",
        "    - [ ] __comments__"
      ]
    },
    {
      "cell_type": "markdown",
      "metadata": {},
      "source": [
        "41. What is the technique called when some arguments of a function are fixed?\n",
        "\n",
        "    - [ ] partial application\n",
        "    - [ ] semi function\n",
        "    - [ ] static argumentation"
      ]
    },
    {
      "cell_type": "markdown",
      "metadata": {},
      "source": [
        "42. The primary benefit of using partial application in Python is which of the following?\n",
        "\n",
        "    - [ ] By fixing some arguments of a function, it can be called with less and make it simpler\n",
        "    - [ ] Faster performance can be achieved\n",
        "    - [ ] The function becomes immutable"
      ]
    },
    {
      "cell_type": "markdown",
      "metadata": {},
      "source": [
        "43. What is the term for a function that retains access to variables from its surrounding scope, even after that scope has finished executing?"
      ]
    },
    {
      "cell_type": "markdown",
      "metadata": {},
      "source": [
        "44. When our recursion continues until all your available memory is used, your Python interpreter can crash without further exception.\n",
        "\n",
        "    - [ ] True\n",
        "    - [ ] False"
      ]
    },
    {
      "cell_type": "markdown",
      "metadata": {},
      "source": [
        "45. True or False: In Python, the maximum recursion depth can be modified using the sys module.\n",
        "\n",
        "    - [ ] True\n",
        "    - [ ] False"
      ]
    },
    {
      "cell_type": "markdown",
      "metadata": {},
      "source": [
        "46. You can create your own iterator by using the keyword `______`."
      ]
    },
    {
      "cell_type": "markdown",
      "metadata": {},
      "source": [
        "47. A closure is formed when an inner function is defined within an outer function.\n",
        "\n",
        "    - [ ] True\n",
        "    - [ ] False"
      ]
    },
    {
      "cell_type": "markdown",
      "metadata": {},
      "source": [
        "48. Give one example of a higher-order function that take other functions as arguments."
      ]
    },
    {
      "cell_type": "markdown",
      "metadata": {},
      "source": [
        "49. The below code checks if x is ________.\n",
        "\n",
        "    ```python\n",
        "    x % 2 == 0\n",
        "    ```"
      ]
    },
    {
      "cell_type": "markdown",
      "metadata": {},
      "source": [
        "50. What do we call the function inside a decorator called? \n",
        "\n",
        "    The ________ function."
      ]
    }
  ],
  "metadata": {
    "kernelspec": {
      "display_name": "Python 3",
      "language": "python",
      "name": "python3"
    },
    "language_info": {
      "codemirror_mode": {
        "name": "ipython",
        "version": 3
      },
      "file_extension": ".py",
      "mimetype": "text/x-python",
      "name": "python",
      "nbconvert_exporter": "python",
      "pygments_lexer": "ipython3",
      "version": "3.8.5"
    }
  },
  "nbformat": 4,
  "nbformat_minor": 4
}
