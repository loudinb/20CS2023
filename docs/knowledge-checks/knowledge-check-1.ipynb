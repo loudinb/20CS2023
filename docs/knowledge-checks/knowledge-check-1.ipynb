{
 "cells": [
  {
   "cell_type": "markdown",
   "metadata": {},
   "source": [
    "# Knowledge Check 1"
   ]
  },
  {
   "cell_type": "markdown",
   "metadata": {},
   "source": [
    "## Python Shells and Environments"
   ]
  },
  {
   "cell_type": "markdown",
   "metadata": {},
   "source": [
    "1. True or False: The standard Python shell and IPython shell are identical in terms of features and functionality.\n",
    "\n",
    "   [ ] True <br>\n",
    "   [ ] False"
   ]
  },
  {
   "cell_type": "markdown",
   "metadata": {},
   "source": [
    "2. Which of the following are true about Jupyter notebooks? (Select all that apply)\n",
    "\n",
    "   A. [ ] They allow for mixing code, text, and visualizations in a single document <br>\n",
    "   B. [ ] They support multiple programming languages, not just Python <br>\n",
    "   C. [ ] They can be run in a web browser <br>\n",
    "   D. [ ] They require a powerful dedicated server to run"
   ]
  },
  {
   "cell_type": "markdown",
   "metadata": {},
   "source": [
    "3. What is the primary difference between the Python shell and IPython shell?\n",
    "\n",
    "   A. [ ] Python shell is faster than IPython <br>\n",
    "   B. [ ] IPython offers more features like tab completion and magic commands <br>\n",
    "   C. [ ] Python shell has better syntax highlighting <br>\n",
    "   D. [ ] There is no difference; they are just different names for the same thing"
   ]
  },
  {
   "cell_type": "markdown",
   "metadata": {},
   "source": [
    "## Python Interpreter Basics"
   ]
  },
  {
   "cell_type": "markdown",
   "metadata": {},
   "source": [
    "4. True or False: The Python interpreter executes code line by line, rather than compiling the entire program at once.\n",
    "\n",
    "   [ ] True <br>\n",
    "   [ ] False"
   ]
  },
  {
   "cell_type": "markdown",
   "metadata": {},
   "source": [
    "5. Which of the following is NOT a way to run Python code?\n",
    "\n",
    "   A. [ ] Using the interactive shell <br>\n",
    "   B. [ ] Running a .py file from the command line <br>\n",
    "   C. [ ] Using an Integrated Development Environment (IDE) <br>\n",
    "   D. [ ] Compiling Python code into a standalone executable"
   ]
  },
  {
   "cell_type": "markdown",
   "metadata": {},
   "source": [
    "## Style Guides"
   ]
  },
  {
   "cell_type": "markdown",
   "metadata": {},
   "source": [
    "6. According to Google's Python Style Guide, which of the following is the correct way to name a function in Python?\n",
    "\n",
    "   A. [ ] camelCase <br>\n",
    "   B. [ ] snake_case <br>\n",
    "   C. [ ] PascalCase <br>\n",
    "   D. [ ] UPPERCASE <br>"
   ]
  },
  {
   "cell_type": "markdown",
   "metadata": {},
   "source": [
    "7. True or False: According to Google's Python Style Guide, it's recommended to use spaces around the `=` sign when assigning a default value to a function parameter.\n",
    "\n",
    "   [ ] True <br>\n",
    "   [ ] False"
   ]
  },
  {
   "cell_type": "markdown",
   "metadata": {},
   "source": [
    "## Variables and Data Types"
   ]
  },
  {
   "cell_type": "markdown",
   "metadata": {},
   "source": [
    "8. Which of the following is a valid variable name in Python?\n",
    "\n",
    "   A. [ ] 2nd_place <br>\n",
    "   B. [ ] _hidden_variable <br>\n",
    "   C. [ ] class <br>\n",
    "   D. [ ] my-variable"
   ]
  },
  {
   "cell_type": "markdown",
   "metadata": {},
   "source": [
    "9. What is the output of the following code?\n",
    "\n",
    "   ```python\n",
    "   x = 5\n",
    "   y = 2\n",
    "   print(x / y)\n",
    "   ```\n",
    "   \n",
    "   A. [ ] 2 <br>\n",
    "   B. [ ] 2.5 <br>\n",
    "   C. [ ] 2.0 <br>\n",
    "   D. [ ] Error"
   ]
  },
  {
   "cell_type": "markdown",
   "metadata": {},
   "source": [
    "10. Which of the following data types in Python is considered immutable? (Select all that apply)\n",
    "\n",
    "    A. [ ] int <br>\n",
    "    B. [ ] float <br>\n",
    "    C. [ ] str <br>\n",
    "    D. [ ] tuple <br>\n",
    "    E. [ ] list"
   ]
  },
  {
   "cell_type": "markdown",
   "metadata": {},
   "source": [
    "11. What is the result of the following expression?\n",
    "    ```python\n",
    "    x = 10\n",
    "    y = 3\n",
    "    print(x % y)\n",
    "    ```\n",
    "\n",
    "    A. [ ] 3 <br>\n",
    "    B. [ ] 3.33 <br>\n",
    "    C. [ ] 1 <br>\n",
    "    D. [ ] 0"
   ]
  },
  {
   "cell_type": "markdown",
   "metadata": {},
   "source": [
    "12. True or False: In Python, variables must be declared with a specific type before they can be used.\n",
    "\n",
    "    [ ] True <br>\n",
    "    [ ] False"
   ]
  },
  {
   "cell_type": "markdown",
   "metadata": {},
   "source": [
    "13. What is the type of the variable `x` after the following assignment?\n",
    "    ```python\n",
    "    x = 5 / 2\n",
    "    ```\n",
    "\n",
    "    A. [ ] int <br>\n",
    "    B. [ ] float <br>\n",
    "    C. [ ] complex <br>\n",
    "    D. [ ] str"
   ]
  },
  {
   "cell_type": "markdown",
   "metadata": {},
   "source": [
    "14. Which of the following is the correct way to create a complex number in Python?\n",
    "\n",
    "    A. [ ] complex(3 + 4i) <br>\n",
    "    B. [ ] complex(3, 4) <br>\n",
    "    C. [ ] 3 + 4i <br>\n",
    "    D. [ ] 3 + 4j"
   ]
  },
  {
   "cell_type": "markdown",
   "metadata": {},
   "source": [
    "15. What is the output of the following code?\n",
    "    ```python\n",
    "    x = 5\n",
    "    x += 3\n",
    "    print(x)\n",
    "    ```\n",
    "\n",
    "    A. [ ] 5 <br>\n",
    "    B. [ ] 8 <br>\n",
    "    C. [ ] 53 <br>\n",
    "    D. [ ] Error"
   ]
  },
  {
   "cell_type": "markdown",
   "metadata": {},
   "source": [
    "## Numeric Types"
   ]
  },
  {
   "cell_type": "markdown",
   "metadata": {},
   "source": [
    "16. True or False: In Python, there is no difference between integers and floating-point numbers in terms of precision.\n",
    "\n",
    "    [ ] True <br>\n",
    "    [ ] False"
   ]
  },
  {
   "cell_type": "markdown",
   "metadata": {},
   "source": [
    "17. What is the purpose of using `epsilon` when working with floating-point numbers?\n",
    "\n",
    "    A. [ ] To round numbers to the nearest integer <br>\n",
    "    B. [ ] To handle small rounding errors in floating-point arithmetic <br>\n",
    "    C. [ ] To convert between different numeric types <br>\n",
    "    D. [ ] To define the maximum value for a float"
   ]
  },
  {
   "cell_type": "markdown",
   "metadata": {},
   "source": [
    "18. Which of the following statements about floating-point arithmetic in Python is true?\n",
    "\n",
    "    A. [ ] Floating-point arithmetic is always exact <br>\n",
    "    B. [ ] Floating-point arithmetic can lead to small rounding errors <br>\n",
    "    C. [ ] Floating-point numbers have infinite precision <br>\n",
    "    D. [ ] Python automatically corrects all floating-point rounding errors"
   ]
  },
  {
   "cell_type": "markdown",
   "metadata": {},
   "source": [
    "19. What is the output of the following code?\n",
    "    ```python\n",
    "    import sys\n",
    "    print(sys.float_info.epsilon > 0)\n",
    "    ```\n",
    "\n",
    "    A. [ ] True <br>\n",
    "    B. [ ] False <br>\n",
    "    C. [ ] 0 <br>\n",
    "    D. [ ] Error"
   ]
  },
  {
   "cell_type": "markdown",
   "metadata": {},
   "source": [
    "20. True or False: The `decimal` module in Python can be used to perform exact decimal arithmetic.\n",
    "\n",
    "    [ ] True <br>\n",
    "    [ ] False"
   ]
  },
  {
   "cell_type": "markdown",
   "metadata": {},
   "source": [
    "## Boolean Types"
   ]
  },
  {
   "cell_type": "markdown",
   "metadata": {},
   "source": [
    "21. Which of the following will evaluate to `False` in Python? (Select all that apply)\n",
    "    - 0\n",
    "    - None\n",
    "    - False\n",
    "    - \"\" (empty string)\n",
    "    - \"False\" (string containing \"False\")"
   ]
  },
  {
   "cell_type": "markdown",
   "metadata": {},
   "source": [
    "22. What is the output of the following code?\n",
    "    ```python\n",
    "    print(True and False or True)\n",
    "    ```\n",
    "    - True\n",
    "    - False\n",
    "    - None\n",
    "    - Error"
   ]
  },
  {
   "cell_type": "markdown",
   "metadata": {},
   "source": [
    "23. What is the result of the following expression?\n",
    "    ```python\n",
    "    bool(\"False\")\n",
    "    ```\n",
    "    - True\n",
    "    - False\n",
    "    - None\n",
    "    - Error"
   ]
  },
  {
   "cell_type": "markdown",
   "metadata": {},
   "source": [
    "24. True or False: In Python, `1` and `True` are considered equal.\n",
    "\n",
    "    [ ] True <br>\n",
    "    [ ] False"
   ]
  },
  {
   "cell_type": "markdown",
   "metadata": {},
   "source": [
    "25. What is the output of the following code?\n",
    "    ```python\n",
    "    x = 5\n",
    "    y = 10\n",
    "    print(x > 3 and y < 15)\n",
    "    ```\n",
    "    - True\n",
    "    - False\n",
    "    - None\n",
    "    - Error"
   ]
  },
  {
   "cell_type": "markdown",
   "metadata": {},
   "source": [
    "## String Type"
   ]
  },
  {
   "cell_type": "markdown",
   "metadata": {},
   "source": [
    "26. Which of the following is NOT a valid way to create a string in Python?\n",
    "    - 'Single quotes'\n",
    "    - \"Double quotes\"\n",
    "    - \"\"\"Triple double quotes\"\"\"\n",
    "    - ``Backticks``"
   ]
  },
  {
   "cell_type": "markdown",
   "metadata": {},
   "source": [
    "27. What is the output of the following code?\n",
    "    ```python\n",
    "    s = \"Python\"\n",
    "    print(s[1:4])\n",
    "    ```\n",
    "    - Pyt\n",
    "    - yth\n",
    "    - ytho\n",
    "    - ython"
   ]
  },
  {
   "cell_type": "markdown",
   "metadata": {},
   "source": [
    "28. Which method would you use to remove whitespace from both ends of a string?\n",
    "    - strip()\n",
    "    - trim()\n",
    "    - strip()\n",
    "    - remove_whitespace()"
   ]
  },
  {
   "cell_type": "markdown",
   "metadata": {},
   "source": [
    "29. What is the result of the following operation?\n",
    "    ```python\n",
    "    \"Hello\" * 3\n",
    "    ```\n",
    "    - Hello3\n",
    "    - HelloHelloHello\n",
    "    - [\"Hello\", \"Hello\", \"Hello\"]\n",
    "    - Error"
   ]
  },
  {
   "cell_type": "markdown",
   "metadata": {},
   "source": [
    "30. True or False: Strings in Python are mutable.\n",
    "\n",
    "    [ ] True <br>\n",
    "    [ ] False"
   ]
  },
  {
   "cell_type": "markdown",
   "metadata": {},
   "source": [
    "31. What is the output of the following code?\n",
    "    ```python\n",
    "    s = \"Python is awesome\"\n",
    "    print(s.count('o'))\n",
    "    ```\n",
    "    - 1\n",
    "    - 2\n",
    "    - 3\n",
    "    - 4"
   ]
  },
  {
   "cell_type": "markdown",
   "metadata": {},
   "source": [
    "32. Which method would you use to convert a string to uppercase?\n",
    "    - capitalize()\n",
    "    - upper()\n",
    "    - to_upper()\n",
    "    - upper()"
   ]
  },
  {
   "cell_type": "markdown",
   "metadata": {},
   "source": [
    "33. What is the result of the following operation?\n",
    "    ```python\n",
    "    \",\".join([\"a\", \"b\", \"c\"])\n",
    "    ```\n",
    "    - \"a,b,c\"\n",
    "    - [\"a\",\"b\",\"c\"]\n",
    "    - \"abc\"\n",
    "    - Error"
   ]
  },
  {
   "cell_type": "markdown",
   "metadata": {},
   "source": [
    "## String Operations"
   ]
  },
  {
   "cell_type": "markdown",
   "metadata": {},
   "source": [
    "34. What is the output of the following code?\n",
    "    ```python\n",
    "    name = \"Alice\"\n",
    "    age = 30\n",
    "    print(f\"{name} is {age} years old\")\n",
    "    ```\n",
    "    - Alice is 30 years old\n",
    "    - {name} is {age} years old\n",
    "    - Alice is {age} years old\n",
    "    - Error"
   ]
  },
  {
   "cell_type": "markdown",
   "metadata": {},
   "source": [
    "35. Which of the following is a valid f-string in Python?\n",
    "    - f'{x=}'\n",
    "    - f'{x!r}'\n",
    "    - f'{x:.2f}'\n",
    "    - All of the above"
   ]
  },
  {
   "cell_type": "markdown",
   "metadata": {},
   "source": [
    "36. What is the output of the following code?\n",
    "    ```python\n",
    "    x = 10\n",
    "    y = 3\n",
    "    print(f\"{x/y:.2f}\")\n",
    "    ```\n",
    "    - 3.33\n",
    "    - 3.33\n",
    "    - 3.3333333333\n",
    "    - Error"
   ]
  },
  {
   "cell_type": "markdown",
   "metadata": {},
   "source": [
    "37. True or False: F-strings can include expressions and function calls.\n",
    "\n",
    "    [ ] True <br>\n",
    "    [ ] False"
   ]
  },
  {
   "cell_type": "markdown",
   "metadata": {},
   "source": [
    "38. What is the result of the following operation?\n",
    "    ```python\n",
    "    \"Hello, {name}!\".format(name=\"World\")\n",
    "    ```\n",
    "    - \"Hello, World!\"\n",
    "    - \"Hello, {name}!\"\n",
    "    - Error\n",
    "    - None of the above"
   ]
  },
  {
   "cell_type": "markdown",
   "metadata": {},
   "source": [
    "39. Which method would you use to find the position of a substring within a string?\n",
    "    - search()\n",
    "    - find()\n",
    "    - index()\n",
    "    - position()"
   ]
  },
  {
   "cell_type": "markdown",
   "metadata": {},
   "source": [
    "40. What is the output of the following code?\n",
    "    ```python\n",
    "    s = \"Python\"\n",
    "    print(s[::-1])\n",
    "    ```\n",
    "    - Python\n",
    "    - P\n",
    "    - nohtyP\n",
    "    - Error"
   ]
  }
 ],
 "metadata": {
  "kernelspec": {
   "display_name": "Python 3",
   "language": "python",
   "name": "python3"
  },
  "language_info": {
   "codemirror_mode": {
    "name": "ipython",
    "version": 3
   },
   "file_extension": ".py",
   "mimetype": "text/x-python",
   "name": "python",
   "nbconvert_exporter": "python",
   "pygments_lexer": "ipython3",
   "version": "3.8.5"
  }
 },
 "nbformat": 4,
 "nbformat_minor": 4
}
