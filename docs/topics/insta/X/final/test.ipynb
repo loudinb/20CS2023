{
 "cells": [
  {
   "cell_type": "code",
   "execution_count": 16,
   "metadata": {},
   "outputs": [
    {
     "name": "stdout",
     "output_type": "stream",
     "text": [
      "Created Users: user1, user2, user3\n",
      "User count: 9\n"
     ]
    }
   ],
   "source": [
    "# Step 1: Import the existing classes\n",
    "# Assuming that the classes are implemented in 'user.py', 'post.py', and 'comment.py'\n",
    "\n",
    "from user import User\n",
    "from post import Post\n",
    "from comment import Comment\n",
    "\n",
    "# Step 2: Create three users\n",
    "\n",
    "user1 = User(\"user1\", \"user1@example.com\")\n",
    "user2 = User(\"user2\", \"user2@example.com\")\n",
    "user3 = User(\"user3\", \"user3@example.com\")\n",
    "\n",
    "# Display created users\n",
    "print(f\"Created Users: {user1.username}, {user2.username}, {user3.username}\")\n",
    "print(f\"User count: {User.get_user_count()}\")\n"
   ]
  },
  {
   "cell_type": "code",
   "execution_count": 17,
   "metadata": {},
   "outputs": [
    {
     "name": "stdout",
     "output_type": "stream",
     "text": [
      "user1's Post 1: Hello, this is my first post!\n",
      "user2's Post 1: Excited to be here, Instagram family!\n",
      "user3's Post 1: Enjoying a sunny day at the park.\n"
     ]
    }
   ],
   "source": [
    "# Step 3: Users create posts\n",
    "\n",
    "# user1 creates a post\n",
    "user1.create_post(\"Hello, this is my first post!\")\n",
    "user2.create_post(\"Excited to be here, Instagram family!\")\n",
    "user3.create_post(\"Enjoying a sunny day at the park.\")\n",
    "\n",
    "# Display posts\n",
    "for i, post in enumerate(user1._posts):\n",
    "    print(f\"user1's Post {i + 1}: {post.content}\")\n",
    "\n",
    "for i, post in enumerate(user2._posts):\n",
    "    print(f\"user2's Post {i + 1}: {post.content}\")\n",
    "\n",
    "for i, post in enumerate(user3._posts):\n",
    "    print(f\"user3's Post {i + 1}: {post.content}\")\n"
   ]
  },
  {
   "cell_type": "code",
   "execution_count": 18,
   "metadata": {},
   "outputs": [
    {
     "name": "stdout",
     "output_type": "stream",
     "text": [
      "user2's Post Likes: ['user1']\n",
      "user3's Post Likes: ['user2']\n",
      "user1's Post Likes: ['user2', 'user3']\n"
     ]
    }
   ],
   "source": [
    "# Step 4: Users like each other's posts\n",
    "\n",
    "# user1 likes user2's post\n",
    "user1.like_post(user2._posts[0])\n",
    "# user2 likes user3's post\n",
    "user2.like_post(user3._posts[0])\n",
    "user2.like_post(user1._posts[0])\n",
    "# user3 likes user1's post\n",
    "user3.like_post(user1._posts[0])\n",
    "\n",
    "# Display likes\n",
    "print(f\"user2's Post Likes: {[u.username for u in user2._posts[0]._likes]}\")\n",
    "print(f\"user3's Post Likes: {[u.username for u in user3._posts[0]._likes]}\")\n",
    "print(f\"user1's Post Likes: {[u.username for u in user1._posts[0]._likes]}\")\n"
   ]
  },
  {
   "cell_type": "code",
   "execution_count": 19,
   "metadata": {},
   "outputs": [
    {
     "name": "stdout",
     "output_type": "stream",
     "text": [
      "user2's Post Comments: ['Nice to see you here!', 'Hello!']\n",
      "user3's Post Comments: ['That sounds lovely!']\n",
      "user1's Post Comments: ['Welcome to Instagram!']\n"
     ]
    }
   ],
   "source": [
    "# Step 5: Users comment on posts\n",
    "\n",
    "user1.comment_on_post(user2._posts[0], \"Nice to see you here!\")\n",
    "user2.comment_on_post(user3._posts[0], \"That sounds lovely!\")\n",
    "user3.comment_on_post(user1._posts[0], \"Welcome to Instagram!\")\n",
    "user3.comment_on_post(user2._posts[0], \"Hello!\")\n",
    "\n",
    "# Display comments\n",
    "print(f\"user2's Post Comments: {[comment.content for comment in user2._posts[0]._comments]}\")\n",
    "print(f\"user3's Post Comments: {[comment.content for comment in user3._posts[0]._comments]}\")\n",
    "print(f\"user1's Post Comments: {[comment.content for comment in user1._posts[0]._comments]}\")"
   ]
  },
  {
   "cell_type": "code",
   "execution_count": 20,
   "metadata": {},
   "outputs": [
    {
     "name": "stdout",
     "output_type": "stream",
     "text": [
      "user1's Followers: ['user3']\n",
      "user2's Followers: ['user1', 'user3']\n",
      "user3's Followers: ['user2']\n"
     ]
    }
   ],
   "source": [
    "# Step 6: Follow interactions\n",
    "\n",
    "user1.follow(user2)\n",
    "user2.follow(user3)\n",
    "user3.follow(user1)\n",
    "user3.follow(user2)\n",
    "\n",
    "# Display followers and following\n",
    "print(f\"user1's Followers: {[u.username for u in user1._followers]}\")\n",
    "print(f\"user2's Followers: {[u.username for u in user2._followers]}\")\n",
    "print(f\"user3's Followers: {[u.username for u in user3._followers]}\")"
   ]
  },
  {
   "cell_type": "code",
   "execution_count": 23,
   "metadata": {},
   "outputs": [
    {
     "name": "stdout",
     "output_type": "stream",
     "text": [
      "\n",
      "user1's Posts:\n",
      "- Hello, this is my first post!\n",
      "  Liked by: ['user2', 'user3']\n",
      "  Comments: ['user3 says Welcome to Instagram!, ']\n",
      "\n",
      "user2's Posts:\n",
      "- Excited to be here, Instagram family!\n",
      "  Liked by: ['user1']\n",
      "  Comments: ['user1 says Nice to see you here!, ', 'user3 says Hello!, ']\n",
      "\n",
      "user3's Posts:\n",
      "- Enjoying a sunny day at the park.\n",
      "  Liked by: ['user2']\n",
      "  Comments: ['user2 says That sounds lovely!, ']\n"
     ]
    }
   ],
   "source": [
    "# Step 7: Final state of the app\n",
    "\n",
    "# Display posts, likes, and comments for each user\n",
    "for user in [user1, user2, user3]:\n",
    "    print(f\"\\n{user.username}'s Posts:\")\n",
    "    for post in user._posts:\n",
    "        print(f\"- {post.content}\")\n",
    "        print(f\"  Liked by: {[u.username for u in post._likes]}\")\n",
    "        print(f\"  Comments: {[f\"{comment.author.username} says {comment.content}, \" for comment in post._comments]}\")\n"
   ]
  },
  {
   "cell_type": "code",
   "execution_count": null,
   "metadata": {},
   "outputs": [],
   "source": []
  }
 ],
 "metadata": {
  "kernelspec": {
   "display_name": "Python 3",
   "language": "python",
   "name": "python3"
  },
  "language_info": {
   "codemirror_mode": {
    "name": "ipython",
    "version": 3
   },
   "file_extension": ".py",
   "mimetype": "text/x-python",
   "name": "python",
   "nbconvert_exporter": "python",
   "pygments_lexer": "ipython3",
   "version": "3.12.6"
  }
 },
 "nbformat": 4,
 "nbformat_minor": 2
}
