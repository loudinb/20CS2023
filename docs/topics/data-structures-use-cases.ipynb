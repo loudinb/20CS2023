{
 "cells": [
  {
   "cell_type": "markdown",
   "metadata": {},
   "source": [
    "# Data Structures: Use Cases\n",
    "\n",
    "The following is a list of common use cases for different data structures. This is not an exhaustive list, but it should give you a basic idea of when to use each data structure."
   ]
  },
  {
   "cell_type": "markdown",
   "metadata": {},
   "source": [
    "| Data Structure | Description | Real-World Use Cases | Key Features |\n",
    "|----------------|-------------|----------------------|--------------|\n",
    "| **List** | Ordered, mutable collection allowing duplicates. | • Shopping lists<br>• Playlists<br>• To-do lists<br>• Prioritized inventories | • Dynamic sizing<br>• Versatile methods (append, extend, remove)<br>• Supports indexing and slicing |\n",
    "| **Tuple** | Ordered, immutable collection allowing duplicates | • Geographic coordinates<br>• RGB color values<br>• Student records<br>• Fixed database records | • Hashable (usable as dict keys or in sets)<br>• Memory efficient<br>• Unchangeable after creation |\n",
    "| **Dictionary** | Ordered, mutable collection, stores Key-value pairs with unique keys. | • Phone books<br>• Language translations<br>• App configurations<br>• Product catalogs | • Fast lookups<br>• Keys must be immutable<br>• Values can be any type |\n",
    "| **Set** | Unordered, mutable collection of unique elements. | • Tracking unique website visitors<br>• Removing duplicates<br>• Mathematical set operations<br>• Organizing unique tags | • Fast membership tests<br>• Efficient set operations (union, intersection, etc.)<br>• Automatically removes duplicates |\n",
    "| **Frozen Set** | Unordered, immutable collection of unique elements. | • Dictionary keys<br>• Elements in other sets<br>• Mathematical set operations<br> | • Hashable (usable as dict keys or in sets)<br>• Fast membership tests<br>• Efficient set operations (union, intersection, etc.)<br>• Automatically removes duplicates |"
   ]
  }
 ],
 "metadata": {
  "language_info": {
   "name": "python"
  }
 },
 "nbformat": 4,
 "nbformat_minor": 2
}
