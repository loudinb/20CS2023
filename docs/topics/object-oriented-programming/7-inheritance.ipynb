{
 "cells": [
  {
   "cell_type": "markdown",
   "metadata": {},
   "source": [
    "# Hands-On: Animals"
   ]
  },
  {
   "cell_type": "code",
   "execution_count": 1,
   "metadata": {},
   "outputs": [
    {
     "data": {
      "text/plain": [
       "'Bowser says Woof!'"
      ]
     },
     "execution_count": 1,
     "metadata": {},
     "output_type": "execute_result"
    }
   ],
   "source": [
    "class Animal:\n",
    "   def __init__(self, name):\n",
    "      self.name = name\n",
    "\n",
    "class Dog(Animal):\n",
    "\n",
    "   def speak(self):\n",
    "      return f\"{self.name} says Woof!\"\n",
    "\n",
    "bowser = Dog(\"Bowser\")\n",
    "bowser.speak()"
   ]
  },
  {
   "cell_type": "markdown",
   "metadata": {},
   "source": [
    "# Hands-On: Extending Behavior"
   ]
  },
  {
   "cell_type": "code",
   "execution_count": 4,
   "metadata": {},
   "outputs": [
    {
     "name": "stdout",
     "output_type": "stream",
     "text": [
      "Name: Jane\n",
      "Age: 10\n"
     ]
    }
   ],
   "source": [
    "class Parent:\n",
    "   def __init__(self, name):\n",
    "         self.name = name\n",
    "   \n",
    "   def display(self):\n",
    "         print(f\"Name: {self.name}\")\n",
    "\n",
    "class Child(Parent):\n",
    "   def __init__(self, name, age):\n",
    "         super().__init__(name)  # Call the parent constructor\n",
    "         self.age = age\n",
    "   \n",
    "   def display(self):\n",
    "         super().display()  # Call the parent's method\n",
    "         print(f\"Age: {self.age}\")\n",
    "\n",
    "\n",
    "john = Parent(\"John\")\n",
    "jane = Child(\"Jane\", 10)\n",
    "\n",
    "jane.display()"
   ]
  },
  {
   "cell_type": "code",
   "execution_count": 5,
   "metadata": {},
   "outputs": [
    {
     "name": "stdout",
     "output_type": "stream",
     "text": [
      "Name: John\n"
     ]
    }
   ],
   "source": [
    "john.display()"
   ]
  },
  {
   "cell_type": "markdown",
   "metadata": {},
   "source": [
    "# Hands-On: Multiple Inheritance"
   ]
  },
  {
   "cell_type": "code",
   "execution_count": 7,
   "metadata": {},
   "outputs": [
    {
     "data": {
      "text/plain": [
       "'I can fly!'"
      ]
     },
     "execution_count": 7,
     "metadata": {},
     "output_type": "execute_result"
    }
   ],
   "source": [
    "class Flyer:\n",
    "    def fly(self):\n",
    "        return \"I can fly!\"\n",
    "\n",
    "class Swimmer:\n",
    "    def swim(self):\n",
    "        return \"I can swim!\"\n",
    "\n",
    "class Duck(Flyer, Swimmer):\n",
    "    pass\n",
    "\n",
    "donald = Duck()\n",
    "donald.fly()"
   ]
  },
  {
   "cell_type": "code",
   "execution_count": 8,
   "metadata": {},
   "outputs": [
    {
     "data": {
      "text/plain": [
       "'I can swim!'"
      ]
     },
     "execution_count": 8,
     "metadata": {},
     "output_type": "execute_result"
    }
   ],
   "source": [
    "donald.swim()"
   ]
  },
  {
   "cell_type": "markdown",
   "metadata": {},
   "source": [
    "# Hands-On: Inheritance and Composition"
   ]
  },
  {
   "cell_type": "code",
   "execution_count": 11,
   "metadata": {},
   "outputs": [],
   "source": [
    "# Inheritance\n",
    "class Animal:\n",
    "    def __init__(self, name):\n",
    "        self.name = name\n",
    "\n",
    "class Dog(Animal):\n",
    "    def bark(self):\n",
    "        return f\"{self.name} says Woof!\"\n",
    "\n",
    "# Composition\n",
    "class Engine:\n",
    "    def start(self):\n",
    "        return \"Engine started\"\n",
    "\n",
    "class Car:\n",
    "    def __init__(self):\n",
    "        self.engine = Engine()\n",
    "    \n",
    "    def start_car(self):\n",
    "        return self.engine.start()"
   ]
  },
  {
   "cell_type": "code",
   "execution_count": 12,
   "metadata": {},
   "outputs": [],
   "source": [
    "bowser = Dog(\"Bowser\")"
   ]
  },
  {
   "cell_type": "code",
   "execution_count": 14,
   "metadata": {},
   "outputs": [
    {
     "data": {
      "text/plain": [
       "'Engine started'"
      ]
     },
     "execution_count": 14,
     "metadata": {},
     "output_type": "execute_result"
    }
   ],
   "source": [
    "tesla = Car()\n",
    "tesla.start_car()"
   ]
  },
  {
   "cell_type": "markdown",
   "metadata": {},
   "source": [
    "# Hands-On: Private Attributes and Methods"
   ]
  },
  {
   "cell_type": "code",
   "execution_count": 28,
   "metadata": {},
   "outputs": [],
   "source": [
    "class Parent:\n",
    "    def __init__(self):\n",
    "        self.__private_var = 42\n",
    "    \n",
    "    def __private_method(self):\n",
    "        print(\"This is a private method\")\n",
    "\n",
    "class Child(Parent):\n",
    "    def try_access_private(self):\n",
    "        # This will raise an AttributeError\n",
    "        print(self.__private_var)\n",
    "        self.__private_method()"
   ]
  },
  {
   "cell_type": "code",
   "execution_count": 29,
   "metadata": {},
   "outputs": [
    {
     "ename": "AttributeError",
     "evalue": "'Child' object has no attribute '_Child__private_var'",
     "output_type": "error",
     "traceback": [
      "\u001b[0;31m---------------------------------------------------------------------------\u001b[0m",
      "\u001b[0;31mAttributeError\u001b[0m                            Traceback (most recent call last)",
      "Cell \u001b[0;32mIn[29], line 2\u001b[0m\n\u001b[1;32m      1\u001b[0m child \u001b[38;5;241m=\u001b[39m Child()\n\u001b[0;32m----> 2\u001b[0m \u001b[43mchild\u001b[49m\u001b[38;5;241;43m.\u001b[39;49m\u001b[43mtry_access_private\u001b[49m\u001b[43m(\u001b[49m\u001b[43m)\u001b[49m\n",
      "Cell \u001b[0;32mIn[28], line 11\u001b[0m, in \u001b[0;36mChild.try_access_private\u001b[0;34m(self)\u001b[0m\n\u001b[1;32m      9\u001b[0m \u001b[38;5;28;01mdef\u001b[39;00m \u001b[38;5;21mtry_access_private\u001b[39m(\u001b[38;5;28mself\u001b[39m):\n\u001b[1;32m     10\u001b[0m     \u001b[38;5;66;03m# This will raise an AttributeError\u001b[39;00m\n\u001b[0;32m---> 11\u001b[0m     \u001b[38;5;28mprint\u001b[39m(\u001b[38;5;28;43mself\u001b[39;49m\u001b[38;5;241;43m.\u001b[39;49m\u001b[43m__private_var\u001b[49m)\n\u001b[1;32m     12\u001b[0m     \u001b[38;5;28mself\u001b[39m\u001b[38;5;241m.\u001b[39m__private_method()\n",
      "\u001b[0;31mAttributeError\u001b[0m: 'Child' object has no attribute '_Child__private_var'"
     ]
    }
   ],
   "source": [
    "child = Child()\n",
    "child.try_access_private()"
   ]
  },
  {
   "cell_type": "markdown",
   "metadata": {},
   "source": [
    "# Hands-On: `isinstance()` and `issubclass()`"
   ]
  },
  {
   "cell_type": "code",
   "execution_count": 37,
   "metadata": {},
   "outputs": [],
   "source": [
    "class Animal:\n",
    "\n",
    "   def __init__(self, name):\n",
    "      self.name = name\n",
    "      \n",
    "class Dog(Animal):\n",
    "\n",
    "   def __init__(self, name, breed):\n",
    "      super().__init__(name)\n",
    "      self.breed = breed\n",
    "\n",
    "   def speak(self):\n",
    "      return f\"{self.name} says Woof!\"\n",
    "\n",
    "class Cat(Animal):\n",
    "\n",
    "   def speak(self):\n",
    "      return f\"{self.name} says Meow!\""
   ]
  },
  {
   "cell_type": "code",
   "execution_count": 45,
   "metadata": {},
   "outputs": [
    {
     "name": "stdout",
     "output_type": "stream",
     "text": [
      "True\n",
      "True\n",
      "False\n",
      "True\n",
      "False\n"
     ]
    }
   ],
   "source": [
    "bowser = Dog(\"Bowser\", \"bulldog\")\n",
    "tom = Cat(\"Tom\")\n",
    "\n",
    "print(isinstance(bowser, Dog))\n",
    "print(isinstance(bowser, Animal))\n",
    "print(isinstance(tom, Dog))\n",
    "\n",
    "print(issubclass(Dog, Dog))\n",
    "print(issubclass(Animal, Cat))"
   ]
  },
  {
   "cell_type": "markdown",
   "metadata": {},
   "source": [
    "# Access Modifiers and Inheritance in Python\n",
    "\n",
    "```{warning}\n",
    "Python's philosophy is \"we're all consenting adults here.\" These access modifiers are more about convention and intention than strict enforcement. Private attributes can still be accessed through name mangling, and protected attributes are just a convention.\n",
    "```"
   ]
  },
  {
   "cell_type": "markdown",
   "metadata": {},
   "source": [
    "## Public Attributes/Methods"
   ]
  },
  {
   "cell_type": "code",
   "execution_count": 17,
   "metadata": {},
   "outputs": [],
   "source": [
    "class Parent:\n",
    "    def __init__(self):\n",
    "        self.public_var = 42\n",
    "    \n",
    "    def public_method(self):\n",
    "        print(\"This is a public method\")\n",
    "\n",
    "class Child(Parent):\n",
    "    def access_public(self):\n",
    "        print(self.public_var)  # Accessing public attribute\n",
    "        self.public_method()    # Calling public method"
   ]
  },
  {
   "cell_type": "code",
   "execution_count": 18,
   "metadata": {},
   "outputs": [
    {
     "name": "stdout",
     "output_type": "stream",
     "text": [
      "42\n",
      "This is a public method\n"
     ]
    }
   ],
   "source": [
    "child = Child()\n",
    "child.access_public()"
   ]
  },
  {
   "cell_type": "markdown",
   "metadata": {},
   "source": [
    "## Protected Attributes/Methods"
   ]
  },
  {
   "cell_type": "code",
   "execution_count": null,
   "metadata": {},
   "outputs": [],
   "source": [
    "class Parent:\n",
    "    def __init__(self):\n",
    "        self._protected_var = \"Protected\"\n",
    "    \n",
    "    def _protected_method(self):\n",
    "        print(\"This is a protected method\")\n",
    "\n",
    "class Child(Parent):\n",
    "    def access_protected(self):\n",
    "        print(self._protected_var)      # Accessing protected attribute\n",
    "        self._protected_method()        # Calling protected method\n",
    "\n",
    "child = Child()\n",
    "child.access_protected()"
   ]
  },
  {
   "cell_type": "markdown",
   "metadata": {},
   "source": [
    "## Private Attributes/Methods"
   ]
  },
  {
   "cell_type": "code",
   "execution_count": 20,
   "metadata": {},
   "outputs": [],
   "source": [
    "class Parent:\n",
    "    def __init__(self):\n",
    "        self.__private_var = 42\n",
    "    \n",
    "    def __private_method(self):\n",
    "        print(\"This is a private method\")\n",
    "\n",
    "class Child(Parent):\n",
    "    def try_access_private(self):\n",
    "        # This will raise an AttributeError\n",
    "        print(self.__private_var)\n",
    "        self.__private_method()\n",
    "        \n",
    "        # Name mangling allows indirect access (not recommended)\n",
    "        #print(self._Parent__private_var)\n",
    "        #self._Parent__private_method()\n",
    "\n",
    "child = Child()"
   ]
  },
  {
   "cell_type": "code",
   "execution_count": 21,
   "metadata": {},
   "outputs": [
    {
     "ename": "AttributeError",
     "evalue": "'Child' object has no attribute '__private_var'",
     "output_type": "error",
     "traceback": [
      "\u001b[0;31m---------------------------------------------------------------------------\u001b[0m",
      "\u001b[0;31mAttributeError\u001b[0m                            Traceback (most recent call last)",
      "Cell \u001b[0;32mIn[21], line 1\u001b[0m\n\u001b[0;32m----> 1\u001b[0m \u001b[43mchild\u001b[49m\u001b[38;5;241;43m.\u001b[39;49m\u001b[43m__private_var\u001b[49m\n",
      "\u001b[0;31mAttributeError\u001b[0m: 'Child' object has no attribute '__private_var'"
     ]
    }
   ],
   "source": [
    "child.__private_var"
   ]
  },
  {
   "cell_type": "code",
   "execution_count": 22,
   "metadata": {},
   "outputs": [
    {
     "ename": "AttributeError",
     "evalue": "'Child' object has no attribute '__private_method'",
     "output_type": "error",
     "traceback": [
      "\u001b[0;31m---------------------------------------------------------------------------\u001b[0m",
      "\u001b[0;31mAttributeError\u001b[0m                            Traceback (most recent call last)",
      "Cell \u001b[0;32mIn[22], line 1\u001b[0m\n\u001b[0;32m----> 1\u001b[0m \u001b[43mchild\u001b[49m\u001b[38;5;241;43m.\u001b[39;49m\u001b[43m__private_method\u001b[49m\n",
      "\u001b[0;31mAttributeError\u001b[0m: 'Child' object has no attribute '__private_method'"
     ]
    }
   ],
   "source": [
    "child.__private_method"
   ]
  },
  {
   "cell_type": "code",
   "execution_count": 23,
   "metadata": {},
   "outputs": [],
   "source": [
    "class Parent:\n",
    "    def __init__(self):\n",
    "        self.__private_var = 42\n",
    "    \n",
    "    def __private_method(self):\n",
    "        print(\"This is a private method\")\n",
    "\n",
    "class Child(Parent):\n",
    "    def try_access_private(self):\n",
    "        # This will raise an AttributeError\n",
    "        # print(self.__private_var)\n",
    "        # self.__private_method()\n",
    "        \n",
    "        # Name mangling allows indirect access (not recommended)\n",
    "        print(self._Parent__private_var)\n",
    "        self._Parent__private_method()"
   ]
  },
  {
   "cell_type": "code",
   "execution_count": 24,
   "metadata": {},
   "outputs": [],
   "source": [
    "child = Child()"
   ]
  },
  {
   "cell_type": "code",
   "execution_count": 25,
   "metadata": {},
   "outputs": [
    {
     "name": "stdout",
     "output_type": "stream",
     "text": [
      "42\n",
      "This is a private method\n"
     ]
    }
   ],
   "source": [
    "child.try_access_private()"
   ]
  }
 ],
 "metadata": {
  "kernelspec": {
   "display_name": "Python 3",
   "language": "python",
   "name": "python3"
  },
  "language_info": {
   "codemirror_mode": {
    "name": "ipython",
    "version": 3
   },
   "file_extension": ".py",
   "mimetype": "text/x-python",
   "name": "python",
   "nbconvert_exporter": "python",
   "pygments_lexer": "ipython3",
   "version": "3.12.5"
  }
 },
 "nbformat": 4,
 "nbformat_minor": 2
}
