{
 "cells": [
  {
   "cell_type": "markdown",
   "metadata": {},
   "source": [
    "# Classes\n",
    "\n",
    "A class is a user-defined blueprint or prototype from which objects are created.\n",
    "\n",
    "Classes provide a means of bundling data and functionality together. Creating a new class creates a new type of object, allowing new instances of that type to be made. Each class instance can have attributes attached to it for maintaining its state. Class instances can also have methods (defined by its class) for modifying its state.\n"
   ]
  },
  {
   "cell_type": "markdown",
   "metadata": {},
   "source": [
    "## Python Documentation References\n",
    "\n",
    "The following links are references to the Python documentation relevant to the topics discussed here:\n",
    "\n",
    "- [Classes](https://docs.python.org/3/tutorial/classes.html)"
   ]
  },
  {
   "cell_type": "markdown",
   "metadata": {},
   "source": [
    "## Why Use Classes?\n",
    "\n",
    "To grasp the importance of classes, let's consider a real-world scenario: tracking information about dogs.  Imagine you need to keep track of 100 dogs, each with various attributes like breed, age, and weight. Using a simple list or dictionary might look like this:\n",
    "\n",
    "```python\n",
    "dogs = [\n",
    "    [\"Golden Retriever\", 3, 30],\n",
    "    [\"Chihuahua\", 2, 3],\n",
    "    # ... 98 more dogs\n",
    "]\n",
    "```\n",
    "\n",
    "This approach has several drawbacks:\n",
    "\n",
    "1. **Lack of clarity**: It's not immediately clear what each element represents.\n",
    "2. **Difficulty in adding new attributes**: Adding a new attribute (e.g., color) requires modifying every entry.\n",
    "3. **Prone to errors**: It's easy to mix up the order of attributes or insert incorrect data types.\n",
    "4. **Limited functionality**: You can't easily attach behaviors (methods) to the data.\n",
    "\n",
    "\n",
    "A class solves these problems by creating a custom data structure that bundles related data and functions together."
   ]
  },
  {
   "cell_type": "markdown",
   "metadata": {},
   "source": [
    "\n",
    "### Class Definition\n",
    "\n",
    "Classes provide a means of bundling data and functionality together. Creating a new class creates a new type of object, allowing new instances of that type to be made. A class body contains attributes (data) and methods (functions) that operate on that data.\n",
    "\n",
    "In Python, a class is defined using the `class` keyword followed by the class name. The class body is indented, similar to loops and functions. Here's the basic syntax for defining a class:\n",
    "\n",
    "```python\n",
    "class ClassName:\n",
    "    def __init__(self, arg1, arg2, ...):\n",
    "        self.attribute1 = arg1\n",
    "        self.attribute2 = arg2\n",
    "        # ...\n",
    "    \n",
    "    def method1(self, ...):\n",
    "        # method definition\n",
    "```\n",
    "\n",
    "\n",
    "Here are some rules to creating a class in Python:\n",
    "\n",
    "- Classes are created by keyword `class`.\n",
    "- Attributes are the variables that belong to class.\n",
    "- Attributes are always public and can be accessed using dot (.) operator. Eg.: Myclass.Myattribute\n",
    "- Attributes can be made not directly visible by adding a double underscore prefix to their name. Eg.: Myclass.__Hiddenattribute\n"
   ]
  },
  {
   "cell_type": "markdown",
   "metadata": {},
   "source": [
    "### Dog Class Example\n",
    "\n",
    "To understand why classes are useful, let’s revisit the earlier example of tracking information about dogs. Suppose you want to keep track of various dogs, each with attributes like breed and age. You could try using a list, where the first element represents the dog’s breed and the second element represents its age. But what happens if you have 100 dogs? How would you reliably know which element in the list represents which attribute? What if you wanted to add additional properties, like color or weight? Using lists in this way becomes confusing and disorganized. This is where classes come in handy.\n",
    "\n",
    "A class allows you to define a user-defined data structure, grouping data (called attributes) and functions (called methods) together. It acts like a blueprint for creating objects, which are instances of the class.\n",
    "\n",
    "Here’s what a simple `Dog` class might look like:\n",
    "\n",
    "```python\n",
    "class Dog:\n",
    "\n",
    "    # Class Variable shared by all instances\n",
    "    animal = 'dog'      \n",
    "        \n",
    "    # The init method or constructor  \n",
    "    def __init__(self, breed):  \n",
    "        # Instance Variable specific to each instance  \n",
    "        self.breed = breed              \n",
    "    \n",
    "    # Method to set an instance variable   \n",
    "    def set_color(self, color):  \n",
    "        self.color = color  # Instance variable\n",
    "    \n",
    "    # Method to retrieve the instance variable      \n",
    "    def get_color(self):      \n",
    "        return self.color     \n",
    "```\n",
    "\n",
    "In this example:\n",
    "- The `__init__` method is a **constructor**. A constructor is a special method that is called automatically when a new instance of the class is created. It is used to initialize the object’s attributes.\n",
    "- The `self` parameter in methods refers to the current instance of the class. It is used to access the attributes and methods of the instance. When calling a method, you don’t need to provide a value for `self`—Python passes it automatically.\n",
    "\n",
    "By using classes, you not only organize your code better but also gain the ability to easily expand and maintain it as your program grows."
   ]
  },
  {
   "cell_type": "markdown",
   "metadata": {},
   "source": [
    "## What are Objects?\n",
    "\n",
    "A class serves as a blueprint, while an **object** is an instance of that class, representing a specific realization of the blueprint. It’s no longer just an abstract concept; it’s something concrete. For example, a class could describe a dog in general terms, while an object would be a specific dog, such as a bulldog that is seven years old. You can create many different instances (objects) from the same class, each representing a unique dog. Without the class as a guide, you wouldn’t know what attributes (like breed and age) are needed to describe a dog. An **object** is, therefore, an instance of a class.\n",
    "\n",
    "An object consists of:\n",
    "\n",
    "- **State**: Represented by the attributes of the object, which reflect its properties (e.g., a dog's breed or age).\n",
    "- **Behavior**: Represented by the methods of the object, defining how it can interact or respond to other objects (e.g., a dog barking).\n",
    "- **Identity**: A unique identifier for the object, which distinguishes it from other objects and allows it to interact with them."
   ]
  },
  {
   "cell_type": "markdown",
   "metadata": {},
   "source": [
    "### Creating Objects (Instantiation)\n",
    "\n",
    "When an object is created from a class, we say the class has been **instantiated**. All instances of a class share the same behavior and attributes defined by the class, but each instance has its own unique set of attribute values (state).\n",
    "\n",
    "- **Instance variables** are used to hold data unique to each object. These are typically defined within the constructor (`__init__`) or methods using `self`.\n",
    "- **Class variables**, on the other hand, are shared across all instances of the class. These are defined directly within the class body.\n",
    "\n",
    "To create an object in Python, you use the constructor of the class, which is the `__init__` method. This method is automatically called when an object is instantiated. The object that is created is referred to as an **instance** of the class.\n",
    "\n",
    "Example:\n",
    "```python\n",
    "class Dog:\n",
    "    # Class variable shared by all instances\n",
    "    animal = 'dog'\n",
    "    \n",
    "    # Constructor (init method) to initialize instance variables\n",
    "    def __init__(self, breed, age):\n",
    "        self.breed = breed  # Instance variable unique to each object\n",
    "        self.age = age\n",
    "\n",
    "# Creating instances (objects) of the Dog class\n",
    "dog1 = Dog('Pug', 7)\n",
    "dog2 = Dog('Labrador', 4)\n",
    "\n",
    "print(dog1.breed)  # Output: Pug\n",
    "print(dog2.age)    # Output: 4\n",
    "```\n",
    "\n",
    "In this example, `dog1` and `dog2` are both objects (instances) of the `Dog` class, each with their own unique `breed` and `age` attributes, but they share the class variable `animal` (which is set to 'dog')."
   ]
  },
  {
   "cell_type": "markdown",
   "metadata": {},
   "source": [
    "\n",
    "For example, if you have a method that takes no additional arguments, you still need to include `self` in its definition:\n",
    "\n",
    "```python\n",
    "dog = Dog('Labrador')\n",
    "dog.set_color('Brown')\n",
    "print(dog.get_color())  # Outputs: Brown\n",
    "```\n",
    "\n",
    "When you call `dog.set_color('Brown')`, Python translates this internally to `Dog.set_color(dog, 'Brown')`. This is why the first parameter of a class method must always be `self`. It allows methods to interact with the instance's data and other methods."
   ]
  }
 ],
 "metadata": {
  "language_info": {
   "name": "python"
  }
 },
 "nbformat": 4,
 "nbformat_minor": 2
}
