{
 "cells": [
  {
   "cell_type": "markdown",
   "id": "3ba64e92",
   "metadata": {},
   "source": [
    "# Encapsulation in Python\n",
    "\n",
    "Encapsulation is an object-oriented programming concept that refers to restricting access to certain attributes and methods of a class. By controlling access to these elements, we can protect the internal state of an object and ensure that it is modified only in controlled ways.\n",
    "\n",
    "In Python, encapsulation is implemented through different levels of access control:\n",
    "\n",
    "- Public: Accessible from anywhere.\n",
    "- Protected: Indicated by a single underscore (`_`), it is a convention to indicate that the attribute should not be accessed directly.\n",
    "- Private: Indicated by a double underscore (`__`), making the attribute or method inaccessible from outside the class.\n",
    "\n",
    "In this notebook, we will cover:\n",
    "\n",
    "- Public, protected, and private attributes\n",
    "- Accessing private attributes\n",
    "- Getter and setter methods"
   ]
  },
  {
   "cell_type": "markdown",
   "id": "7df1f783",
   "metadata": {},
   "source": [
    "## Public, Protected, and Private Attributes\n",
    "\n",
    "In Python, you can define different levels of access control for class attributes:\n",
    "\n",
    "- **Public** attributes are accessible from outside the class and are defined without any underscores.\n",
    "- **Protected** attributes are indicated by a single underscore (`_`) and are a convention to indicate that these attributes should not be accessed directly, although they can be.\n",
    "- **Private** attributes are indicated by a double underscore (`__`) and are inaccessible from outside the class. Python name-mangles these attributes to prevent external access."
   ]
  },
  {
   "cell_type": "markdown",
   "id": "7b4f2235",
   "metadata": {},
   "source": [
    "### Example:\n",
    "Let's create a class `Car` with public, protected, and private attributes.\n",
    "In this example, the `make` attribute is public, the `_model` attribute is protected, and the `__year` attribute is private. Trying to access the private `__year` attribute results in an `AttributeError`."
   ]
  },
  {
   "cell_type": "code",
   "execution_count": 1,
   "id": "b0ba293a",
   "metadata": {},
   "outputs": [
    {
     "name": "stdout",
     "output_type": "stream",
     "text": [
      "Toyota\n",
      "Camry\n"
     ]
    },
    {
     "ename": "AttributeError",
     "evalue": "'Car' object has no attribute '__year'",
     "output_type": "error",
     "traceback": [
      "\u001b[0;31m---------------------------------------------------------------------------\u001b[0m",
      "\u001b[0;31mAttributeError\u001b[0m                            Traceback (most recent call last)",
      "Cell \u001b[0;32mIn[1], line 13\u001b[0m\n\u001b[1;32m     11\u001b[0m \u001b[38;5;28mprint\u001b[39m(car\u001b[38;5;241m.\u001b[39mmake)          \u001b[38;5;66;03m# Output: Toyota (public)\u001b[39;00m\n\u001b[1;32m     12\u001b[0m \u001b[38;5;28mprint\u001b[39m(car\u001b[38;5;241m.\u001b[39m_model)        \u001b[38;5;66;03m# Output: Camry (protected, accessible but discouraged)\u001b[39;00m\n\u001b[0;32m---> 13\u001b[0m \u001b[38;5;28mprint\u001b[39m(\u001b[43mcar\u001b[49m\u001b[38;5;241;43m.\u001b[39;49m\u001b[43m__year\u001b[49m)        \u001b[38;5;66;03m# AttributeError: 'Car' object has no attribute '__year' (private)\u001b[39;00m\n",
      "\u001b[0;31mAttributeError\u001b[0m: 'Car' object has no attribute '__year'"
     ]
    }
   ],
   "source": [
    "class Car:\n",
    "    def __init__(self, make, model, year):\n",
    "        self.make = make          # Public attribute\n",
    "        self._model = model       # Protected attribute\n",
    "        self.__year = year        # Private attribute\n",
    "\n",
    "# Creating an instance of Car\n",
    "car = Car('Toyota', 'Camry', 2022)\n",
    "\n",
    "# Accessing public, protected, and private attributes\n",
    "print(car.make)          # Output: Toyota (public)\n",
    "print(car._model)        # Output: Camry (protected, accessible but discouraged)\n",
    "print(car.__year)        # AttributeError: 'Car' object has no attribute '__year' (private)"
   ]
  },
  {
   "cell_type": "markdown",
   "id": "df8f2905",
   "metadata": {},
   "source": [
    "## Accessing Private Attributes\n",
    "\n",
    "Although private attributes cannot be accessed directly from outside the class, Python uses name mangling to store them in a modified form. You can access private attributes by using the mangled name."
   ]
  },
  {
   "cell_type": "markdown",
   "id": "36def8ad",
   "metadata": {},
   "source": [
    "### Example:\n",
    "\n",
    "In this example, we access the private attribute `__year` using the name-mangled version `car._Car__year`. This allows access to the private attribute, though it's not recommended for regular use."
   ]
  },
  {
   "cell_type": "code",
   "execution_count": 2,
   "id": "65322ec9",
   "metadata": {},
   "outputs": [
    {
     "name": "stdout",
     "output_type": "stream",
     "text": [
      "2020\n"
     ]
    }
   ],
   "source": [
    "class Car:\n",
    "    def __init__(self, make, model, year):\n",
    "        self.make = make\n",
    "        self._model = model\n",
    "        self.__year = year  # Private attribute\n",
    "\n",
    "# Creating an instance of Car\n",
    "car = Car('Honda', 'Civic', 2020)\n",
    "\n",
    "# Accessing the private attribute using name mangling\n",
    "print(car._Car__year)  # Output: 2020\n"
   ]
  },
  {
   "cell_type": "markdown",
   "id": "53f1d0e5",
   "metadata": {},
   "source": [
    "## Getter and Setter Methods\n",
    "\n",
    "To safely access and modify private attributes, you can use getter and setter methods. These methods allow controlled access to the internal state of an object and provide validation when setting values."
   ]
  },
  {
   "cell_type": "markdown",
   "id": "72d0b5c6",
   "metadata": {},
   "source": [
    "### Example\n",
    "\n",
    "Let's add getter and setter methods to the `Car` class to access and modify the private `__year` attribute.\n",
    "\n",
    "In this example, the getter method `get_year` provides access to the private `__year` attribute, and the setter method `set_year` allows us to modify the value with validation."
   ]
  },
  {
   "cell_type": "code",
   "execution_count": 3,
   "id": "f1615888",
   "metadata": {},
   "outputs": [
    {
     "name": "stdout",
     "output_type": "stream",
     "text": [
      "1965\n",
      "2020\n"
     ]
    }
   ],
   "source": [
    "class Car:\n",
    "    def __init__(self, make, model, year):\n",
    "        self.make = make\n",
    "        self._model = model\n",
    "        self.__year = year\n",
    "\n",
    "    # Getter method for year\n",
    "    def get_year(self):\n",
    "        return self.__year\n",
    "\n",
    "    # Setter method for year with validation\n",
    "    def set_year(self, year):\n",
    "        if year > 1885:  # Cars didn't exist before 1886\n",
    "            self.__year = year\n",
    "        else:\n",
    "            raise ValueError('Year must be greater than 1885.')\n",
    "\n",
    "# Creating an instance of Car\n",
    "car = Car('Ford', 'Mustang', 1965)\n",
    "\n",
    "# Using the getter to access the private attribute\n",
    "print(car.get_year())  # Output: 1965\n",
    "\n",
    "# Using the setter to modify the private attribute\n",
    "car.set_year(2020)\n",
    "print(car.get_year())  # Output: 2020"
   ]
  }
 ],
 "metadata": {
  "kernelspec": {
   "display_name": "Python 3",
   "language": "python",
   "name": "python3"
  },
  "language_info": {
   "codemirror_mode": {
    "name": "ipython",
    "version": 3
   },
   "file_extension": ".py",
   "mimetype": "text/x-python",
   "name": "python",
   "nbconvert_exporter": "python",
   "pygments_lexer": "ipython3",
   "version": "3.12.5"
  }
 },
 "nbformat": 4,
 "nbformat_minor": 5
}
