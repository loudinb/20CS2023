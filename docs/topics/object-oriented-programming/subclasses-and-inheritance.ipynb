{
 "cells": [
  {
   "cell_type": "markdown",
   "id": "11e23f55",
   "metadata": {},
   "source": [
    "# Subclasses and Inheritance in Python\n",
    "\n",
    "Inheritance is one of the fundamental principles of object-oriented programming. It allows a class (subclass) to inherit attributes and methods from another class (parent class), enabling code reuse and extension. In this notebook, we will explore:\n",
    "\n",
    "- Creating subclasses\n",
    "- The `super()` function\n",
    "- Overriding methods\n",
    "- Multiple inheritance\n",
    "\n",
    "Each section will include explanations and examples."
   ]
  },
  {
   "cell_type": "markdown",
   "id": "b2391937",
   "metadata": {},
   "source": [
    "## Creating Subclasses\n",
    "\n",
    "A subclass is a class that inherits from another class, known as the parent or base class. The subclass can inherit or extend the attributes and methods of the parent class."
   ]
  },
  {
   "cell_type": "markdown",
   "id": "8368172f",
   "metadata": {},
   "source": [
    "### Example:\n",
    "Let's define a `Dog` class as the parent class, and then create a subclass `WorkingDog` that inherits from it.\n",
    "\n",
    "In this example, the `WorkingDog` subclass inherits from `Dog`, gaining access to the `bark` method while adding its own behavior (`work`)."
   ]
  },
  {
   "cell_type": "code",
   "execution_count": 1,
   "id": "747c4b44",
   "metadata": {},
   "outputs": [
    {
     "name": "stdout",
     "output_type": "stream",
     "text": [
      "Buddy is barking!\n",
      "Rex is barking!\n",
      "Rex is working as a police dog.\n"
     ]
    }
   ],
   "source": [
    "class Dog:\n",
    "    def __init__(self, breed, name):\n",
    "        self.breed = breed\n",
    "        self.name = name\n",
    "\n",
    "    def bark(self):\n",
    "        return f'{self.name} is barking!'\n",
    "\n",
    "# Subclass WorkingDog that inherits from Dog\n",
    "class WorkingDog(Dog):\n",
    "    def __init__(self, breed, name, job):\n",
    "        super().__init__(breed, name)  # Call the parent class's __init__ method\n",
    "        self.job = job  # New attribute specific to WorkingDog\n",
    "\n",
    "    def work(self):\n",
    "        return f'{self.name} is working as a {self.job}.'\n",
    "\n",
    "# Creating instances\n",
    "dog = Dog('Beagle', 'Buddy')\n",
    "working_dog = WorkingDog('German Shepherd', 'Rex', 'police dog')\n",
    "print(dog.bark())  # Output: Buddy is barking!\n",
    "print(working_dog.bark())  # Inherited method; Output: Rex is barking!\n",
    "print(working_dog.work())  # Output: Rex is working as a police dog."
   ]
  },
  {
   "cell_type": "markdown",
   "id": "bfe4f675",
   "metadata": {},
   "source": [
    "## The `super()` Function\n",
    "\n",
    "The `super()` function is used to call a method from the parent class. This is commonly used when initializing a subclass to ensure the parent class's `__init__` method is called, and any additional setup can be done for the subclass."
   ]
  },
  {
   "cell_type": "markdown",
   "id": "62449a5e",
   "metadata": {},
   "source": [
    "### Example:\n",
    "In the previous example, we used `super()` in the `__init__` method of `WorkingDog` to initialize the attributes from `Dog`.\n",
    "\n",
    "The `super()` function ensures that the parent class's initialization logic runs before adding subclass-specific attributes or methods."
   ]
  },
  {
   "cell_type": "code",
   "execution_count": 2,
   "id": "547c5d93",
   "metadata": {},
   "outputs": [
    {
     "name": "stdout",
     "output_type": "stream",
     "text": [
      "Max is barking!\n",
      "Max is working as a guide dog.\n"
     ]
    }
   ],
   "source": [
    "class WorkingDog(Dog):\n",
    "    def __init__(self, breed, name, job):\n",
    "        super().__init__(breed, name)  # Call to parent class __init__\n",
    "        self.job = job\n",
    "\n",
    "    def work(self):\n",
    "        return f'{self.name} is working as a {self.job}.'\n",
    "\n",
    "working_dog = WorkingDog('Labrador', 'Max', 'guide dog')\n",
    "print(working_dog.bark())  # Inherited from Dog; Output: Max is barking!\n",
    "print(working_dog.work())  # Output: Max is working as a guide dog."
   ]
  },
  {
   "cell_type": "markdown",
   "id": "c48d0098",
   "metadata": {},
   "source": [
    "## Overriding Methods\n",
    "\n",
    "In a subclass, you can override methods defined in the parent class. This means you can define a method with the same name in the subclass, and the subclass version will be used when called on instances of the subclass."
   ]
  },
  {
   "cell_type": "markdown",
   "id": "955b4c50",
   "metadata": {},
   "source": [
    "### Example:\n",
    "Let's override the `bark` method in `WorkingDog` to make it behave differently.\n",
    "\n",
    "In this example, the `bark` method in `WorkingDog` overrides the version in `Dog`, providing a different behavior for `WorkingDog` instances."
   ]
  },
  {
   "cell_type": "code",
   "execution_count": 3,
   "id": "f8b8371c",
   "metadata": {},
   "outputs": [
    {
     "name": "stdout",
     "output_type": "stream",
     "text": [
      "Rocky, a Belgian Malinois, is barking loudly because it is working!\n"
     ]
    }
   ],
   "source": [
    "class WorkingDog(Dog):\n",
    "    def __init__(self, breed, name, job):\n",
    "        super().__init__(breed, name)\n",
    "        self.job = job\n",
    "\n",
    "    # Overriding the bark method\n",
    "    def bark(self):\n",
    "        return f'{self.name}, a {self.breed}, is barking loudly because it is working!'\n",
    "\n",
    "    def work(self):\n",
    "        return f'{self.name} is working as a {self.job}.'\n",
    "\n",
    "# Creating an instance of WorkingDog\n",
    "working_dog = WorkingDog('Belgian Malinois', 'Rocky', 'military dog')\n",
    "print(working_dog.bark())  # Output: Rocky, a Belgian Malinois, is barking loudly because it is working!"
   ]
  },
  {
   "cell_type": "markdown",
   "id": "92c0042a",
   "metadata": {},
   "source": [
    "## Multiple Inheritance\n",
    "\n",
    "Python allows a class to inherit from more than one parent class. This is known as multiple inheritance. In cases where methods or attributes from multiple parents are needed, you can define a subclass that inherits from both."
   ]
  },
  {
   "cell_type": "markdown",
   "id": "06804ba1",
   "metadata": {},
   "source": [
    "### Example:\n",
    "Let's create two parent classes `Pet` and `GuardDog`, and then define a subclass `GuardDogPet` that inherits from both.\n",
    "\n",
    "In this example, `GuardDogPet` inherits attributes and methods from both `Pet` and `GuardDog`, allowing it to play and guard simultaneously."
   ]
  },
  {
   "cell_type": "code",
   "execution_count": 4,
   "id": "4a3ff125",
   "metadata": {},
   "outputs": [
    {
     "name": "stdout",
     "output_type": "stream",
     "text": [
      "Max is playing!\n",
      "The Rottweiler is guarding the house.\n",
      "Max, the Rottweiler, is playing and guarding!\n"
     ]
    }
   ],
   "source": [
    "class Pet:\n",
    "    def __init__(self, name):\n",
    "        self.name = name\n",
    "\n",
    "    def play(self):\n",
    "        return f'{self.name} is playing!'\n",
    "\n",
    "class GuardDog:\n",
    "    def __init__(self, breed):\n",
    "        self.breed = breed\n",
    "\n",
    "    def guard(self):\n",
    "        return f'The {self.breed} is guarding the house.'\n",
    "\n",
    "# Subclass inheriting from both Pet and GuardDog\n",
    "class GuardDogPet(Pet, GuardDog):\n",
    "    def __init__(self, name, breed):\n",
    "        Pet.__init__(self, name)\n",
    "        GuardDog.__init__(self, breed)\n",
    "\n",
    "    def perform_duties(self):\n",
    "        return f'{self.name}, the {self.breed}, is playing and guarding!'\n",
    "\n",
    "# Creating an instance of GuardDogPet\n",
    "guard_dog_pet = GuardDogPet('Max', 'Rottweiler')\n",
    "print(guard_dog_pet.play())  # Output: Max is playing!\n",
    "print(guard_dog_pet.guard())  # Output: The Rottweiler is guarding the house.\n",
    "print(guard_dog_pet.perform_duties())  # Output: Max, the Rottweiler, is playing and guarding!"
   ]
  }
 ],
 "metadata": {
  "kernelspec": {
   "display_name": "Python 3",
   "language": "python",
   "name": "python3"
  },
  "language_info": {
   "codemirror_mode": {
    "name": "ipython",
    "version": 3
   },
   "file_extension": ".py",
   "mimetype": "text/x-python",
   "name": "python",
   "nbconvert_exporter": "python",
   "pygments_lexer": "ipython3",
   "version": "3.12.5"
  }
 },
 "nbformat": 4,
 "nbformat_minor": 5
}
