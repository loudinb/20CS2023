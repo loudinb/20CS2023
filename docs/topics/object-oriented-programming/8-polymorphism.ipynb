{
 "cells": [
  {
   "cell_type": "markdown",
   "metadata": {},
   "source": [
    "# Hands-On: Duck Typing"
   ]
  },
  {
   "cell_type": "code",
   "execution_count": 2,
   "metadata": {},
   "outputs": [
    {
     "name": "stdout",
     "output_type": "stream",
     "text": [
      "Woof!\n"
     ]
    }
   ],
   "source": [
    "class Dog:\n",
    "   def speak(self):\n",
    "      return \"Woof!\"\n",
    "\n",
    "class Cat:\n",
    "   def speak(self):\n",
    "      return \"Meow!\"\n",
    "\n",
    "class Starfish:\n",
    "   pass\n",
    "\n",
    "def make_speak(animal):\n",
    "   print(animal.speak())\n",
    "\n",
    "make_speak(Dog())"
   ]
  },
  {
   "cell_type": "code",
   "execution_count": 3,
   "metadata": {},
   "outputs": [
    {
     "name": "stdout",
     "output_type": "stream",
     "text": [
      "Meow!\n"
     ]
    }
   ],
   "source": [
    "make_speak(Cat())"
   ]
  },
  {
   "cell_type": "code",
   "execution_count": 4,
   "metadata": {},
   "outputs": [
    {
     "ename": "AttributeError",
     "evalue": "'Starfish' object has no attribute 'speak'",
     "output_type": "error",
     "traceback": [
      "\u001b[0;31m---------------------------------------------------------------------------\u001b[0m",
      "\u001b[0;31mAttributeError\u001b[0m                            Traceback (most recent call last)",
      "Cell \u001b[0;32mIn[4], line 1\u001b[0m\n\u001b[0;32m----> 1\u001b[0m \u001b[43mmake_speak\u001b[49m\u001b[43m(\u001b[49m\u001b[43mStarfish\u001b[49m\u001b[43m(\u001b[49m\u001b[43m)\u001b[49m\u001b[43m)\u001b[49m\n",
      "Cell \u001b[0;32mIn[2], line 13\u001b[0m, in \u001b[0;36mmake_speak\u001b[0;34m(animal)\u001b[0m\n\u001b[1;32m     12\u001b[0m \u001b[38;5;28;01mdef\u001b[39;00m \u001b[38;5;21mmake_speak\u001b[39m(animal):\n\u001b[0;32m---> 13\u001b[0m    \u001b[38;5;28mprint\u001b[39m(\u001b[43manimal\u001b[49m\u001b[38;5;241;43m.\u001b[39;49m\u001b[43mspeak\u001b[49m())\n",
      "\u001b[0;31mAttributeError\u001b[0m: 'Starfish' object has no attribute 'speak'"
     ]
    }
   ],
   "source": [
    "make_speak(Starfish())"
   ]
  },
  {
   "cell_type": "markdown",
   "metadata": {},
   "source": [
    "# Hands-On: Method Overriding"
   ]
  },
  {
   "cell_type": "code",
   "execution_count": 5,
   "metadata": {},
   "outputs": [],
   "source": [
    "class Animal:\n",
    "\n",
    "   def __init__(self, name):\n",
    "      self.name = name\n",
    "\n",
    "   def speak(self):\n",
    "      return f\"{self.name} makes a generic animal sound.\"\n",
    "\n",
    "class Dog(Animal):\n",
    "\n",
    "   def speak(self):\n",
    "      return f\"{self.name} says Woof!\"\n",
    "\n",
    "class Cat(Animal):\n",
    "\n",
    "   def jump(self):\n",
    "      return f\"{self.name} jumps high!\""
   ]
  },
  {
   "cell_type": "code",
   "execution_count": 6,
   "metadata": {},
   "outputs": [],
   "source": [
    "bowser = Dog(\"bowser\")\n",
    "tom = Cat(\"Tom\")"
   ]
  },
  {
   "cell_type": "code",
   "execution_count": 7,
   "metadata": {},
   "outputs": [
    {
     "data": {
      "text/plain": [
       "'bowser says Woof!'"
      ]
     },
     "execution_count": 7,
     "metadata": {},
     "output_type": "execute_result"
    }
   ],
   "source": [
    "bowser.speak()"
   ]
  },
  {
   "cell_type": "code",
   "execution_count": 8,
   "metadata": {},
   "outputs": [
    {
     "data": {
      "text/plain": [
       "'Tom makes a generic animal sound.'"
      ]
     },
     "execution_count": 8,
     "metadata": {},
     "output_type": "execute_result"
    }
   ],
   "source": [
    "tom.speak()"
   ]
  },
  {
   "cell_type": "markdown",
   "metadata": {},
   "source": [
    "# Hands-On: Operator Overloading"
   ]
  },
  {
   "cell_type": "code",
   "execution_count": 17,
   "metadata": {},
   "outputs": [],
   "source": [
    "class Potion:\n",
    "    def __init__(self, name, power_level):\n",
    "        self.name = name\n",
    "        self.power_level = power_level\n",
    "\n",
    "    def __mul__(self, other):\n",
    "        # Overload the * operator to mix two potions and increase power\n",
    "        if isinstance(other, Potion):\n",
    "            combined_name = f\"{self.name}-{other.name} Elixir\"\n",
    "            combined_power = self.power_level + other.power_level\n",
    "            return Potion(combined_name, combined_power)\n",
    "        raise ValueError(\"Can only mix with another Potion!\")\n",
    "\n",
    "    def __str__(self):\n",
    "        return f\"Potion: {self.name}, Power Level: {self.power_level}\""
   ]
  },
  {
   "cell_type": "markdown",
   "metadata": {},
   "source": [
    "The `__mul__()` method is called to implement the arithmetic multiplication operation `*`.\n",
    "\n",
    "\n",
    "The `__str__()` method returns a human-readable, or informal, string representation of an object which is called by the built-in print(), str(), and format() functions."
   ]
  },
  {
   "cell_type": "code",
   "execution_count": 18,
   "metadata": {},
   "outputs": [
    {
     "name": "stdout",
     "output_type": "stream",
     "text": [
      "Potion: Healing, Power Level: 50\n"
     ]
    }
   ],
   "source": [
    "# Create a potion\n",
    "healing_potion = Potion(\"Healing\", 50)\n",
    "print(healing_potion)"
   ]
  },
  {
   "cell_type": "code",
   "execution_count": 19,
   "metadata": {},
   "outputs": [
    {
     "name": "stdout",
     "output_type": "stream",
     "text": [
      "Potion: Strength, Power Level: 70\n"
     ]
    }
   ],
   "source": [
    "# Create a potion\n",
    "strength_potion = Potion(\"Strength\", 70)\n",
    "print(strength_potion)"
   ]
  },
  {
   "cell_type": "code",
   "execution_count": 20,
   "metadata": {},
   "outputs": [
    {
     "name": "stdout",
     "output_type": "stream",
     "text": [
      "Potion: Healing-Strength Elixir, Power Level: 120\n"
     ]
    }
   ],
   "source": [
    "# Mix two potions using the overloaded * operator\n",
    "super_potion = healing_potion * strength_potion\n",
    "print(super_potion)"
   ]
  },
  {
   "cell_type": "code",
   "execution_count": 21,
   "metadata": {},
   "outputs": [],
   "source": [
    "class Dog:\n",
    "    pass"
   ]
  },
  {
   "cell_type": "code",
   "execution_count": null,
   "metadata": {},
   "outputs": [],
   "source": []
  }
 ],
 "metadata": {
  "kernelspec": {
   "display_name": "Python 3",
   "language": "python",
   "name": "python3"
  },
  "language_info": {
   "codemirror_mode": {
    "name": "ipython",
    "version": 3
   },
   "file_extension": ".py",
   "mimetype": "text/x-python",
   "name": "python",
   "nbconvert_exporter": "python",
   "pygments_lexer": "ipython3",
   "version": "3.12.5"
  }
 },
 "nbformat": 4,
 "nbformat_minor": 2
}
