{
 "cells": [
  {
   "cell_type": "markdown",
   "id": "b7e42f74",
   "metadata": {},
   "source": [
    "## The `__init__` Method\n",
    "\n",
    "The `__init__` method is used to initialize the attributes of an object when a class is instantiated. It allows us to set the initial state of an object.\n",
    "\n",
    "The `__init__` method is called automatically when a class is instantiated. It is a special method that is defined using the `def` keyword and the name `__init__`. It takes at least one argument, `self`, which is a reference to the object being created.\n",
    "\n",
    "The `__init__` method can take additional arguments, which are used to set the initial state of the object. These arguments are passed to the `__init__` method when the object is created.\n",
    "\n",
    "The basic syntax for defining the `__init__` method is as follows:\n",
    "\n",
    "```python\n",
    "class ClassName:\n",
    "    def __init__(self, arg1, arg2, ...):\n",
    "        self.attr1 = arg1\n",
    "        self.attr2 = arg2\n",
    "        ...\n",
    "```\n"
   ]
  },
  {
   "cell_type": "markdown",
   "id": "9d0ff6aa",
   "metadata": {},
   "source": [
    "### The `Dog` Class:"
   ]
  },
  {
   "cell_type": "code",
   "execution_count": 4,
   "id": "05bb2ec9",
   "metadata": {},
   "outputs": [
    {
     "name": "stdout",
     "output_type": "stream",
     "text": [
      "This dog is a Golden Retriever and is 5 years old.\n"
     ]
    }
   ],
   "source": [
    "class Dog:\n",
    "    def __init__(self, breed, age):\n",
    "        self.breed = breed  # Instance attribute\n",
    "        self.age = age      # Instance attribute\n",
    "\n",
    "    def info(self):\n",
    "        return f'This dog is a {self.breed} and is {self.age} years old.'\n",
    "\n",
    "# Creating an instance of Dog\n",
    "dog = Dog('Golden Retriever', 5)\n",
    "print(dog.info())  # Output: This dog is a Golden Retriever and is 5 years old."
   ]
  },
  {
   "cell_type": "markdown",
   "id": "941a6a32",
   "metadata": {},
   "source": [
    "In this example, the `__init__` method sets the `breed` and `age` attributes for the `Dog` class when we create a new `Dog` object."
   ]
  },
  {
   "cell_type": "markdown",
   "id": "c51aa433",
   "metadata": {},
   "source": [
    "## Attributes and Methods\n",
    "\n",
    "Attributes are used to store the state of an object, while methods define behaviors the object can perform. Both are critical parts of a class."
   ]
  },
  {
   "cell_type": "markdown",
   "id": "6e358250",
   "metadata": {},
   "source": [
    "### The `Dog` Class"
   ]
  },
  {
   "cell_type": "code",
   "execution_count": 5,
   "id": "051ce3a0",
   "metadata": {},
   "outputs": [
    {
     "name": "stdout",
     "output_type": "stream",
     "text": [
      "The Bulldog is barking!\n",
      "This Bulldog is 4 years old.\n"
     ]
    }
   ],
   "source": [
    "class Dog:\n",
    "    def __init__(self, breed, age):\n",
    "        self.breed = breed  # Attribute\n",
    "        self.age = age      # Attribute\n",
    "\n",
    "    def bark(self):  # Method\n",
    "        return f'The {self.breed} is barking!'\n",
    "\n",
    "    def get_age(self):\n",
    "        return f'This {self.breed} is {self.age} years old.'\n",
    "\n",
    "# Creating an instance of Dog\n",
    "dog = Dog('Bulldog', 4)\n",
    "print(dog.bark())      # Output: The Bulldog is barking!\n",
    "print(dog.get_age())   # Output: This Bulldog is 4 years old."
   ]
  },
  {
   "cell_type": "markdown",
   "id": "6fac2e8a",
   "metadata": {},
   "source": [
    "Here, `breed` and `age` are attributes of the `Dog` class, while `bark` and `get_age` are methods that define behaviors."
   ]
  },
  {
   "cell_type": "markdown",
   "id": "ce886d66",
   "metadata": {},
   "source": [
    "## Special Methods\n",
    "\n",
    "Special methods (dunder methods) allow objects to interact with Python's built-in functions and operators. Here we will use the `Dog` class to demonstrate `__repr__`, `__add__`, and `__radd__`."
   ]
  },
  {
   "cell_type": "markdown",
   "id": "8eecbe2e",
   "metadata": {},
   "source": [
    "## `__repr__`"
   ]
  },
  {
   "cell_type": "code",
   "execution_count": 6,
   "id": "ae0181e2",
   "metadata": {},
   "outputs": [
    {
     "name": "stdout",
     "output_type": "stream",
     "text": [
      "Dog(breed=Beagle, age=3)\n"
     ]
    }
   ],
   "source": [
    "class Dog:\n",
    "    def __init__(self, breed, age):\n",
    "        self.breed = breed\n",
    "        self.age = age\n",
    "\n",
    "    def __repr__(self):\n",
    "        return f'Dog(breed={self.breed}, age={self.age})'\n",
    "\n",
    "dog = Dog('Beagle', 3)\n",
    "print(dog)  # Output: Dog(breed=Beagle, age=3)"
   ]
  },
  {
   "cell_type": "markdown",
   "id": "8aabe549",
   "metadata": {},
   "source": [
    "### `__add__` and `__radd__`\n",
    "\n",
    "Let's define how to 'add' the ages of two dogs or a dog and an integer."
   ]
  },
  {
   "cell_type": "code",
   "execution_count": 7,
   "id": "51620421",
   "metadata": {},
   "outputs": [
    {
     "name": "stdout",
     "output_type": "stream",
     "text": [
      "14\n",
      "8\n",
      "8\n"
     ]
    }
   ],
   "source": [
    "class Dog:\n",
    "    def __init__(self, breed, age):\n",
    "        self.breed = breed\n",
    "        self.age = age\n",
    "\n",
    "    def __add__(self, other):\n",
    "        if isinstance(other, Dog):\n",
    "            return self.age + other.age\n",
    "        return self.age + other\n",
    "\n",
    "    def __radd__(self, other):\n",
    "        return self.__add__(other)\n",
    "\n",
    "    def __repr__(self):\n",
    "        return f'Dog(breed={self.breed}, age={self.age})'\n",
    "\n",
    "dog1 = Dog('Poodle', 6)\n",
    "dog2 = Dog('Labrador', 8)\n",
    "print(dog1 + dog2)  # Output: 14 (adding ages)\n",
    "print(dog1 + 2)     # Output: 8 (adding age + integer)\n",
    "print(2 + dog1)     # Output: 8 (integer + age)"
   ]
  },
  {
   "cell_type": "markdown",
   "id": "028682b7",
   "metadata": {},
   "source": [
    "## Methods Mimicking Function Calls and Iterables\n",
    "\n",
    "There are a number of special methods that allow you to customize how objects behave in different contexts.  For example, you can make class instances behave like functions or iterables, by defining the `__call__` and `__iter__` methods, respectively.\n",
    "\n",
    "- `__call__`: This method allows an object to be called like a function.\n",
    "- `__iter__`: This method allows an object to be used in a `for` loop."
   ]
  },
  {
   "cell_type": "markdown",
   "id": "00ac594b",
   "metadata": {},
   "source": [
    "### `__call__`\n",
    "\n",
    "Here, we define the `__call__` method for the `Dog` class, which allows us to call a `Dog` object like a function."
   ]
  },
  {
   "cell_type": "code",
   "execution_count": 8,
   "id": "a20821e4",
   "metadata": {},
   "outputs": [
    {
     "name": "stdout",
     "output_type": "stream",
     "text": [
      "The Border Collie is sitting.\n",
      "The Border Collie doesn’t understand the command.\n"
     ]
    }
   ],
   "source": [
    "class Dog:\n",
    "    def __init__(self, breed, age):\n",
    "        self.breed = breed\n",
    "        self.age = age\n",
    "\n",
    "    def __call__(self, command):\n",
    "        if command == 'sit':\n",
    "            return f'The {self.breed} is sitting.'\n",
    "        return f'The {self.breed} doesn’t understand the command.'\n",
    "\n",
    "dog = Dog('Border Collie', 2)\n",
    "print(dog('sit'))  # Output: The Border Collie is sitting.\n",
    "print(dog('stay'))  # Output: The Border Collie doesn’t understand the command."
   ]
  },
  {
   "cell_type": "markdown",
   "id": "bda46bd3",
   "metadata": {},
   "source": [
    "### `__iter__`\n",
    "\n",
    "Here, we define the `__iter__` method for the `Dog` class, which allows us to use a `Dog` object in a `for` loop.  \n",
    "\n",
    "The `__iter__` method returns an iterator object, which is used to iterate over the `Dog` object.  The iterator object must have a `__next__` method, which returns the next item in the iteration."
   ]
  },
  {
   "cell_type": "code",
   "execution_count": 9,
   "id": "d3340877",
   "metadata": {},
   "outputs": [
    {
     "name": "stdout",
     "output_type": "stream",
     "text": [
      "sit\n",
      "roll over\n",
      "play dead\n"
     ]
    }
   ],
   "source": [
    "class Dog:\n",
    "    def __init__(self, breed, tricks):\n",
    "        self.breed = breed\n",
    "        self.tricks = tricks  # List of tricks\n",
    "        self.index = 0\n",
    "\n",
    "    def __iter__(self):\n",
    "        return self\n",
    "\n",
    "    def __next__(self):\n",
    "        if self.index < len(self.tricks):\n",
    "            trick = self.tricks[self.index]\n",
    "            self.index += 1\n",
    "            return trick\n",
    "        else:\n",
    "            raise StopIteration\n",
    "\n",
    "dog = Dog('German Shepherd', ['sit', 'roll over', 'play dead'])\n",
    "for trick in dog:\n",
    "    print(trick)"
   ]
  },
  {
   "cell_type": "markdown",
   "id": "e02ecd52",
   "metadata": {},
   "source": [
    "## Attributes that Depend on Each Other\n",
    "\n",
    "In some cases, one attribute of a class may depend on another attribute. You can manage this relationship by updating attributes dynamically within methods or by using properties."
   ]
  },
  {
   "cell_type": "markdown",
   "id": "470878df",
   "metadata": {},
   "source": [
    "### Example\n",
    "\n",
    "Let's create a `Rectangle` class where the `area` attribute depends on the `length` and `width` attributes.\n",
    "\n",
    "In this example, the `area` attribute depends on `length` and `width`, and changing one of these dimensions automatically updates the calculated area."
   ]
  },
  {
   "cell_type": "code",
   "execution_count": 10,
   "id": "da61f228",
   "metadata": {},
   "outputs": [
    {
     "name": "stdout",
     "output_type": "stream",
     "text": [
      "Area: 15\n",
      "Updated Area: 30\n"
     ]
    }
   ],
   "source": [
    "class Rectangle:\n",
    "    def __init__(self, length, width):\n",
    "        self.length = length\n",
    "        self.width = width\n",
    "\n",
    "    @property\n",
    "    def area(self):\n",
    "        return self.length * self.width\n",
    "\n",
    "    def set_length(self, length):\n",
    "        self.length = length  # Changing length dynamically updates the area\n",
    "\n",
    "    def set_width(self, width):\n",
    "        self.width = width  # Changing width dynamically updates the area\n",
    "\n",
    "# Creating an instance of Rectangle\n",
    "rect = Rectangle(5, 3)\n",
    "print(f'Area: {rect.area}')  # Output: Area: 15\n",
    "\n",
    "# Updating the width and checking the new area\n",
    "rect.set_width(6)\n",
    "print(f'Updated Area: {rect.area}')  # Output: Updated Area: 30"
   ]
  },
  {
   "cell_type": "markdown",
   "id": "661252b5",
   "metadata": {},
   "source": [
    "## The `property` Function\n",
    "\n",
    "The `property` function in Python allows you to define methods that behave like attributes. This is useful when you want to control access to instance variables or create computed attributes. The `@property` decorator is the most common way to use it."
   ]
  },
  {
   "cell_type": "markdown",
   "id": "97128be8",
   "metadata": {},
   "source": [
    "### Example:\n",
    "We'll extend the `Rectangle` class to show how the `property` function works.\n",
    "\n",
    "In this example, `length`, `width`, and `area` are defined as properties, allowing controlled access and validation."
   ]
  },
  {
   "cell_type": "code",
   "execution_count": 11,
   "id": "ad1e6a2e",
   "metadata": {},
   "outputs": [
    {
     "name": "stdout",
     "output_type": "stream",
     "text": [
      "5\n",
      "Updated length: 10\n",
      "Area: 40\n"
     ]
    }
   ],
   "source": [
    "class Rectangle:\n",
    "    def __init__(self, length, width):\n",
    "        self._length = length  # Using underscore to indicate 'private' attribute\n",
    "        self._width = width\n",
    "\n",
    "    @property\n",
    "    def length(self):\n",
    "        return self._length\n",
    "\n",
    "    @length.setter\n",
    "    def length(self, value):\n",
    "        if value <= 0:\n",
    "            raise ValueError('Length must be positive')\n",
    "        self._length = value\n",
    "\n",
    "    @property\n",
    "    def width(self):\n",
    "        return self._width\n",
    "\n",
    "    @width.setter\n",
    "    def width(self, value):\n",
    "        if value <= 0:\n",
    "            raise ValueError('Width must be positive')\n",
    "        self._width = value\n",
    "\n",
    "    @property\n",
    "    def area(self):\n",
    "        return self._length * self._width\n",
    "\n",
    "# Creating an instance and using property setters/getters\n",
    "rect = Rectangle(5, 4)\n",
    "print(rect.length)  # Output: 5\n",
    "rect.length = 10    # Changing the length using the setter\n",
    "print(f'Updated length: {rect.length}')  # Output: Updated length: 10\n",
    "print(f'Area: {rect.area}')  # Output: Area: 40"
   ]
  },
  {
   "cell_type": "markdown",
   "id": "4cb8897f",
   "metadata": {},
   "source": [
    "## Bound and Unbound Methods\n",
    "\n",
    "In Python, understanding the difference between bound and unbound methods is essential for effective object-oriented programming. A **bound method** is a method that is tied to an instance of a class. When you call a bound method, the instance is automatically passed as the first argument, typically named `self`. This allows the method to access and manipulate the instance's attributes and other methods seamlessly. For example, if you have an instance `dog` of a class `Dog`, calling `dog.bark()` will automatically pass `dog` as the first argument to the `bark` method.\n",
    "\n",
    "On the other hand, an **unbound method** is not associated with any particular instance. To call an unbound method, you must explicitly pass the instance as an argument. This can be done by referencing the method through the class itself, such as `Dog.bark(dog)`. While unbound methods are less common in everyday Python programming, they can be useful in certain scenarios where you need to call a method on an instance but only have access to the class definition.\n",
    "\n",
    "This distinction between bound and unbound methods is crucial because it affects how methods are called and how they behave. Bound methods are the most common type you will encounter in Python, as they provide a straightforward way to work with instance-specific data and behavior. Understanding this concept helps in writing more intuitive and maintainable code."
   ]
  },
  {
   "cell_type": "markdown",
   "id": "195e3ae2",
   "metadata": {},
   "source": [
    "### Bound Method Example:\n",
    "\n",
    "We will demonstrate the difference using the `Dog` class.  In this example, `dog.bark()` is a bound method, as it is tied to the instance `dog`. However, we can also access `bark` as an unbound method via `Dog.bark` and explicitly pass the instance `dog` as an argument."
   ]
  },
  {
   "cell_type": "code",
   "execution_count": 12,
   "id": "9f8f2c8c",
   "metadata": {},
   "outputs": [
    {
     "name": "stdout",
     "output_type": "stream",
     "text": [
      "The Beagle is barking.\n",
      "The Beagle is barking.\n"
     ]
    }
   ],
   "source": [
    "class Dog:\n",
    "    def __init__(self, breed):\n",
    "        self.breed = breed\n",
    "\n",
    "    def bark(self):\n",
    "        return f'The {self.breed} is barking.'\n",
    "\n",
    "# Bound method example\n",
    "dog = Dog('Beagle')\n",
    "print(dog.bark())  # Bound method; Output: The Beagle is barking.\n",
    "\n",
    "# Unbound method example (accessing the class method directly)\n",
    "unbound_bark = Dog.bark\n",
    "print(unbound_bark(dog))  # Unbound method; Output: The Beagle is barking."
   ]
  },
  {
   "cell_type": "markdown",
   "id": "a6a0c97f",
   "metadata": {},
   "source": [
    "### Unbound Method Example:\n",
    "\n",
    "In this example, we access the `bark` method as an unbound method through the `Dog` class and explicitly pass the instance `dog` as an argument."
   ]
  },
  {
   "cell_type": "markdown",
   "id": "2312664d",
   "metadata": {},
   "source": []
  }
 ],
 "metadata": {
  "kernelspec": {
   "display_name": "Python 3",
   "language": "python",
   "name": "python3"
  },
  "language_info": {
   "codemirror_mode": {
    "name": "ipython",
    "version": 3
   },
   "file_extension": ".py",
   "mimetype": "text/x-python",
   "name": "python",
   "nbconvert_exporter": "python",
   "pygments_lexer": "ipython3",
   "version": "3.12.5"
  }
 },
 "nbformat": 4,
 "nbformat_minor": 5
}
