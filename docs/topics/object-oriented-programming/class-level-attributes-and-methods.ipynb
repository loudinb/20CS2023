{
 "cells": [
  {
   "cell_type": "markdown",
   "id": "e593b363",
   "metadata": {},
   "source": [
    "# Class-Level Attributes and Methods in Python\n",
    "\n",
    "In Python, class-level attributes and methods are shared across all instances of a class. These attributes and methods are associated with the class itself, rather than any particular instance. In this notebook, we will explore:\n",
    "\n",
    "- Class-level attributes\n",
    "- Class methods using the `@classmethod` decorator\n",
    "- Static methods using the `@staticmethod` decorator\n",
    "\n",
    "Each section will include explanations and examples to demonstrate these concepts."
   ]
  },
  {
   "cell_type": "markdown",
   "id": "7612279b",
   "metadata": {},
   "source": [
    "## Class-Level Attributes\n",
    "\n",
    "A class-level attribute is shared by all instances of the class. It is defined within the class body, but outside any instance methods. Class-level attributes can be accessed either via the class itself or through an instance."
   ]
  },
  {
   "cell_type": "markdown",
   "id": "5d4fdc4e",
   "metadata": {},
   "source": [
    "### Example:\n",
    "Let's define a `Dog` class with a class-level attribute `species`, which will be the same for all instances of `Dog`.\n",
    "\n",
    "In this example, the `species` attribute is shared by all instances of `Dog` and can be accessed either through the class or through individual instances."
   ]
  },
  {
   "cell_type": "code",
   "execution_count": 1,
   "id": "c4d4bab5",
   "metadata": {},
   "outputs": [
    {
     "name": "stdout",
     "output_type": "stream",
     "text": [
      "Canis familiaris\n",
      "Canis familiaris\n",
      "Canis familiaris\n"
     ]
    }
   ],
   "source": [
    "class Dog:\n",
    "    species = 'Canis familiaris'  # Class-level attribute\n",
    "\n",
    "    def __init__(self, breed, name):\n",
    "        self.breed = breed  # Instance-level attribute\n",
    "        self.name = name    # Instance-level attribute\n",
    "\n",
    "# Accessing class-level attribute via an instance\n",
    "dog1 = Dog('Golden Retriever', 'Buddy')\n",
    "dog2 = Dog('Beagle', 'Charlie')\n",
    "print(dog1.species)  # Output: Canis familiaris\n",
    "print(dog2.species)  # Output: Canis familiaris\n",
    "\n",
    "# Accessing class-level attribute via the class\n",
    "print(Dog.species)  # Output: Canis familiaris"
   ]
  },
  {
   "cell_type": "markdown",
   "id": "fda4d4f2",
   "metadata": {},
   "source": [
    "## Class Methods\n",
    "\n",
    "A class method is a method that operates on the class itself, rather than an instance. It can modify class-level attributes and is defined using the `@classmethod` decorator. The first parameter of a class method is `cls`, which refers to the class (similar to how `self` refers to the instance in instance methods).\n",
    "\n",
    "Unlike instance methods that can be bound or unbound, class methods are always bound to the class itself.  This means that they can be called on the class or on an instance of the class."
   ]
  },
  {
   "cell_type": "markdown",
   "id": "e95df744",
   "metadata": {},
   "source": [
    "### Example\n",
    "We'll add a class method to the `Dog` class to count how many dogs have been created.\n",
    "\n",
    "In this example, the `get_dog_count` class method is used to access and return the value of the class-level attribute `dog_count`. The class method operates on the class, not on any specific instance."
   ]
  },
  {
   "cell_type": "code",
   "execution_count": null,
   "id": "000a7fc4",
   "metadata": {},
   "outputs": [],
   "source": [
    "class Dog:\n",
    "    species = 'Canis familiaris'  # Class-level attribute\n",
    "    dog_count = 0  # Another class-level attribute to track the number of dogs\n",
    "\n",
    "    def __init__(self, breed, name):\n",
    "        self.breed = breed\n",
    "        self.name = name\n",
    "        Dog.dog_count += 1  # Increment the class-level dog count on each new instance\n",
    "\n",
    "    @classmethod\n",
    "    def get_dog_count(cls):\n",
    "        return f'Total number of dogs: {cls.dog_count}'\n",
    "\n",
    "# Creating instances of Dog\n",
    "dog1 = Dog('Poodle', 'Max')\n",
    "dog2 = Dog('Labrador', 'Bella')\n",
    "print(Dog.get_dog_count())  # Output: Total number of dogs: 2"
   ]
  },
  {
   "cell_type": "markdown",
   "id": "84ad3ffe",
   "metadata": {},
   "source": [
    "## Static Methods\n",
    "\n",
    "A static method is a method that neither modifies class-level attributes nor accesses instance-specific attributes. It is essentially a function that belongs to a class but does not require an instance or class reference (no `self` or `cls`). Static methods are defined using the `@staticmethod` decorator."
   ]
  },
  {
   "cell_type": "markdown",
   "id": "dd1998f6",
   "metadata": {},
   "source": [
    "### Example\n",
    "\n",
    "Let's add a static method to the `Dog` class to check if a dog name is valid (i.e., not empty).\n",
    "\n",
    "\n",
    "In this example, `is_valid_name` is a static method that checks if a given string is a valid dog name. It does not require access to class or instance attributes, so it is a static method."
   ]
  },
  {
   "cell_type": "code",
   "execution_count": 2,
   "id": "5fde04aa",
   "metadata": {},
   "outputs": [
    {
     "name": "stdout",
     "output_type": "stream",
     "text": [
      "True\n",
      "False\n"
     ]
    }
   ],
   "source": [
    "class Dog:\n",
    "    species = 'Canis familiaris'\n",
    "    dog_count = 0\n",
    "\n",
    "    def __init__(self, breed, name):\n",
    "        self.breed = breed\n",
    "        self.name = name\n",
    "        Dog.dog_count += 1\n",
    "\n",
    "    @classmethod\n",
    "    def get_dog_count(cls):\n",
    "        return f'Total number of dogs: {cls.dog_count}'\n",
    "\n",
    "    @staticmethod\n",
    "    def is_valid_name(name):\n",
    "        return bool(name) and name.isalpha()\n",
    "\n",
    "# Using the static method\n",
    "print(Dog.is_valid_name('Buddy'))  # Output: True\n",
    "print(Dog.is_valid_name('123'))    # Output: False"
   ]
  }
 ],
 "metadata": {
  "kernelspec": {
   "display_name": "Python 3",
   "language": "python",
   "name": "python3"
  },
  "language_info": {
   "codemirror_mode": {
    "name": "ipython",
    "version": 3
   },
   "file_extension": ".py",
   "mimetype": "text/x-python",
   "name": "python",
   "nbconvert_exporter": "python",
   "pygments_lexer": "ipython3",
   "version": "3.12.5"
  }
 },
 "nbformat": 4,
 "nbformat_minor": 5
}
