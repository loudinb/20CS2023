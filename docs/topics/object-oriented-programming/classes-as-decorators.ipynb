{
 "cells": [
  {
   "cell_type": "markdown",
   "id": "cd01e33b",
   "metadata": {},
   "source": [
    "# Classes as Decorators in Python\n",
    "\n",
    "In Python, decorators are typically functions that modify the behavior of another function or method. However, you can also use classes as decorators. By defining the `__call__` method in a class, instances of the class can behave like functions and be used to wrap or modify other functions.\n",
    "\n",
    "Using classes as decorators can provide more flexibility, allowing decorators to maintain state across multiple calls.\n",
    "\n",
    "In this notebook, we will cover:\n",
    "\n",
    "- Introduction to decorators\n",
    "- How to use classes as decorators\n",
    "- Examples of class-based decorators"
   ]
  },
  {
   "cell_type": "markdown",
   "id": "40345a85",
   "metadata": {},
   "source": [
    "## Introduction to Decorators\n",
    "\n",
    "A decorator is a function that takes another function as input and modifies or extends its behavior without explicitly modifying the function itself. Decorators are often used in Python to add functionality to functions in a clean and reusable way."
   ]
  },
  {
   "cell_type": "markdown",
   "id": "ba401055",
   "metadata": {},
   "source": [
    "### Example of a Function-Based Decorator:\n",
    "\n",
    "In this example, the `my_decorator` function wraps the `say_hello` function, adding behavior before and after the original function call."
   ]
  },
  {
   "cell_type": "code",
   "execution_count": 1,
   "id": "e475e59f",
   "metadata": {},
   "outputs": [
    {
     "name": "stdout",
     "output_type": "stream",
     "text": [
      "Before the function call\n",
      "Hello, Alice!\n",
      "After the function call\n"
     ]
    }
   ],
   "source": [
    "def my_decorator(func):\n",
    "    def wrapper(*args, **kwargs):\n",
    "        print('Before the function call')\n",
    "        result = func(*args, **kwargs)\n",
    "        print('After the function call')\n",
    "        return result\n",
    "    return wrapper\n",
    "\n",
    "# Applying the decorator\n",
    "@my_decorator\n",
    "def say_hello(name):\n",
    "    print(f'Hello, {name}!')\n",
    "\n",
    "say_hello('Alice')"
   ]
  },
  {
   "cell_type": "markdown",
   "id": "4295ce80",
   "metadata": {},
   "source": [
    "## Using Classes as Decorators\n",
    "\n",
    "A class can be used as a decorator if it defines the `__call__` method. This method allows instances of the class to be called like a function, thus enabling them to wrap other functions in a similar way to function-based decorators."
   ]
  },
  {
   "cell_type": "markdown",
   "id": "faa1926a",
   "metadata": {},
   "source": [
    "### Example:\n",
    "Let's create a class `MyDecorator` that acts as a decorator, adding behavior before and after a function call.\n",
    "\n",
    "In this example, the `MyDecorator` class acts as a decorator. The `__call__` method allows instances of the class to behave like a function and wrap the `greet` function, adding behavior before and after the function is executed."
   ]
  },
  {
   "cell_type": "code",
   "execution_count": 3,
   "id": "0d593f91",
   "metadata": {},
   "outputs": [
    {
     "name": "stdout",
     "output_type": "stream",
     "text": [
      "Before the function call\n",
      "Hello, Bob!\n",
      "After the function call\n"
     ]
    }
   ],
   "source": [
    "class MyDecorator:\n",
    "    def __init__(self, func):\n",
    "        self.func = func\n",
    "\n",
    "    def __call__(self, *args, **kwargs):\n",
    "        print('Before the function call')\n",
    "        result = self.func(*args, **kwargs)\n",
    "        print('After the function call')\n",
    "        return result\n",
    "\n",
    "# Applying the class-based decorator\n",
    "@MyDecorator\n",
    "def greet(name):\n",
    "    print(f'Hello, {name}!')\n",
    "\n",
    "greet('Bob')"
   ]
  },
  {
   "cell_type": "markdown",
   "id": "ebb56929",
   "metadata": {},
   "source": [
    "## Benefits of Class-Based Decorators\n",
    "\n",
    "While function-based decorators are common, using classes as decorators offers several benefits:\n",
    "\n",
    "- **State Management**: With class-based decorators, you can easily maintain state across multiple calls by using instance variables.\n",
    "- **Flexibility**: Classes allow for more complex logic and structure in the decorator compared to a simple function-based decorator."
   ]
  },
  {
   "cell_type": "markdown",
   "id": "e383e0e8",
   "metadata": {},
   "source": [
    "### Example: Managing State\n",
    "\n",
    "Let's create a class-based decorator that counts how many times a decorated function has been called.\n",
    "\n",
    "In this example, the `CallCounter` class-based decorator maintains the count of how many times the `say_hello` function has been called. This would be difficult to achieve with a simple function-based decorator."
   ]
  },
  {
   "cell_type": "code",
   "execution_count": 4,
   "id": "89b62ab3",
   "metadata": {},
   "outputs": [
    {
     "name": "stdout",
     "output_type": "stream",
     "text": [
      "Function has been called 1 times\n",
      "Hello, Alice!\n",
      "Function has been called 2 times\n",
      "Hello, Bob!\n"
     ]
    }
   ],
   "source": [
    "class CallCounter:\n",
    "    def __init__(self, func):\n",
    "        self.func = func\n",
    "        self.count = 0\n",
    "\n",
    "    def __call__(self, *args, **kwargs):\n",
    "        self.count += 1\n",
    "        print(f'Function has been called {self.count} times')\n",
    "        return self.func(*args, **kwargs)\n",
    "\n",
    "# Applying the class-based decorator\n",
    "@CallCounter\n",
    "def say_hello(name):\n",
    "    print(f'Hello, {name}!')\n",
    "\n",
    "say_hello('Alice')  # Function has been called 1 times\n",
    "say_hello('Bob')    # Function has been called 2 times"
   ]
  },
  {
   "cell_type": "code",
   "execution_count": null,
   "id": "c7384d27",
   "metadata": {},
   "outputs": [],
   "source": []
  }
 ],
 "metadata": {
  "kernelspec": {
   "display_name": "Python 3",
   "language": "python",
   "name": "python3"
  },
  "language_info": {
   "codemirror_mode": {
    "name": "ipython",
    "version": 3
   },
   "file_extension": ".py",
   "mimetype": "text/x-python",
   "name": "python",
   "nbconvert_exporter": "python",
   "pygments_lexer": "ipython3",
   "version": "3.12.5"
  }
 },
 "nbformat": 4,
 "nbformat_minor": 5
}
