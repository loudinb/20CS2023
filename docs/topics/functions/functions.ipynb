{
 "cells": [
  {
   "cell_type": "markdown",
   "metadata": {},
   "source": [
    "# Functions\n",
    "\n",
    "Functions are reusable blocks of code that perform a specific task. They help in organizing code, making it more readable and maintainable. Let's start with a simple function:"
   ]
  },
  {
   "cell_type": "code",
   "execution_count": 1,
   "metadata": {},
   "outputs": [
    {
     "name": "stdout",
     "output_type": "stream",
     "text": [
      "Hello, Alice!\n"
     ]
    }
   ],
   "source": [
    "def greet(name):\n",
    "    return f\"Hello, {name}!\"\n",
    "\n",
    "print(greet(\"Alice\"))"
   ]
  },
  {
   "cell_type": "markdown",
   "metadata": {},
   "source": [
    "```python\n",
    "def greet(name):\n",
    "    return f\"Hello, {name}!\"\n",
    "```\n",
    "\n",
    "The keyword `def` indicates the start of a function definition.  Every function is defined by the following components:  \n",
    "\n",
    "- **Function signature**: A function's signature defines the name of the function and its parameters. In this case, the function is named `greet` and it has one parameter `name`.\n",
    "- **Function body**: The body of the function is indented by 4 spaces. It contains the code that defines what the function does. \n",
    "- **Return statement**: The `return` statement is used to return a value from the function. In this case, the function returns a greeting message. The function execution stops when the `return` statement is executed.\n",
    "\n",
    "```{note}\n",
    "The `return` statement is optional. If a function does not contain a `return` statement, it implicitly returns `None`. In some programming languages, functions that do not return a value are called procedures.  However, in Python, all functions return a value, even if it is `None`.\n",
    "```"
   ]
  },
  {
   "cell_type": "markdown",
   "metadata": {},
   "source": [
    "## Namespaces\n",
    "\n",
    "In Python, namespaces are conceptual regions that hold mappings between names (identifiers) and the objects they refer to. These regions exist at different levels in a Python program:\n",
    "\n",
    "1. **Global namespace**: This is the top-level namespace in a Python module. It contains names defined at the module level.\n",
    "2. **Local namespace**: These are created for each function call and contain names local to that function. When the function is called, a new local namespace is created, and when the function returns, the namespace is **destroyed**.\n",
    "3. **Built-in namespace**: This contains Python's built-in functions and exceptions.\n",
    "\n",
    "A namespace behaves like a dictionary where the keys are the names (as strings), and the values are references to objects in memory. Python provides built-in functions to access these namespace dictionaries:\n",
    "\n",
    "- `globals()`: Returns a dictionary representing the current global namespace.\n",
    "- `locals()`: Returns a dictionary representing the current local namespace."
   ]
  },
  {
   "cell_type": "code",
   "execution_count": 2,
   "metadata": {},
   "outputs": [
    {
     "name": "stdout",
     "output_type": "stream",
     "text": [
      "True\n",
      "Hello, Alice!\n",
      "{'x': 10, 'y': 'local'}\n"
     ]
    }
   ],
   "source": [
    "# Define a function in the global namespace\n",
    "def greet(name):\n",
    "    return f\"Hello, {name}!\"\n",
    "\n",
    "# Access the global namespace\n",
    "global_ns = globals()\n",
    "\n",
    "# Check if our function is in the global namespace\n",
    "print(\"greet\" in global_ns)  # Output: True\n",
    "\n",
    "# We can even call the function through the global namespace dictionary\n",
    "print(global_ns[\"greet\"](\"Alice\"))  # Output: Hello, Alice!\n",
    "\n",
    "# Let's look at a local namespace\n",
    "def example_function():\n",
    "    x = 10\n",
    "    y = \"local\"\n",
    "    print(locals())  # This will show the local namespace\n",
    "\n",
    "# Call the function\n",
    "example_function()"
   ]
  },
  {
   "cell_type": "markdown",
   "metadata": {},
   "source": [
    "```{note}\n",
    "We will discuss namespaces in more detail in a future lecture.  For now, it is enough to know that namespaces are regions that hold mappings between names and objects.  And that functions have their own local namespace.\n",
    "```"
   ]
  },
  {
   "cell_type": "markdown",
   "metadata": {},
   "source": [
    "## A Function's Local Namespace\n",
    "\n",
    "Variables defined inside a function are not accessible outside it. This is known as the scope of the variable. There are two types of variable scopes in Python:\n",
    "\n",
    "\n",
    "1. **Global scope**: Variables defined outside any function or those defined inside a function using the `global` keyword are global and can be accessed from anywhere in the program.\n",
    "2. **Local scope**: Variables defined inside a function are local to that function and are not accessible outside it."
   ]
  },
  {
   "cell_type": "code",
   "execution_count": 3,
   "metadata": {},
   "outputs": [
    {
     "name": "stdout",
     "output_type": "stream",
     "text": [
      "Inside function: x = 10\n",
      "Error: name 'x' is not defined\n"
     ]
    }
   ],
   "source": [
    "def local_example():\n",
    "    x = 10\n",
    "    print(f\"Inside function: x = {x}\")\n",
    "\n",
    "local_example()\n",
    "\n",
    "try:\n",
    "    print(f\"Outside function: x = {x}\")\n",
    "except NameError as e:\n",
    "    print(f\"Error: {e}\")"
   ]
  },
  {
   "cell_type": "markdown",
   "metadata": {},
   "source": [
    "### Variables from the Global Namespace\n",
    "\n",
    "A function can access variables from the global namespace. However, if a function tries to modify a global variable, it will create a new local variable with the same name, and the global variable will remain unchanged."
   ]
  },
  {
   "cell_type": "code",
   "execution_count": 10,
   "metadata": {},
   "outputs": [
    {
     "name": "stdout",
     "output_type": "stream",
     "text": [
      "Inside function: global_var = 100\n",
      "Outside function: global_var = 100\n"
     ]
    }
   ],
   "source": [
    "global_var = 100\n",
    "\n",
    "def access_global():\n",
    "    print(f\"Inside function: global_var = {global_var}\")\n",
    "\n",
    "access_global()\n",
    "print(f\"Outside function: global_var = {global_var}\")"
   ]
  },
  {
   "cell_type": "markdown",
   "metadata": {},
   "source": [
    "```{note}\n",
    "You can use the `global` keyword to modify a global variable from inside a function. However, just because you can doesn't mean you should. Modifying global variables from inside functions can make the code harder to understand and maintain, and it is generally considered bad practice.\n",
    "```"
   ]
  },
  {
   "cell_type": "markdown",
   "metadata": {},
   "source": [
    "## Parameters and Arguments\n",
    "\n",
    "The word \"parameter\" and \"argument\" are often used interchangeably, but they have different meanings in the context of functions.\n",
    "\n",
    "You can think of parameters as placeholders for arguments. When you call a function, you pass arguments to the function, and these arguments are assigned to the corresponding parameters in the function definition.\n",
    "\n",
    "- **Parameters**: These are the names used in the function definition to refer to the arguments passed to the function. They are defined in the function signature.\n",
    "- **Arguments**: These are the values passed to the function when it is called.  When you call a function, you pass arguments to the function."
   ]
  },
  {
   "cell_type": "markdown",
   "metadata": {},
   "source": [
    "### Passing Arguments\n",
    "\n",
    "There are two ways to pass arguments to a function in Python:\n",
    "\n",
    "1. **Positional arguments**: These are arguments passed to a function in the order they are defined in the function signature.\n",
    "2. **Keyword arguments**: These are arguments passed to a function with the parameter name as a keyword."
   ]
  },
  {
   "cell_type": "code",
   "execution_count": 4,
   "metadata": {},
   "outputs": [
    {
     "name": "stdout",
     "output_type": "stream",
     "text": [
      "Alice is 30 years old and lives in New York.\n",
      "Bob is 25 years old and lives in London.\n"
     ]
    }
   ],
   "source": [
    "def describe_person(name, age, city):\n",
    "    return f\"{name} is {age} years old and lives in {city}.\"\n",
    "\n",
    "# Positional arguments\n",
    "print(describe_person(\"Alice\", 30, \"New York\"))\n",
    "\n",
    "# Keyword arguments\n",
    "print(describe_person(city=\"London\", name=\"Bob\", age=25))"
   ]
  },
  {
   "cell_type": "markdown",
   "metadata": {},
   "source": [
    "```{note}\n",
    "Notice that the order of positional arguments matters, while the order of keyword arguments does not.\n",
    "```"
   ]
  },
  {
   "cell_type": "markdown",
   "metadata": {},
   "source": [
    "### Mixing Positional and Keyword Arguments\n",
    "\n",
    "When calling a function, you can mix positional and keyword arguments. However, positional arguments must come before keyword arguments.  Let's see an example:"
   ]
  },
  {
   "cell_type": "code",
   "execution_count": 5,
   "metadata": {},
   "outputs": [
    {
     "name": "stdout",
     "output_type": "stream",
     "text": [
      "Hello, Alice! How are you?\n",
      "Hello, Alice! How are you?\n",
      "Hello, Alice! How are you?\n"
     ]
    }
   ],
   "source": [
    "def greet(name, message):\n",
    "    print(f\"Hello, {name}! {message}\")\n",
    "\n",
    "# Positional arguments\n",
    "greet(\"Alice\", \"How are you?\")\n",
    "# Keyword arguments\n",
    "greet(message=\"How are you?\", name=\"Alice\")\n",
    "\n",
    "# Mixing positional and keyword arguments\n",
    "greet(\"Alice\", message=\"How are you?\")"
   ]
  },
  {
   "cell_type": "markdown",
   "metadata": {},
   "source": [
    "### Changing Arguments\n",
    "\n",
    "In Python, arguments are passed by assignment, meaning a reference to the object is passed to the function. If you pass an immutable object (like a string, number, or tuple), the function cannot modify the original object, as its value cannot be changed. In contrast, if you pass a mutable object (like a list or dictionary) and modify it inside the function, those changes will be reflected outside the function, since the original object is altered.\n",
    "\n",
    "**Don't confuse this with the behavior of global variables, which we discussed earlier.**"
   ]
  },
  {
   "cell_type": "code",
   "execution_count": 11,
   "metadata": {},
   "outputs": [
    {
     "name": "stdout",
     "output_type": "stream",
     "text": [
      "10\n",
      "10\n"
     ]
    }
   ],
   "source": [
    "def subtract(x1, x2):\n",
    "    z = x2 - x1\n",
    "    x1 = 50\n",
    "    return z\n",
    "\n",
    "a = 10\n",
    "b = subtract(a, 20)\n",
    "\n",
    "print(b)  # Output: 10\n",
    "print(a)  # Output: 10 (a is not changed)"
   ]
  },
  {
   "cell_type": "markdown",
   "metadata": {},
   "source": [
    "In contrast, when you pass a mutable object to a function and modify it inside the function, the changes are reflected outside the function:"
   ]
  },
  {
   "cell_type": "code",
   "execution_count": 12,
   "metadata": {},
   "outputs": [
    {
     "name": "stdout",
     "output_type": "stream",
     "text": [
      "10\n",
      "[20, 50]\n"
     ]
    }
   ],
   "source": [
    "def subtract(numbers):\n",
    "    z = numbers[0] - numbers[1]\n",
    "    numbers[1] = 50\n",
    "    return z\n",
    "    \n",
    "a = [20, 10]  \n",
    "b = subtract(a)\n",
    "\n",
    "print(b)  # Output: 10\n",
    "print(a)  # Output: [20, 50]"
   ]
  },
  {
   "cell_type": "markdown",
   "metadata": {},
   "source": [
    "### Default Arguments\n",
    "\n",
    "Sometimes, you may want to provide default values for some parameters in a function. You can do this by assigning a default value to the parameter in the function signature. When the function is called, if a value is not provided for a parameter with a default value, the default value is used.\n",
    "\n",
    "Default arguments must be specified at the end of the parameter list. You cannot have a non-default argument after a default argument."
   ]
  },
  {
   "cell_type": "code",
   "execution_count": null,
   "metadata": {},
   "outputs": [],
   "source": [
    "def greet_with_title(name, title=\"Mr.\"):\n",
    "    return f\"Hello, {title} {name}!\"\n",
    "\n",
    "print(greet_with_title(\"Smith\"))\n",
    "print(greet_with_title(\"Johnson\", \"Dr.\"))"
   ]
  },
  {
   "cell_type": "markdown",
   "metadata": {},
   "source": [
    "Default arguments in Python are evaluated only once, at the time of function definition. This behavior has different implications depending on whether the default argument is mutable or immutable:\n",
    "\n",
    "- Immutable defaults (such as numbers, strings, or tuples) generally behave as expected across function calls.\n",
    "- Mutable defaults (such as lists, dictionaries, or sets) are shared across all function calls that use the default value. This can lead to unexpected behavior known as the \"mutable default argument trap.\"\n",
    "\n",
    "When a mutable default argument is modified within the function, these changes persist and affect subsequent function calls. This occurs because Python creates the mutable object once during function definition, not each time the function is called. The default argument exists in the function's namespace (the scope associated with the function object itself) as a shared object."
   ]
  },
  {
   "cell_type": "code",
   "execution_count": 16,
   "metadata": {},
   "outputs": [
    {
     "name": "stdout",
     "output_type": "stream",
     "text": [
      "[1]\n",
      "[1, 2]\n"
     ]
    }
   ],
   "source": [
    "def add_item(item, lst=[]):\n",
    "    lst.append(item)\n",
    "    return lst\n",
    "\n",
    "print(add_item(1)) # [1]\n",
    "print(add_item(2)) # [1, 2]"
   ]
  },
  {
   "cell_type": "markdown",
   "metadata": {},
   "source": [
    "To avoid potential issues, it's often recommended to use `None` as a default for mutable arguments and create a new mutable object inside the function when needed."
   ]
  },
  {
   "cell_type": "code",
   "execution_count": 17,
   "metadata": {},
   "outputs": [
    {
     "name": "stdout",
     "output_type": "stream",
     "text": [
      "[1]\n",
      "[2]\n"
     ]
    }
   ],
   "source": [
    "def add_item(item, lst=None):\n",
    "    if lst is None:\n",
    "        lst = []  # Initialize a new list if no list is provided\n",
    "    lst.append(item)\n",
    "    return lst\n",
    "\n",
    "print(add_item(1)) # [1]\n",
    "print(add_item(2)) # [2]"
   ]
  },
  {
   "cell_type": "markdown",
   "metadata": {},
   "source": [
    "### Variable Number of Arguments\n",
    "\n",
    "In Python, you can define functions that accept a variable number of arguments using argument packing and unpacking. The `*` and `**` operators allow you to define functions that accept a variable number of positional and keyword arguments, respectively. Although the parameter names `*args` and `**kwargs` are commonly used, you can choose any names you like."
   ]
  },
  {
   "cell_type": "code",
   "execution_count": null,
   "metadata": {},
   "outputs": [],
   "source": [
    "def sum_all(*args):\n",
    "    return sum(args)\n",
    "\n",
    "print(sum_all(1, 2, 3))\n",
    "print(sum_all(10, 20, 30, 40))"
   ]
  },
  {
   "cell_type": "markdown",
   "metadata": {},
   "source": [
    "The order of the parameters is important.  The `*args` parameter must come before the `**kwargs` parameter.  Additionally, notice that the positional argument is packed into a tuple, and the keyword arguments are **packed** into a dictionary."
   ]
  },
  {
   "cell_type": "code",
   "execution_count": 19,
   "metadata": {},
   "outputs": [
    {
     "name": "stdout",
     "output_type": "stream",
     "text": [
      "Positional arguments: (1, 2, 3)\n",
      "Keyword arguments: {'name': 'Alice', 'age': 25}\n"
     ]
    }
   ],
   "source": [
    "def variable_args(*args, **kwargs):\n",
    "    print(\"Positional arguments:\", args)\n",
    "    print(\"Keyword arguments:\", kwargs)\n",
    "\n",
    "variable_args(1, 2, 3, name=\"Alice\", age=25)"
   ]
  },
  {
   "cell_type": "markdown",
   "metadata": {},
   "source": [
    "## Return Values\n",
    "\n",
    "Functions can return one or more values using the `return` statement. When a function is called, the `return` statement stops the function's execution and returns the specified value(s) to the caller. If a function does not contain a `return` statement, it implicitly returns `None`.\n",
    "\n",
    "\n",
    "When multiple functions are returned, they are **packed** into a tuple. You can **unpack** the tuple into separate variables when calling the function."
   ]
  },
  {
   "cell_type": "code",
   "execution_count": 21,
   "metadata": {},
   "outputs": [
    {
     "name": "stdout",
     "output_type": "stream",
     "text": [
      "Quotient: 3, Remainder: 2\n"
     ]
    }
   ],
   "source": [
    "def divide_and_remainder(a, b):\n",
    "    return a // b, a % b\n",
    "\n",
    "quotient, remainder = divide_and_remainder(17, 5)\n",
    "print(f\"Quotient: {quotient}, Remainder: {remainder}\")"
   ]
  },
  {
   "cell_type": "markdown",
   "metadata": {},
   "source": [
    "You can have multiple `return` statements in a function. However, only one `return` statement is executed, and the function stops executing when the `return` statement is reached."
   ]
  },
  {
   "cell_type": "code",
   "execution_count": 22,
   "metadata": {},
   "outputs": [
    {
     "name": "stdout",
     "output_type": "stream",
     "text": [
      "10\n",
      "10\n"
     ]
    }
   ],
   "source": [
    "def absolute_value(x):\n",
    "    if x >= 0:\n",
    "        return x\n",
    "    else:\n",
    "        return -x\n",
    "    \n",
    "\n",
    "print(absolute_value(10))  # Output: 10\n",
    "print(absolute_value(-10))  # Output: 10"
   ]
  },
  {
   "cell_type": "markdown",
   "metadata": {},
   "source": [
    "## Recursive Functions\n",
    "\n",
    "Recursive functions are a programming technique where a function solves a problem by calling itself. They are particularly useful for tackling problems that can be broken down into smaller, similar subproblems. Recursive functions are commonly found in mathematics, where many concepts and algorithms naturally lend themselves to recursive definitions. \n",
    "\n",
    "Every recursive function must have two essential components:\n",
    "\n",
    "1. **Base Case**:\n",
    "   - This is the simplest version of the problem.\n",
    "   - It can be solved directly without further recursion.\n",
    "   - The base case serves as the stopping point for the recursion.\n",
    "\n",
    "2. **Recursive Case**:\n",
    "   - This part handles more complex versions of the problem.\n",
    "   - It calls the function itself with a simpler version of the problem.\n",
    "   - Through these self-calls, the problem gradually simplifies towards the base case.\n",
    "\n",
    "When using recursion, it's crucial to ensure that the function **always progresses towards the base case**. If designed incorrectly, the function may call itself indefinitely, leading to a stack overflow error as each call consumes memory."
   ]
  },
  {
   "cell_type": "code",
   "execution_count": 23,
   "metadata": {},
   "outputs": [
    {
     "name": "stdout",
     "output_type": "stream",
     "text": [
      "Factorial of 5: 120\n"
     ]
    }
   ],
   "source": [
    "def factorial(n):\n",
    "    if n == 0 or n == 1:\n",
    "        return 1\n",
    "    else:\n",
    "        return n * factorial(n - 1)\n",
    "\n",
    "print(f\"Factorial of 5: {factorial(5)}\")"
   ]
  },
  {
   "cell_type": "markdown",
   "metadata": {},
   "source": [
    "```{note}\n",
    "Careful design and thorough testing are essential when implementing recursive functions, as they can be difficult to understand and debug.\n",
    "```"
   ]
  },
  {
   "cell_type": "markdown",
   "metadata": {},
   "source": [
    "## Function Documentation\n",
    "\n",
    "Documentation is an essential part of writing maintainable code. In Python, you can document functions using docstrings. A docstring is a string literal that occurs as the first statement in a module, function, class, or method definition. It is used to describe the purpose and behavior of the function.\n",
    "\n",
    "```{note}\n",
    "Remember, in this course we follow Google's Python Style Guide.  You can find the specifics on docstrings [here](https://google.github.io/styleguide/pyguide.html#38-comments-and-docstrings).\n",
    "```"
   ]
  },
  {
   "cell_type": "code",
   "execution_count": 30,
   "metadata": {},
   "outputs": [],
   "source": [
    "from typing import Union\n",
    "\n",
    "\n",
    "def calculate_area(\n",
    "    length: Union[int, float],\n",
    "    width: Union[int, float]\n",
    ") -> Union[int, float]:\n",
    "    \"\"\"Calculates the area of a rectangle.\n",
    "\n",
    "    Args:\n",
    "        length: The length of the rectangle (int or float).\n",
    "        width: The width of the rectangle (int or float).\n",
    "\n",
    "    Returns:\n",
    "        The area of the rectangle as an int or float.\n",
    "    \"\"\"\n",
    "    return length * width"
   ]
  },
  {
   "cell_type": "markdown",
   "metadata": {},
   "source": [
    "You can access the docstring of a function using the `__doc__` attribute."
   ]
  },
  {
   "cell_type": "code",
   "execution_count": 31,
   "metadata": {},
   "outputs": [
    {
     "name": "stdout",
     "output_type": "stream",
     "text": [
      "Calculates the area of a rectangle.\n",
      "\n",
      "    Args:\n",
      "        length: The length of the rectangle (int or float).\n",
      "        width: The width of the rectangle (int or float).\n",
      "\n",
      "    Returns:\n",
      "        The area of the rectangle as an int or float.\n",
      "    \n"
     ]
    }
   ],
   "source": [
    "print(calculate_area.__doc__)"
   ]
  },
  {
   "cell_type": "markdown",
   "metadata": {},
   "source": [
    "The `help()` function can also be used to display the docstring of a function interactively."
   ]
  },
  {
   "cell_type": "code",
   "execution_count": 29,
   "metadata": {},
   "outputs": [
    {
     "name": "stdout",
     "output_type": "stream",
     "text": [
      "Help on function calculate_area in module __main__:\n",
      "\n",
      "calculate_area(length: Union[int, float], width: Union[int, float]) -> Union[int, float]\n",
      "    Calculates the area of a rectangle.\n",
      "\n",
      "    Args:\n",
      "        length: The length of the rectangle (int or float).\n",
      "        width: The width of the rectangle (int or float).\n",
      "\n",
      "    Returns:\n",
      "        The area of the rectangle as an int or float.\n",
      "\n"
     ]
    }
   ],
   "source": [
    "help(calculate_area)"
   ]
  },
  {
   "cell_type": "markdown",
   "metadata": {},
   "source": [
    "## Functions are Objects\n",
    "\n",
    "A first-class object (or first-class citizen) in a programming language is an entity that supports all the fundamental operations typically available to other objects. These operations generally include:\n",
    "\n",
    "- **Assignment**: The object can be assigned to a variable or stored in a data structure.\n",
    "- **Passing as an argument**: The object can be passed as a parameter to a function.\n",
    "- **Returning from a function**: The object can be returned as the result of a function call.\n",
    "- **Dynamic creation**: The object can be created at runtime.\n",
    "- **Storage in data structures**: The object can be stored in containers such as lists, dictionaries, or sets.\n",
    "\n",
    "In Python, functions are treated as first-class objects, meaning they can be used just like any other object. Specifically:\n",
    "\n",
    "- Functions can be assigned to variables.\n",
    "- Functions can be passed as arguments to other functions.\n",
    "- Functions can be returned from other functions.\n",
    "\n",
    "This ability to treat functions as first-class objects enables powerful programming techniques, such as:\n",
    "\n",
    "- **Higher-order functions**: Functions that take other functions as arguments or return them as results.\n",
    "- **Decorators**: A way to modify or extend the behavior of functions without altering their source code.\n",
    "- **Functional programming**: A programming paradigm where computation is expressed through function evaluation, avoiding changes in state or mutable data.\"\n",
    "\n",
    "```{note}\n",
    "These programming techniques are topics that we will cover in future lectures.\n",
    "```\n",
    "\n",
    "Here are some examples that demonstrate how functions can be used as first-class objects in Python."
   ]
  },
  {
   "cell_type": "markdown",
   "metadata": {},
   "source": [
    "### Assigning Functions to Variables"
   ]
  },
  {
   "cell_type": "code",
   "execution_count": 40,
   "metadata": {},
   "outputs": [
    {
     "name": "stdout",
     "output_type": "stream",
     "text": [
      "25\n",
      "25\n",
      "25\n"
     ]
    }
   ],
   "source": [
    "def square(\n",
    "    x: int\n",
    ") -> int:\n",
    "    \"\"\"Returns the square of a number.\n",
    "\n",
    "    Args:\n",
    "        x: An integer.\n",
    "\n",
    "    Returns:\n",
    "        The square of the input number (int)\n",
    "    \"\"\"\n",
    "    return x * x\n",
    "\n",
    "# Calling the function\n",
    "print(square(5))   # Output: 25\n",
    "\n",
    "# Assigning the function to a variable\n",
    "sq = square\n",
    "\n",
    "# Calling the function using the variable\n",
    "print(sq(5))  # Output: 25\n",
    "\n",
    "# Deleting the original function\n",
    "del square\n",
    "\n",
    "# The variable still holds the function\n",
    "print(sq(5))  # Output: 25\n"
   ]
  },
  {
   "cell_type": "markdown",
   "metadata": {},
   "source": [
    "### Passing Functions as Arguments"
   ]
  },
  {
   "cell_type": "code",
   "execution_count": 36,
   "metadata": {},
   "outputs": [
    {
     "name": "stdout",
     "output_type": "stream",
     "text": [
      "Calling square(4): 16\n",
      "Calling sq(4): 16\n",
      "Calling sq(4) after square is deleted: 16\n"
     ]
    }
   ],
   "source": [
    "def square(\n",
    "    x: int\n",
    ") -> int:\n",
    "    \"\"\"Returns the square of a number.\n",
    "    \n",
    "    Args:\n",
    "        x: An integer.\n",
    "\n",
    "    Returns:\n",
    "        The square of the input number (int).    \n",
    "    \"\"\"\n",
    "    return x * x\n",
    "\n",
    "print(f\"Calling square(4): {square(4)}\")\n",
    "\n",
    "# Assign the function to a variable\n",
    "sq = square\n",
    "print(f\"Calling sq(4): {sq(4)}\")\n",
    "\n",
    "# Delete the orignal function\n",
    "del square\n",
    "\n",
    "# The variable still points to the function object\n",
    "print(f\"Calling sq(4) after square is deleted: {sq(4)}\")"
   ]
  },
  {
   "cell_type": "markdown",
   "metadata": {},
   "source": [
    "### Partial Application\n",
    "\n",
    "Partial application is a technique where some of a function's arguments are fixed, creating a new function that requires fewer arguments. This is useful when you want to derive a more specific function from a general one by pre-filling certain arguments. It showcases the concept of functions as first-class objects, as it relies on the following properties of functions in Python:\n",
    "\n",
    "- Functions can be assigned to variables.\n",
    "- Functions can be passed as arguments to other functions.\n",
    "- Functions can be returned from other functions."
   ]
  },
  {
   "cell_type": "markdown",
   "metadata": {},
   "source": [
    "A partial function is a way to fix a certain number of arguments of a function and generate a new function with the remaining arguments. This technique is useful when you want to create a simpler version of a function with some arguments already fixed."
   ]
  },
  {
   "cell_type": "code",
   "execution_count": 41,
   "metadata": {},
   "outputs": [
    {
     "name": "stdout",
     "output_type": "stream",
     "text": [
      "Square of 5: 25\n"
     ]
    }
   ],
   "source": [
    "from functools import partial\n",
    "\n",
    "def power(base, exponent):\n",
    "    return base ** exponent\n",
    "\n",
    "square = partial(power, exponent=2)\n",
    "print(f\"Square of 5: {square(5)}\")"
   ]
  },
  {
   "cell_type": "markdown",
   "metadata": {},
   "source": [
    "### Closures\n",
    "\n",
    "A **closure** is a function that retains access to variables from its surrounding scope, even after that scope has finished executing. In simpler terms, a closure \"remembers\" data from its environment and allows you to use it later, even if the original context is no longer active.\n",
    "\n",
    "Closures are useful for:\n",
    "\n",
    "- Creating functions that retain specific configurations or states.\n",
    "- Encapsulating data to avoid the need for global variables.\n",
    "- Writing more modular and reusable code by allowing functions to carry their own context.\n",
    "\n",
    "How closures work:\n",
    "\n",
    "- **Outer and Inner Functions**: A closure is formed when an inner function is defined within an outer function.\n",
    "- **Access to Outer Variables**: The inner function retains access to variables from the outer function, even after the outer function has completed.\n",
    "- **Returning the Inner Function**: When the outer function returns the inner function, it (the closure) still has access to the outer function's variables."
   ]
  },
  {
   "cell_type": "markdown",
   "metadata": {},
   "source": [
    "The example below demonstrates a key feature of closures in Python where the inner function retains access to variables from its enclosing scope, even after the outer function has finished executing. Here, the `logger` function, when returned by `create_logger`, maintains access to the `log_level` parameter. This allows each created logger to remember its specific log level, enabling customized behavior without the need for global variables or class instances. This closure pattern provides an elegant way to create specialized functions with \"private\" state, showcasing Python's support for functional programming concepts alongside its object-oriented features."
   ]
  },
  {
   "cell_type": "code",
   "execution_count": 42,
   "metadata": {},
   "outputs": [
    {
     "name": "stdout",
     "output_type": "stream",
     "text": [
      "Hello, Alice!\n"
     ]
    }
   ],
   "source": [
    "def create_logger(log_level):\n",
    "    def logger(message):\n",
    "        if log_level == \"INFO\":\n",
    "            print(f\"[INFO] {message}\")\n",
    "        elif log_level == \"WARNING\":\n",
    "            print(f\"[WARNING] {message}\")\n",
    "        elif log_level == \"ERROR\":\n",
    "            print(f\"[ERROR] {message}\")\n",
    "    \n",
    "    return logger\n",
    "\n",
    "# Create different loggers\n",
    "info_logger = create_logger(\"INFO\")\n",
    "warning_logger = create_logger(\"WARNING\")\n",
    "error_logger = create_logger(\"ERROR\")\n",
    "\n",
    "# Use the loggers\n",
    "info_logger(\"Operation completed successfully\")\n",
    "warning_logger(\"Resource usage is high\")\n",
    "error_logger(\"Failed to connect to database\")\n",
    "\n",
    "# Output:\n",
    "# [INFO] Operation completed successfully\n",
    "# [WARNING] Resource usage is high\n",
    "# [ERROR] Failed to connect to database\n",
    "\n",
    "# Later in the code, you can use these loggers without worrying about the log level\n",
    "def perform_operation():\n",
    "    # Some code here\n",
    "    info_logger(\"Operation started\")\n",
    "    # More code\n",
    "    warning_logger(\"Operation taking longer than expected\")\n",
    "    # More code\n",
    "    info_logger(\"Operation completed\")\n",
    "\n",
    "perform_operation()"
   ]
  },
  {
   "cell_type": "markdown",
   "metadata": {},
   "source": [
    "## Anonymous Functions - the Keyword lambda\n",
    "\n",
    "Anonymous functions in Python, also known as lambda functions, are small, single-expression functions defined using the `lambda` keyword. They can take any number of arguments but are limited to one expression. Lambda functions are typically used for short, simple operations where a full function definition would be overly verbose. \n",
    "\n",
    "Lambda functions are useful for:\n",
    "\n",
    "- Defining quick, disposable functions for simple operations, or simple call.\n",
    "- Passing functions as arguments to higher-order functions like `map()`, `filter()`, and `sorted()`.\n",
    "- Writing concise code that enhances readability for simple operations.\n",
    "\n",
    "Lambda functions are defined using the following syntax:\n",
    "\n",
    "```python\n",
    "lambda arguments: expression\n",
    "```\n",
    "\n",
    "The `lambda` keyword is followed by a list of arguments, a colon (`:`), and an expression. The expression is evaluated and returned when the lambda function is called. Lambda functions can have multiple arguments but are limited to a single expression[^single-expression].\n",
    "\n",
    "\n",
    "[^single-expression]: A single expression is a piece of code that produces a value. It cannot contain statements (for loops, if-else, switch), assignments, or multiple expressions."
   ]
  },
  {
   "cell_type": "markdown",
   "metadata": {},
   "source": [
    "Here is a simple example of a lambda function that squares a number:"
   ]
  },
  {
   "cell_type": "code",
   "execution_count": null,
   "metadata": {},
   "outputs": [],
   "source": [
    "square = lambda x: x ** 2\n",
    "print(f\"Square of 7: {square(7)}\")"
   ]
  },
  {
   "cell_type": "markdown",
   "metadata": {},
   "source": [
    "Here is an example that uses the `filter()` function with a lambda function to filter out even numbers from a list:"
   ]
  },
  {
   "cell_type": "code",
   "execution_count": 44,
   "metadata": {},
   "outputs": [
    {
     "name": "stdout",
     "output_type": "stream",
     "text": [
      "[2, 4, 6, 8, 10]\n"
     ]
    }
   ],
   "source": [
    "numbers = [1, 2, 3, 4, 5, 6, 7, 8, 9, 10]\n",
    "even_numbers = list(filter(lambda x: x % 2 == 0, numbers))\n",
    "\n",
    "print(even_numbers)  # Output: [2, 4, 6, 8, 10]"
   ]
  },
  {
   "cell_type": "markdown",
   "metadata": {},
   "source": [
    "Let's break down this example:\n",
    "\n",
    "1. `filter(lambda x: x % 2 == 0, numbers)`\n",
    "   - This applies the lambda function to each element in `numbers`.\n",
    "\n",
    "2. The lambda function `lambda x: x % 2 == 0`:\n",
    "   - `lambda`: Keyword introducing the anonymous function.\n",
    "   - `x`: Parameter representing each number in the list.\n",
    "   - `:`: Separates the parameter from the function body.\n",
    "   - `x % 2 == 0`: The function body and return value. It checks if `x` is even.\n",
    "\n",
    "3. How it works:\n",
    "   - For each number `x` in `numbers`, the lambda function checks if `x % 2 == 0`.\n",
    "   - If true (the number is even), `filter()` includes it in the result.\n",
    "   - If false (the number is odd), `filter()` excludes it.\n",
    "\n",
    "4. `list()` is used to convert the filter object to a list."
   ]
  },
  {
   "cell_type": "markdown",
   "metadata": {},
   "source": [
    "### The `lambda` Construction is Always Replaceable\n",
    "\n",
    "A key concept to understand is that any lambda function can be replaced by a regular function. The `lambda` keyword is simply syntactic sugar[^syntactic-sugar] for creating small, anonymous functions and doesn’t offer any additional functionality. In contrast, functions defined with `def` can handle more complex logic and multiple expressions, making them more versatile.\n",
    "\n",
    "[^syntactic-sugar]: Syntactic sugar refers to language features that make code easier to read or write without changing its core functionality."
   ]
  },
  {
   "cell_type": "code",
   "execution_count": 46,
   "metadata": {},
   "outputs": [
    {
     "name": "stdout",
     "output_type": "stream",
     "text": [
      "Filter list (lambda): [2, 4, 6, 8, 10]\n",
      "Filter list (function): [2, 4, 6, 8, 10]\n"
     ]
    }
   ],
   "source": [
    "# Using lambda\n",
    "numbers = [1, 2, 3, 4, 5, 6, 7, 8, 9, 10]\n",
    "even_numbers_lambda = list(filter(lambda x: x % 2 == 0, numbers))\n",
    "print(f\"Filter list (lambda): {even_numbers_lambda}\")  # Output: [2, 4, 6, 8, 10]\n",
    "\n",
    "# Using a regular function\n",
    "def is_even(x):\n",
    "    return x % 2 == 0\n",
    "\n",
    "even_numbers_function = list(filter(is_even, numbers))\n",
    "print(f\"Filter list (function): {even_numbers_function}\")"
   ]
  },
  {
   "cell_type": "markdown",
   "metadata": {},
   "source": [
    "## 9. Decorators\n",
    "\n",
    "Decorators are a powerful and flexible tool in Python that allow you to modify or extend the behavior of functions or methods in a clean and elegant way, without altering their source code. They are widely used in frameworks like Flask, Django, and FastAPI to add features such as authentication, logging, and caching to web applications.\n",
    "\n",
    "How decorators work:\n",
    "\n",
    "- **Decorator Function**: A decorator is a function that takes another function as input and returns a new function that typically extends or modifies the behavior of the original function.\n",
    "- **Wrapper Function**: Inside the decorator, a wrapper function is defined. This wrapper function is executed in place of the original function and can add pre- or post-execution logic around the original function's behavior.\n",
    "- **Returning the Wrapper**: The decorator returns the wrapper function, which replaces the original function, while still preserving its original functionality and arguments.\n",
    "\n"
   ]
  },
  {
   "cell_type": "code",
   "execution_count": null,
   "metadata": {},
   "outputs": [],
   "source": [
    "def uppercase_decorator(func):\n",
    "    def wrapper():\n",
    "        result = func()\n",
    "        return result.upper()\n",
    "    return wrapper\n",
    "\n",
    "@uppercase_decorator\n",
    "def greet():\n",
    "    return \"hello, world!\"\n",
    "\n",
    "print(greet())"
   ]
  },
  {
   "cell_type": "markdown",
   "metadata": {},
   "source": [
    "```{warning}\n",
    "Do not confuse decorators with partial application. Decorators are used to modify the behavior of a function, such as adding logging or authentication, without changing the function's source code. Partial application, on the other hand, is used to pre-fill a certain number of arguments in a function, creating a new function that requires fewer arguments. While both techniques enhance functionality, decorators modify the behavior of a function, whereas partial application simplifies function calls by fixing some arguments in advance.\n",
    "```"
   ]
  }
 ],
 "metadata": {
  "kernelspec": {
   "display_name": "Python 3",
   "language": "python",
   "name": "python3"
  },
  "language_info": {
   "codemirror_mode": {
    "name": "ipython",
    "version": 3
   },
   "file_extension": ".py",
   "mimetype": "text/x-python",
   "name": "python",
   "nbconvert_exporter": "python",
   "pygments_lexer": "ipython3",
   "version": "3.12.2"
  }
 },
 "nbformat": 4,
 "nbformat_minor": 4
}
