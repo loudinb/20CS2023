{
 "cells": [
  {
   "cell_type": "markdown",
   "id": "ddf67fa2",
   "metadata": {
    "vscode": {
     "languageId": "raw"
    }
   },
   "source": [
    "# NumPy"
   ]
  },
  {
   "cell_type": "markdown",
   "id": "ac9ae084",
   "metadata": {},
   "source": [
    "## What is NumPy?\n",
    "\n",
    "NumPy (**Num**erical **Py**thon) is an open-source Python library that provides support for large, multi-dimensional homogeneous arrays and matrices, along with a collection of mathematical functions to efficiently operate on these data structures. It is the core package for scientific computing in Python."
   ]
  },
  {
   "cell_type": "markdown",
   "id": "57855989",
   "metadata": {},
   "source": [
    "## References\n",
    "\n",
    "- [NumPy User Guide](https://numpy.org/doc/stable/user/index.html)"
   ]
  },
  {
   "cell_type": "markdown",
   "id": "4674695a",
   "metadata": {},
   "source": [
    "## Installation {.hide .smaller-90}\n",
    "\n",
    "You can install NumPy using `pip`:\n",
    "\n",
    "```bash\n",
    "pip install numpy\n",
    "```\n",
    "\n",
    "Or using `conda`:\n",
    "\n",
    "```bash\n",
    "conda install numpy\n",
    "```\n",
    "\n",
    "To use NumPy, you need to import the `numpy` module:\n",
    "\n",
    "```{.python}\n",
    "import numpy as np\n",
    "```\n",
    "\n",
    ":::{.notes}\n",
    "Numpy is a third-party library, so it is not included in the Python Standard Library. \n",
    ":::"
   ]
  },
  {
   "cell_type": "markdown",
   "id": "2d0eadbf",
   "metadata": {},
   "source": [
    "## What is an array?\n",
    "\n",
    "An array is a data structure consisting of a collection of elements. A one-dimensional array is like a list:\n",
    "\n",
    "$$\n",
    "\\begin{array}{|c|c|c|c|}\n",
    "\\hline\n",
    "1 & 5 & 2 & 0 \\\\\n",
    "\\hline\n",
    "\\end{array}\n",
    "$$\n",
    "\n",
    "A two-dimensional array (matrix) would be like a table:\n",
    "\n",
    "$$\n",
    "\\begin{array}{|c|c|c|c|}\n",
    "\\hline\n",
    "1 & 5 & 2 & 0 \\\\\n",
    "\\hline\n",
    "8 & 3 & 6 & 1 \\\\\n",
    "\\hline\n",
    "1 & 7 & 2 & 9 \\\\\n",
    "\\hline\n",
    "\\end{array}\n",
    "$$"
   ]
  },
  {
   "cell_type": "markdown",
   "id": "6cab7693",
   "metadata": {},
   "source": [
    "## NumPy Arrays {.hide}\n",
    "\n",
    "The most important data structure defined by NumPy is the [numpy.ndarray](http://docs.scipy.org/doc/numpy/reference/arrays.ndarray.html), which is a N-dimensional array object.\n",
    "\n",
    "<br />\n",
    "To create a NumPy array containing only zeros we use  [np.zeros](http://docs.scipy.org/doc/numpy/reference/generated/numpy.zeros.html#numpy.zeros)"
   ]
  },
  {
   "cell_type": "code",
   "execution_count": 41,
   "id": "4c37575c",
   "metadata": {},
   "outputs": [],
   "source": [
    "import numpy as np\n",
    "a = np.zeros(3)"
   ]
  },
  {
   "cell_type": "code",
   "execution_count": 42,
   "id": "ba90b980",
   "metadata": {},
   "outputs": [
    {
     "data": {
      "text/plain": [
       "array([0., 0., 0.])"
      ]
     },
     "execution_count": 42,
     "metadata": {},
     "output_type": "execute_result"
    }
   ],
   "source": [
    "a"
   ]
  },
  {
   "cell_type": "code",
   "execution_count": 43,
   "id": "fa150ad6",
   "metadata": {},
   "outputs": [
    {
     "data": {
      "text/plain": [
       "numpy.ndarray"
      ]
     },
     "execution_count": 43,
     "metadata": {},
     "output_type": "execute_result"
    }
   ],
   "source": [
    "type(a)"
   ]
  },
  {
   "cell_type": "markdown",
   "id": "cc1b1e9b",
   "metadata": {},
   "source": [
    "## These are not `list`!\n",
    "\n",
    "NumPy arrays are very different from Python `list`.  Most importantly, the data *must be homogeneous* (all elements of the same type).\n",
    "\n"
   ]
  },
  {
   "cell_type": "markdown",
   "id": "f894bc30",
   "metadata": {},
   "source": [
    "## NumPy Data Types {.hide}\n",
    "\n",
    "NumPy provides it's own set of numeric [data types](https://numpy.org/doc/stable/reference/arrays.dtypes.html) (`dtypes`) that you use to construct arrays, such as:\n",
    "\n",
    "- `float64`: 64-bit floating-point number\n",
    "- `int64`: 64-bit integer\n",
    "- `bool`: 8-bit True or False"
   ]
  },
  {
   "cell_type": "markdown",
   "id": "ebcb6dd3",
   "metadata": {},
   "source": [
    "## Default `dtype` {.hide}\n",
    "\n",
    "If you don't specify the data type, it will default to `float64`:"
   ]
  },
  {
   "cell_type": "code",
   "execution_count": 44,
   "id": "1e411d5b",
   "metadata": {},
   "outputs": [
    {
     "data": {
      "text/plain": [
       "numpy.float64"
      ]
     },
     "execution_count": 44,
     "metadata": {},
     "output_type": "execute_result"
    }
   ],
   "source": [
    "a = np.zeros(3)\n",
    "type(a[0])"
   ]
  },
  {
   "cell_type": "markdown",
   "id": "47f67b50",
   "metadata": {},
   "source": [
    "You can specify a data type using the `dtype` parameter:"
   ]
  },
  {
   "cell_type": "code",
   "execution_count": 45,
   "id": "c1e61ba3",
   "metadata": {},
   "outputs": [
    {
     "data": {
      "text/plain": [
       "numpy.int64"
      ]
     },
     "execution_count": 45,
     "metadata": {},
     "output_type": "execute_result"
    }
   ],
   "source": [
    "a = np.zeros(3, dtype=int)\n",
    "type(a[0])"
   ]
  },
  {
   "cell_type": "markdown",
   "id": "57a9849c",
   "metadata": {},
   "source": [
    "## Shape and Dimension\n",
    "\n",
    "A *flat* array, is a one-dimensional array, it is neither a row vector nor a column vector. The shape attribute gives the number of elements along each axis (dimension)."
   ]
  },
  {
   "cell_type": "code",
   "execution_count": 46,
   "id": "db7c3383",
   "metadata": {},
   "outputs": [
    {
     "data": {
      "text/plain": [
       "(10,)"
      ]
     },
     "execution_count": 46,
     "metadata": {},
     "output_type": "execute_result"
    }
   ],
   "source": [
    "a = np.zeros(10)\n",
    "a.shape"
   ]
  },
  {
   "cell_type": "markdown",
   "id": "56fa96c8",
   "metadata": {},
   "source": [
    "In this example, the shape is `(5,2)`, which means the array has 5 rows and 2 columns."
   ]
  },
  {
   "cell_type": "code",
   "execution_count": 56,
   "id": "12af6f36",
   "metadata": {},
   "outputs": [
    {
     "data": {
      "text/plain": [
       "(5, 2)"
      ]
     },
     "execution_count": 56,
     "metadata": {},
     "output_type": "execute_result"
    }
   ],
   "source": [
    "a = np.zeros((5,2))\n",
    "a.shape"
   ]
  },
  {
   "cell_type": "markdown",
   "id": "e51da22e",
   "metadata": {},
   "source": [
    "## Reshapigng Arrays {.hide .smaller-85}\n",
    "\n",
    "You can change the shape of the array in place using the `shape` attribute:"
   ]
  },
  {
   "cell_type": "code",
   "execution_count": 57,
   "id": "950aeac6",
   "metadata": {},
   "outputs": [
    {
     "data": {
      "text/plain": [
       "array([[0., 0., 0., 0., 0.],\n",
       "       [0., 0., 0., 0., 0.]])"
      ]
     },
     "execution_count": 57,
     "metadata": {},
     "output_type": "execute_result"
    }
   ],
   "source": [
    "a.shape = (2, 5)\n",
    "a"
   ]
  },
  {
   "cell_type": "markdown",
   "id": "182a676f",
   "metadata": {},
   "source": [
    "You can also use the `reshape` method, to get a new array with the shape:"
   ]
  },
  {
   "cell_type": "code",
   "execution_count": 58,
   "id": "6a9a6f50",
   "metadata": {},
   "outputs": [
    {
     "data": {
      "text/plain": [
       "array([0., 0., 0., 0., 0., 0., 0., 0., 0., 0.])"
      ]
     },
     "execution_count": 58,
     "metadata": {},
     "output_type": "execute_result"
    }
   ],
   "source": [
    "b = a.reshape(10)\n",
    "b"
   ]
  },
  {
   "cell_type": "markdown",
   "id": "22b7411f",
   "metadata": {},
   "source": [
    ":::{.callout-important}\n",
    "A `ValueError` will be raised if the array cannot be reshaped to the desired shape (e.g., if the number of elements in the new shape is different from the number of elements in the original array).\n",
    ":::"
   ]
  },
  {
   "cell_type": "markdown",
   "id": "3bc3980c",
   "metadata": {},
   "source": [
    "## Creating Arrays {.hide .smaller-70}"
   ]
  },
  {
   "cell_type": "markdown",
   "id": "2c0613e3",
   "metadata": {},
   "source": [
    "You can create arrays from lists or tuples using the `np.array` function:"
   ]
  },
  {
   "cell_type": "code",
   "execution_count": 64,
   "id": "46ee30f9",
   "metadata": {},
   "outputs": [
    {
     "data": {
      "text/plain": [
       "array([1, 2, 3])"
      ]
     },
     "execution_count": 64,
     "metadata": {},
     "output_type": "execute_result"
    }
   ],
   "source": [
    "a = np.array([1, 2, 3])\n",
    "a"
   ]
  },
  {
   "cell_type": "markdown",
   "id": "9685fcd8",
   "metadata": {},
   "source": [
    "`np.ones` is similar to `np.zeros`, but it creates an array filled with ones:"
   ]
  },
  {
   "cell_type": "code",
   "execution_count": 59,
   "id": "3943405a",
   "metadata": {},
   "outputs": [
    {
     "data": {
      "text/plain": [
       "array([1., 1., 1.])"
      ]
     },
     "execution_count": 59,
     "metadata": {},
     "output_type": "execute_result"
    }
   ],
   "source": [
    "a = np.ones(3)\n",
    "a"
   ]
  },
  {
   "cell_type": "markdown",
   "metadata": {},
   "source": [
    "`np.empty` creates arrays in memory that can later be populated with data"
   ]
  },
  {
   "cell_type": "code",
   "execution_count": 60,
   "id": "bc9b5ae0",
   "metadata": {},
   "outputs": [
    {
     "data": {
      "text/plain": [
       "array([1., 1., 1.])"
      ]
     },
     "execution_count": 60,
     "metadata": {},
     "output_type": "execute_result"
    }
   ],
   "source": [
    "a = np.empty(3)\n",
    "a"
   ]
  },
  {
   "cell_type": "markdown",
   "id": "1c130f96",
   "metadata": {},
   "source": [
    ":::{.callout-warning}\n",
    "The numbers in an array generated by `np.empty` are garbage values, they are values that were already in the memory location that was allocated for the array.\n",
    ":::"
   ]
  },
  {
   "cell_type": "markdown",
   "id": "a1f1b24e",
   "metadata": {},
   "source": [
    "## Creating Arrays (cont'd) {.hide .smaller-70}"
   ]
  },
  {
   "cell_type": "markdown",
   "id": "4ff401dc",
   "metadata": {},
   "source": [
    "`np.full` creates an array filled with a specified value:"
   ]
  },
  {
   "cell_type": "code",
   "execution_count": 61,
   "id": "5ae5e250",
   "metadata": {},
   "outputs": [
    {
     "data": {
      "text/plain": [
       "array([[3, 3],\n",
       "       [3, 3]])"
      ]
     },
     "execution_count": 61,
     "metadata": {},
     "output_type": "execute_result"
    }
   ],
   "source": [
    "a = np.full((2,2), 3)\n",
    "a"
   ]
  },
  {
   "cell_type": "markdown",
   "id": "972eccb9",
   "metadata": {},
   "source": [
    "`np.linspace` creates an array with a specified number of elements, evenly spaced between two values:"
   ]
  },
  {
   "cell_type": "code",
   "execution_count": 62,
   "id": "e37f0a5c",
   "metadata": {},
   "outputs": [
    {
     "data": {
      "text/plain": [
       "array([2. , 2.5, 3. , 3.5, 4. ])"
      ]
     },
     "execution_count": 62,
     "metadata": {},
     "output_type": "execute_result"
    }
   ],
   "source": [
    "a = np.linspace(2, 4, 5)  # From 2 to 4, with 5 elements\n",
    "a"
   ]
  },
  {
   "cell_type": "markdown",
   "id": "b1c929d7",
   "metadata": {},
   "source": [
    "`np.identity` (or `np.eye`) creates a square matrix with ones on the diagonal and zeros elsewhere:"
   ]
  },
  {
   "cell_type": "code",
   "execution_count": 63,
   "id": "93d31f10",
   "metadata": {},
   "outputs": [
    {
     "data": {
      "text/plain": [
       "array([[1., 0., 0.],\n",
       "       [0., 1., 0.],\n",
       "       [0., 0., 1.]])"
      ]
     },
     "execution_count": 63,
     "metadata": {},
     "output_type": "execute_result"
    }
   ],
   "source": [
    "a = np.identity(3)\n",
    "a"
   ]
  },
  {
   "cell_type": "markdown",
   "id": "ec266928",
   "metadata": {},
   "source": [
    "## Arrays from Files {.hide .smaller-70}\n",
    "\n",
    "You can create arrays from files using `np.loadtxt` or `np.genfromtxt`.  The later is more flexible and can handle missing values.\n",
    "\n",
    "<br />\n",
    "\n",
    "Consider the following file `data.csv`:\n",
    "\n",
    "```csv\n",
    "1,2,3\n",
    "4,5,6\n",
    "7,8,9\n",
    "```"
   ]
  },
  {
   "cell_type": "markdown",
   "id": "2bcd7aa0",
   "metadata": {},
   "source": [
    "`np.loadtxt` it will create a 2D array with the values from the file:"
   ]
  },
  {
   "cell_type": "code",
   "execution_count": 68,
   "id": "6e96d7d9",
   "metadata": {},
   "outputs": [
    {
     "data": {
      "text/plain": [
       "array([[1., 2., 3.],\n",
       "       [4., 5., 6.],\n",
       "       [7., 8., 9.]])"
      ]
     },
     "execution_count": 68,
     "metadata": {},
     "output_type": "execute_result"
    }
   ],
   "source": [
    "a = np.loadtxt('data.csv', delimiter=',')\n",
    "a"
   ]
  },
  {
   "cell_type": "markdown",
   "id": "dc9daca0",
   "metadata": {},
   "source": [
    "## Indexing and Slicing {.hide .smaller-70}\n",
    "\n",
    "You can access elements in an array using indexing and slicing, just like you would with a list:"
   ]
  },
  {
   "cell_type": "code",
   "execution_count": 75,
   "id": "5f22c976",
   "metadata": {},
   "outputs": [
    {
     "name": "stdout",
     "output_type": "stream",
     "text": [
      "0\n",
      "5\n",
      "[2 3]\n",
      "[2 3 4 5]\n"
     ]
    }
   ],
   "source": [
    "a = np.linspace(0, 5, 6, dtype=int)\n",
    "\n",
    "print(a[0]) # First element\n",
    "print(a[-1]) # Last element\n",
    "print(a[2:4]) # Third and fourth elements\n",
    "print(a[2:]) # Everything from the third element onwards"
   ]
  },
  {
   "cell_type": "code",
   "execution_count": 80,
   "id": "868c828a",
   "metadata": {},
   "outputs": [
    {
     "name": "stdout",
     "output_type": "stream",
     "text": [
      "1\n",
      "[1 4 7]\n",
      "[1 2 3]\n",
      "[[1 2]\n",
      " [4 5]]\n"
     ]
    }
   ],
   "source": [
    "a = np.array([[1, 2, 3], [4, 5, 6], [7, 8, 9]])\n",
    "\n",
    "print(a[0, 0]) # First row, first column\n",
    "print(a[:, 0]) # First column\n",
    "print(a[0, :]) # First row\n",
    "print(a[0:2, 0:2]) # First two rows and first two columns\n"
   ]
  },
  {
   "cell_type": "markdown",
   "id": "35d87abe",
   "metadata": {},
   "source": [
    "## Mathematical functions {.hide .smaller-70}\n",
    "\n",
    "NumPy provides a wide range of mathematical functions that operate on arrays  To many to list here, but some of the most common are:\n",
    "\n",
    "- Trigonometric functions: `np.sin`, `np.cos`, `np.tan`, `np.arcsin`, `np.arccos`, `np.arctan`\n",
    "- Hyperbolic functions: `np.sinh`, `np.cosh`, `np.tanh`, `np.arcsinh`, `np.arccosh`, `np.arctanh`\n",
    "- Sums, Products, Differences: `np.sum`, `np.prod`, `np.diff`\n",
    "- Exponents and logarithms: `np.exp`, `np.log`, `np.log2`, `np.log10`\n",
    "\n",
    "::: {.callout-info}\n",
    "See the [NumPy Mathematical Functions Reference](https://numpy.org/doc/stable/reference/routines.math.html) for a complete list of functions.\n",
    ":::"
   ]
  }
 ],
 "metadata": {
  "date": 1729158861.932433,
  "filename": "numpy.md",
  "kernelspec": {
   "display_name": "Python 3",
   "language": "python",
   "name": "python3"
  },
  "language_info": {
   "codemirror_mode": {
    "name": "ipython",
    "version": 3
   },
   "file_extension": ".py",
   "mimetype": "text/x-python",
   "name": "python",
   "nbconvert_exporter": "python",
   "pygments_lexer": "ipython3",
   "version": "3.12.7"
  },
  "title": "NumPy"
 },
 "nbformat": 4,
 "nbformat_minor": 5
}
