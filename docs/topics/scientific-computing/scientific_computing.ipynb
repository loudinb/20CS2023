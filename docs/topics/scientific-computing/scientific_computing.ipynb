{
 "cells": [
  {
   "cell_type": "markdown",
   "id": "e755c0cb",
   "metadata": {
    "vscode": {
     "languageId": "raw"
    }
   },
   "source": [
    "# Scientific Computing in Python"
   ]
  },
  {
   "cell_type": "markdown",
   "id": "5da9ca59",
   "metadata": {},
   "source": [
    "## Why Python? {.hide}\n",
    "\n",
    "Python is extremely popular for scientific computing due to several key reasons:\n",
    "\n",
    "- A wide range of high-quality scientific libraries\n",
    "- Open-source nature of both the language and its libraries\n",
    "- The language's accessibility and flexibility"
   ]
  },
  {
   "cell_type": "markdown",
   "id": "2e040a76",
   "metadata": {},
   "source": [
    "## Scientific libraries {.hide}\n",
    "\n",
    "Some of the more popular scientific libraries in Python include:\n",
    "\n",
    "- NumPy\n",
    "- SciPy\n",
    "- Matplotlib\n",
    "- Pandas\n",
    "- Scikit-learn, TensorFlow, PyTorch, etc."
   ]
  },
  {
   "cell_type": "markdown",
   "id": "e0ec44b2",
   "metadata": {},
   "source": [
    "## Description of libraries {.hide .smaller-90}\n",
    "\n",
    "- **NumPy** forms the foundations by providing a basic array data type (think of\n",
    "  vectors and matrices) and functions for acting on these arrays (e.g., matrix\n",
    "  multiplication).  \n",
    "- **SciPy** builds on NumPy by adding the kinds of numerical methods that are\n",
    "  routinely used in science (interpolation, optimization, root finding, etc.).  \n",
    "- **Matplotlib** is used to generate figures, with a focus on plotting data stored in NumPy arrays.  \n",
    "- **Pandas** provides types and functions for empirical work (e.g., manipulating data).  \n",
    "- **Scikit-learning**, **TensorFlow**, **PyTorch**, etc., provide tools for machine learning and deep learning.\n"
   ]
  },
  {
   "cell_type": "markdown",
   "id": "9431e113",
   "metadata": {},
   "source": [
    "## Why use these libraries?\n",
    "\n",
    "- It's often better to use an existing routine than to write one from scratch.\n",
    "- Established libraries typically have efficient implementations and greater accuracy, as they are written by experts and optimized by a large community of users.\n",
    "- Pure Python is not inherently fast; these libraries speed up Python code execution because they are often implemented in lower-level languages like C or Fortran."
   ]
  },
  {
   "cell_type": "markdown",
   "id": "c7bf0480",
   "metadata": {},
   "source": [
    "## Why not use pure Python? {.hide}\n",
    "\n",
    "**Why not pure Python?**  Although Python is faster to write, less error-prone, and easier to debug compared to low-level languages.  However:\n",
    "\n",
    "- Higher-level languages like Python are optimized for human readability and ease of use.\n",
    "- The standard implementation of Python (CPython) is slower than compiled languages.\n",
    "- Python is harder to optimize into fast machine code compared to languages like C or Fortran."
   ]
  },
  {
   "cell_type": "markdown",
   "id": "0b2fe360",
   "metadata": {},
   "source": [
    "## Vectorization {.hide .smaller-85}\n",
    "\n",
    "**Vectorization** is a method used to speed up numerical applications by sending array processing operations in batch to pre-compiled and efficient native machine code, typically compiled from optimized C or Fortran.\n",
    "\n",
    "In Python, **NumPy** is used for vectorization to achieve significant performance improvements.\n",
    "\n",
    ":::{.callout-important}\n",
    "Vectorization is not without disadvantages; it can be highly memory-intensive and may not be suitable for all algorithms.\n",
    ":::"
   ]
  },
  {
   "cell_type": "markdown",
   "id": "59d4f5e2",
   "metadata": {},
   "source": [
    "## Native Python vs. Vectorized Implementation {.hide .smaller-75}\n",
    "\n",
    "Comparing native Python code with a vectorized implementation using NumPy:"
   ]
  },
  {
   "cell_type": "code",
   "execution_count": 11,
   "id": "0f3c7d21",
   "metadata": {
    "hide-output": false
   },
   "outputs": [],
   "source": [
    "import random\n",
    "import numpy as np\n",
    "\n",
    "n = 1_000_000"
   ]
  },
  {
   "cell_type": "code",
   "execution_count": 9,
   "id": "9831c0c6",
   "metadata": {
    "hide-output": false
   },
   "outputs": [
    {
     "name": "stdout",
     "output_type": "stream",
     "text": [
      "CPU times: user 256 ms, sys: 606 μs, total: 257 ms\n",
      "Wall time: 255 ms\n"
     ]
    }
   ],
   "source": [
    "%%time\n",
    "\n",
    "y = 0      # Will accumulate and store sum\n",
    "for i in range(n):\n",
    "    x = random.uniform(0, 1)\n",
    "    y += x**2"
   ]
  },
  {
   "cell_type": "code",
   "execution_count": 6,
   "id": "d4eaf46d",
   "metadata": {
    "hide-output": false
   },
   "outputs": [
    {
     "name": "stdout",
     "output_type": "stream",
     "text": [
      "CPU times: user 11.4 ms, sys: 9.24 ms, total: 20.6 ms\n",
      "Wall time: 18.8 ms\n"
     ]
    }
   ],
   "source": [
    "%%time\n",
    "\n",
    "x = np.random.uniform(0, 1, n)\n",
    "y = np.sum(x**2)"
   ]
  },
  {
   "cell_type": "markdown",
   "id": "b80d8b2e",
   "metadata": {
    "slideshow": {
     "slide_type": "notes"
    }
   },
   "source": [
    "We square and then sum a large number of random variables:\n",
    " \n",
    "The second code block breaks the loop down into three basic operations handled in **batch**\n",
    "\n",
    "1. draw `n` uniforms  \n",
    "1. square them  \n",
    "1. sum them"
   ]
  }
 ],
 "metadata": {
  "date": 1729158861.665039,
  "filename": "need_for_speed.md",
  "kernelspec": {
   "display_name": "Python 3",
   "language": "python",
   "name": "python3"
  },
  "language_info": {
   "codemirror_mode": {
    "name": "ipython",
    "version": 3
   },
   "file_extension": ".py",
   "mimetype": "text/x-python",
   "name": "python",
   "nbconvert_exporter": "python",
   "pygments_lexer": "ipython3",
   "version": "3.12.6"
  },
  "title": "Python for Scientific Computing"
 },
 "nbformat": 4,
 "nbformat_minor": 5
}
