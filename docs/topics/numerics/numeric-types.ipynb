{
 "cells": [
  {
   "cell_type": "markdown",
   "metadata": {},
   "source": [
    "# Numeric Types\n",
    "\n",
    "Python provides several built-in numeric types to represent different kinds of numbers. \n",
    "\n",
    "## Integers\n",
    "\n",
    "Integers in Python are whole numbers without a fractional component. They can be positive, negative, or zero.\n",
    "\n",
    "- Represented by the `int` class\n",
    "- Unlimited precision (can be arbitrarily large)\n",
    "- Examples: `42`, `-7`, `0`"
   ]
  },
  {
   "cell_type": "code",
   "execution_count": 2,
   "metadata": {},
   "outputs": [],
   "source": [
    "x = 10\n",
    "y = -5\n",
    "big_number = 1234567890123456789"
   ]
  },
  {
   "cell_type": "markdown",
   "metadata": {},
   "source": [
    "## Floating-Point Numbers\n",
    "\n",
    "Floating-point numbers represent real numbers with a decimal point.\n",
    "\n",
    "- Represented by the `float` class\n",
    "- Usually implemented using double-precision (64-bit) format\n",
    "- Examples: `3.14`, `-0.001`, `2.0`"
   ]
  },
  {
   "cell_type": "code",
   "execution_count": 1,
   "metadata": {},
   "outputs": [],
   "source": [
    "pi = 3.14159\n",
    "avogadro = 6.022e23  # Scientific notation"
   ]
  },
  {
   "cell_type": "markdown",
   "metadata": {},
   "source": [
    "### Precision and Rounding Errors\n",
    "\n",
    "Floating-point arithmetic can sometimes lead to unexpected results due to the way computers represent real numbers:"
   ]
  },
  {
   "cell_type": "code",
   "execution_count": 5,
   "metadata": {},
   "outputs": [
    {
     "name": "stdout",
     "output_type": "stream",
     "text": [
      "False\n"
     ]
    }
   ],
   "source": [
    "print(0.1 + 0.2 == 0.3)"
   ]
  },
  {
   "cell_type": "code",
   "execution_count": 6,
   "metadata": {},
   "outputs": [
    {
     "name": "stdout",
     "output_type": "stream",
     "text": [
      "0.30000000000000004\n"
     ]
    }
   ],
   "source": [
    "print(0.1 + 0.2)"
   ]
  },
  {
   "cell_type": "markdown",
   "metadata": {},
   "source": [
    "For precise decimal calculations, use the `decimal` module."
   ]
  },
  {
   "cell_type": "markdown",
   "metadata": {},
   "source": [
    "## Infinite and Not a Number (NaN)\n",
    "\n",
    "Python's `float` type includes special values to represent infinity and undefined results.\n",
    "\n",
    "### Infinity\n",
    "\n",
    "- Represented as `float('inf')` or `-float('inf')`\n",
    "- Can result from division by zero or overflow"
   ]
  },
  {
   "cell_type": "code",
   "execution_count": 8,
   "metadata": {},
   "outputs": [],
   "source": [
    "positive_infinity = float('inf')\n",
    "negative_infinity = -float('inf')"
   ]
  },
  {
   "cell_type": "markdown",
   "metadata": {},
   "source": [
    "### Not a Number (NaN)\n",
    "\n",
    "- Represents undefined or unrepresentable results\n",
    "- Represented as `float('nan')`"
   ]
  },
  {
   "cell_type": "code",
   "execution_count": 21,
   "metadata": {},
   "outputs": [
    {
     "data": {
      "text/plain": [
       "nan"
      ]
     },
     "execution_count": 21,
     "metadata": {},
     "output_type": "execute_result"
    }
   ],
   "source": [
    "float('nan')"
   ]
  },
  {
   "cell_type": "markdown",
   "metadata": {},
   "source": [
    "# Underflow (Machine Epsilon)\n",
    "\n",
    "Machine epsilon is the smallest positive number that, when added to 1.0, gives a result different from 1.0.\n",
    "\n",
    "- In Python, you can find it using `sys.float_info.epsilon`\n",
    "- Important for understanding the limits of floating-point precision"
   ]
  },
  {
   "cell_type": "code",
   "execution_count": 13,
   "metadata": {},
   "outputs": [
    {
     "name": "stdout",
     "output_type": "stream",
     "text": [
      "2.220446049250313e-16\n",
      "True\n",
      "True\n"
     ]
    }
   ],
   "source": [
    "import sys\n",
    "\n",
    "epsilon = sys.float_info.epsilon\n",
    "print(epsilon)  # Typically around 2.220446049250313e-16 on most systems\n",
    "\n",
    "print(1.0 + epsilon != 1.0)  # True\n",
    "print(1.0 + epsilon / 2 == 1.0)  # True"
   ]
  },
  {
   "cell_type": "markdown",
   "metadata": {},
   "source": [
    "The reason `1.0 + epsilon / 2 == 1.0` evaluates to true is due to the limitations of floating-point precision in computers.\n",
    "\n",
    "- `epsilon` is the smallest number that, when added to 1.0, gives a result different from 1.0 in floating-point representation.\n",
    "- When we divide epsilon by 2, we get a number even smaller than `epsilon`.\n",
    "- This number is so small that when added to 1.0, the result cannot be distinguished from 1.0 in the floating-point representation used by the computer.\n",
    "- Therefore, 1.0 + `epsilon` / 2 is rounded back to 1.0 due to the limits of precision, making it equal to 1.0.\n",
    "\n",
    "This behavior demonstrates the inherent imprecision of floating-point arithmetic and the importance of understanding these limitations when working with very small numbers in programming."
   ]
  },
  {
   "cell_type": "markdown",
   "metadata": {},
   "source": [
    "## Complex Numbers\n",
    "\n",
    "Complex numbers have both a real and an imaginary part.\n",
    "\n",
    "- Represented by the `complex` class\n",
    "- Written as `a + bj`, where `a` is the real part and `b` is the imaginary part\n",
    "- `j` represents the square root of -1"
   ]
  },
  {
   "cell_type": "code",
   "execution_count": 14,
   "metadata": {},
   "outputs": [
    {
     "name": "stdout",
     "output_type": "stream",
     "text": [
      "(3+2j)\n",
      "(5+1j)\n",
      "3.605551275463989\n"
     ]
    }
   ],
   "source": [
    "z1 = 2 + 3j\n",
    "z2 = complex(1, -1)\n",
    "\n",
    "print(z1 + z2)  # (3+2j)\n",
    "print(z1 * z2)  # (5+1j)\n",
    "print(abs(z1))  # 3.605551275463989 (magnitude)"
   ]
  },
  {
   "cell_type": "markdown",
   "metadata": {},
   "source": [
    "### Operations with Complex Numbers\n",
    "\n",
    "The Python `cmath` module provides support for various operations and functions involving complex numbers, such as `sqrt`, `exp`, and trigonometric functions that handle complex arguments."
   ]
  },
  {
   "cell_type": "code",
   "execution_count": 15,
   "metadata": {},
   "outputs": [
    {
     "name": "stdout",
     "output_type": "stream",
     "text": [
      "1.0\n",
      "2.0\n",
      "(1-2j)\n",
      "1.1071487177940904\n"
     ]
    }
   ],
   "source": [
    "import cmath\n",
    "\n",
    "z = 1 + 2j\n",
    "\n",
    "print(z.real)  # 1.0 (real part)\n",
    "print(z.imag)  # 2.0 (imaginary part)\n",
    "print(z.conjugate())  # (1-2j) (complex conjugate)\n",
    "print(cmath.phase(z))  # 1.1071487177940904 (phase angle in radians)"
   ]
  }
 ],
 "metadata": {
  "kernelspec": {
   "display_name": "Python 3",
   "language": "python",
   "name": "python3"
  },
  "language_info": {
   "codemirror_mode": {
    "name": "ipython",
    "version": 3
   },
   "file_extension": ".py",
   "mimetype": "text/x-python",
   "name": "python",
   "nbconvert_exporter": "python",
   "pygments_lexer": "ipython3",
   "version": "3.12.5"
  }
 },
 "nbformat": 4,
 "nbformat_minor": 2
}
