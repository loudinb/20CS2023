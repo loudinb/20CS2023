{
 "cells": [
  {
   "cell_type": "markdown",
   "metadata": {},
   "source": [
    "# Boolean Type\n",
    "\n",
    "Booleans are a fundamental data type in Python, representing truth values. They can be either `True` or `False`.\n",
    "\n",
    "## Boolean Operators\n",
    "\n",
    "Python supports three main boolean operators:\n",
    "\n",
    "1. `and`: Returns `True` if both operands are `True`\n",
    "2. `or`: Returns `True` if at least one operand is `True`\n",
    "3. `not`: Negates the boolean value"
   ]
  },
  {
   "cell_type": "code",
   "execution_count": 1,
   "metadata": {},
   "outputs": [
    {
     "name": "stdout",
     "output_type": "stream",
     "text": [
      "False\n"
     ]
    }
   ],
   "source": [
    "print(True and False)  # False"
   ]
  },
  {
   "cell_type": "code",
   "execution_count": 2,
   "metadata": {},
   "outputs": [
    {
     "name": "stdout",
     "output_type": "stream",
     "text": [
      "True\n"
     ]
    }
   ],
   "source": [
    "print(True or False)   # True"
   ]
  },
  {
   "cell_type": "code",
   "execution_count": 3,
   "metadata": {},
   "outputs": [
    {
     "name": "stdout",
     "output_type": "stream",
     "text": [
      "False\n"
     ]
    }
   ],
   "source": [
    "print(not True)        # False"
   ]
  },
  {
   "cell_type": "markdown",
   "metadata": {},
   "source": [
    "## Boolean Casting\n",
    "\n",
    "You can explicitly cast values to booleans using the `bool()` function:"
   ]
  },
  {
   "cell_type": "code",
   "execution_count": 4,
   "metadata": {},
   "outputs": [
    {
     "name": "stdout",
     "output_type": "stream",
     "text": [
      "True\n",
      "False\n",
      "False\n",
      "True\n",
      "False\n",
      "True\n"
     ]
    }
   ],
   "source": [
    "print(bool(1))       # True\n",
    "print(bool(0))       # False\n",
    "print(bool(\"\"))      # False\n",
    "print(bool(\"text\"))  # True\n",
    "print(bool([]))      # False\n",
    "print(bool([1, 2]))  # True"
   ]
  },
  {
   "cell_type": "markdown",
   "metadata": {},
   "source": [
    "## Automatic Boolean Casting\n",
    "\n",
    "Python automatically casts certain values to booleans in boolean contexts (like in an `if` statement):\n",
    "\n",
    "- Numbers: 0 is `False`, any other number is `True`\n",
    "- Strings: Empty string is `False`, any other string is `True`\n",
    "- Lists, tuples, sets, dictionaries: Empty is `False`, non-empty is `True`\n",
    "- `None` is always `False`"
   ]
  },
  {
   "cell_type": "code",
   "execution_count": 5,
   "metadata": {},
   "outputs": [
    {
     "name": "stdout",
     "output_type": "stream",
     "text": [
      "This will print\n"
     ]
    }
   ],
   "source": [
    "if 1:\n",
    "    print(\"This will print\")\n",
    "if \"\":\n",
    "    print(\"This won't print\")"
   ]
  },
  {
   "cell_type": "markdown",
   "metadata": {},
   "source": [
    "## Return Values of 'and' and 'or'\n",
    "\n",
    "The `and` and `or` operators in Python return one of their operands, not necessarily a boolean:\n",
    "\n",
    "- `and` returns the first falsy value, or the last value if all are truthy\n",
    "- `or` returns the first truthy value, or the last value if all are falsy"
   ]
  },
  {
   "cell_type": "code",
   "execution_count": 6,
   "metadata": {},
   "outputs": [
    {
     "name": "stdout",
     "output_type": "stream",
     "text": [
      "0\n",
      "2\n",
      "1\n",
      "[]\n"
     ]
    }
   ],
   "source": [
    "print(0 and 1)   # 0\n",
    "print(1 and 2)   # 2\n",
    "print(0 or 1)    # 1\n",
    "print(\"\" or [])  # []"
   ]
  },
  {
   "cell_type": "markdown",
   "metadata": {},
   "source": [
    "## Booleans and Integers\n",
    "\n",
    "In Python, `True` and `False` are actually subclasses of `int`:\n",
    "\n",
    "- `True` is equivalent to 1\n",
    "- `False` is equivalent to 0\n",
    "\n",
    "This means you can use booleans in arithmetic operations:"
   ]
  },
  {
   "cell_type": "code",
   "execution_count": 8,
   "metadata": {},
   "outputs": [
    {
     "name": "stdout",
     "output_type": "stream",
     "text": [
      "2\n",
      "5\n",
      "0\n",
      "1\n"
     ]
    }
   ],
   "source": [
    "print(True + True)   # 2\n",
    "print(True * 5)      # 5\n",
    "print(False * 10)    # 0\n",
    "print(True + False)  # 1"
   ]
  },
  {
   "cell_type": "markdown",
   "metadata": {},
   "source": [
    "However, it's generally not recommended to rely on this behavior, as it can make your code less readable and more prone to errors."
   ]
  }
 ],
 "metadata": {
  "kernelspec": {
   "display_name": "Python 3",
   "language": "python",
   "name": "python3"
  },
  "language_info": {
   "codemirror_mode": {
    "name": "ipython",
    "version": 3
   },
   "file_extension": ".py",
   "mimetype": "text/x-python",
   "name": "python",
   "nbconvert_exporter": "python",
   "pygments_lexer": "ipython3",
   "version": "3.12.5"
  }
 },
 "nbformat": 4,
 "nbformat_minor": 2
}
