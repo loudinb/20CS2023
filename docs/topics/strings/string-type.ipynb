{
 "cells": [
  {
   "cell_type": "markdown",
   "metadata": {},
   "source": [
    "# String Type\n",
    "\n",
    "[Strings](https://docs.python.org/3/library/stdtypes.html#text-sequence-type-str) (a.k.a. text sequence type) are a fundamental data type in Python, representing sequences of characters.\n",
    "\n",
    "- Represented by the `str` class\n",
    "- Can be enclosed in single (`'`) or double (`\"`) quotes.\n",
    "- Double quotes: \"allows embedded 'single' quotes\"\n",
    "- Triple quoted: '''Three single quotes''' or  \"\"\"Three double quotes\"\"\" may span multiple lines."
   ]
  },
  {
   "cell_type": "code",
   "execution_count": 1,
   "metadata": {},
   "outputs": [],
   "source": [
    "single_quoted = 'Hello, World!'\n",
    "double_quoted = \"Hello, World!\"\n",
    "multiline = \"\"\"Hello,\n",
    "World!\"\"\""
   ]
  },
  {
   "cell_type": "markdown",
   "metadata": {},
   "source": [
    "## Escape Sequences and Raw Strings\n",
    "Sometimes you need to include special characters in strings. Escape sequences and raw strings help you achieve this.\n",
    "\n",
    "### Escape Sequences\n",
    "Escape sequences allow you to include special characters in strings:\n",
    "\n",
    "- `\\n`: Newline\n",
    "- `\\t`: Tab\n",
    "- `\\\\`: Backslash\n",
    "- `\\'`: Single quote\n",
    "- `\\\"`: Double quote"
   ]
  },
  {
   "cell_type": "code",
   "execution_count": 1,
   "metadata": {},
   "outputs": [
    {
     "name": "stdout",
     "output_type": "stream",
     "text": [
      "Hello\n",
      "World\n"
     ]
    }
   ],
   "source": [
    "print(\"Hello\\nWorld\")"
   ]
  },
  {
   "cell_type": "code",
   "execution_count": 2,
   "metadata": {},
   "outputs": [
    {
     "name": "stdout",
     "output_type": "stream",
     "text": [
      "Tab\tspace\n"
     ]
    }
   ],
   "source": [
    "print(\"Tab\\tspace\")"
   ]
  },
  {
   "cell_type": "markdown",
   "metadata": {},
   "source": [
    "### Raw Strings\n",
    "Raw strings treat backslashes as literal characters, useful for regular expressions and file paths:"
   ]
  },
  {
   "cell_type": "code",
   "execution_count": 3,
   "metadata": {},
   "outputs": [
    {
     "name": "stdout",
     "output_type": "stream",
     "text": [
      "C:\\Users\\Alice\\Documents\n"
     ]
    }
   ],
   "source": [
    "path = r\"C:\\Users\\Alice\\Documents\"\n",
    "print(path)  # Outputs: C:\\Users\\Alice\\Documents"
   ]
  },
  {
   "cell_type": "markdown",
   "metadata": {},
   "source": [
    "## Operations on Strings\n",
    "The Python string type supports various operations, including concatenation, repetition, indexing, slicing, and more. \n",
    "\n",
    "### Concatenation\n",
    "Use the `+` operator to concatenate strings:"
   ]
  },
  {
   "cell_type": "code",
   "execution_count": 5,
   "metadata": {},
   "outputs": [
    {
     "name": "stdout",
     "output_type": "stream",
     "text": [
      "John Doe\n"
     ]
    }
   ],
   "source": [
    "first_name = \"John\"\n",
    "last_name = \"Doe\"\n",
    "full_name = first_name + \" \" + last_name\n",
    "print(full_name)"
   ]
  },
  {
   "cell_type": "markdown",
   "metadata": {},
   "source": [
    "### Repetition\n",
    "Use the `*` operator to repeat strings:"
   ]
  },
  {
   "cell_type": "code",
   "execution_count": 6,
   "metadata": {},
   "outputs": [
    {
     "name": "stdout",
     "output_type": "stream",
     "text": [
      "HelloHelloHello\n"
     ]
    }
   ],
   "source": [
    "echo = \"Hello\" * 3\n",
    "print(echo)"
   ]
  },
  {
   "cell_type": "markdown",
   "metadata": {},
   "source": [
    "### Indexing and Slicing\n",
    "Access individual characters or substrings:"
   ]
  },
  {
   "cell_type": "code",
   "execution_count": 7,
   "metadata": {},
   "outputs": [
    {
     "name": "stdout",
     "output_type": "stream",
     "text": [
      "P\n",
      "yth\n",
      "nohtyP\n"
     ]
    }
   ],
   "source": [
    "text = \"Python\"\n",
    "print(text[0])\n",
    "print(text[1:4])\n",
    "print(text[::-1])"
   ]
  },
  {
   "cell_type": "markdown",
   "metadata": {},
   "source": [
    "## String Methods\n",
    "Python provides many built-in methods for string manipulation, there are over **40** string methods available. Some common methods include:\n",
    "\n",
    "- `upper()`: Convert to uppercase\n",
    "- `lower()`: Convert to lowercase\n",
    "- `strip()`: Remove leading and trailing whitespace\n",
    "- `split()`: Split string into a list\n",
    "- `join()`: Join list elements into a string\n",
    "- `replace()`: Replace substrings"
   ]
  },
  {
   "cell_type": "code",
   "execution_count": 8,
   "metadata": {},
   "outputs": [
    {
     "name": "stdout",
     "output_type": "stream",
     "text": [
      "  HELLO, WORLD!  \n",
      "Hello, World!\n",
      "['  Hello', ' World!  ']\n",
      "a-b\n",
      "  Hell0, W0rld!  \n"
     ]
    }
   ],
   "source": [
    "text = \"  Hello, World!  \"\n",
    "print(text.upper())\n",
    "print(text.strip())\n",
    "print(text.split(\",\"))\n",
    "print(\"-\".join([\"a\", \"b\"]))\n",
    "print(text.replace(\"o\", \"0\"))"
   ]
  },
  {
   "cell_type": "markdown",
   "metadata": {},
   "source": [
    "## String Formatting\n",
    "String formatting in Python allows you to create dynamic strings by inserting values into placeholders. There are three main methods for string formatting in Python:\n",
    "\n",
    "- f-strings (formatted string literals, Python 3.6+)\n",
    "- The `str.format()` method\n",
    "- The `%` operator (old-style formatting, really should be avoided)\n",
    "\n",
    "### f-strings (Formatted String Literals)\n",
    "\n",
    "Introduced in Python 3.6, [f-strings](https://docs.python.org/3/reference/lexical_analysis.html#f-strings) provide a concise and readable way to embed expressions inside string literals.\n",
    "\n",
    "Syntax:\n",
    "```python\n",
    "f\"string with {expression} placeholders\"\n",
    "```"
   ]
  },
  {
   "cell_type": "code",
   "execution_count": 10,
   "metadata": {},
   "outputs": [
    {
     "name": "stdout",
     "output_type": "stream",
     "text": [
      "My name is Charlie and I'm 35 years old.\n"
     ]
    }
   ],
   "source": [
    "name = \"Charlie\"\n",
    "age = 35\n",
    "print(f\"My name is {name} and I'm {age} years old.\")"
   ]
  },
  {
   "cell_type": "code",
   "execution_count": 11,
   "metadata": {},
   "outputs": [
    {
     "name": "stdout",
     "output_type": "stream",
     "text": [
      "The sum of 10 and 20 is 30.\n"
     ]
    }
   ],
   "source": [
    "# Expressions in f-strings\n",
    "x = 10\n",
    "y = 20\n",
    "print(f\"The sum of {x} and {y} is {x + y}.\")"
   ]
  },
  {
   "cell_type": "code",
   "execution_count": 12,
   "metadata": {},
   "outputs": [
    {
     "name": "stdout",
     "output_type": "stream",
     "text": [
      "Pi rounded to two decimal places: 3.14\n"
     ]
    }
   ],
   "source": [
    "# Formatting options\n",
    "pi = 3.14159\n",
    "print(f\"Pi rounded to two decimal places: {pi:.2f}\")"
   ]
  },
  {
   "cell_type": "markdown",
   "metadata": {},
   "source": [
    "### The `str.format()` Method\n",
    "\n",
    "The [`str.format()`](https://docs.python.org/3/library/string.html#format-string-syntax) method allows you to insert values into placeholders within a string.  This method is suited for more complex formatting scenarios.\n",
    "\n",
    "Syntax:\n",
    "```python\n",
    "\"string with {} placeholders\".format(value1, value2)\n",
    "```"
   ]
  },
  {
   "cell_type": "code",
   "execution_count": 13,
   "metadata": {},
   "outputs": [
    {
     "name": "stdout",
     "output_type": "stream",
     "text": [
      "My name is Bob and I'm 25 years old.\n"
     ]
    }
   ],
   "source": [
    "name = \"Bob\"\n",
    "age = 25\n",
    "print(\"My name is {} and I'm {} years old.\".format(name, age))"
   ]
  },
  {
   "cell_type": "code",
   "execution_count": 14,
   "metadata": {},
   "outputs": [
    {
     "name": "stdout",
     "output_type": "stream",
     "text": [
      "The sky is blue.\n"
     ]
    }
   ],
   "source": [
    "print(\"The {1} is {0}.\".format(\"blue\", \"sky\"))"
   ]
  },
  {
   "cell_type": "code",
   "execution_count": 15,
   "metadata": {},
   "outputs": [
    {
     "name": "stdout",
     "output_type": "stream",
     "text": [
      "The blue is sky.\n"
     ]
    }
   ],
   "source": [
    "print(\"The {color} is {object}.\".format(color=\"blue\", object=\"sky\"))"
   ]
  },
  {
   "cell_type": "markdown",
   "metadata": {},
   "source": [
    "### The `%` Operator (Old-String Formatting)\n",
    "\n",
    "The [`%`](https://docs.python.org/3/library/stdtypes.html#old-string-formatting) operator is the oldest method of string formatting in Python. While it's still supported, it's generally considered less readable and flexible than newer methods.  It should be avoided in new code.\n",
    "\n",
    "Syntax:\n",
    "```python\n",
    "\"string with %s placeholder\" % value\n",
    "```"
   ]
  },
  {
   "cell_type": "code",
   "execution_count": 16,
   "metadata": {},
   "outputs": [
    {
     "name": "stdout",
     "output_type": "stream",
     "text": [
      "My name is Alice and I'm 30 years old.\n"
     ]
    }
   ],
   "source": [
    "name = \"Alice\"\n",
    "age = 30\n",
    "print(\"My name is %s and I'm %d years old.\" % (name, age))"
   ]
  },
  {
   "cell_type": "markdown",
   "metadata": {},
   "source": [
    "### String Format Specifiers\n",
    "\n",
    "Format specifiers define how values are formatted within placeholders. The format string method and f-strings share a common syntax for format specifiers.  Here's how the formatters translate across the methods:\n",
    "\n",
    "| %-formatting | str.format() | f-strings | Description |\n",
    "|--------------|--------------|-----------|-------------|\n",
    "| `%s`         | `{}`         | `{}`      | String |\n",
    "| `%d`         | `{:d}`       | `{:d}`    | Integer |\n",
    "| `%f`         | `{:f}`       | `{:f}`    | Float |\n",
    "| `%.2f`       | `{:.2f}`     | `{:.2f}`  | Float with 2 decimal places |\n",
    "| `%r`         | `{!r}`       | `{!r}`    | Any object (uses `repr()`) |\n",
    "| `%c`         | `{:c}`       | `{:c}`    | Character |\n",
    "| `%x`         | `{:x}`       | `{:x}`    | Hexadecimal (lowercase) |\n",
    "| `%X`         | `{:X}`       | `{:X}`    | Hexadecimal (uppercase) |\n",
    "\n",
    "```{note}\n",
    "For complete details on format specifiers, refer to the [Format Specification Mini-Language](https://docs.python.org/3/library/string.html#formatspec) section in the official Python documentation.\n",
    "```"
   ]
  }
 ],
 "metadata": {
  "kernelspec": {
   "display_name": "Python 3",
   "language": "python",
   "name": "python3"
  },
  "language_info": {
   "codemirror_mode": {
    "name": "ipython",
    "version": 3
   },
   "file_extension": ".py",
   "mimetype": "text/x-python",
   "name": "python",
   "nbconvert_exporter": "python",
   "pygments_lexer": "ipython3",
   "version": "3.12.5"
  }
 },
 "nbformat": 4,
 "nbformat_minor": 2
}
