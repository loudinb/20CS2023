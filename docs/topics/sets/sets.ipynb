{
    "cells": [
        {
            "cell_type": "markdown",
            "metadata": {},
            "source": [
                "# Sets\n",
                "\n",
                "A set in Python is an unordered collection of unique elements. Sets are mutable, which means you can add or remove items after the set has been created. This lesson will cover the basics of sets, how to work with them, and some advanced features."
            ]
        },
        {
            "cell_type": "markdown",
            "metadata": {},
            "source": [
                "## Python Documentation References\n",
                "\n",
                "The following links are references to the Python documentation relevant to the topics discussed here:\n",
                "\n",
                "- [Mapping Types - dict](https://docs.python.org/3/library/stdtypes.html#typesmapping)\n",
                "- [Data Structures - Dictionaries](https://docs.python.org/3/tutorial/datastructures.html#dictionaries)\n",
                "- [hashable](https://docs.python.org/3/glossary.html#term-hashable)\n",
                "- [mapping](https://docs.python.org/3/glossary.html#term-mapping)"
            ]
        },
        {
            "cell_type": "markdown",
            "metadata": {},
            "source": [
                "## Set Creation\n",
                "\n",
                "You can create a set by placing a comma-separated sequence of elements within curly braces `{}`. Alternatively, you can use the `set()` constructor."
            ]
        },
        {
            "cell_type": "code",
            "execution_count": null,
            "metadata": {},
            "outputs": [],
            "source": [
                "# Creating a set using curly braces\n",
                "my_set = {1, 2, 3, 4, 5}\n",
                "print(\"Set created with curly braces:\", my_set)\n",
                "\n",
                "# Creating a set using the set() constructor\n",
                "another_set = set([1, 2, 3, 4, 5])\n",
                "print(\"Set created with set() constructor:\", another_set)"
            ]
        },
        {
            "cell_type": "markdown",
            "metadata": {},
            "source": [
                "## Modifying Sets\n",
                "\n",
                "Sets are mutable, so you can add or remove elements after the set is created."
            ]
        },
        {
            "cell_type": "code",
            "execution_count": null,
            "metadata": {},
            "outputs": [],
            "source": [
                "# Adding an element\n",
                "my_set.add(6)\n",
                "print(\"After adding 6:\", my_set)\n",
                "\n",
                "# Removing an element\n",
                "my_set.remove(2)\n",
                "print(\"After removing 2:\", my_set)\n",
                "\n",
                "# Discarding an element (doesn't raise an error if the element is not found)\n",
                "my_set.discard(10)  # 10 is not in the set, but this won't raise an error\n",
                "print(\"After discarding 10 (which wasn't in the set):\", my_set)\n",
                "\n",
                "# Popping an arbitrary element\n",
                "popped = my_set.pop()\n",
                "print(f\"Popped element: {popped}\")\n",
                "print(\"After popping:\", my_set)\n",
                "\n",
                "# Clearing the set\n",
                "my_set.clear()\n",
                "print(\"After clearing:\", my_set)"
            ]
        },
        {
            "cell_type": "markdown",
            "metadata": {},
            "source": [
                "## Set Methods and Operations\n",
                "\n",
                "Sets support a variety of mathematical operations such as union, intersection, difference, and symmetric difference."
            ]
        },
        {
            "cell_type": "code",
            "execution_count": null,
            "metadata": {},
            "outputs": [],
            "source": [
                "set1 = {1, 2, 3, 4}\n",
                "set2 = {3, 4, 5, 6}\n",
                "\n",
                "# Union\n",
                "union_set = set1.union(set2)\n",
                "print(\"Union:\", union_set)\n",
                "\n",
                "# Intersection\n",
                "intersection_set = set1.intersection(set2)\n",
                "print(\"Intersection:\", intersection_set)\n",
                "\n",
                "# Difference\n",
                "difference_set = set1.difference(set2)\n",
                "print(\"Difference (set1 - set2):\", difference_set)\n",
                "\n",
                "# Symmetric difference\n",
                "sym_diff_set = set1.symmetric_difference(set2)\n",
                "print(\"Symmetric difference:\", sym_diff_set)"
            ]
        },
        {
            "cell_type": "markdown",
            "metadata": {},
            "source": [
                "### Set Relationships\n",
                "\n",
                "You can check if a set is a subset or superset of another set using the `issubset()` and `issuperset()` methods."
            ]
        },
        {
            "cell_type": "code",
            "execution_count": null,
            "metadata": {},
            "outputs": [],
            "source": [
                "set_a = {1, 2, 3, 4, 5}\n",
                "set_b = {1, 2, 3}\n",
                "set_c = {1, 2, 3, 4, 5, 6}\n",
                "\n",
                "# Subset\n",
                "print(\"Is set_b a subset of set_a?\", set_b.issubset(set_a))\n",
                "\n",
                "# Superset\n",
                "print(\"Is set_a a superset of set_b?\", set_a.issuperset(set_b))\n",
                "\n",
                "# Equality\n",
                "print(\"Are set_a and set_c equal?\", set_a == set_c)"
            ]
        },
        {
            "cell_type": "markdown",
            "metadata": {},
            "source": [
                "## Iterating Over Sets\n",
                "\n",
                "You can iterate through the elements of a set using a `for` loop. Remember that sets are unordered, so the iteration order is not guaranteed."
            ]
        },
        {
            "cell_type": "code",
            "execution_count": null,
            "metadata": {},
            "outputs": [],
            "source": [
                "my_set = {1, 3, 5, 7, 9}\n",
                "\n",
                "print(\"Iterating through the set:\")\n",
                "for item in my_set:\n",
                "    print(item, end=\" \")\n",
                "print()  # New line"
            ]
        },
        {
            "cell_type": "markdown",
            "metadata": {},
            "source": [
                "## Frozen Sets\n",
                "\n",
                "A frozenset is an immutable version of a set. Once created, you cannot add or remove elements from a frozenset."
            ]
        },
        {
            "cell_type": "code",
            "execution_count": null,
            "metadata": {},
            "outputs": [],
            "source": [
                "# Creating a frozenset\n",
                "frozen_set = frozenset([1, 2, 3, 4, 5])\n",
                "print(\"Frozen set:\", frozen_set)\n",
                "\n",
                "# Attempting to modify a frozen set (this will raise an error)\n",
                "try:\n",
                "    frozen_set.add(6)\n",
                "except AttributeError as e:\n",
                "    print(\"Error:\", e)"
            ]
        }
    ],
    "metadata": {
        "kernelspec": {
            "display_name": "Python 3",
            "language": "python",
            "name": "python3"
        },
        "language_info": {
            "codemirror_mode": {
                "name": "ipython",
                "version": 3
            },
            "file_extension": ".py",
            "mimetype": "text/x-python",
            "name": "python",
            "nbconvert_exporter": "python",
            "pygments_lexer": "ipython3",
            "version": "3.8.5"
        }
    },
    "nbformat": 4,
    "nbformat_minor": 4
}
