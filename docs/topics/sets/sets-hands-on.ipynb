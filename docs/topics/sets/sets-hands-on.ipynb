{
 "cells": [
  {
   "cell_type": "markdown",
   "metadata": {},
   "source": [
    "# Sets: Hands-On Practice\n",
    "\n",
    "Take 10 minute to complete the following exercises on Python sets."
   ]
  },
  {
   "cell_type": "markdown",
   "metadata": {},
   "source": [
    "## Exercise 1\n",
    "\n",
    "Create a set named numbers with the following elements: 1, 2, 3, 4, 5"
   ]
  },
  {
   "cell_type": "code",
   "execution_count": 9,
   "metadata": {},
   "outputs": [
    {
     "name": "stdout",
     "output_type": "stream",
     "text": [
      "None\n"
     ]
    }
   ],
   "source": [
    "# TODO: Replae None with the standard set constructor with the numbers 1, 2, 3, 4, 5\n",
    "numbers = None\n",
    "\n",
    "print(numbers) # {1, 2, 3, 4, 5}"
   ]
  },
  {
   "cell_type": "markdown",
   "metadata": {},
   "source": [
    "## Exercise 2\n",
    "\n",
    "Print the length of the set numbers."
   ]
  },
  {
   "cell_type": "code",
   "execution_count": 10,
   "metadata": {},
   "outputs": [
    {
     "name": "stdout",
     "output_type": "stream",
     "text": [
      "None\n"
     ]
    }
   ],
   "source": [
    "# TODO: Replace None with an express to evaluate the length of the set\n",
    "print(None)"
   ]
  },
  {
   "cell_type": "markdown",
   "metadata": {},
   "source": [
    "## Exercise 3 \n",
    "\n",
    "Create a set from the list ['a', 'b', 'c', 'd', 'e'] and name it letters."
   ]
  },
  {
   "cell_type": "code",
   "execution_count": 8,
   "metadata": {},
   "outputs": [
    {
     "name": "stdout",
     "output_type": "stream",
     "text": [
      "None\n"
     ]
    }
   ],
   "source": [
    "lst = ['a', 'b', 'c', 'd', 'e']\n",
    "\n",
    "# TODO: Replace None with an expression that creates a set from a list\n",
    "letters = None\n",
    "\n",
    "print(letters) # {'a', 'b', 'c', 'd', 'e'}"
   ]
  },
  {
   "cell_type": "markdown",
   "metadata": {},
   "source": [
    "## Exercise 4\n",
    "\n",
    "Remove the element 'c' from the set letters."
   ]
  },
  {
   "cell_type": "code",
   "execution_count": 12,
   "metadata": {},
   "outputs": [
    {
     "name": "stdout",
     "output_type": "stream",
     "text": [
      "{'e', 'd', 'b', 'a', 'c'}\n"
     ]
    }
   ],
   "source": [
    "letters = {'a', 'b', 'c', 'd', 'e'}\n",
    "\n",
    "# TODO: Write an expression that removes 'c' from the set\n",
    "\n",
    "print(letters) # {'a', 'b', 'd', 'e'}"
   ]
  },
  {
   "cell_type": "markdown",
   "metadata": {},
   "source": [
    "## Exercise 5\n",
    "\n",
    "Check if there are any duplicates in the list ['a', 'b', 'c', 'd', 'e', 'a', 'b', 'c', 'd', 'e']."
   ]
  },
  {
   "cell_type": "code",
   "execution_count": 16,
   "metadata": {},
   "outputs": [
    {
     "name": "stdout",
     "output_type": "stream",
     "text": [
      "None\n"
     ]
    }
   ],
   "source": [
    "letters = ['a', 'b', 'c', 'd', 'e', 'a', 'b', 'c', 'd', 'e']\n",
    "\n",
    "# TODO: Replace None with an expression that returns True if the list has any duplicates\n",
    "print(None)"
   ]
  },
  {
   "cell_type": "markdown",
   "metadata": {},
   "source": [
    "## Exercise 6\n",
    "\n",
    "Add the elements 6, 7, 8, 9, 10 to the set numbers."
   ]
  },
  {
   "cell_type": "code",
   "execution_count": 17,
   "metadata": {},
   "outputs": [
    {
     "name": "stdout",
     "output_type": "stream",
     "text": [
      "{1, 2, 3, 4, 5}\n"
     ]
    }
   ],
   "source": [
    "# Problem Statement: Add elements of a list to a set\n",
    "\n",
    "# Inputs:\n",
    "numbers = {1, 2, 3, 4, 5}\n",
    "lst = [6, 7, 8, 9, 10]\n",
    "\n",
    "# TODO: Write an expression that adds the elements of the list to the set\n",
    "\n",
    "\n",
    "print(numbers) # {1, 2, 3, 4, 5, 6, 7, 8, 9, 10}"
   ]
  },
  {
   "cell_type": "markdown",
   "metadata": {},
   "source": [
    "## Exercise 7 \n",
    "\n",
    "Create a set that contains only the elements that are common between both sets."
   ]
  },
  {
   "cell_type": "code",
   "execution_count": 23,
   "metadata": {},
   "outputs": [
    {
     "name": "stdout",
     "output_type": "stream",
     "text": [
      "None\n"
     ]
    }
   ],
   "source": [
    "set1 = {10, 20, 40, 50, 60, 80, 100}\n",
    "set2 = {30, 50, 100}\n",
    "\n",
    "# TODO: Replace None with an expression that returns the intersection of set1 and set2\n",
    "set3 = None\n",
    "\n",
    "print(set3) # {50, 100}"
   ]
  },
  {
   "cell_type": "markdown",
   "metadata": {},
   "source": [
    "## Exercise 8\n",
    "\n",
    "Create a set that contains only the unique elements from both sets of numbers."
   ]
  },
  {
   "cell_type": "code",
   "execution_count": 24,
   "metadata": {},
   "outputs": [
    {
     "name": "stdout",
     "output_type": "stream",
     "text": [
      "None\n"
     ]
    }
   ],
   "source": [
    "set1 = {10, 20, 30, 40, 50, 60, 80, 100}\n",
    "set2 = {30, 50, 100}\n",
    "\n",
    "# TODO: Replace None with an expression that returns the union of set1 and set2\n",
    "set3 = None\n",
    "\n",
    "print(set3) # {100, 10, 50, 20, 80, 40, 60, 30}"
   ]
  }
 ],
 "metadata": {
  "kernelspec": {
   "display_name": "Python 3",
   "language": "python",
   "name": "python3"
  },
  "language_info": {
   "codemirror_mode": {
    "name": "ipython",
    "version": 3
   },
   "file_extension": ".py",
   "mimetype": "text/x-python",
   "name": "python",
   "nbconvert_exporter": "python",
   "pygments_lexer": "ipython3",
   "version": "3.12.2"
  }
 },
 "nbformat": 4,
 "nbformat_minor": 2
}
