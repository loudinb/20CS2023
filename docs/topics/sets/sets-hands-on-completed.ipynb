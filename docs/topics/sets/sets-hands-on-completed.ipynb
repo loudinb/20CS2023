{
 "cells": [
  {
   "cell_type": "markdown",
   "metadata": {},
   "source": [
    "# Sets: Hands-On Practice\n",
    "\n",
    "Take 10 minute to complete the following exercises on Python sets."
   ]
  },
  {
   "cell_type": "markdown",
   "metadata": {},
   "source": [
    "## Exercise 1\n",
    "\n",
    "Create a set named numbers with the following elements: 1, 2, 3, 4, 5"
   ]
  },
  {
   "cell_type": "code",
   "execution_count": 1,
   "metadata": {},
   "outputs": [
    {
     "name": "stdout",
     "output_type": "stream",
     "text": [
      "{1, 2, 3, 4, 5}\n"
     ]
    }
   ],
   "source": [
    "# TODO: Replae None with the standard set constructor with the numbers 1, 2, 3, 4, 5\n",
    "numbers = set([1, 2, 3, 4, 5])\n",
    "\n",
    "\n",
    "# Note: the standard set constructor uses the set() function\n",
    "# For built-in types like set, list, dict, etc., the constructor\n",
    "# is a function (e.g., set(), list(), dict()).\n",
    "\n",
    "# Using curly braces to create a set is called a set literal\n",
    "# numbers = {1, 2, 3, 4, 5}\n",
    "\n",
    "print(numbers) # {1, 2, 3, 4, 5}"
   ]
  },
  {
   "cell_type": "markdown",
   "metadata": {},
   "source": [
    "## Exercise 2\n",
    "\n",
    "Print the length of the set numbers."
   ]
  },
  {
   "cell_type": "code",
   "execution_count": 2,
   "metadata": {},
   "outputs": [
    {
     "name": "stdout",
     "output_type": "stream",
     "text": [
      "5\n"
     ]
    }
   ],
   "source": [
    "# TODO: Replace None with an express to evaluate the length of the set\n",
    "length = len(numbers)\n",
    "print(length)"
   ]
  },
  {
   "cell_type": "markdown",
   "metadata": {},
   "source": [
    "## Exercise 3 \n",
    "\n",
    "Create a set from the list ['a', 'b', 'c', 'd', 'e'] and name it letters."
   ]
  },
  {
   "cell_type": "code",
   "execution_count": 3,
   "metadata": {},
   "outputs": [
    {
     "name": "stdout",
     "output_type": "stream",
     "text": [
      "{'d', 'e', 'c', 'b', 'a'}\n"
     ]
    }
   ],
   "source": [
    "lst = ['a', 'b', 'c', 'd', 'e']\n",
    "\n",
    "# TODO: Replace None with an expression that creates a set from a list\n",
    "letters = set(lst)\n",
    "\n",
    "print(letters) # {'a', 'b', 'c', 'd', 'e'}"
   ]
  },
  {
   "cell_type": "markdown",
   "metadata": {},
   "source": [
    "## Exercise 4\n",
    "\n",
    "Remove the element 'c' from the set letters."
   ]
  },
  {
   "cell_type": "code",
   "execution_count": 4,
   "metadata": {},
   "outputs": [
    {
     "name": "stdout",
     "output_type": "stream",
     "text": [
      "{'d', 'e', 'b', 'a'}\n"
     ]
    }
   ],
   "source": [
    "letters = {'a', 'b', 'c', 'd', 'e'}\n",
    "\n",
    "# TODO: Write an expression that removes 'c' from the set\n",
    "letters.remove('c')\n",
    "\n",
    "print(letters) # {'a', 'b', 'd', 'e'}"
   ]
  },
  {
   "cell_type": "markdown",
   "metadata": {},
   "source": [
    "## Exercise 5\n",
    "\n",
    "Check if there are any duplicates in the list ['a', 'b', 'c', 'd', 'e', 'a', 'b', 'c', 'd', 'e']."
   ]
  },
  {
   "cell_type": "code",
   "execution_count": 5,
   "metadata": {},
   "outputs": [
    {
     "name": "stdout",
     "output_type": "stream",
     "text": [
      "True\n"
     ]
    }
   ],
   "source": [
    "letters = ['a', 'b', 'c', 'd', 'e', 'a', 'b', 'c', 'd', 'e']\n",
    "\n",
    "# TODO: Replace None with an expression that returns True if the list has any duplicates\n",
    "# Note: here we are assigning the results of a comparison to a variable\n",
    "has_duplicates = len(letters) != len(set(letters))\n",
    "\n",
    "print(has_duplicates)"
   ]
  },
  {
   "cell_type": "markdown",
   "metadata": {},
   "source": [
    "## Exercise 6\n",
    "\n",
    "Add the elements 6, 7, 8, 9, 10 to the set numbers."
   ]
  },
  {
   "cell_type": "code",
   "execution_count": 6,
   "metadata": {},
   "outputs": [
    {
     "name": "stdout",
     "output_type": "stream",
     "text": [
      "{1, 2, 3, 4, 5, 6, 7, 8, 9, 10}\n"
     ]
    }
   ],
   "source": [
    "# Problem Statement: Add elements of a list to a set\n",
    "\n",
    "# Inputs:\n",
    "numbers = {1, 2, 3, 4, 5}\n",
    "lst = [6, 7, 8, 9, 10]\n",
    "\n",
    "# TODO: Write an expression that adds the elements of the list to the set\n",
    "numbers.update(lst)\n",
    "\n",
    "print(numbers) # {1, 2, 3, 4, 5, 6, 7, 8, 9, 10}"
   ]
  },
  {
   "cell_type": "markdown",
   "metadata": {},
   "source": [
    "## Exercise 7 \n",
    "\n",
    "Create a set that contains only the elements that are common between both sets."
   ]
  },
  {
   "cell_type": "code",
   "execution_count": 7,
   "metadata": {},
   "outputs": [
    {
     "name": "stdout",
     "output_type": "stream",
     "text": [
      "{50, 100}\n"
     ]
    }
   ],
   "source": [
    "set1 = {10, 20, 40, 50, 60, 80, 100}\n",
    "set2 = {30, 50, 100}\n",
    "\n",
    "# TODO: Replace None with an expression that returns the intersection of set1 and set2\n",
    "set3 = set1.intersection(set2)\n",
    "\n",
    "print(set3) # {50, 100}"
   ]
  },
  {
   "cell_type": "markdown",
   "metadata": {},
   "source": [
    "## Exercise 8\n",
    "\n",
    "Create a set that contains only the unique elements from both sets of numbers."
   ]
  },
  {
   "cell_type": "code",
   "execution_count": 8,
   "metadata": {},
   "outputs": [
    {
     "name": "stdout",
     "output_type": "stream",
     "text": [
      "{40, 10, 80, 20, 60}\n"
     ]
    }
   ],
   "source": [
    "set1 = {10, 20, 30, 40, 50, 60, 80, 100}\n",
    "set2 = {30, 50, 100}\n",
    "\n",
    "# TODO: Replace None with an expression that returns the union of set1 and set2\n",
    "set3 = set1.symmetric_difference(set2)\n",
    "\n",
    "# note: the symmetric_difference() method returns a new set with elements that \n",
    "# are in either set1 or set2, but not in both.  \n",
    "# The ^ operator can also be used to find the symmetric difference of two sets.\n",
    "# set3 = set1 ^ set2\n",
    "\n",
    "print(set3) # {10, 20, 40, 60, 80}"
   ]
  }
 ],
 "metadata": {
  "kernelspec": {
   "display_name": "Python 3",
   "language": "python",
   "name": "python3"
  },
  "language_info": {
   "codemirror_mode": {
    "name": "ipython",
    "version": 3
   },
   "file_extension": ".py",
   "mimetype": "text/x-python",
   "name": "python",
   "nbconvert_exporter": "python",
   "pygments_lexer": "ipython3",
   "version": "3.12.5"
  }
 },
 "nbformat": 4,
 "nbformat_minor": 2
}
