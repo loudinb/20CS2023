{
    "cells": [
        {
            "cell_type": "markdown",
            "metadata": {},
            "source": [
                "# Flow Control and Iterating\n",
                "\n",
                "Flow control is the order in which statements are executed or evaluated. In Python, flow control is managed by conditional statements, loops, and function calls.  Closely related to flow control is the concept of iteration, which is the process of executing a set of statements repeatedly. In Python, iteration is managed by loops.\n",
                "\n",
                "Flow control and iteration are fundamental concepts in programming. They allow you to write programs that can make decisions, repeat actions, and respond to events. "
            ]
        },
        {
            "cell_type": "markdown",
            "metadata": {},
            "source": [
                "## The for loop\n",
                "\n",
                "The `for` loop is the most common way to iterate over a sequence in Python. It works with any iterable object, including lists, tuples, strings, dictionaries, and more.\n",
                "\n",
                "The basic syntax of a for loop is:\n",
                "```python\n",
                "for item in iterable:\n",
                "    # do something with item\n",
                "```\n",
                "\n",
                "Here's an example:"
            ]
        },
        {
            "cell_type": "code",
            "execution_count": null,
            "metadata": {},
            "outputs": [],
            "source": [
                "fruits = ['apple', 'banana', 'cherry']\n",
                "for fruit in fruits:\n",
                "    print(fruit)\n",
                "\n",
                "# This will output:\n",
                "# apple\n",
                "# banana\n",
                "# cherry\n",
                "\n",
                "# You can also iterate over strings:\n",
                "for char in \"Python\":\n",
                "    print(char)\n",
                "\n",
                "# And even dictionaries (iterating over keys by default):\n",
                "person = {\"name\": \"Alice\", \"age\": 30, \"city\": \"New York\"}\n",
                "for key in person:\n",
                "    print(f\"{key}: {person[key]}\")"
            ]
        },
        {
            "cell_type": "markdown",
            "metadata": {},
            "source": [
                "### `enumerate()`\n",
                "\n",
                "The `enumerate()` function is a built-in function that returns an iterator of tuples containing indices and values from an iterable. It's a convenient way to iterate over a sequence and keep track of the index.\n",
                "\n",
                "The basic syntax of `enumerate()` is:\n",
                "```python\n",
                "for index, item in enumerate(iterable):\n",
                "    # do something with index and item\n",
                "```"
            ]
        },
        {
            "cell_type": "code",
            "execution_count": 1,
            "metadata": {},
            "outputs": [
                {
                    "name": "stdout",
                    "output_type": "stream",
                    "text": [
                        "0 apple\n",
                        "1 banana\n",
                        "2 cherry\n"
                    ]
                }
            ],
            "source": [
                "fruits = ['apple', 'banana', 'cherry']\n",
                "for index, fruit in enumerate(fruits):\n",
                "    print(index, fruit)"
            ]
        },
        {
            "cell_type": "markdown",
            "metadata": {},
            "source": [
                "## Controlling the flow inside the loop\n",
                "\n",
                "Python provides several ways to control the flow of a loop:\n",
                "\n",
                "1. `break`: Exits the loop prematurely.\n",
                "2. `continue`: Skips the rest of the current iteration and moves to the next one.\n",
                "3. `else`: Executes a block of code when the loop completes normally (without a break).\n",
                "\n",
                "These control flow statements give you fine-grained control over your loops:"
            ]
        },
        {
            "cell_type": "code",
            "execution_count": null,
            "metadata": {},
            "outputs": [],
            "source": [
                "for i in range(10):\n",
                "    if i == 5:\n",
                "        break  # Exit the loop when i is 5\n",
                "    if i % 2 == 0:\n",
                "        continue  # Skip even numbers\n",
                "    print(i)\n",
                "else:\n",
                "    print(\"Loop completed without break\")\n",
                "\n",
                "# This will output:\n",
                "# 1\n",
                "# 3\n",
                "\n",
                "# Example with loop completing normally:\n",
                "for i in range(3):\n",
                "    print(i)\n",
                "else:\n",
                "    print(\"Loop completed without break\")\n",
                "\n",
                "# This will output:\n",
                "# 0\n",
                "# 1\n",
                "# 2\n",
                "# Loop completed without break"
            ]
        },
        {
            "cell_type": "markdown",
            "metadata": {},
            "source": [
                "## Iterable objects\n",
                "\n",
                "The `for` loop is the most common way to iterate over an iterable object. It works with any object that implements the iterable protocol, which requires the object to have an `__iter__()` method that returns an iterator.  The mechanaism of an iterator allows you to loop over the object's elements one at a time, this means the object does not need to store all its elements in memory at once.\n",
                "\n",
                "In Python, an iterable is any object that can be looped over. Iterable objects include:\n",
                "\n",
                "- lists\n",
                "- tuples\n",
                "- strings\n",
                "- range objects\n",
                "- dictionaries\n",
                "- enumarted objects"
            ]
        },
        {
            "cell_type": "markdown",
            "metadata": {},
            "source": [
                "### Generators\n",
                "\n",
                "Generators are a type of iterable that generates values on-the-fly, saving memory. They're defined using functions with the `yield` keyword instead of `return`. Generators are lazy, meaning they only generate values when asked, making them memory-efficient for large datasets."
            ]
        },
        {
            "cell_type": "code",
            "execution_count": null,
            "metadata": {},
            "outputs": [],
            "source": [
                "def count_up_to(n):\n",
                "    i = 0\n",
                "    while i < n:\n",
                "        yield i\n",
                "        i += 1\n",
                "\n",
                "for num in count_up_to(5):\n",
                "    print(num)\n",
                "\n",
                "# This will output:\n",
                "# 0\n",
                "# 1\n",
                "# 2\n",
                "# 3\n",
                "# 4\n",
                "\n",
                "# You can also create generators using generator expressions:\n",
                "squares = (x**2 for x in range(5))\n",
                "print(list(squares))  # [0, 1, 4, 9, 16]"
            ]
        },
        {
            "cell_type": "markdown",
            "metadata": {},
            "source": [
                "### Iterators are disposable\n",
                "\n",
                "An important characteristic of iterators is that they're disposable. Once an iterator is exhausted (i.e., has yielded all its values), it cannot be reused. This is different from sequences like lists, which can be iterated over multiple times."
            ]
        },
        {
            "cell_type": "code",
            "execution_count": null,
            "metadata": {},
            "outputs": [],
            "source": [
                "numbers = iter([1, 2, 3])  # Create an iterator\n",
                "print(list(numbers))  # [1, 2, 3]\n",
                "print(list(numbers))  # [] (iterator is exhausted)\n",
                "\n",
                "# In contrast, a list can be iterated multiple times:\n",
                "numbers_list = [1, 2, 3]\n",
                "print(list(numbers_list))  # [1, 2, 3]\n",
                "print(list(numbers_list))  # [1, 2, 3] (list can be reused)"
            ]
        },
        {
            "cell_type": "markdown",
            "metadata": {},
            "source": [
                "### Iterator tools\n",
                "\n",
                "The `itertools` module in Python provides a collection of fast, memory-efficient tools for working with iterators. These tools can be combined to form elegant solutions for complex iteration tasks."
            ]
        },
        {
            "cell_type": "code",
            "execution_count": null,
            "metadata": {},
            "outputs": [],
            "source": [
                "import itertools\n",
                "\n",
                "# chain() - concatenate multiple iterables\n",
                "for item in itertools.chain([1, 2], ['a', 'b']):\n",
                "    print(item)\n",
                "\n",
                "# This will output:\n",
                "# 1\n",
                "# 2\n",
                "# a\n",
                "# b\n",
                "\n",
                "# cycle() - create an infinite iterator\n",
                "colors = itertools.cycle(['red', 'green', 'blue'])\n",
                "for _ in range(5):\n",
                "    print(next(colors))\n",
                "\n",
                "# This will output:\n",
                "# red\n",
                "# green\n",
                "# blue\n",
                "# red\n",
                "# green\n",
                "\n",
                "# combinations() - generate all combinations of a specified length\n",
                "for combo in itertools.combinations('ABC', 2):\n",
                "    print(''.join(combo))\n",
                "\n",
                "# This will output:\n",
                "# AB\n",
                "# AC\n",
                "# BC"
            ]
        },
        {
            "cell_type": "markdown",
            "metadata": {},
            "source": [
                "### Generators of recursive sequences\n",
                "\n",
                "Generators can be particularly useful for creating recursive sequences efficiently. Instead of storing the entire sequence in memory, generators can produce the next value in the sequence on demand."
            ]
        },
        {
            "cell_type": "code",
            "execution_count": null,
            "metadata": {},
            "outputs": [],
            "source": [
                "def fibonacci():\n",
                "    a, b = 0, 1\n",
                "    while True:\n",
                "        yield a\n",
                "        a, b = b, a + b\n",
                "\n",
                "fib = fibonacci()\n",
                "for _ in range(10):\n",
                "    print(next(fib))\n",
                "\n",
                "# This will output the first 10 Fibonacci numbers:\n",
                "# 0\n",
                "# 1\n",
                "# 1\n",
                "# 2\n",
                "# 3\n",
                "# 5\n",
                "# 8\n",
                "# 13\n",
                "# 21\n",
                "# 34\n",
                "\n",
                "# Another example: generating prime numbers\n",
                "def primes():\n",
                "    yield 2\n",
                "    primes_list = [2]\n",
                "    num = 3\n",
                "    while True:\n",
                "        if all(num % p != 0 for p in primes_list):\n",
                "            primes_list.append(num)\n",
                "            yield num\n",
                "        num += 2\n",
                "\n",
                "prime_gen = primes()\n",
                "for _ in range(10):\n",
                "    print(next(prime_gen))\n",
                "\n",
                "# This will output the first 10 prime numbers"
            ]
        },
        {
            "cell_type": "markdown",
            "metadata": {},
            "source": [
                "## List-filling patterns\n",
                "\n",
                "There are several ways to fill lists in Python, each with its own advantages depending on the situation.\n",
                "\n",
                "### List filling with the append method\n",
                "\n",
                "This is the most straightforward method, useful when you need to build a list incrementally or when the logic for creating each element is complex."
            ]
        },
        {
            "cell_type": "code",
            "execution_count": null,
            "metadata": {},
            "outputs": [],
            "source": [
                "squares = []\n",
                "for i in range(5):\n",
                "    squares.append(i ** 2)\n",
                "print(squares)  # [0, 1, 4, 9, 16]\n",
                "\n",
                "# This method is also useful when you need more complex logic:\n",
                "even_squares = []\n",
                "for i in range(10):\n",
                "    if i % 2 == 0:\n",
                "        even_squares.append(i ** 2)\n",
                "print(even_squares)  # [0, 4, 16, 36, 64]"
            ]
        },
        {
            "cell_type": "markdown",
            "metadata": {},
            "source": [
                "### List from iterators\n",
                "\n",
                "You can create lists directly from iterators or generator expressions. This method is concise and often more readable for simple transformations."
            ]
        },
        {
            "cell_type": "code",
            "execution_count": null,
            "metadata": {},
            "outputs": [],
            "source": [
                "# Using a list comprehension\n",
                "squares = [i ** 2 for i in range(5)]\n",
                "print(squares)  # [0, 1, 4, 9, 16]\n",
                "\n",
                "# Using the built-in list() function with a generator expression\n",
                "cubes = list(i ** 3 for i in range(5))\n",
                "print(cubes)  # [0, 1, 8, 27, 64]\n",
                "\n",
                "# List comprehension with a condition\n",
                "even_squares = [i ** 2 for i in range(10) if i % 2 == 0]\n",
                "print(even_squares)  # [0, 4, 16, 36, 64]"
            ]
        },
        {
            "cell_type": "markdown",
            "metadata": {},
            "source": [
                "### Storing generated values\n",
                "\n",
                "Sometimes you might want to generate values using a function and store them in a list. This is particularly useful when the generation logic is complex or when you want to reuse the generation logic."
            ]
        },
        {
            "cell_type": "code",
            "execution_count": null,
            "metadata": {},
            "outputs": [],
            "source": [
                "def generate_squares(n):\n",
                "    for i in range(n):\n",
                "        yield i ** 2\n",
                "\n",
                "squares = list(generate_squares(5))\n",
                "print(squares)  # [0, 1, 4, 9, 16]\n",
                "\n",
                "# This method is particularly useful for more complex generation logic:\n",
                "def generate_fibonacci(n):\n",
                "    a, b = 0, 1\n",
                "    for _ in range(n):\n",
                "        yield a\n",
                "        a, b = b, a + b\n",
                "\n",
                "fibonacci = list(generate_fibonacci(10))\n",
                "print(fibonacci)  # [0, 1, 1, 2, 3, 5, 8, 13, 21, 34]"
            ]
        },
        {
            "cell_type": "code",
            "execution_count": null,
            "metadata": {},
            "outputs": [],
            "source": [
                "fibonacci = list(generate_fibonacci(10))\n",
                "print(fibonacci)  # [0, 1, 1, 2, 3, 5, 8, 13, 21, 34]"
            ]
        },
        {
            "cell_type": "markdown",
            "metadata": {},
            "source": [
                "## When iterators behave as lists\n",
                "\n",
                "While iterators and lists are different concepts in Python, there are situations where iterators can behave similarly to lists. Understanding these situations can help you write more efficient and expressive code.\n",
                "\n",
                "### Generator expressions\n",
                "\n",
                "Generator expressions are similar to list comprehensions but create an iterator instead of a list. They're more memory-efficient for large datasets because they generate values on-the-fly rather than storing them all in memory at once."
            ]
        },
        {
            "cell_type": "code",
            "execution_count": null,
            "metadata": {},
            "outputs": [],
            "source": [
                "# List comprehension\n",
                "squares_list = [i ** 2 for i in range(5)]\n",
                "print(squares_list)  # [0, 1, 4, 9, 16]\n",
                "\n",
                "# Generator expression\n",
                "squares_gen = (i ** 2 for i in range(5))\n",
                "print(squares_gen)  # <generator object <genexpr> at 0x...>\n",
                "\n",
                "# Converting generator to list\n",
                "print(list(squares_gen))  # [0, 1, 4, 9, 16]\n",
                "\n",
                "# Generator expressions can be used directly in functions that expect iterables\n",
                "print(sum(i ** 2 for i in range(5)))  # 30\n",
                "\n",
                "# They can also be used in for loops\n",
                "for square in (i ** 2 for i in range(5)):\n",
                "    print(square)\n",
                "\n",
                "# This will output:\n",
                "# 0\n",
                "# 1\n",
                "# 4\n",
                "# 9\n",
                "# 16"
            ]
        },
        {
            "cell_type": "markdown",
            "metadata": {},
            "source": [
                "### Zipping iterators\n",
                "\n",
                "The `zip()` function in Python creates an iterator of tuples where each tuple contains the i-th element from each of the input iterables. This is useful for parallel iteration over multiple sequences."
            ]
        },
        {
            "cell_type": "code",
            "execution_count": null,
            "metadata": {},
            "outputs": [],
            "source": [
                "names = ['Alice', 'Bob', 'Charlie']\n",
                "ages = [25, 30, 35]\n",
                "cities = ['New York', 'San Francisco', 'London']\n",
                "\n",
                "# Basic zipping\n",
                "for name, age in zip(names, ages):\n",
                "    print(f\"{name} is {age} years old\")\n",
                "\n",
                "# This will output:\n",
                "# Alice is 25 years old\n",
                "# Bob is 30 years old\n",
                "# Charlie is 35 years old\n",
                "\n",
                "# Zipping multiple iterables\n",
                "for name, age, city in zip(names, ages, cities):\n",
                "    print(f\"{name} is {age} years old and lives in {city}\")\n",
                "\n",
                "# This will output:\n",
                "# Alice is 25 years old and lives in New York\n",
                "# Bob is 30 years old and lives in San Francisco\n",
                "# Charlie is 35 years old and lives in London\n",
                "\n",
                "# Creating a list of tuples\n",
                "people = list(zip(names, ages, cities))\n",
                "print(people)\n",
                "# [('Alice', 25, 'New York'), ('Bob', 30, 'San Francisco'), ('Charlie', 35, 'London')]\n",
                "\n",
                "# Unzipping\n",
                "names, ages, cities = zip(*people)\n",
                "print(names)  # ('Alice', 'Bob', 'Charlie')\n",
                "print(ages)   # (25, 30, 35)\n",
                "print(cities) # ('New York', 'San Francisco', 'London')"
            ]
        },
        {
            "cell_type": "markdown",
            "metadata": {},
            "source": [
                "## Iterator objects\n",
                "\n",
                "In Python, an iterator is an object that implements two methods: `__iter__()` and `__next__()`. The `__iter__()` method returns the iterator object itself, and `__next__()` returns the next value from the iterator. When there are no more items to return, `__next__()` should raise a `StopIteration` exception.\n",
                "\n",
                "Understanding how to create custom iterator objects can be useful for creating complex iteration patterns or for optimizing memory usage in your programs."
            ]
        },
        {
            "cell_type": "code",
            "execution_count": null,
            "metadata": {},
            "outputs": [],
            "source": [
                "class CountUp:\n",
                "    def __init__(self, start, end):\n",
                "        self.current = start\n",
                "        self.end = end\n",
                "    \n",
                "    def __iter__(self):\n",
                "        return self\n",
                "    \n",
                "    def __next__(self):\n",
                "        if self.current > self.end:\n",
                "            raise StopIteration\n",
                "        else:\n",
                "            self.current += 1\n",
                "            return self.current - 1\n",
                "\n",
                "# Using our custom iterator\n",
                "for num in CountUp(1, 5):\n",
                "    print(num)\n",
                "\n",
                "# This will output:\n",
                "# 1\n",
                "# 2\n",
                "# 3\n",
                "# 4\n",
                "# 5\n",
                "\n",
                "# We can also use it with other functions that expect iterables\n",
                "print(list(CountUp(1, 5)))  # [1, 2, 3, 4, 5]\n",
                "print(sum(CountUp(1, 5)))   # 15\n",
                "\n",
                "# Creating a more complex iterator: PrimeIterator\n",
                "class PrimeIterator:\n",
                "    def __init__(self, max_num):\n",
                "        self.max_num = max_num\n",
                "        self.num = 2\n",
                "    \n",
                "    def __iter__(self):\n",
                "        return self\n",
                "    \n",
                "    def is_prime(self, n):\n",
                "        if n < 2:\n",
                "            return False\n",
                "        for i in range(2, int(n**0.5) + 1):\n",
                "            if n % i == 0:\n",
                "                return False\n",
                "        return True\n",
                "    \n",
                "    def __next__(self):\n",
                "        while self.num <= self.max_num:\n",
                "            if self.is_prime(self.num):\n",
                "                result = self.num\n",
                "                self.num += 1\n",
                "                return result\n",
                "            self.num += 1\n",
                "        raise StopIteration\n",
                "\n",
                "# Using PrimeIterator\n",
                "for prime in PrimeIterator(20):\n",
                "    print(prime)\n",
                "\n",
                "# This will output:\n",
                "# 2\n",
                "# 3\n",
                "# 5\n",
                "# 7\n",
                "# 11\n",
                "# 13\n",
                "# 17\n",
                "# 19"
            ]
        },
        {
            "cell_type": "markdown",
            "metadata": {},
            "source": [
                "## Infinite iterators\n",
                "\n",
                "Infinite iterators are iterators that can theoretically produce values indefinitely. They're useful in situations where you need a continuous stream of data or when you want to process data until a certain condition is met.\n",
                "\n",
                "### The while loop\n",
                "\n",
                "While loops can be used to create infinite iterators, but care must be taken to avoid infinite execution."
            ]
        },
        {
            "cell_type": "code",
            "execution_count": null,
            "metadata": {},
            "outputs": [],
            "source": [
                "import itertools\n",
                "\n",
                "# Using itertools.count() to create an infinite sequence\n",
                "counter = itertools.count(start=1)\n",
                "for num in counter:\n",
                "    print(num)\n",
                "    if num >= 5:\n",
                "        break\n",
                "\n",
                "# This will output:\n",
                "# 1\n",
                "# 2\n",
                "# 3\n",
                "# 4\n",
                "# 5\n",
                "\n",
                "# Creating our own infinite iterator\n",
                "def infinite_sequence():\n",
                "    num = 0\n",
                "    while True:\n",
                "        yield num\n",
                "        num += 1\n",
                "\n",
                "# Using our infinite sequence\n",
                "gen = infinite_sequence()\n",
                "for _ in range(5):\n",
                "    print(next(gen))\n",
                "\n",
                "# This will output:\n",
                "# 0\n",
                "# 1\n",
                "# 2\n",
                "# 3\n",
                "# 4\n",
                "\n",
                "# Using itertools.cycle() to create a repeating sequence\n",
                "colors = itertools.cycle(['red', 'green', 'blue'])\n",
                "for _ in range(7):\n",
                "    print(next(colors))\n",
                "\n",
                "# This will output:\n",
                "# red\n",
                "# green\n",
                "# blue\n",
                "# red\n",
                "# green\n",
                "# blue\n",
                "# red"
            ]
        },
        {
            "cell_type": "markdown",
            "metadata": {},
            "source": [
                "### Recursion\n",
                "\n",
                "Recursion can also be used to create infinite sequences, though it's important to note that Python has a recursion limit to prevent stack overflow errors. For truly infinite sequences, it's better to use iteration or generators."
            ]
        },
        {
            "cell_type": "code",
            "execution_count": null,
            "metadata": {},
            "outputs": [],
            "source": [
                "def recursive_sequence(n):\n",
                "    print(n)\n",
                "    yield n\n",
                "    yield from recursive_sequence(n + 1)\n",
                "\n",
                "# Using the recursive sequence\n",
                "seq = recursive_sequence(1)\n",
                "for _ in range(5):\n",
                "    next(seq)\n",
                "\n",
                "# This will output:\n",
                "# 1\n",
                "# 2\n",
                "# 3\n",
                "# 4\n",
                "# 5\n",
                "\n",
                "# Note: This will eventually hit Python's recursion limit if run for too long\n",
                "\n",
                "# A more practical example: infinite Fibonacci sequence\n",
                "def fibonacci_sequence():\n",
                "    a, b = 0, 1\n",
                "    while True:\n",
                "        yield a\n",
                "        a, b = b, a + b\n",
                "\n",
                "fib = fibonacci_sequence()\n",
                "for _ in range(10):\n",
                "    print(next(fib))\n",
                "\n",
                "# This will output:\n",
                "# 0\n",
                "# 1\n",
                "# 1\n",
                "# 2\n",
                "# 3\n",
                "# 5\n",
                "# 8\n",
                "# 13\n",
                "# 21\n",
                "# 34"
            ]
        }
    ],
    "metadata": {
        "kernelspec": {
            "display_name": "Python 3",
            "language": "python",
            "name": "python3"
        },
        "language_info": {
            "codemirror_mode": {
                "name": "ipython",
                "version": 3
            },
            "file_extension": ".py",
            "mimetype": "text/x-python",
            "name": "python",
            "nbconvert_exporter": "python",
            "pygments_lexer": "ipython3",
            "version": "3.12.2"
        }
    },
    "nbformat": 4,
    "nbformat_minor": 4
}
