{
 "cells": [
  {
   "cell_type": "code",
   "execution_count": 107,
   "metadata": {},
   "outputs": [],
   "source": [
    "import re"
   ]
  },
  {
   "cell_type": "code",
   "execution_count": 108,
   "metadata": {},
   "outputs": [],
   "source": [
    "def replace_number_if_question(string, replacement):\n",
    "    # Use regular expression to find a number preceded by the word \"Question\"\n",
    "    return re.sub(r'(?<=Question )\\d+', str(replacement), string)"
   ]
  },
  {
   "cell_type": "code",
   "execution_count": 109,
   "metadata": {},
   "outputs": [],
   "source": [
    "# Create a list of files to process\n",
    "import os\n",
    "\n",
    "# Get the current working directory\n",
    "cwd = os.getcwd()\n",
    "cwd = os.path.join(cwd, \"orig\")\n",
    "# List all files in the CWD that start with \"questions-\" and have a .qmd extension\n",
    "files = [f for f in os.listdir(cwd) if f.startswith('q') and f.endswith('.qmd')]\n"
   ]
  },
  {
   "cell_type": "code",
   "execution_count": 110,
   "metadata": {},
   "outputs": [],
   "source": [
    "# Initialize an empty list to store the questions\n",
    "questions = []\n",
    "\n",
    "\n",
    "for file in files:\n",
    "    # Create the full file path\n",
    "    file_path = os.path.join(cwd, file)\n",
    "    \n",
    "    # Read the file and process the lines\n",
    "    with open(file_path, 'r') as file:\n",
    "        lines = file.readlines()\n",
    "\n",
    "    # Initialize variables\n",
    "    current_question = []\n",
    "    is_question = False\n",
    "    # Loop through the lines and extract questions\n",
    "    for line in lines:\n",
    "        if line.startswith('###'):\n",
    "            line = replace_number_if_question(line, \"%Q#%\")\n",
    "            # If we're already capturing a question, save the previous one\n",
    "            if current_question:\n",
    "                questions.append(''.join(current_question).strip())\n",
    "                current_question = []\n",
    "            \n",
    "            # Start a new question capture\n",
    "            is_question = True\n",
    "            current_question.append(line)\n",
    "        elif is_question:\n",
    "            # Continue adding lines to the current question until we hit a new question\n",
    "            current_question.append(line)\n",
    "\n",
    "    # Add the last question to the list if any\n",
    "    if current_question:\n",
    "        questions.append(''.join(current_question).strip())\n",
    "\n",
    "import random\n",
    "\n",
    "# Randomize the order of questions\n",
    "random.shuffle(questions)"
   ]
  },
  {
   "cell_type": "code",
   "execution_count": 111,
   "metadata": {},
   "outputs": [],
   "source": [
    "for i, question in enumerate(questions):\n",
    "    questions[i] = question.replace(\"%Q#%\", str(i+1))"
   ]
  },
  {
   "cell_type": "code",
   "execution_count": 112,
   "metadata": {},
   "outputs": [],
   "source": [
    "# Define the number of questions per file\n",
    "questions_per_file = 10\n",
    "includes = []\n",
    "# Iterate over the questions list in chunks of 10\n",
    "for i in range(0, len(questions), questions_per_file):\n",
    "    # Create the file name based on the current chunk index\n",
    "    file_name = f'q{i}.qmd'\n",
    "    includes.append(f\"{{{{< include q{i}.qmd >}}}}\\n\")\n",
    "    # Get the current chunk of questions\n",
    "    chunk = questions[i:i + questions_per_file]\n",
    "    \n",
    "    # Write the chunk to the file\n",
    "    with open(file_name, 'w') as f:\n",
    "        for question in chunk:\n",
    "            f.write(question + '\\n\\n')"
   ]
  },
  {
   "cell_type": "code",
   "execution_count": 113,
   "metadata": {},
   "outputs": [],
   "source": [
    "with open('review.qmd', 'w') as f:\n",
    "    for include in includes:\n",
    "        f.write(include)"
   ]
  },
  {
   "cell_type": "code",
   "execution_count": null,
   "metadata": {},
   "outputs": [],
   "source": []
  },
  {
   "cell_type": "code",
   "execution_count": null,
   "metadata": {},
   "outputs": [],
   "source": []
  }
 ],
 "metadata": {
  "kernelspec": {
   "display_name": "Python 3",
   "language": "python",
   "name": "python3"
  },
  "language_info": {
   "codemirror_mode": {
    "name": "ipython",
    "version": 3
   },
   "file_extension": ".py",
   "mimetype": "text/x-python",
   "name": "python",
   "nbconvert_exporter": "python",
   "pygments_lexer": "ipython3",
   "version": "3.12.6"
  }
 },
 "nbformat": 4,
 "nbformat_minor": 2
}
