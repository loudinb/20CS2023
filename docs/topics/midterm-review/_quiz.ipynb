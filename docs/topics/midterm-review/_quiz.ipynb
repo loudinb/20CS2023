{
 "cells": [
  {
   "cell_type": "code",
   "execution_count": 89,
   "metadata": {},
   "outputs": [],
   "source": [
    "import re"
   ]
  },
  {
   "cell_type": "code",
   "execution_count": 90,
   "metadata": {},
   "outputs": [],
   "source": [
    "def replace_number_if_question(string, replacement):\n",
    "    # Use regular expression to find a number preceded by the word \"Question\"\n",
    "    return re.sub(r'(?<=Question )\\d+', str(replacement), string)"
   ]
  },
  {
   "cell_type": "code",
   "execution_count": 91,
   "metadata": {},
   "outputs": [],
   "source": [
    "# Create a list of files to process\n",
    "import os\n",
    "\n",
    "# Get the current working directory\n",
    "cwd = os.getcwd()\n",
    "cwd = os.path.join(cwd, \"orig\")\n",
    "\n",
    "def alphanumeric_key(s):\n",
    "    return [int(c) if c.isdigit() else c.lower() for c in re.split(r'(\\d+)', s)]\n",
    "\n",
    "# List all files in the CWD that start with \"questions-\" and have a .qmd extension\n",
    "files = [f for f in os.listdir(cwd) if f.startswith('q') and f.endswith('.qmd')]\n",
    "files = sorted(files, key=alphanumeric_key)"
   ]
  },
  {
   "cell_type": "code",
   "execution_count": 92,
   "metadata": {},
   "outputs": [
    {
     "data": {
      "text/plain": [
       "['q0.qmd',\n",
       " 'q10.qmd',\n",
       " 'q20.qmd',\n",
       " 'q30.qmd',\n",
       " 'q40.qmd',\n",
       " 'q50.qmd',\n",
       " 'q60.qmd',\n",
       " 'q70.qmd',\n",
       " 'q80.qmd',\n",
       " 'q90.qmd',\n",
       " 'q100.qmd',\n",
       " 'q110.qmd',\n",
       " 'q120.qmd',\n",
       " 'q130.qmd',\n",
       " 'q140.qmd',\n",
       " 'q150.qmd',\n",
       " 'q160.qmd',\n",
       " 'q170.qmd',\n",
       " 'q180.qmd',\n",
       " 'q190.qmd',\n",
       " 'q200.qmd',\n",
       " 'q210.qmd',\n",
       " 'q220.qmd',\n",
       " 'q230.qmd']"
      ]
     },
     "execution_count": 92,
     "metadata": {},
     "output_type": "execute_result"
    }
   ],
   "source": [
    "files"
   ]
  },
  {
   "cell_type": "code",
   "execution_count": 93,
   "metadata": {},
   "outputs": [],
   "source": [
    "# Initialize an empty list to store the questions\n",
    "questions = []\n",
    "\n",
    "\n",
    "for file in files:\n",
    "    # Create the full file path\n",
    "    file_path = os.path.join(cwd, file)\n",
    "    \n",
    "    # Read the file and process the lines\n",
    "    with open(file_path, 'r') as file:\n",
    "        lines = file.readlines()\n",
    "\n",
    "    # Initialize variables\n",
    "    current_question = []\n",
    "    is_question = False\n",
    "    # Loop through the lines and extract questions\n",
    "    for line in lines:\n",
    "        if line.startswith('###'):\n",
    "            line = replace_number_if_question(line, \"%Q#%\")\n",
    "            # If we're already capturing a question, save the previous one\n",
    "            if current_question:\n",
    "                questions.append(''.join(current_question).strip())\n",
    "                current_question = []\n",
    "            \n",
    "            # Start a new question capture\n",
    "            is_question = True\n",
    "            current_question.append(line)\n",
    "        elif is_question:\n",
    "            # Continue adding lines to the current question until we hit a new question\n",
    "            current_question.append(line)\n",
    "\n",
    "    # Add the last question to the list if any\n",
    "    if current_question:\n",
    "        questions.append(''.join(current_question).strip())\n",
    "\n",
    "import random\n",
    "\n",
    "# Randomize the order of questions\n",
    "random.shuffle(questions)"
   ]
  },
  {
   "cell_type": "code",
   "execution_count": 94,
   "metadata": {},
   "outputs": [],
   "source": [
    "for i, question in enumerate(questions):\n",
    "    questions[i] = question.replace(\"%Q#%\", str(i+1))"
   ]
  },
  {
   "cell_type": "code",
   "execution_count": 95,
   "metadata": {},
   "outputs": [
    {
     "data": {
      "text/plain": [
       "196"
      ]
     },
     "execution_count": 95,
     "metadata": {},
     "output_type": "execute_result"
    }
   ],
   "source": [
    "len(questions)"
   ]
  },
  {
   "cell_type": "code",
   "execution_count": 96,
   "metadata": {},
   "outputs": [],
   "source": [
    "# Define the number of questions per file\n",
    "questions_per_file = 10\n",
    "includes = []\n",
    "# Iterate over the questions list in chunks of 10\n",
    "for i in range(0, len(questions), questions_per_file):\n",
    "    # Create the file name based on the current chunk index\n",
    "    file_name = f'q{i}.qmd'\n",
    "    includes.append(f\"{{{{< include q{i}.qmd >}}}}\\n\")\n",
    "    # Get the current chunk of questions\n",
    "    chunk = questions[i:i + questions_per_file]\n",
    "    \n",
    "    # Write the chunk to the file\n",
    "    with open(file_name, 'w') as f:\n",
    "        for question in chunk:\n",
    "            f.write(question + '\\n\\n')"
   ]
  },
  {
   "cell_type": "code",
   "execution_count": 97,
   "metadata": {},
   "outputs": [],
   "source": [
    "with open('review.qmd', 'w') as f:\n",
    "    for include in includes:\n",
    "        f.write(include)"
   ]
  },
  {
   "cell_type": "code",
   "execution_count": null,
   "metadata": {},
   "outputs": [],
   "source": []
  },
  {
   "cell_type": "code",
   "execution_count": null,
   "metadata": {},
   "outputs": [],
   "source": []
  }
 ],
 "metadata": {
  "kernelspec": {
   "display_name": "Python 3",
   "language": "python",
   "name": "python3"
  },
  "language_info": {
   "codemirror_mode": {
    "name": "ipython",
    "version": 3
   },
   "file_extension": ".py",
   "mimetype": "text/x-python",
   "name": "python",
   "nbconvert_exporter": "python",
   "pygments_lexer": "ipython3",
   "version": "3.12.5"
  }
 },
 "nbformat": 4,
 "nbformat_minor": 2
}
