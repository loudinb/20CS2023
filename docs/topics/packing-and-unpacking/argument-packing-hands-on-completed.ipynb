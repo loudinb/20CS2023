{
 "cells": [
  {
   "cell_type": "markdown",
   "metadata": {},
   "source": [
    "# Argument Packing: Hands-On Practice Completed\n",
    "\n",
    "Write a function that calculates the average of an arbitrary number of numeric arguments. Your function should:\n",
    "\n",
    "1. Use argument packing to handle any number of input values.\n",
    "2. Leverage the `sum()` and `len()` functions to compute the average.\n",
    "\n",
    "Refer to the [Built-In Functions](https://docs.python.org/3/library/functions.html) section of the Python documentation for more information on the `sum()` and `len()` functions:\n",
    "\n",
    "- https://docs.python.org/3/library/functions.html"
   ]
  },
  {
   "cell_type": "markdown",
   "metadata": {},
   "source": [
    "## Function"
   ]
  },
  {
   "cell_type": "code",
   "execution_count": 1,
   "metadata": {},
   "outputs": [],
   "source": [
    "def calculate_average(*numbers):\n",
    "    \"\"\"\n",
    "    This function calculates the average of a variable number of numeric arguments.\n",
    "    \n",
    "    Args:\n",
    "      numbers:\n",
    "        set of numbers to calculate the average.\n",
    "    \n",
    "    Returns:\n",
    "      None:\n",
    "        If no numbers are provided.\n",
    "      float:\n",
    "        The average of the input numbers.\n",
    "      \n",
    "    \"\"\"\n",
    "    if not numbers:\n",
    "        return None  # Return None if no arguments are passed\n",
    "\n",
    "    average = sum(numbers)/len(numbers)\n",
    "    return average"
   ]
  },
  {
   "cell_type": "markdown",
   "metadata": {},
   "source": [
    "## Test Cases\n",
    "\n",
    "Verify your function with the following test cases:"
   ]
  },
  {
   "cell_type": "code",
   "execution_count": 2,
   "metadata": {},
   "outputs": [
    {
     "name": "stdout",
     "output_type": "stream",
     "text": [
      "3.0\n",
      "2.3\n",
      "None\n"
     ]
    }
   ],
   "source": [
    "print(calculate_average(1, 2, 3, 4, 5))  # Output: 3.0\n",
    "print(calculate_average(1.3, 2.3, 3.3))  # Output: 2.3\n",
    "print(calculate_average())  # Output: None"
   ]
  }
 ],
 "metadata": {
  "kernelspec": {
   "display_name": "Python 3",
   "language": "python",
   "name": "python3"
  },
  "language_info": {
   "codemirror_mode": {
    "name": "ipython",
    "version": 3
   },
   "file_extension": ".py",
   "mimetype": "text/x-python",
   "name": "python",
   "nbconvert_exporter": "python",
   "pygments_lexer": "ipython3",
   "version": "3.12.2"
  }
 },
 "nbformat": 4,
 "nbformat_minor": 2
}
