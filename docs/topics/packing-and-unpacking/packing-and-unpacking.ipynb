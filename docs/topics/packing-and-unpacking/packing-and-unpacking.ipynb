{
    "cells": [
        {
            "cell_type": "markdown",
            "metadata": {},
            "source": [
                "# Packing and Unpacking\n",
                "\n",
                "Packing and unpacking are techniques used to assign multiple values to a single variable or extract multiple values from a single variable. These concepts apply to both tuples and lists in Python. Both packing and unpacking can be used with functions, allowing for flexible argument passing and return values."
            ]
        },
        {
            "cell_type": "markdown",
            "metadata": {},
            "source": [
                "## Packing\n",
                "\n",
                "Packing is the process of combining multiple values into a single tuple or list. You have seen this in action already when you create a tuple or list with multiple values."
            ]
        },
        {
            "cell_type": "markdown",
            "metadata": {},
            "source": [
                "### Basic Examples"
            ]
        },
        {
            "cell_type": "code",
            "execution_count": 11,
            "metadata": {},
            "outputs": [],
            "source": [
                "# Explicitly creating a tuple or list:\n",
                "\n",
                "coordinates = (10, 20, 30) # tuple\n",
                "coordinates = [10, 20, 30] # list"
            ]
        },
        {
            "cell_type": "code",
            "execution_count": 12,
            "metadata": {},
            "outputs": [],
            "source": [
                "# Implicitly creating a tuple by assigning multiple values:\n",
                "\n",
                "coordinates = 10, 20, 30  # tuple"
            ]
        },
        {
            "cell_type": "code",
            "execution_count": 13,
            "metadata": {},
            "outputs": [],
            "source": [
                "# Using the list() or tuple() constructor:\n",
                "\n",
                "coordinates = tuple([10, 20, 30]) # tuple\n",
                "coordinates = list((10, 20, 30)) # list"
            ]
        },
        {
            "cell_type": "markdown",
            "metadata": {},
            "source": [
                "### Argument Packing\n",
                "\n",
                "Argument packing is the process of combining multiple arguments into a single tuple or list. This is useful when you want to pass multiple arguments to a function without explicitly defining the arguments.  The `*` operator is used to pack arguments into a tuple."
            ]
        },
        {
            "cell_type": "code",
            "execution_count": 5,
            "metadata": {},
            "outputs": [
                {
                    "name": "stdout",
                    "output_type": "stream",
                    "text": [
                        "<class 'tuple'>\n"
                    ]
                }
            ],
            "source": [
                "def example_function(*args):\n",
                "    return args\n",
                "\n",
                "packed = example_function(1, 2, 3, \"hello\")\n",
                "\n",
                "print(type(packed))"
            ]
        },
        {
            "cell_type": "code",
            "execution_count": 14,
            "metadata": {},
            "outputs": [
                {
                    "name": "stdout",
                    "output_type": "stream",
                    "text": [
                        "<class 'list'>\n"
                    ]
                }
            ],
            "source": [
                "def example_function(*args):\n",
                "    return list(args)\n",
                "\n",
                "packed = example_function(1, 2, 3, \"hello\")\n",
                "\n",
                "print(type(packed))"
            ]
        },
        {
            "cell_type": "markdown",
            "metadata": {},
            "source": [
                "## Unpacking\n",
                "\n",
                "Unpacking is the process of extracting values from a tuple or list and assigning them to multiple variables. This involves assigning the packed object to multiple variables, each of which receives one of the object's values."
            ]
        },
        {
            "cell_type": "markdown",
            "metadata": {},
            "source": [
                "### Basic Examples"
            ]
        },
        {
            "cell_type": "code",
            "execution_count": 3,
            "metadata": {},
            "outputs": [],
            "source": [
                "x, y, z = (10, 20, 30) # unpacking a tuple\n",
                "x, y, z = [10, 20, 30] # unpacking a list"
            ]
        },
        {
            "cell_type": "markdown",
            "metadata": {},
            "source": [
                "#### Partial Unpacking\n",
                "\n",
                "Partial unpacking allows you to extract a subset of values from an iterable or sequence. This is done by using the `*` operator followed by a variable name to capture the remaining values."
            ]
        },
        {
            "cell_type": "code",
            "execution_count": 10,
            "metadata": {},
            "outputs": [
                {
                    "name": "stdout",
                    "output_type": "stream",
                    "text": [
                        "10\n",
                        "[20, 30, 40]\n",
                        "50\n"
                    ]
                }
            ],
            "source": [
                "numbers = [10, 20, 30, 40, 50]\n",
                "\n",
                "first, *middle, last = numbers\n",
                "\n",
                "print(first)   # Output: 10\n",
                "print(middle)  # Output: [20, 30, 40]\n",
                "print(last)    # Output: 50"
            ]
        },
        {
            "cell_type": "code",
            "execution_count": 9,
            "metadata": {},
            "outputs": [
                {
                    "name": "stdout",
                    "output_type": "stream",
                    "text": [
                        "1\n",
                        "[2, 3, 4]\n",
                        "5\n"
                    ]
                }
            ],
            "source": [
                "coordinates = (1, 2, 3, 4, 5)\n",
                "\n",
                "start, *middle, end = coordinates\n",
                "\n",
                "print(start)   # Output: 1\n",
                "print(middle)  # Output: [2, 3, 4]\n",
                "print(end)     # Output: 5"
            ]
        },
        {
            "cell_type": "markdown",
            "metadata": {},
            "source": [
                "#### Argument Unpacking\n",
                "\n",
                "Argument unpacking is the process of extracting values from a tuple or list and passing them as arguments to a function. This is useful when you want to pass multiple arguments to a function without explicitly defining the arguments. The `*` operator is used to unpack arguments from a tuple."
            ]
        },
        {
            "cell_type": "code",
            "execution_count": null,
            "metadata": {},
            "outputs": [],
            "source": [
                "def add(a, b, c):\n",
                "    return a + b + c\n",
                "\n",
                "numbers = (1, 2, 3)\n",
                "result = add(*numbers)  # Argument unpacking"
            ]
        }
    ],
    "metadata": {
        "kernelspec": {
            "display_name": "Python 3",
            "language": "python",
            "name": "python3"
        },
        "language_info": {
            "codemirror_mode": {
                "name": "ipython",
                "version": 3
            },
            "file_extension": ".py",
            "mimetype": "text/x-python",
            "name": "python",
            "nbconvert_exporter": "python",
            "pygments_lexer": "ipython3",
            "version": "3.12.2"
        }
    },
    "nbformat": 4,
    "nbformat_minor": 4
}
