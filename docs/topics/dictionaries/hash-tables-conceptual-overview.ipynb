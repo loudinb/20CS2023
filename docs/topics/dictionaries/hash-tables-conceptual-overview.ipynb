{
 "cells": [
  {
   "cell_type": "markdown",
   "metadata": {},
   "source": [
    "# Hash Tables: Conceptual Overview\n",
    "\n",
    "A hash table is a data structure that stores key-value pairs. The key is used to calculate the index at which the value is stored in the table. The key is hashed into an index of the array that is used to store the values. Hash tables are commonly used because they provide very fast lookups and inserts.\n",
    "\n",
    "## How does a Hash Table work?\n",
    "\n",
    "A hash table uses a hash function to compute an index into an array of buckets or slots, from which the desired value can be found. During lookup, the key is hashed and the resulting hash indicates where the corresponding value is stored.  The hash function takes the key and returns an integer, which is used to index the array. The value can then be stored at that index.\n",
    "\n",
    "## Hash Table Operations\n",
    "\n",
    "A hash table supports the following operations:\n",
    "\n",
    "- **Insert**: Add a new key-value pair to the hash table.\n",
    "- **Delete**: Remove a key-value pair from the hash table.\n",
    "- **Search**: Find a value in the hash table given a key.\n",
    "\n",
    "## Hash Table Collision Handling\n",
    "\n",
    "A collision occurs when two keys hash to the same index in the array.  How could there be a collision if keys are unique? The hash function generates a hash value that is used as an index in the array. Since the hash value can be very large, it is reduced to fit the size of the array using the modulo operation. This reduction can cause two different keys to hash to the same index, resulting in a collision.  There are two common ways to handle collisions:\n",
    "\n",
    "- **Chaining**: Each bucket in the array stores a linked list of key-value pairs that have the same hash value. When a collision occurs, the key-value pair is inserted at the head of the linked list. When searching for a key-value pair, the linked list is traversed to find the key.\n",
    "- **Open Addressing**: When a collision occurs, open addressing searches for the next available slot in the array. There are several methods for open addressing, such as linear probing, quadratic probing, and double hashing."
   ]
  },
  {
   "cell_type": "markdown",
   "metadata": {},
   "source": [
    "## Python Dictionaries\n",
    "\n",
    "In Python's dictionary (and in hash tables in general), the key itself is stored alongside the value. The hash of the key is not stored; rather, it is calculated when needed to determine where in the table the key-value pair should be placed or retrieved from. The hashed value is used as an index into the underlying array (or table), but the key itself is also stored to handle potential collisions and ensure that when retrieving a value, you can verify you’ve found the correct key.\n",
    "\n",
    "In a hash table, the index where a key-value pair is stored is determined by applying a hash function to the key. This hash function generates an integer (which can be very large). To fit this integer into the bounds of the hash table, which has a fixed size, we use the modulo operation (%).\n",
    "\n",
    "Here’s the process broken down:\n",
    "\n",
    "1. **Key Insertion**: When you insert a key-value pair into a hash table:\n",
    "\n",
    "    - The key is hashed using a hash function, which generates an integer.\n",
    "    - This integer is used to find an index in the underlying array.\n",
    "    - The key and its associated value are stored at that index. The key is stored so that when you retrieve a value later, you can verify that you have the correct key.\n",
    "    - If two keys map to the same index (collision), both the keys and values are stored at that index, typically in a list (this is called separate chaining).\n",
    "2. **Key Retrieval**: When you want to retrieve a value based on a key:\n",
    "    - The hash of the key is calculated again to determine the index in the hash table.\n",
    "    - At that index, the hash table looks at the stored key(s) and compares them to the key you’re looking for.\n",
    "    - If it finds the correct key, it returns the associated value.\n",
    "3. **Why Store the Key?**: Since different keys can have the same hash (a collision), the actual key is stored to ensure correctness. Even though the hash helps in finding the index, the actual key is still used to verify that you’ve found the right key."
   ]
  },
  {
   "cell_type": "markdown",
   "metadata": {},
   "source": [
    "## Index Calculation\n",
    "\n",
    "The index calculation is done using the hash function. The hash function takes the key and returns an integer, which is used to index the array. The hash function should be deterministic, meaning that it should always return the same hash for the same key. This is important because if the hash function is not deterministic, you won’t be able to find the value when you search for it.\n",
    "\n",
    "As stated, this hash function generates an integer, which can be very large. To fit this integer into the bounds of the hash table, which has a fixed size, we use the modulo operation (%).\n",
    "\n",
    "Here’s the process:\n",
    "\n",
    "- The hash function is applied to the key, generating a large integer (this is the hash value).\n",
    "- The modulo operation is applied to the hash value with respect to the size of the hash table to ensure that the index falls within the valid range of the table (i.e., between 0 and the size of the table minus 1).\n",
    "- The formula for determining the index is `index = hash(key) % len(table)`\n"
   ]
  },
  {
   "cell_type": "markdown",
   "metadata": {},
   "source": [
    "## Hash Table Demonstration"
   ]
  },
  {
   "cell_type": "code",
   "execution_count": 23,
   "metadata": {},
   "outputs": [
    {
     "name": "stdout",
     "output_type": "stream",
     "text": [
      "Key: 'apple' | Hash: -7879397982306248735 | Index: 5\n",
      "Inserted key: 'apple' with value: 1 at index: 5\n",
      "Key: 'banana' | Hash: 121328765832371847 | Index: 7\n",
      "Inserted key: 'banana' with value: 2 at index: 7\n",
      "Key: 'orange' | Hash: -1849347508846006808 | Index: 2\n",
      "Inserted key: 'orange' with value: 3 at index: 2\n"
     ]
    }
   ],
   "source": [
    "class HashTable:\n",
    "    def __init__(self, size):\n",
    "        # Create a fixed-size table (array)\n",
    "        self.size = size\n",
    "        self.table = [[] for _ in range(size)]\n",
    "    \n",
    "    def _hash(self, key):\n",
    "        # Use Python's built-in hash function to compute the hash of the key\n",
    "        hash_value = hash(key)\n",
    "        # Use modulo to determine the index within the table size\n",
    "        index = hash_value % self.size\n",
    "        print(f\"Key: '{key}' | Hash: {hash_value} | Index: {index}\")\n",
    "        return index\n",
    "    \n",
    "    def insert(self, key, value):\n",
    "        # Compute the hash index\n",
    "        index = self._hash(key)\n",
    "        # Store the key-value pair at the index\n",
    "        self.table[index].append([key, value])\n",
    "        print(f\"Inserted key: '{key}' with value: {value} at index: {index}\")\n",
    "    \n",
    "    def retrieve(self, key):\n",
    "        # Compute the hash index\n",
    "        index = self._hash(key)\n",
    "        # Search the list at the index for the key\n",
    "        for pair in self.table[index]:\n",
    "            if pair[0] == key:\n",
    "                print(f\"Retrieved value: {pair[1]} for key: '{key}' from index: {index}\")\n",
    "                return pair[1]\n",
    "        return None\n",
    "\n",
    "# Example usage:\n",
    "hash_table = HashTable(10)\n",
    "\n",
    "# Insert key-value pairs\n",
    "hash_table.insert(\"apple\", 1)\n",
    "hash_table.insert(\"banana\", 2)\n",
    "hash_table.insert(\"orange\", 3)"
   ]
  },
  {
   "cell_type": "markdown",
   "metadata": {},
   "source": [
    "### Confirming Index Calculation\n",
    "\n",
    "Let's confirm the index calculation for the \"apple\" and \"banana\" key using a hash table of size 10. We'll use the standard Python hash function to generate the hash value."
   ]
  },
  {
   "cell_type": "code",
   "execution_count": 22,
   "metadata": {},
   "outputs": [
    {
     "name": "stdout",
     "output_type": "stream",
     "text": [
      "5\n",
      "7\n"
     ]
    }
   ],
   "source": [
    "table_size = len(hash_table.table)\n",
    "print(hash(\"apple\") % table_size)\n",
    "print(hash(\"banana\") % table_size)"
   ]
  },
  {
   "cell_type": "markdown",
   "metadata": {},
   "source": [
    "### Retrieving a Value\n",
    "\n",
    "When Python needs to retrieve a value from a dictionary, it calculates the hash of the key and uses it to find the index in the underlying array. It then compares the key stored at that index with the key you’re looking for. If it finds the correct key, it returns the associated value.\n",
    "\n",
    "Let's demonstrate this process by retrieving the value for the key \"apple\" from a dictionary."
   ]
  },
  {
   "cell_type": "code",
   "execution_count": 35,
   "metadata": {},
   "outputs": [
    {
     "name": "stdout",
     "output_type": "stream",
     "text": [
      "Key: apple, Value: 1\n"
     ]
    }
   ],
   "source": [
    "table_size = len(hash_table.table)\n",
    "key = \"apple\"\n",
    "index_apple = hash(key) % table_size\n",
    "\n",
    "# Retrieve values\n",
    "item = hash_table.table[index_apple][0]\n",
    "\n",
    "# Check if the key matches the key of the returned value \n",
    "if key == item[0]:\n",
    "    print(f\"Key: {item[0]}, Value: {item[1]}\")\n"
   ]
  }
 ],
 "metadata": {
  "kernelspec": {
   "display_name": "Python 3",
   "language": "python",
   "name": "python3"
  },
  "language_info": {
   "codemirror_mode": {
    "name": "ipython",
    "version": 3
   },
   "file_extension": ".py",
   "mimetype": "text/x-python",
   "name": "python",
   "nbconvert_exporter": "python",
   "pygments_lexer": "ipython3",
   "version": "3.12.2"
  }
 },
 "nbformat": 4,
 "nbformat_minor": 2
}
