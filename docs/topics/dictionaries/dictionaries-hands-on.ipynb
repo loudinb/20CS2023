{
 "cells": [
  {
   "cell_type": "markdown",
   "metadata": {},
   "source": [
    "# Dictionaries: Hands-On Practice\n",
    "\n",
    "Take 10 minute to complete the following exercises on Python dictionaries."
   ]
  },
  {
   "cell_type": "markdown",
   "metadata": {},
   "source": [
    "## Exercise 1 \n",
    "\n",
    "Convert the two list of same length into a dictionary"
   ]
  },
  {
   "cell_type": "code",
   "execution_count": 47,
   "metadata": {},
   "outputs": [
    {
     "name": "stdout",
     "output_type": "stream",
     "text": [
      "None\n"
     ]
    }
   ],
   "source": [
    "keys = ['a', 'b', 'c']\n",
    "values = ['alpha', 'bravo', 'charlie']\n",
    "\n",
    "# TODO: replace None with an expression that creates a dictionary from the two lists\n",
    "d = None\n",
    "\n",
    "print(d) # {'a': 'alpha', 'b': 'bravo', 'c': 'charlie'}"
   ]
  },
  {
   "cell_type": "markdown",
   "metadata": {},
   "source": [
    "## Exercise 2\n",
    "\n",
    "Append the new dictionary to the original dictionary"
   ]
  },
  {
   "cell_type": "code",
   "execution_count": 46,
   "metadata": {},
   "outputs": [
    {
     "name": "stdout",
     "output_type": "stream",
     "text": [
      "{'a': 'alpha', 'b': 'bravo', 'c': 'charlie'}\n"
     ]
    }
   ],
   "source": [
    "original = {\n",
    "    \"a\": \"alpha\",\n",
    "    \"b\": \"bravo\",\n",
    "    \"c\": \"charlie\"}\n",
    "new = {\n",
    "    \"d\": \"delta\",\n",
    "    \"e\": \"echo\",\n",
    "    \"f\": \"foxtrot\"}\n",
    "\n",
    "# TODO: write the expression to adds the new dictionary to the original dictionary\n",
    "\n",
    "print(original) # {'a': 'alpha', 'b': 'bravo', 'c': 'charlie', 'd': 'delta', 'e': 'echo', 'f': 'foxtrot'}"
   ]
  },
  {
   "cell_type": "markdown",
   "metadata": {},
   "source": [
    "## Exercise 3\n",
    "\n",
    "Create a dictionary named 'new' that contains key-value pairs from the 'd' dictionary, including only the keys provided in the 'extract' list."
   ]
  },
  {
   "cell_type": "code",
   "execution_count": 45,
   "metadata": {},
   "outputs": [
    {
     "name": "stdout",
     "output_type": "stream",
     "text": [
      "None\n"
     ]
    }
   ],
   "source": [
    "d = {\n",
    "    \"name\": \"Alice Brown\",\n",
    "    \"city\": \"Cincinnati\",\n",
    "    \"email\": \"alice.brown@acme.com\"}\n",
    "\n",
    "# Keys to extract\n",
    "extract = [\"name\", \"city\"]\n",
    "\n",
    "# TODO: replace None with the expression to create a dictionary with only the keys in the extract list\n",
    "new = None\n",
    "\n",
    "print(new) # {'name': 'Alice Brown', 'city': 'Cincinnati'}"
   ]
  },
  {
   "cell_type": "markdown",
   "metadata": {},
   "source": [
    "## Exercise 4 \n",
    "\n",
    "Delete a list of keys from the dictionary"
   ]
  },
  {
   "cell_type": "code",
   "execution_count": 29,
   "metadata": {},
   "outputs": [
    {
     "name": "stdout",
     "output_type": "stream",
     "text": [
      "{'a': 'alpha', 'b': 'bravo', 'c': 'charlie', 'd': 'delta', 'e': 'echo', 'f': 'foxtrot'}\n"
     ]
    }
   ],
   "source": [
    "d = {\n",
    "    \"a\": \"alpha\",\n",
    "    \"b\": \"bravo\",\n",
    "    \"c\": \"charlie\",\n",
    "    \"d\": \"delta\",\n",
    "    \"e\": \"echo\",\n",
    "    \"f\": \"foxtrot\"}\n",
    "\n",
    "# keys to remove\n",
    "keys = [\"a\", \"f\"]\n",
    "\n",
    "# TODO: write expression to remove the keys from the dictionary\n",
    "\n",
    "\n",
    "print(d) # {'b': 'bravo', 'c': 'charlie', 'd': 'delta', 'e': 'echo'}"
   ]
  },
  {
   "cell_type": "markdown",
   "metadata": {},
   "source": [
    "## Exercise 5 \n",
    "\n",
    "Get the dictionary keys as a list"
   ]
  },
  {
   "cell_type": "code",
   "execution_count": 43,
   "metadata": {},
   "outputs": [
    {
     "name": "stdout",
     "output_type": "stream",
     "text": [
      "None\n"
     ]
    }
   ],
   "source": [
    "d = {\n",
    "    \"a\": \"alpha\",\n",
    "    \"b\": \"bravo\",\n",
    "    \"c\": \"charlie\"}\n",
    "\n",
    "# TODO: replace None with an expression to get the keys from the dictionary\n",
    "keys = None\n",
    "\n",
    "print(keys)"
   ]
  },
  {
   "cell_type": "markdown",
   "metadata": {},
   "source": [
    "## Exercise 6 \n",
    "\n",
    "Sort the dictionary in descending order of the keys and return the dictionary"
   ]
  },
  {
   "cell_type": "code",
   "execution_count": 40,
   "metadata": {},
   "outputs": [
    {
     "name": "stdout",
     "output_type": "stream",
     "text": [
      "None\n"
     ]
    }
   ],
   "source": [
    "d = {\n",
    "    \"a\": \"alpha\",\n",
    "    \"b\": \"bravo\",\n",
    "    \"c\": \"charlie\"}\n",
    "\n",
    "# TODO: replace None with an expression that creates a new dictionary that is sorted in descending order\n",
    "sorted = None\n",
    "\n",
    "print(sorted) # {'c': 'charlie', 'b': 'bravo', 'a': 'alpha'}"
   ]
  },
  {
   "cell_type": "markdown",
   "metadata": {},
   "source": [
    "## Exercise 7 \n",
    "\n",
    "Check if the dictionary is empty"
   ]
  },
  {
   "cell_type": "code",
   "execution_count": 48,
   "metadata": {},
   "outputs": [
    {
     "name": "stdout",
     "output_type": "stream",
     "text": [
      "\n"
     ]
    }
   ],
   "source": [
    "d = {\n",
    "    \"a\": \"alpha\",\n",
    "    \"b\": \"bravo\",\n",
    "    \"c\": \"charlie\"}\n",
    "\n",
    "\n",
    "#TODO: add an expression to the print statement to evaluate if d is empty\n",
    "print()"
   ]
  }
 ],
 "metadata": {
  "kernelspec": {
   "display_name": "Python 3",
   "language": "python",
   "name": "python3"
  },
  "language_info": {
   "codemirror_mode": {
    "name": "ipython",
    "version": 3
   },
   "file_extension": ".py",
   "mimetype": "text/x-python",
   "name": "python",
   "nbconvert_exporter": "python",
   "pygments_lexer": "ipython3",
   "version": "3.12.2"
  }
 },
 "nbformat": 4,
 "nbformat_minor": 2
}
