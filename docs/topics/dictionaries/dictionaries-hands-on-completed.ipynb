{
 "cells": [
  {
   "cell_type": "markdown",
   "metadata": {},
   "source": [
    "# Dictionaries: Hands-On Practice\n",
    "\n",
    "Take 10 minute to complete the following exercises on Python dictionaries."
   ]
  },
  {
   "cell_type": "markdown",
   "metadata": {},
   "source": [
    "## Exercise 1 \n",
    "\n",
    "Convert the two list of same length into a dictionary"
   ]
  },
  {
   "cell_type": "code",
   "execution_count": 5,
   "metadata": {},
   "outputs": [
    {
     "name": "stdout",
     "output_type": "stream",
     "text": [
      "{'a': 'alpha', 'b': 'bravo', 'c': 'charlie'}\n"
     ]
    }
   ],
   "source": [
    "keys = ['a', 'b', 'c']\n",
    "values = ['alpha', 'bravo', 'charlie']\n",
    "\n",
    "# TODO: replace None with an expression that creates a dictionary from the two lists\n",
    "d = dict(zip(keys, values))\n",
    "\n",
    "print(d) # {'a': 'alpha', 'b': 'bravo', 'c': 'charlie'}"
   ]
  },
  {
   "cell_type": "markdown",
   "metadata": {},
   "source": [
    "## Exercise 2\n",
    "\n",
    "Append the new dictionary to the original dictionary"
   ]
  },
  {
   "cell_type": "code",
   "execution_count": 6,
   "metadata": {},
   "outputs": [
    {
     "name": "stdout",
     "output_type": "stream",
     "text": [
      "{'a': 'alpha', 'b': 'bravo', 'c': 'charlie', 'd': 'delta', 'e': 'echo', 'f': 'foxtrot'}\n"
     ]
    }
   ],
   "source": [
    "original = {\n",
    "    \"a\": \"alpha\",\n",
    "    \"b\": \"bravo\",\n",
    "    \"c\": \"charlie\"}\n",
    "new = {\n",
    "    \"d\": \"delta\",\n",
    "    \"e\": \"echo\",\n",
    "    \"f\": \"foxtrot\"}\n",
    "\n",
    "# TODO: write the expression to adds the new dictionary to the original dictionary\n",
    "original.update(new)\n",
    "\n",
    "print(original) # {'a': 'alpha', 'b': 'bravo', 'c': 'charlie', 'd': 'delta', 'e': 'echo', 'f': 'foxtrot'}"
   ]
  },
  {
   "cell_type": "markdown",
   "metadata": {},
   "source": [
    "## Exercise 3\n",
    "\n",
    "Create a dictionary named 'new' that contains key-value pairs from the 'd' dictionary, including only the keys provided in the 'extract' list."
   ]
  },
  {
   "cell_type": "code",
   "execution_count": 7,
   "metadata": {},
   "outputs": [
    {
     "name": "stdout",
     "output_type": "stream",
     "text": [
      "{'name': 'Alice Brown', 'city': 'Cincinnati'}\n"
     ]
    }
   ],
   "source": [
    "d = {\n",
    "    \"name\": \"Alice Brown\",\n",
    "    \"city\": \"Cincinnati\",\n",
    "    \"email\": \"alice.brown@acme.com\"}\n",
    "\n",
    "# Keys to extract\n",
    "extract = [\"name\", \"city\"]\n",
    "\n",
    "# TODO: replace None with the expression to create a dictionary with only the keys in the extract list\n",
    "new = {key: d[key] for key in extract if key in d}\n",
    "\n",
    "print(new) # {'name': 'Alice Brown', 'city': 'Cincinnati'}"
   ]
  },
  {
   "cell_type": "markdown",
   "metadata": {},
   "source": [
    "## Exercise 4 \n",
    "\n",
    "Delete a list of keys from the dictionary"
   ]
  },
  {
   "cell_type": "code",
   "execution_count": 8,
   "metadata": {},
   "outputs": [],
   "source": [
    "d = {\n",
    "    \"a\": \"alpha\",\n",
    "    \"b\": \"bravo\",\n",
    "    \"c\": \"charlie\",\n",
    "    \"d\": \"delta\",\n",
    "    \"e\": \"echo\",\n",
    "    \"f\": \"foxtrot\"}\n",
    "\n",
    "# keys to remove\n",
    "keys = [\"a\", \"f\"]\n",
    "\n",
    "# TODO: write expression to remove the keys from the dictionary\n",
    "for key in keys:\n",
    "    d.pop(key, None)  # None is the default value if key is not found\n",
    "\n",
    "# alternative approach\n",
    "d = {k: v for k, v in d.items() if k not in keys}# {'b': 'bravo', 'c': 'charlie', 'd': 'delta', 'e': 'echo'}"
   ]
  },
  {
   "cell_type": "code",
   "execution_count": 9,
   "metadata": {},
   "outputs": [
    {
     "data": {
      "text/plain": [
       "dict_items([('b', 'bravo'), ('c', 'charlie'), ('d', 'delta'), ('e', 'echo')])"
      ]
     },
     "execution_count": 9,
     "metadata": {},
     "output_type": "execute_result"
    }
   ],
   "source": [
    "d.items() # dict_items([('b', 'bravo'), ('c', 'charlie'), ('d', 'delta'), ('e', 'echo')])"
   ]
  },
  {
   "cell_type": "markdown",
   "metadata": {},
   "source": [
    "## Exercise 5 \n",
    "\n",
    "Get the dictionary keys as a list"
   ]
  },
  {
   "cell_type": "code",
   "execution_count": 10,
   "metadata": {},
   "outputs": [
    {
     "name": "stdout",
     "output_type": "stream",
     "text": [
      "['a', 'b', 'c']\n"
     ]
    }
   ],
   "source": [
    "d = {\n",
    "    \"a\": \"alpha\",\n",
    "    \"b\": \"bravo\",\n",
    "    \"c\": \"charlie\"}\n",
    "\n",
    "# TODO: replace None with an expression to get the keys from the dictionary\n",
    "keys = list(d.keys())\n",
    "\n",
    "print(keys)"
   ]
  },
  {
   "cell_type": "markdown",
   "metadata": {},
   "source": [
    "## Exercise 6 \n",
    "\n",
    "Sort the dictionary in descending order of the keys and return the dictionary"
   ]
  },
  {
   "cell_type": "code",
   "execution_count": 11,
   "metadata": {},
   "outputs": [
    {
     "name": "stdout",
     "output_type": "stream",
     "text": [
      "{'c': 'charlie', 'b': 'bravo', 'a': 'alpha'}\n"
     ]
    }
   ],
   "source": [
    "d = {\n",
    "    \"a\": \"alpha\",\n",
    "    \"b\": \"bravo\",\n",
    "    \"c\": \"charlie\"}\n",
    "\n",
    "# TODO: replace None with an expression that creates a new dictionary that is sorted in descending order\n",
    "sorted_d = dict(sorted(d.items(), key=lambda x: x[0], reverse=True))\n",
    "# NOTE: When sorting dictionary items (key-value pairs), Python by default\n",
    "# uses the first element of each pair (which is the key) for comparison. \n",
    "# So in this case, the lambda function x: x[0] is not necessary.\n",
    "\n",
    "print(sorted_d) # {'c': 'charlie', 'b': 'bravo', 'a': 'alpha'}"
   ]
  },
  {
   "cell_type": "markdown",
   "metadata": {},
   "source": [
    "## Exercise 7 \n",
    "\n",
    "Check if the dictionary is empty"
   ]
  },
  {
   "cell_type": "code",
   "execution_count": 12,
   "metadata": {},
   "outputs": [
    {
     "name": "stdout",
     "output_type": "stream",
     "text": [
      "False\n",
      "False\n"
     ]
    }
   ],
   "source": [
    "d = {\n",
    "    \"a\": \"alpha\",\n",
    "    \"b\": \"bravo\",\n",
    "    \"c\": \"charlie\"}\n",
    "\n",
    "\n",
    "\n",
    "#TODO: add an expression to the print statement to evaluate if d is empty\n",
    "is_empty = not bool(d)\n",
    "print(is_empty)\n",
    "\n",
    "is_empty = not d\n",
    "print(is_empty)\n",
    "\n",
    "# Note: Truthiness of a dictionary is determined by its length.  \n",
    "# print(bool(d)) will return True if the dictionary is not empty, False otherwise.\n"
   ]
  }
 ],
 "metadata": {
  "kernelspec": {
   "display_name": "Python 3",
   "language": "python",
   "name": "python3"
  },
  "language_info": {
   "codemirror_mode": {
    "name": "ipython",
    "version": 3
   },
   "file_extension": ".py",
   "mimetype": "text/x-python",
   "name": "python",
   "nbconvert_exporter": "python",
   "pygments_lexer": "ipython3",
   "version": "3.12.5"
  }
 },
 "nbformat": 4,
 "nbformat_minor": 2
}
