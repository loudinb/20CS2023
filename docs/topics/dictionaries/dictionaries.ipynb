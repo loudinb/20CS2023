{
    "cells": [
        {
            "cell_type": "markdown",
            "metadata": {},
            "source": [
                "# Dictionaries\n",
                "\n",
                "Dictionaries in Python are a specific implementation of a more general data structure known as an associative array or hash map (or has table). As a mapping type, dictionaries map hashable[^hashable] keys to arbitrary objects.\n",
                "\n",
                "A dictionary is an unordered collection of key-value pairs, where each **unique** key is associated with a corresponding value. Keys can be almost any type, but they must be hashable—meaning their hash value does not change during their lifetime. Mutable types—such as lists, other dictionaries, or objects that compare by value rather than by identity—cannot be used as keys. In contrast, values can be any arbitrary Python object, including mutable types.\n",
                "\n",
                "```python\n",
                "    dictionary = {\n",
                "      \"key1\": \"value1\",\n",
                "      \"key2\": \"value2\",\n",
                "      \"key3\": \"value3\"\n",
                "    }\n",
                "```\n",
                "\n",
                "Key characteristics of dictionaries include:\n",
                "\n",
                "1. **Mutability**: Dictionaries are mutable data structures, allowing for modification after creation. This means you can add, remove, or change key-value pairs without needing to create a new dictionary object.\n",
                "\n",
                "2. **Mapping Protocol Implementation**: Dictionaries implement the mapping protocol, which defines them as collections of key-value pairs with the following properties:\n",
                "\n",
                "    a) **Key-Based Access**: Elements are accessed using unique keys rather than integer indices. Keys must be of immutable types (e.g., strings, numbers, tuples).\n",
                "    \n",
                "    b) **Ordering**: Since Python 3.7, standard dictionaries preserve insertion order as an implementation detail. However, it's generally recommended to treat dictionaries as unordered for compatibility and clarity in code. For situations where explicit ordering guarantees are required, Python's `collections` module provides the `OrderedDict` class. This class not only maintains the order of insertion but also offers additional order-based operations. While regular dictionaries now have ordered behavior, using `OrderedDict` makes the intention for ordered operations clear and provides consistency across different Python versions.\n",
                "\n",
                "    c) **Key-Value Pairing**: Each key in the dictionary is associated with a specific value, forming a key-value pair. If a key is added to the dictionary more than once, its last assigned value will overwrite any previous value.\n",
                "\n",
                "    d) **Dynamic Sizing**: Dictionaries can grow or shrink dynamically as key-value pairs are added or removed.\n",
                "\n",
                "    e) **Iteration**: You can iterate over keys, values, or key-value pairs using methods like `.keys()`, `.values()`, and `.items()`. The order of iteration will reflect the insertion order in Python 3.7+.\n",
                "\n",
                "    f) **Length**: The number of key-value pairs in a dictionary can be determined using the `len()` function.\n",
                "\n",
                "3. **Fast Access**: Dictionaries provide O(1)[^timecomplexity] time complexity for key lookup, insertion, and deletion operations under typical conditions, making them highly efficient for these tasks.\n",
                "\n",
                "4. **Memory Usage**: Dictionaries may use more memory than other data structures due to the overhead of the hash table implementation. This trade-off is usually justified by their fast access times.\n",
                "\n",
                "[^hashable]: An object is hashable if it has a hash value that remains constant during its lifetime.  See [hashable](https://docs.python.org/3/glossary.html#term-hashable) in the Python glossary for more details.\n",
                "[^timecomplexity]: The average time complexity for dictionary operations is O(1) under typical conditions. Refer to [Complexity Cheat Sheet for Python Operations](https://www.geeksforgeeks.org/complexity-cheat-sheet-for-python-operations/) and the [Know the Complexities!](https://www.bigocheatsheet.com) for more details."
            ]
        },
        {
            "cell_type": "markdown",
            "metadata": {},
            "source": [
                "## Python Documentation References\n",
                "\n",
                "The following links are references to the Python documentation relevant to the topics discussed here:\n",
                "\n",
                "- [Mapping Types - dict](https://docs.python.org/3/library/stdtypes.html#typesmapping)\n",
                "- [Data Structures - Dictionaries](https://docs.python.org/3/tutorial/datastructures.html#dictionaries)\n",
                "- [hashable](https://docs.python.org/3/glossary.html#term-hashable)\n",
                "- [mapping](https://docs.python.org/3/glossary.html#term-mapping)"
            ]
        },
        {
            "cell_type": "markdown",
            "metadata": {},
            "source": [
                "## Dictionary Creation"
            ]
        },
        {
            "cell_type": "code",
            "execution_count": 3,
            "metadata": {},
            "outputs": [
                {
                    "name": "stdout",
                    "output_type": "stream",
                    "text": [
                        "{'name': 'Alice', 'age': 25, 'city': 'New York'}\n",
                        "{'name': 'Bob', 'age': 30, 'city': 'Boston'}\n"
                    ]
                }
            ],
            "source": [
                "# Creating a dictionary\n",
                "my_dict = {'name': 'Alice', 'age': 25, 'city': 'New York'}\n",
                "print(my_dict)\n",
                "\n",
                "# Using dict() constructor\n",
                "another_dict = dict(name='Bob', age=30, city='Boston')\n",
                "print(another_dict)"
            ]
        },
        {
            "cell_type": "markdown",
            "metadata": {},
            "source": [
                "### Dictionary Comprehension\n",
                "\n",
                "Dictionary comprehension is a concise way to create dictionaries using an expression and an optional loop. The general syntax is:\n",
                "\n",
                "```python\n",
                "    {key: value for key, value in iterable}\n",
                "```"
            ]
        },
        {
            "cell_type": "code",
            "execution_count": 1,
            "metadata": {},
            "outputs": [
                {
                    "name": "stdout",
                    "output_type": "stream",
                    "text": [
                        "{0: 0, 1: 1, 2: 4, 3: 9, 4: 16}\n",
                        "{0: 0, 2: 4, 4: 16, 6: 36, 8: 64}\n",
                        "{'a': 1, 'b': 2, 'c': 3}\n"
                    ]
                }
            ],
            "source": [
                "# Creating a dictionary using comprehension\n",
                "squares = {x: x**2 for x in range(5)}\n",
                "print(squares)\n",
                "\n",
                "# Filtering items in a comprehension\n",
                "even_squares = {x: x**2 for x in range(10) if x % 2 == 0}\n",
                "print(even_squares)\n",
                "\n",
                "# zip() function\n",
                "keys = ['a', 'b', 'c']\n",
                "values = [1, 2, 3]\n",
                "my_dict = {k: v for k, v in zip(keys, values)}\n",
                "print(my_dict)\n"
            ]
        },
        {
            "cell_type": "markdown",
            "metadata": {},
            "source": [
                "### Nested Dictionaries\n",
                "\n",
                "Dictionaries can contain other dictionaries as values. This is known as a nested dictionary. The general syntax is:\n",
                "\n",
                "```python\n",
                "    {\n",
                "        key1: {\n",
                "            key2: value2,\n",
                "            key3: value3\n",
                "        }\n",
                "    }\n",
                "```"
            ]
        },
        {
            "cell_type": "code",
            "execution_count": 8,
            "metadata": {},
            "outputs": [
                {
                    "name": "stdout",
                    "output_type": "stream",
                    "text": [
                        "Alice\n",
                        "30\n"
                    ]
                }
            ],
            "source": [
                "nested_dict = {\n",
                "    'person1': {'name': 'Alice', 'age': 25},\n",
                "    'person2': {'name': 'Bob', 'age': 30}\n",
                "}\n",
                "\n",
                "print(nested_dict['person1']['name'])\n",
                "print(nested_dict['person2']['age'])"
            ]
        },
        {
            "cell_type": "markdown",
            "metadata": {},
            "source": [
                "## Accessing Items\n",
                "\n",
                "You can access dictionary items using the key inside square brackets or using the `.get()` method. If the key is not found, the square bracket method raises a `KeyError`, while the `.get()` method returns `None` or a default value if specified."
            ]
        },
        {
            "cell_type": "code",
            "execution_count": 2,
            "metadata": {},
            "outputs": [
                {
                    "name": "stdout",
                    "output_type": "stream",
                    "text": [
                        "Alice\n",
                        "25\n",
                        "Not available\n"
                    ]
                }
            ],
            "source": [
                "# Accessing values\n",
                "my_dict = {'name': 'Alice', 'age': 25, 'city': 'New York'}\n",
                "\n",
                "print(my_dict['name'])  # Using square brackets\n",
                "print(my_dict.get('age'))  # Using get() method\n",
                "print(my_dict.get('email', 'Not available'))  # Using get() with default value"
            ]
        },
        {
            "cell_type": "markdown",
            "metadata": {},
            "source": [
                "### KeyError\n",
                "\n",
                "As mentioned earlier, if you try to access a key that does not exist in the dictionary using square brackets, a `KeyError` will be raised. For example:"
            ]
        },
        {
            "cell_type": "code",
            "execution_count": 3,
            "metadata": {},
            "outputs": [
                {
                    "ename": "KeyError",
                    "evalue": "'dob'",
                    "output_type": "error",
                    "traceback": [
                        "\u001b[0;31m---------------------------------------------------------------------------\u001b[0m",
                        "\u001b[0;31mKeyError\u001b[0m                                  Traceback (most recent call last)",
                        "Cell \u001b[0;32mIn[3], line 3\u001b[0m\n\u001b[1;32m      1\u001b[0m my_dict \u001b[38;5;241m=\u001b[39m {\u001b[38;5;124m'\u001b[39m\u001b[38;5;124mname\u001b[39m\u001b[38;5;124m'\u001b[39m: \u001b[38;5;124m'\u001b[39m\u001b[38;5;124mAlice\u001b[39m\u001b[38;5;124m'\u001b[39m, \u001b[38;5;124m'\u001b[39m\u001b[38;5;124mage\u001b[39m\u001b[38;5;124m'\u001b[39m: \u001b[38;5;241m25\u001b[39m, \u001b[38;5;124m'\u001b[39m\u001b[38;5;124mcity\u001b[39m\u001b[38;5;124m'\u001b[39m: \u001b[38;5;124m'\u001b[39m\u001b[38;5;124mNew York\u001b[39m\u001b[38;5;124m'\u001b[39m}\n\u001b[0;32m----> 3\u001b[0m \u001b[38;5;28mprint\u001b[39m(\u001b[43mmy_dict\u001b[49m\u001b[43m[\u001b[49m\u001b[38;5;124;43m'\u001b[39;49m\u001b[38;5;124;43mdob\u001b[39;49m\u001b[38;5;124;43m'\u001b[39;49m\u001b[43m]\u001b[49m) \u001b[38;5;66;03m# KeyError\u001b[39;00m\n",
                        "\u001b[0;31mKeyError\u001b[0m: 'dob'"
                    ]
                }
            ],
            "source": [
                "my_dict = {'name': 'Alice', 'age': 25, 'city': 'New York'}\n",
                "\n",
                "print(my_dict['dob']) # KeyError"
            ]
        },
        {
            "cell_type": "markdown",
            "metadata": {},
            "source": [
                "## Modifying Items"
            ]
        },
        {
            "cell_type": "code",
            "execution_count": 1,
            "metadata": {},
            "outputs": [
                {
                    "name": "stdout",
                    "output_type": "stream",
                    "text": [
                        "{'name': 'Alice', 'age': 25, 'city': 'New York', 'email': 'alice@example.com'}\n",
                        "{'name': 'Alice', 'age': 26, 'city': 'New York', 'email': 'alice@example.com'}\n",
                        "{'name': 'Alice', 'age': 26, 'city': 'Boston', 'email': 'alice@example.com', 'occupation': 'Engineer'}\n"
                    ]
                }
            ],
            "source": [
                "my_dict = {'name': 'Alice', 'age': 25, 'city': 'New York'}\n",
                "\n",
                "# Adding new key-value pairs\n",
                "my_dict['email'] = 'alice@example.com'\n",
                "print(my_dict)\n",
                "\n",
                "# Modifying existing values\n",
                "my_dict['age'] = 26\n",
                "print(my_dict)\n",
                "\n",
                "# Merging dictionaries\n",
                "my_dict.update({'city': 'Boston', 'occupation': 'Engineer'})\n",
                "print(my_dict)"
            ]
        },
        {
            "cell_type": "markdown",
            "metadata": {},
            "source": [
                "### Removing Items\n",
                "\n",
                "You can remove items from a dictionary using:\n",
                "\n",
                "- The `del` statement: Removes a key-value pair by key.\n",
                "- The `.pop()` method: Removes a key-value pair by key and returns the value.\n",
                "- The `.popitem()` method: Removes and returns an arbitrary key-value pair.\n",
                "- The `.clear()` method: Removes all key-value pairs from the dictionary."
            ]
        },
        {
            "cell_type": "code",
            "execution_count": 2,
            "metadata": {},
            "outputs": [
                {
                    "name": "stdout",
                    "output_type": "stream",
                    "text": [
                        "{'name': 'Alice', 'age': 25, 'city': 'New York'}\n",
                        "Removed age: 25\n",
                        "{'name': 'Alice', 'city': 'New York'}\n",
                        "Removed last item: ('city', 'New York')\n",
                        "{'name': 'Alice'}\n",
                        "Cleared dictionary: {}\n"
                    ]
                }
            ],
            "source": [
                "my_dict = {'name': 'Alice', 'age': 25, 'city': 'New York', 'email': 'alice@example.com'}\n",
                "\n",
                "# Using del keyword\n",
                "del my_dict['email']\n",
                "print(my_dict)\n",
                "\n",
                "# Using pop() method\n",
                "age = my_dict.pop('age')\n",
                "print(f\"Removed age: {age}\")\n",
                "print(my_dict)\n",
                "\n",
                "# Using popitem() method\n",
                "last_item = my_dict.popitem()\n",
                "print(f\"Removed last item: {last_item}\")\n",
                "print(my_dict)\n",
                "\n",
                "# Clearing all items\n",
                "my_dict.clear()\n",
                "print(f\"Cleared dictionary: {my_dict}\")"
            ]
        },
        {
            "cell_type": "markdown",
            "metadata": {},
            "source": [
                "## Iterating Over Dictionaries\n",
                "\n",
                "You can iterate over dictionaries using loops or dictionary methods. The most common methods are:\n",
                "\n",
                "- `.keys()`: Returns am interable view of the dictionary's keys.\n",
                "- `.values()`: Returns an iterable view of the dictionary's values.\n",
                "- `.items()`: Returns an iterable view of the dictionary's key-value pairs.\n"
            ]
        },
        {
            "cell_type": "code",
            "execution_count": 3,
            "metadata": {},
            "outputs": [
                {
                    "name": "stdout",
                    "output_type": "stream",
                    "text": [
                        "dict_keys(['a', 'b', 'c'])\n",
                        "a\n",
                        "b\n",
                        "c\n",
                        "dict_values([1, 2, 3])\n",
                        "1\n",
                        "2\n",
                        "3\n",
                        "dict_items([('a', 1), ('b', 2), ('c', 3)])\n",
                        "a: 1\n",
                        "b: 2\n",
                        "c: 3\n"
                    ]
                }
            ],
            "source": [
                "sample_dict = {'a': 1, 'b': 2, 'c': 3}\n",
                "\n",
                "# Looping through keys\n",
                "print(sample_dict.keys())\n",
                "for key in sample_dict:  # or equivalently sample_dict.keys()\n",
                "    print(key)\n",
                "\n",
                "# Looping through values\n",
                "print(sample_dict.values())\n",
                "for value in sample_dict.values():\n",
                "    print(value)\n",
                "\n",
                "# Looping through key-value pairs\n",
                "print(sample_dict.items())\n",
                "for key, value in sample_dict.items():\n",
                "    print(f\"{key}: {value}\")"
            ]
        },
        {
            "cell_type": "markdown",
            "metadata": {},
            "source": [
                "## Additional Methods\n",
                "\n",
                "Additional methods are available for dictionaries, including:\n",
                "\n",
                "- `.copy()`: Returns a shallow copy of the dictionary.\n",
                "- `.update()`: Updates the dictionary with key-value pairs from another dictionary or an iterable of key-value pairs.\n",
                "- `.setdefault()`: Returns the value of a key if it is in the dictionary; otherwise, inserts the key with a specified value and returns that value.\n",
                "- `.fromkeys()`: Creates a new dictionary with keys from an iterable and values set to a default value.\n",
                "- `.values()`: Returns a view of the dictionary's values.\n"
            ]
        },
        {
            "cell_type": "code",
            "execution_count": 6,
            "metadata": {},
            "outputs": [
                {
                    "name": "stdout",
                    "output_type": "stream",
                    "text": [
                        "True\n",
                        "dict_keys(['a', 'b', 'c'])\n",
                        "dict_values([1, 2, 3])\n",
                        "{'a': 1, 'b': 2, 'c': 3}\n",
                        "{'x': 0, 'y': 0, 'z': 0}\n"
                    ]
                }
            ],
            "source": [
                "# Checking existence of a key\n",
                "print('a' in sample_dict)\n",
                "\n",
                "# Retrieving all keys and values\n",
                "print(sample_dict.keys())\n",
                "print(sample_dict.values())\n",
                "\n",
                "# Copying a dictionary\n",
                "dict_copy = sample_dict.copy()\n",
                "print(dict_copy)\n",
                "\n",
                "# Creating a dictionary with default values\n",
                "new_dict = dict.fromkeys(['x', 'y', 'z'], 0)\n",
                "print(new_dict)"
            ]
        },
        {
            "cell_type": "markdown",
            "metadata": {},
            "source": []
        }
    ],
    "metadata": {
        "kernelspec": {
            "display_name": "Python 3",
            "language": "python",
            "name": "python3"
        },
        "language_info": {
            "codemirror_mode": {
                "name": "ipython",
                "version": 3
            },
            "file_extension": ".py",
            "mimetype": "text/x-python",
            "name": "python",
            "nbconvert_exporter": "python",
            "pygments_lexer": "ipython3",
            "version": "3.12.2"
        }
    },
    "nbformat": 4,
    "nbformat_minor": 4
}
