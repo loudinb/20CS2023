{
 "cells": [
  {
   "cell_type": "markdown",
   "metadata": {},
   "source": [
    "# Variables and Data Types\n",
    "\n",
    "This topic covers the basics of declaring variables, naming conventions, basic data types, type conversion, multiple assignments, and constants in Python.\n",
    "\n",
    "## Variables\n",
    "Variables are fundamental building blocks in Python programming. They allow you to store and manipulate data in your programs.\n",
    "\n",
    "### Declaring Variables\n",
    "In Python, you don't need to explicitly declare a variable's type. Simply assign a value to a variable name, and Python will infer its type:"
   ]
  },
  {
   "cell_type": "code",
   "execution_count": 2,
   "metadata": {},
   "outputs": [],
   "source": [
    "x = 5  # Integer\n",
    "y = 3.14  # Float\n",
    "name = \"Alice\"  # String\n",
    "is_student = True  # Boolean"
   ]
  },
  {
   "cell_type": "markdown",
   "metadata": {},
   "source": [
    "```{admonition} Duck Typing\n",
    "Python uses \"duck typing,\" meaning it focuses on an object's behavior rather than its type. If an object has the methods and properties needed for a particular operation, Python allows it, regardless of the object's actual type. This approach is based on the saying: _\"If it looks like a duck, swims like a duck, and quacks like a duck, then it probably is a duck.\"_\n",
    "```"
   ]
  },
  {
   "cell_type": "markdown",
   "metadata": {},
   "source": [
    "### Naming Conventions\n",
    "- Use lowercase letters, numbers, and underscores\n",
    "- Start with a letter or underscore, not a number\n",
    "- Be descriptive but concise\n",
    "- Use snake_case for multi-word names"
   ]
  },
  {
   "cell_type": "code",
   "execution_count": 6,
   "metadata": {},
   "outputs": [],
   "source": [
    "user_name = \"John\"\n",
    "total_score = 95\n",
    "_private_variable = \"Secret\""
   ]
  },
  {
   "cell_type": "markdown",
   "metadata": {},
   "source": [
    "#### Reserved Keywords\n",
    "\n",
    "Python has 33 reserved keywords that cannot be used as variable names. These keywords are used to define the structure and logic of the program.\n",
    "\n",
    "```\n",
    "False      class      finally    is         return\n",
    "None       continue   for        lambda     try\n",
    "True       def        from       nonlocal   while\n",
    "and        del        global     not        with\n",
    "as         elif       if         or         yield\n",
    "assert     else       import     pass\n",
    "break      except     in         raise\n",
    "```\n",
    "\n",
    "## Data Types\n",
    "\n",
    "Python uses dynamic typing, where the data type is automatically determined based on the value assigned to a variable. \n",
    "\n",
    "### Basic Data Types\n",
    "\n",
    "The most fundamental of the built-in data types include:\n",
    "\n",
    "1. Numeric Types:\n",
    "   - int (integer): Whole numbers, e.g., `5`, `-3`, `1000000`\n",
    "   - float (floating-point): Decimal numbers, e.g., `3.14`, `-0.001`, `2.0`\n",
    "   - complex: Complex numbers, e.g., `1 + 2j`, `3 - 4j`\n",
    "\n",
    "2. Boolean Type:\n",
    "   - bool: Represents truth values, either `True` or `False`\n",
    "\n",
    "3. String Type:\n",
    "   - str: Sequence of characters, e.g., `\"Hello, World!\"`, `'Python'`\n",
    "\n",
    "### Other Data Types\n",
    "\n",
    "Python also provides several built-in composite data types, including:\n",
    "\n",
    "1. Sequence Types:\n",
    "   - list: Ordered, mutable sequence, e.g., `[1, 2, 3]`, `['a', 'b', 'c']`\n",
    "   - tuple: Ordered, immutable sequence, e.g., `(1, 2, 3)`, `('x', 'y', 'z')`\n",
    "   - range: Immutable sequence of numbers, e.g., `range(5)`, `range(1, 10, 2)`\n",
    "\n",
    "2. Mapping Type:\n",
    "   - dict (dictionary): Key-value pairs, e.g., `{\"name\": \"Alice\", \"age\": 25}`\n",
    "\n",
    "3. Set Types:\n",
    "   - set: Unordered collection of unique elements, e.g., `{1, 2, 3}`\n",
    "   - frozenset: Immutable version of set, e.g., `frozenset([1, 2, 3])`\n",
    "\n",
    "4. None Type:\n",
    "   - NoneType: Represents the `None` object, which indicates absence of a value\n",
    "\n",
    "5. Binary Types:\n",
    "   - bytes: Immutable sequence of bytes, e.g., `b'hello'`\n",
    "   - bytearray: Mutable sequence of bytes, e.g., `bytearray([65, 66, 67])`\n",
    "\n",
    "```{note}\n",
    "External libraries like NumPy and Pandas provide additional data types for scientific computing and data analysis.\n",
    "```"
   ]
  },
  {
   "cell_type": "markdown",
   "metadata": {},
   "source": [
    "## Type Checking\n",
    "\n",
    "You can check the type of a variable using the built-in `type()` function:"
   ]
  },
  {
   "cell_type": "code",
   "execution_count": 1,
   "metadata": {},
   "outputs": [
    {
     "data": {
      "text/plain": [
       "int"
      ]
     },
     "execution_count": 1,
     "metadata": {},
     "output_type": "execute_result"
    }
   ],
   "source": [
    "x = 5\n",
    "type(x)"
   ]
  },
  {
   "cell_type": "code",
   "execution_count": 2,
   "metadata": {},
   "outputs": [
    {
     "data": {
      "text/plain": [
       "dict"
      ]
     },
     "execution_count": 2,
     "metadata": {},
     "output_type": "execute_result"
    }
   ],
   "source": [
    "x = {\"name\": \"Alice\", \"age\": 25}\n",
    "type(x)"
   ]
  },
  {
   "cell_type": "markdown",
   "metadata": {},
   "source": [
    "## Type Conversion\n",
    "You can convert between types using built-in functions:"
   ]
  },
  {
   "cell_type": "code",
   "execution_count": 6,
   "metadata": {},
   "outputs": [
    {
     "name": "stdout",
     "output_type": "stream",
     "text": [
      "5.0\n"
     ]
    },
    {
     "data": {
      "text/plain": [
       "float"
      ]
     },
     "execution_count": 6,
     "metadata": {},
     "output_type": "execute_result"
    }
   ],
   "source": [
    "x = 5\n",
    "y = float(x)\n",
    "print(y)\n",
    "type(y)"
   ]
  },
  {
   "cell_type": "code",
   "execution_count": 7,
   "metadata": {},
   "outputs": [
    {
     "name": "stdout",
     "output_type": "stream",
     "text": [
      "5\n"
     ]
    },
    {
     "data": {
      "text/plain": [
       "str"
      ]
     },
     "execution_count": 7,
     "metadata": {},
     "output_type": "execute_result"
    }
   ],
   "source": [
    "x = 5\n",
    "z = str(x)\n",
    "print(z)\n",
    "type(z)"
   ]
  },
  {
   "cell_type": "markdown",
   "metadata": {},
   "source": [
    "\n",
    "## Multiple Assignments\n",
    "Python allows you to assign values to multiple variables in one line:"
   ]
  },
  {
   "cell_type": "code",
   "execution_count": 4,
   "metadata": {},
   "outputs": [],
   "source": [
    "a, b, c = 1, 2, 3\n",
    "x = y = z = 0"
   ]
  },
  {
   "cell_type": "markdown",
   "metadata": {},
   "source": [
    "## Constants\n",
    "Python doesn't have built-in constant types, but it's a convention to use uppercase names for constants:"
   ]
  },
  {
   "cell_type": "code",
   "execution_count": 3,
   "metadata": {},
   "outputs": [],
   "source": [
    "PI = 3.14159\n",
    "MAX_USERS = 100"
   ]
  },
  {
   "cell_type": "markdown",
   "metadata": {},
   "source": []
  }
 ],
 "metadata": {
  "kernelspec": {
   "display_name": "Python 3",
   "language": "python",
   "name": "python3"
  },
  "language_info": {
   "codemirror_mode": {
    "name": "ipython",
    "version": 3
   },
   "file_extension": ".py",
   "mimetype": "text/x-python",
   "name": "python",
   "nbconvert_exporter": "python",
   "pygments_lexer": "ipython3",
   "version": "3.12.2"
  }
 },
 "nbformat": 4,
 "nbformat_minor": 2
}
