{
 "cells": [
  {
   "cell_type": "markdown",
   "metadata": {},
   "source": [
    "# Lists\n",
    "\n",
    "Lists in Python are mutable sequences, commonly used to store collections of items. While they often contain homogeneous elements, they can also accommodate heterogeneous ones. Python lists are analogous to dynamically sized arrays in other programming languages.\n",
    "\n",
    "```python\n",
    "numbers = [1, 2, 3, 4, 5]\n",
    "```\n",
    "\n",
    "Key characteristics of Python lists include:\n",
    "\n",
    "1. **Mutability**: Lists are mutable data structures, allowing for modification after creation. This means you can add, remove, or change elements without creating a new list object.\n",
    "\n",
    "2. **Sequence Protocol Implementation**: Lists implement the sequence protocol, which defines them as ordered collections with the following properties:\n",
    "\n",
    "   a) **Indexing**: Elements can be accessed using integer indices, starting from 0.\n",
    "   \n",
    "   b) **Ordering**: Items maintain a specific order, preserving the sequence in which they were added.\n",
    "   \n",
    "   c) **Slicing**: Supports the extraction of sub-lists using slice notation.\n",
    "   \n",
    "   d) **Iteration**: Allows for element-by-element traversal using loops or iterators.\n",
    "   \n",
    "   e) **Length**: The number of elements can be determined using the `len()` function.\n"
   ]
  },
  {
   "cell_type": "markdown",
   "metadata": {},
   "source": [
    "## Python Documentation References\n",
    "\n",
    "The following links are references to the Python documentation relevant to the topics discussed here:\n",
    "\n",
    "- [List Type](https://docs.python.org/3/library/stdtypes.html#list)\n",
    "\n",
    "- [Common Sequence Operations](https://docs.python.org/3/library/stdtypes.html#common-sequence-operations)\n",
    "\n",
    "- [Mutable Sequence Types](https://docs.python.org/3/library/stdtypes.html#typesseq-mutable)\n",
    "\n",
    "- [Data Structures - More on Lists](https://docs.python.org/3/tutorial/datastructures.html#more-on-lists)\n"
   ]
  },
  {
   "cell_type": "markdown",
   "metadata": {},
   "source": [
    "## List Construction\n",
    "\n",
    "Lists may be constructed in several ways:\n",
    "\n",
    "- Using a pair of square brackets to denote the empty list: `[]`\n",
    "- Using square brackets, separating items with commas: `[a]`, `[a, b, c]`\n",
    "- Using a list comprehension: `[x for x in iterable]`\n",
    "- Using the type constructor: `list()` or `list(iterable)`"
   ]
  },
  {
   "cell_type": "code",
   "execution_count": 29,
   "metadata": {},
   "outputs": [
    {
     "name": "stdout",
     "output_type": "stream",
     "text": [
      "[]\n",
      "[1, 2, 3, 4, 5]\n",
      "[1, 2, 3, 4, 5]\n",
      "[1, 2, 3, 4, 5]\n"
     ]
    }
   ],
   "source": [
    "# Initializing an empty list\n",
    "numbers = []\n",
    "print(numbers)\n",
    "\n",
    "# Initializing a list with values\n",
    "numbers = [1, 2, 3, 4, 5]\n",
    "print(numbers)\n",
    "\n",
    "# Initializing a list with list comprehension\n",
    "numbers = [x for x in range(1, 6)]\n",
    "print(numbers)\n",
    "\n",
    "# Initializing a list with values using list constructor\n",
    "numbers = list(range(1, 6))\n",
    "print(numbers)"
   ]
  },
  {
   "cell_type": "markdown",
   "metadata": {},
   "source": [
    "### Additional Initialization Examples"
   ]
  },
  {
   "cell_type": "code",
   "execution_count": 30,
   "metadata": {},
   "outputs": [],
   "source": [
    "# Initializing a heterogeneous list\n",
    "heterogeneous = [1, 2.0, \"three\", [4, 5]]\n",
    "\n",
    "# Initializing a list with repeated values\n",
    "numbers = [1, 1, 2, 2, 3, 3, 4, 4, 5, 5]\n",
    "\n",
    "# Matrix initialization\n",
    "matrix = [[1, 2, 3], [4, 5, 6], [7, 8, 9]]"
   ]
  },
  {
   "cell_type": "markdown",
   "metadata": {},
   "source": [
    "## Getting the Length of a List\n",
    "\n",
    "The len() function returns the number of elements in a list. It only counts the elements at the top level, not the nested ones.\n"
   ]
  },
  {
   "cell_type": "code",
   "execution_count": 31,
   "metadata": {},
   "outputs": [
    {
     "name": "stdout",
     "output_type": "stream",
     "text": [
      "5\n",
      "3\n"
     ]
    }
   ],
   "source": [
    "numbers = [1, 2, 3, 4, 5]\n",
    "print(len(numbers))\n",
    "\n",
    "matrix = [[1, 2, 3], [4, 5, 6], [7, 8, 9]]\n",
    "print(len(matrix)) # it doesn't count nested elements"
   ]
  },
  {
   "cell_type": "markdown",
   "metadata": {},
   "source": [
    "## Accessing Elements\n",
    "\n",
    "List elements are accessed using index notation.\n",
    "\n",
    "```{note}\n",
    "Python uses zero-based indexing, meaning that the first element in a list has an index of `0`, the second element has an index of `1`, and so on.\n",
    "```"
   ]
  },
  {
   "cell_type": "code",
   "execution_count": 32,
   "metadata": {},
   "outputs": [
    {
     "name": "stdout",
     "output_type": "stream",
     "text": [
      "apple\n",
      "cherry\n"
     ]
    }
   ],
   "source": [
    "fruits = [\"apple\", \"banana\", \"cherry\", \"orange\"]\n",
    "\n",
    "print(fruits[0])  # First element\n",
    "print(fruits[2])  # Third element"
   ]
  },
  {
   "cell_type": "markdown",
   "metadata": {},
   "source": [
    "### Negative Indexing\n",
    "\n",
    "Negative indexing allows you to access elements from the end of the list. The last element has an index of `-1`, the second-to-last element has an index of `-2`, and so on."
   ]
  },
  {
   "cell_type": "code",
   "execution_count": 33,
   "metadata": {},
   "outputs": [
    {
     "name": "stdout",
     "output_type": "stream",
     "text": [
      "orange\n",
      "cherry\n"
     ]
    }
   ],
   "source": [
    "fruits = [\"apple\", \"banana\", \"cherry\", \"orange\"]\n",
    "\n",
    "print(fruits[-1])  # Last element\n",
    "print(fruits[-2])  # Second from last element"
   ]
  },
  {
   "cell_type": "markdown",
   "metadata": {},
   "source": [
    "### Multi-Dimensional Lists\n",
    "\n",
    "Multi-dimensional lists are lists that contain other lists. To access an element in a nested list, you use multiple index values, each in its own set of square brackets."
   ]
  },
  {
   "cell_type": "code",
   "execution_count": 34,
   "metadata": {},
   "outputs": [
    {
     "name": "stdout",
     "output_type": "stream",
     "text": [
      "1\n",
      "5\n",
      "9\n"
     ]
    }
   ],
   "source": [
    "matrix = [[1, 2, 3], [4, 5, 6], [7, 8, 9]]\n",
    "\n",
    "print(matrix[0][0])  # First element of the first row\n",
    "print(matrix[1][1])  # Second element of the second row\n",
    "print(matrix[2][2])  # Third element of the third row"
   ]
  },
  {
   "cell_type": "markdown",
   "metadata": {},
   "source": [
    "## Modifying Elements\n",
    "\n",
    "List elements can be modified by assigning new values to specific indices."
   ]
  },
  {
   "cell_type": "code",
   "execution_count": 35,
   "metadata": {},
   "outputs": [
    {
     "name": "stdout",
     "output_type": "stream",
     "text": [
      "[1, 20, 3, 4, 5]\n",
      "[1, 20, 3, 4, 50]\n",
      "[1, 20, 30, 40, 50]\n"
     ]
    }
   ],
   "source": [
    "numbers = [1, 2, 3, 4, 5]\n",
    "\n",
    "numbers[1] = 20 # second element\n",
    "print(numbers)\n",
    "\n",
    "# negative indexing\n",
    "numbers[-1] = 50 # last element\n",
    "print(numbers)\n",
    "\n",
    "# using a slice to change multiple elements\n",
    "numbers[2:4] = [30, 40] # third and fourth elements\n",
    "print(numbers)"
   ]
  },
  {
   "cell_type": "markdown",
   "metadata": {},
   "source": [
    "## Adding Elements\n",
    "\n",
    "The following methods are commonly used to add elements to a list:\n",
    "\n",
    "- `append()`: Adds an element to the end of the list.\n",
    "- `insert()`: Inserts an element at a specified index.\n",
    "- `extend()`: Adds all elements of a list to another list."
   ]
  },
  {
   "cell_type": "code",
   "execution_count": 36,
   "metadata": {},
   "outputs": [
    {
     "name": "stdout",
     "output_type": "stream",
     "text": [
      "['apple', 'cherry', 'orange']\n",
      "['apple', 'banana', 'cherry', 'orange']\n",
      "['apple', 'banana', 'cherry', 'orange', 'tomato', 'olive']\n"
     ]
    }
   ],
   "source": [
    "fruits = [\"apple\", \"cherry\"]\n",
    "\n",
    "fruits.append(\"orange\") # append to end\n",
    "print(fruits)\n",
    "\n",
    "fruits.insert(1, \"banana\") # Insert at index 1\n",
    "print(fruits)\n",
    "\n",
    "vegtables = [\"tomato\", \"olive\"] # these aren't vegtables\n",
    "fruits.extend(vegtables) # Extend the list\n",
    "print(fruits)\n"
   ]
  },
  {
   "cell_type": "markdown",
   "metadata": {},
   "source": [
    "### Operator Overloading\n",
    "\n",
    "In Python, the `+` operator is overloaded to concatenate two lists, combining their elements into a single list. Similarly, the `*` operator is overloaded to repeat a list a specified number of times, creating a new list with the repeated elements."
   ]
  },
  {
   "cell_type": "code",
   "execution_count": 37,
   "metadata": {},
   "outputs": [
    {
     "name": "stdout",
     "output_type": "stream",
     "text": [
      "['apple', 'banana', 'cherry', 'orange', 'tomato', 'olive']\n",
      "['tomato', 'olive', 'tomato', 'olive']\n"
     ]
    }
   ],
   "source": [
    "fruits = [\"apple\", \"banana\", \"cherry\", \"orange\"]\n",
    "vegtables = [\"tomato\", \"olive\"]\n",
    "\n",
    "fruits = fruits + vegtables # Concatenate the lists\n",
    "print(fruits)\n",
    "\n",
    "repeated = 2 * vegtables # Repeat the list\n",
    "print(repeated)"
   ]
  },
  {
   "cell_type": "markdown",
   "metadata": {},
   "source": [
    "## Removing Elements"
   ]
  },
  {
   "cell_type": "markdown",
   "metadata": {},
   "source": [
    "The following methods are commonly used to remove elements from a list:\n",
    "\n",
    "- `remove()`: Removes the **first** occurrence of a specified element.\n",
    "- `pop()`: Removes and returns the element at a specified index.\n",
    "- `clear()`: Removes all elements from the list."
   ]
  },
  {
   "cell_type": "code",
   "execution_count": 38,
   "metadata": {},
   "outputs": [
    {
     "name": "stdout",
     "output_type": "stream",
     "text": [
      "['apple', 'cherry', 'orange']\n",
      "['apple', 'cherry']\n",
      "['cherry']\n",
      "[]\n"
     ]
    }
   ],
   "source": [
    "fruits = [\"apple\", \"banana\", \"cherry\", \"orange\"]\n",
    "\n",
    "fruits.remove(\"banana\") # remove by value\n",
    "print(fruits)\n",
    "\n",
    "fruits.pop() # remove last element\n",
    "print(fruits)\n",
    "\n",
    "fruits.pop(0) # remove by index, the first element\n",
    "print(fruits)\n",
    "\n",
    "fruits.clear() # remove all elements\n",
    "print(fruits)"
   ]
  },
  {
   "cell_type": "markdown",
   "metadata": {},
   "source": [
    "## Slicing\n",
    "\n",
    "List slicing is a technique that allows you to access a subset of elements from a list. It is done by specifying the start and end indices, separated by a colon `:`.\n",
    "\n",
    "The general syntax for list slicing is `list[start:end]`, where `start` is the index of the first element you want to include, and `end` is the index of the first element you **do not** want to include.\n",
    "\n",
    "Omitting one index in the slice means the slice will extend to the beginning or end of the list. For a reverse slice (with a negative step), when the start is omitted, Python interprets this as starting from the end of the list. Omitting the end index makes it go to the beginning of the list.\n",
    "\n",
    "You can also specify a step, which is the length of the step from one index to the next. The general syntax for this is `list[start:end:step]`."
   ]
  },
  {
   "cell_type": "code",
   "execution_count": 39,
   "metadata": {},
   "outputs": [
    {
     "name": "stdout",
     "output_type": "stream",
     "text": [
      "[2, 3, 4]\n",
      "[2, 3, 4, 5, 6, 7, 8, 9]\n",
      "[0, 1, 2, 3, 4, 5, 6]\n",
      "[9, 8, 7, 6, 5, 4, 3, 2, 1, 0]\n",
      "[7, 6, 5, 4, 3, 2, 1, 0]\n",
      "[9, 8, 7, 6, 5, 4]\n"
     ]
    }
   ],
   "source": [
    "numbers = [0, 1, 2, 3, 4, 5, 6, 7, 8, 9]\n",
    "\n",
    "# Regular slices\n",
    "print(numbers[2:5])   # [2, 3, 4]\n",
    "print(numbers[2:])    # [2, 3, 4, 5, 6, 7, 8, 9]\n",
    "print(numbers[:7])    # [0, 1, 2, 3, 4, 5, 6]\n",
    "\n",
    "# Reverse slices (with negative step)\n",
    "print(numbers[::-1])  # [9, 8, 7, 6, 5, 4, 3, 2, 1, 0]\n",
    "print(numbers[7::-1]) # [7, 6, 5, 4, 3, 2, 1, 0]\n",
    "print(numbers[:3:-1]) # [9, 8, 7, 6, 5, 4]\n",
    "\n"
   ]
  },
  {
   "cell_type": "markdown",
   "metadata": {},
   "source": [
    "## Additional Methods\n",
    "\n",
    "- `sort()`: Sorts the elements of a list in ascending order.\n",
    "- `reverse()`: Reverses the order of elements in a list.\n",
    "- `count()`: Returns the number of occurrences of a specified element in a list.\n",
    "- `index()`: Returns the index of the first occurrence of a specified element in a list.\n",
    "- `copy()`: Returns a shallow copy of the list.\n"
   ]
  },
  {
   "cell_type": "markdown",
   "metadata": {},
   "source": [
    "### sort()\n",
    "\n",
    "The `sort()` method sorts the elements of a list in ascending order. You can also specify the `reverse=True` argument to sort in descending order."
   ]
  },
  {
   "cell_type": "code",
   "execution_count": 40,
   "metadata": {},
   "outputs": [
    {
     "name": "stdout",
     "output_type": "stream",
     "text": [
      "[1, 1, 2, 3, 3, 4, 5, 5, 5, 6, 9]\n",
      "[9, 6, 5, 5, 5, 4, 3, 3, 2, 1, 1]\n"
     ]
    }
   ],
   "source": [
    "numbers = [3, 1, 4, 1, 5, 9, 2, 6, 5, 3, 5]\n",
    "\n",
    "numbers.sort() # ascending order\n",
    "print(numbers)\n",
    "\n",
    "numbers.sort(reverse=True) # descending order\n",
    "print(numbers)"
   ]
  },
  {
   "cell_type": "markdown",
   "metadata": {},
   "source": [
    "### reverse()\n",
    "\n",
    "The `reverse()` method reverses the elements of a list in place."
   ]
  },
  {
   "cell_type": "code",
   "execution_count": 41,
   "metadata": {},
   "outputs": [
    {
     "name": "stdout",
     "output_type": "stream",
     "text": [
      "Reversed: None\n"
     ]
    }
   ],
   "source": [
    "numbers = [1, 2, 3, 4, 5]\n",
    "numbers.reverse()\n",
    "\n",
    "print(\"Reversed:\", numbers.reverse())"
   ]
  },
  {
   "cell_type": "markdown",
   "metadata": {},
   "source": [
    "### count()\n",
    "\n",
    "The `count()` method returns the number of occurrences of a specified element in a list."
   ]
  },
  {
   "cell_type": "code",
   "execution_count": 42,
   "metadata": {},
   "outputs": [
    {
     "name": "stdout",
     "output_type": "stream",
     "text": [
      "Count of 5: 3\n"
     ]
    }
   ],
   "source": [
    "numbers = [3, 1, 4, 1, 5, 9, 2, 6, 5, 3, 5]\n",
    "print(\"Count of 5:\", numbers.count(5))"
   ]
  },
  {
   "cell_type": "markdown",
   "metadata": {},
   "source": [
    "### index()\n",
    "\n",
    "The `index()` method returns the index of the first occurrence of a specified element in a list."
   ]
  },
  {
   "cell_type": "code",
   "execution_count": 43,
   "metadata": {},
   "outputs": [
    {
     "name": "stdout",
     "output_type": "stream",
     "text": [
      "Index of 4: 2\n"
     ]
    }
   ],
   "source": [
    "numbers = [3, 1, 4, 1, 5, 9, 2, 6, 5, 3, 5]\n",
    "print(\"Index of 4:\", numbers.index(4))"
   ]
  },
  {
   "cell_type": "markdown",
   "metadata": {},
   "source": [
    "### copy()\n",
    "\n",
    "The `copy()` method returns a shallow copy of the list. \n",
    "\n",
    "```{warning}\n",
    "We will discuss shallow and deep copies in more detail in a later section.\n",
    "```"
   ]
  },
  {
   "cell_type": "code",
   "execution_count": 44,
   "metadata": {},
   "outputs": [
    {
     "name": "stdout",
     "output_type": "stream",
     "text": [
      "Copy: [1, 2, 3, 4, 5]\n"
     ]
    }
   ],
   "source": [
    "original = [1, 2, 3, 4, 5]\n",
    "copy = original.copy() # copy the list\n",
    "print(\"Copy:\", copy)"
   ]
  },
  {
   "cell_type": "markdown",
   "metadata": {},
   "source": [
    "## List Membership\n",
    "\n",
    "You can check if an element is present in a list using the `in` and `not in` operators."
   ]
  },
  {
   "cell_type": "code",
   "execution_count": 45,
   "metadata": {},
   "outputs": [
    {
     "name": "stdout",
     "output_type": "stream",
     "text": [
      "True\n",
      "False\n",
      "True\n"
     ]
    }
   ],
   "source": [
    "fruits = [\"apple\", \"banana\", \"cherry\", \"date\"]\n",
    "\n",
    "print('date' in fruits)  # True\n",
    "\n",
    "print('kiwi' in fruits)  # False\n",
    "\n",
    "print('grape' not in fruits)  # True"
   ]
  },
  {
   "cell_type": "markdown",
   "metadata": {},
   "source": [
    "## Merging Lists - zip()\n",
    "\n",
    "The `zip()` function takes two or more lists and merges them into a single list of **tuples**. Each tuple contains the elements from the corresponding position in the input lists.\n",
    "\n",
    "```{note}\n",
    "If the input lists are of different lengths, the resulting tuple will have the length of the shortest input list.\n",
    "```"
   ]
  },
  {
   "cell_type": "code",
   "execution_count": 46,
   "metadata": {},
   "outputs": [
    {
     "name": "stdout",
     "output_type": "stream",
     "text": [
      "[(0, 'red'), (1, 'green'), (2, 'blue'), (3, 'yellow'), (4, 'black')]\n"
     ]
    }
   ],
   "source": [
    "ind = [0, 1, 2, 3, 4]\n",
    "color = [\"red\", \"green\", \"blue\", \"yellow\", \"black\"]\n",
    "\n",
    "# Combine the two lists into a new list of tuples\n",
    "combined = list(zip(ind, color))\n",
    "print(combined)"
   ]
  },
  {
   "cell_type": "markdown",
   "metadata": {},
   "source": [
    "## List Comprehension\n",
    "\n",
    "List comprehension is a concise way to create lists in Python. It allows you to create a new list by applying an expression to each element in an existing list.\n",
    "\n",
    "The general syntax for list comprehension is:\n",
    "\n",
    "`[<expression> for <variable> in <list> if <condition>]`\n",
    "\n",
    "Where:\n",
    "\n",
    "- `<expression>` is the operation to apply to each element.\n",
    "- `<variable>` is the variable representing each element in the list.\n",
    "- `<list>` is the original list.\n",
    "- `<condition>` is an optional filter that only includes elements for which the condition evaluates to `True`."
   ]
  },
  {
   "cell_type": "code",
   "execution_count": 47,
   "metadata": {},
   "outputs": [
    {
     "name": "stdout",
     "output_type": "stream",
     "text": [
      "[1, 4, 9, 16, 25]\n",
      "[1, 4, 9, 16, 25]\n",
      "[4, 16]\n"
     ]
    }
   ],
   "source": [
    "# Create a list of numbers\n",
    "numbers = [1, 2, 3, 4, 5]\n",
    "\n",
    "# Use list comprehension to create a list of squares\n",
    "squares = [x**2 for x in numbers]\n",
    "print(squares)\n",
    "\n",
    "# Use list comprehension to create a list of squares\n",
    "squares = [x**2 for x in range(1, 6)]\n",
    "print(squares)\n",
    "\n",
    "# Use list comprehension to create a list of squares for even numbers only\n",
    "even_squares = [x**2 for x in numbers if x % 2 == 0]\n",
    "print(even_squares)"
   ]
  }
 ],
 "metadata": {
  "kernelspec": {
   "display_name": "Python 3",
   "language": "python",
   "name": "python3"
  },
  "language_info": {
   "codemirror_mode": {
    "name": "ipython",
    "version": 3
   },
   "file_extension": ".py",
   "mimetype": "text/x-python",
   "name": "python",
   "nbconvert_exporter": "python",
   "pygments_lexer": "ipython3",
   "version": "3.12.2"
  }
 },
 "nbformat": 4,
 "nbformat_minor": 2
}
