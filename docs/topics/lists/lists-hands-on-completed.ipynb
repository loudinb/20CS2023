{
    "cells": [
        {
            "cell_type": "markdown",
            "metadata": {},
            "source": [
                "# Lists: Hands-On Practice\n",
                "\n",
                "This notebook contains the completed hands-on exercises for Python lists."
            ]
        },
        {
            "cell_type": "markdown",
            "metadata": {},
            "source": [
                "## Exercise 1: Creating and Accessing Lists\n",
                "\n",
                "Create a list of your favorite fruits and access specific elements."
            ]
        },
        {
            "cell_type": "code",
            "execution_count": 5,
            "metadata": {},
            "outputs": [
                {
                    "name": "stdout",
                    "output_type": "stream",
                    "text": [
                        "My favorite fruits: ['apple', 'banana', 'cherry', 'orange', 'watermelon']\n",
                        "First fruit: apple\n",
                        "Last fruit: watermelon\n",
                        "Third fruit: cherry\n"
                    ]
                }
            ],
            "source": [
                "# Create a list called 'fruits' with at least 5 of your favorite fruits\n",
                "fruits = ['apple', 'banana', 'cherry', 'orange', 'watermelon']\n",
                "\n",
                "# Print the entire list\n",
                "print(\"My favorite fruits:\", fruits)\n",
                "\n",
                "# Print the first fruit in the list\n",
                "print(\"First fruit:\", fruits[0])\n",
                "\n",
                "# Print the last fruit in the list\n",
                "print(\"Last fruit:\", fruits[-1])\n",
                "\n",
                "# Print the third fruit in the list\n",
                "print(\"Third fruit:\", fruits[2])"
            ]
        },
        {
            "cell_type": "markdown",
            "metadata": {},
            "source": [
                "## Exercise 2: List Operations\n",
                "\n",
                "Perform various operations on a list of numbers."
            ]
        },
        {
            "cell_type": "code",
            "execution_count": 6,
            "metadata": {},
            "outputs": [
                {
                    "name": "stdout",
                    "output_type": "stream",
                    "text": [
                        "Modified list: [60, 50, 40, 20, 15, 10]\n",
                        "Sum of numbers: 195\n"
                    ]
                }
            ],
            "source": [
                "numbers = [10, 20, 30, 40, 50]\n",
                "\n",
                "# Add the number 60 to the end of the list\n",
                "numbers.append(60)\n",
                "\n",
                "# Insert the number 15 at index 1\n",
                "numbers.insert(1, 15)\n",
                "\n",
                "# Remove the number 30 from the list\n",
                "numbers.remove(30)\n",
                "\n",
                "# Sort the list in descending order\n",
                "numbers.sort(reverse=True)\n",
                "print(\"Modified list:\", numbers)\n",
                "\n",
                "# Calculate and print the sum of all numbers in the list\n",
                "total = sum(numbers)\n",
                "print(\"Sum of numbers:\", total)"
            ]
        },
        {
            "cell_type": "markdown",
            "metadata": {},
            "source": [
                "## Exercise 3: List Slicing\n",
                "\n",
                "Practice list slicing with a list of letters."
            ]
        },
        {
            "cell_type": "code",
            "execution_count": 7,
            "metadata": {},
            "outputs": [
                {
                    "name": "stdout",
                    "output_type": "stream",
                    "text": [
                        "First three letters: ['a', 'b', 'c']\n",
                        "Last three letters: ['e', 'f', 'g']\n",
                        "Every second letter: ['a', 'c', 'e', 'g']\n",
                        "Reversed letters: ['g', 'f', 'e', 'd', 'c', 'b', 'a']\n"
                    ]
                }
            ],
            "source": [
                "letters = ['a', 'b', 'c', 'd', 'e', 'f', 'g']\n",
                "\n",
                "# Get the first three letters\n",
                "first_three = letters[:3]\n",
                "print(\"First three letters:\", first_three)\n",
                "\n",
                "# Get the last three letters\n",
                "last_three = letters[-3:]\n",
                "print(\"Last three letters:\", last_three)\n",
                "\n",
                "# Get every second letter\n",
                "every_second = letters[::2]\n",
                "print(\"Every second letter:\", every_second)\n",
                "\n",
                "# Reverse the list\n",
                "reversed_letters = letters[::-1]\n",
                "print(\"Reversed letters:\", reversed_letters)"
            ]
        },
        {
            "cell_type": "markdown",
            "metadata": {},
            "source": [
                "## Exercise 4: List Comprehension\n",
                "\n",
                "Use list comprehension to create new lists based on given conditions."
            ]
        },
        {
            "cell_type": "code",
            "execution_count": 8,
            "metadata": {},
            "outputs": [
                {
                    "name": "stdout",
                    "output_type": "stream",
                    "text": [
                        "Squares of even numbers: [4, 16, 36, 64, 100]\n",
                        "Numbers greater than 5: [6, 7, 8, 9, 10]\n"
                    ]
                }
            ],
            "source": [
                "numbers = [1, 2, 3, 4, 5, 6, 7, 8, 9, 10]\n",
                "\n",
                "# Create a new list with the squares of even numbers\n",
                "even_squares = [n**2 for n in numbers if n % 2 == 0]\n",
                "print(\"Squares of even numbers:\", even_squares)\n",
                "\n",
                "# Create a new list with numbers greater than 5\n",
                "greater_than_five = [n for n in numbers if n > 5]\n",
                "print(\"Numbers greater than 5:\", greater_than_five)"
            ]
        }
    ],
    "metadata": {
        "kernelspec": {
            "display_name": "Python 3",
            "language": "python",
            "name": "python3"
        },
        "language_info": {
            "codemirror_mode": {
                "name": "ipython",
                "version": 3
            },
            "file_extension": ".py",
            "mimetype": "text/x-python",
            "name": "python",
            "nbconvert_exporter": "python",
            "pygments_lexer": "ipython3",
            "version": "3.12.2"
        }
    },
    "nbformat": 4,
    "nbformat_minor": 4
}
