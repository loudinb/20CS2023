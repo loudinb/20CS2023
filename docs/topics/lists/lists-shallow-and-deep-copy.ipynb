{
 "cells": [
  {
   "cell_type": "markdown",
   "metadata": {},
   "source": [
    "# Lists: Shallow and Deep Copy\n",
    "\n",
    "A list `copy()` is a new list that contains the same elements as the original list. However, it is a **shallow copy** and in programming this refers to creating a new object that is a copy of the original object, but where the contents are references to the same objects as in the original. This concept is particularly important when dealing with compound objects like lists or dictionaries that contain other objects."
   ]
  },
  {
   "cell_type": "markdown",
   "metadata": {},
   "source": [
    "## Python Documentation References\n",
    "\n",
    "The following links are references to the Python documentation relevant to the topics discussed here:\n",
    "\n",
    "- [copy - Shallow and deep copy operations](https://docs.python.org/3/library/copy.html)"
   ]
  },
  {
   "cell_type": "markdown",
   "metadata": {},
   "source": [
    "```{admonition} Memory Location Helper Function\n",
    "The following function will help us to understand the memory location of the objects in the list.  You do not need to understand the code in the `compare_memory_location` function at this point.\n",
    "```"
   ]
  },
  {
   "cell_type": "code",
   "execution_count": 1,
   "metadata": {},
   "outputs": [],
   "source": [
    "def compare_memory_location(original, copied):\n",
    "    \"\"\"Compares memory locations of two lists and their elements.\n",
    "\n",
    "    Args:\n",
    "        original: The original list.\n",
    "        copied: The copied list to compare against the original.\n",
    "\n",
    "    Prints:\n",
    "        Comparison results of memory locations for the lists and their elements.\n",
    "    \"\"\"\n",
    "    if len(original) != len(copied):\n",
    "        print(\"The lists are not the same size\")\n",
    "        return\n",
    "\n",
    "    print(f\"List objs: {id(original):x} {id(copied):x} \"\n",
    "          f\"{id(original) == id(copied)}\")\n",
    "\n",
    "    for i, (orig_elem, copied_elem) in enumerate(zip(original, copied), 1):\n",
    "        print(f\"Element {i}: {id(orig_elem):x} {id(copied_elem):x} \"\n",
    "              f\"{id(orig_elem) == id(copied_elem)}\")\n",
    "\n",
    "        if isinstance(orig_elem, list) and isinstance(copied_elem, list):\n",
    "            for j, (orig_inner, copied_inner) in enumerate(zip(orig_elem, copied_elem), 1):\n",
    "                print(f\"- Inner {j}: {id(orig_inner):x} {id(copied_inner):x} \"\n",
    "                      f\"{id(orig_inner) == id(copied_inner)}\")"
   ]
  },
  {
   "cell_type": "markdown",
   "metadata": {},
   "source": [
    "## Shallow Copy\n",
    "\n",
    "In the following example, we will create a list named **original** and then create a shallow copy of it named **copied** using the `copy()` method. We should observe that the memory locations of the original list and the copied list are different, but the memory locations of the elements within the lists are the same. This is because the copied list is a shallow copy of the original list."
   ]
  },
  {
   "cell_type": "code",
   "execution_count": 2,
   "metadata": {},
   "outputs": [],
   "source": [
    "# Create a list with a nested list\n",
    "original = [1, [2, 3], 4]\n",
    "\n",
    "# Create a shallow copy\n",
    "copied = original.copy()"
   ]
  },
  {
   "cell_type": "code",
   "execution_count": 3,
   "metadata": {},
   "outputs": [
    {
     "name": "stdout",
     "output_type": "stream",
     "text": [
      "List objs: ffff9435cf00 ffff943610c0 False\n",
      "Element 1: ffff9c66a1e8 ffff9c66a1e8 True\n",
      "Element 2: ffff94366cc0 ffff94366cc0 True\n",
      "- Inner 1: ffff9c66a208 ffff9c66a208 True\n",
      "- Inner 2: ffff9c66a228 ffff9c66a228 True\n",
      "Element 3: ffff9c66a248 ffff9c66a248 True\n"
     ]
    }
   ],
   "source": [
    "compare_memory_location(original, copied)"
   ]
  },
  {
   "cell_type": "markdown",
   "metadata": {},
   "source": [
    "### Modifying the Original and Copied List\n",
    "\n",
    "If we modify a non-compound object in either the original or copied list, the change will only be reflected in the list that was modified."
   ]
  },
  {
   "cell_type": "code",
   "execution_count": 4,
   "metadata": {},
   "outputs": [],
   "source": [
    "original[0] = \"A\"\n",
    "copied[2] = \"Z\""
   ]
  },
  {
   "cell_type": "code",
   "execution_count": 5,
   "metadata": {},
   "outputs": [
    {
     "name": "stdout",
     "output_type": "stream",
     "text": [
      "['A', [2, 3], 4]\n",
      "[1, [2, 3], 'Z']\n"
     ]
    }
   ],
   "source": [
    "print(original)\n",
    "print(copied)"
   ]
  },
  {
   "cell_type": "code",
   "execution_count": 6,
   "metadata": {},
   "outputs": [
    {
     "name": "stdout",
     "output_type": "stream",
     "text": [
      "List objs: ffff9435cf00 ffff943610c0 False\n",
      "Element 1: ffff9c679308 ffff9c66a1e8 False\n",
      "Element 2: ffff94366cc0 ffff94366cc0 True\n",
      "- Inner 1: ffff9c66a208 ffff9c66a208 True\n",
      "- Inner 2: ffff9c66a228 ffff9c66a228 True\n",
      "Element 3: ffff9c66a248 ffff9c6797b8 False\n"
     ]
    }
   ],
   "source": [
    "compare_memory_location(original, copied)"
   ]
  },
  {
   "cell_type": "markdown",
   "metadata": {},
   "source": [
    "However, if we modify a compound object in either the original or copied list, the change will be reflected in both lists. This is because the compound object is the same object in both lists."
   ]
  },
  {
   "cell_type": "code",
   "execution_count": 7,
   "metadata": {},
   "outputs": [],
   "source": [
    "original[1][0] = \"B\"\n",
    "copied[1][1] = \"C\""
   ]
  },
  {
   "cell_type": "code",
   "execution_count": 8,
   "metadata": {},
   "outputs": [
    {
     "name": "stdout",
     "output_type": "stream",
     "text": [
      "['A', ['B', 'C'], 4]\n",
      "[1, ['B', 'C'], 'Z']\n"
     ]
    }
   ],
   "source": [
    "print(original)\n",
    "print(copied)"
   ]
  },
  {
   "cell_type": "code",
   "execution_count": 9,
   "metadata": {},
   "outputs": [
    {
     "name": "stdout",
     "output_type": "stream",
     "text": [
      "List objs: ffff9435cf00 ffff943610c0 False\n",
      "Element 1: ffff9c679308 ffff9c66a1e8 False\n",
      "Element 2: ffff94366cc0 ffff94366cc0 True\n",
      "- Inner 1: ffff9c679338 ffff9c679338 True\n",
      "- Inner 2: ffff9c679368 ffff9c679368 True\n",
      "Element 3: ffff9c66a248 ffff9c6797b8 False\n"
     ]
    }
   ],
   "source": [
    "compare_memory_location(original, copied)"
   ]
  },
  {
   "cell_type": "markdown",
   "metadata": {},
   "source": [
    "### List Slices are Shallow Copies\n",
    "\n",
    "It is also important to note that list slices are shallow copies as well."
   ]
  },
  {
   "cell_type": "code",
   "execution_count": 10,
   "metadata": {},
   "outputs": [],
   "source": [
    "# Create a list with a nested list\n",
    "original = [1, [2, 3], 4]\n",
    "\n",
    "# Create two slices \n",
    "slice_a = original[0:2]\n",
    "slice_b = original[0:2]"
   ]
  },
  {
   "cell_type": "code",
   "execution_count": 11,
   "metadata": {},
   "outputs": [
    {
     "name": "stdout",
     "output_type": "stream",
     "text": [
      "List objs: ffff94366e80 ffff943669c0 False\n",
      "Element 1: ffff9c66a1e8 ffff9c66a1e8 True\n",
      "Element 2: ffff9433e980 ffff9433e980 True\n",
      "- Inner 1: ffff9c66a208 ffff9c66a208 True\n",
      "- Inner 2: ffff9c66a228 ffff9c66a228 True\n"
     ]
    }
   ],
   "source": [
    "compare_memory_location(slice_a, slice_b)"
   ]
  },
  {
   "cell_type": "markdown",
   "metadata": {},
   "source": [
    "#### Modifying the Original and Copied List\n",
    "\n",
    "Just as before, if we modify a compound object in either the original or sliced list, the change will be reflected in all lists."
   ]
  },
  {
   "cell_type": "code",
   "execution_count": 12,
   "metadata": {},
   "outputs": [],
   "source": [
    "slice_a[1][0] = \"A\""
   ]
  },
  {
   "cell_type": "code",
   "execution_count": 13,
   "metadata": {},
   "outputs": [
    {
     "name": "stdout",
     "output_type": "stream",
     "text": [
      "[1, ['A', 3], 4]\n",
      "[1, ['A', 3]]\n",
      "[1, ['A', 3]]\n"
     ]
    }
   ],
   "source": [
    "print(original)\n",
    "print(slice_a)\n",
    "print(slice_b)"
   ]
  },
  {
   "cell_type": "code",
   "execution_count": 14,
   "metadata": {},
   "outputs": [
    {
     "name": "stdout",
     "output_type": "stream",
     "text": [
      "List objs: ffff94366e80 ffff943669c0 False\n",
      "Element 1: ffff9c66a1e8 ffff9c66a1e8 True\n",
      "Element 2: ffff9433e980 ffff9433e980 True\n",
      "- Inner 1: ffff9c679308 ffff9c679308 True\n",
      "- Inner 2: ffff9c66a228 ffff9c66a228 True\n"
     ]
    }
   ],
   "source": [
    "compare_memory_location(slice_a, slice_b)"
   ]
  },
  {
   "cell_type": "markdown",
   "metadata": {},
   "source": [
    "## Which Types of Objects Are Shared?\n",
    "\n",
    "When creating a copy of an object, it’s important to know which objects will be shared between the original and the copy.\n",
    "\n",
    "### Mutable Objects\n",
    "\n",
    "Mutable objects are those that can be changed after they are created. Common examples include lists, dictionaries, sets, and custom objects. If you modify a mutable object in either the original or the copied list, the change will be reflected in both lists.\n",
    "\n",
    "- **Lists**\n",
    "- **Dictionaries**\n",
    "- **Sets**\n",
    "\n",
    "### Immutable Objects\n",
    "\n",
    "Immutable objects, on the other hand, cannot be altered once they are created. Examples of immutable objects include integers, floats, strings, tuples, and frozen sets. If you modify an immutable object in either the original or the copied list, the change will only affect the list where the modification was made.\n",
    "\n",
    "- **Numbers** (integers, floats)\n",
    "- **Strings**\n",
    "- **Tuples**\n",
    "- **Frozen Sets**"
   ]
  },
  {
   "cell_type": "markdown",
   "metadata": {},
   "source": [
    "## Deep Copy\n",
    "\n",
    "Deep copy is a process in which the copying process occurs recursively. It means first constructing a new collection object and then, recursively, inserting copies into it of the objects found in the original. In computer science, a deep copy is a copy of an object that is not connected to the original object.\n",
    "\n",
    "In Python, we can use the `copy` module to create a deep copy of a list.    The `deepcopy()` function creates a new object and recursively inserts copies into it of the objects found in the original."
   ]
  },
  {
   "cell_type": "code",
   "execution_count": 1,
   "metadata": {},
   "outputs": [],
   "source": [
    "import copy\n",
    "\n",
    "# Create a list with a nested list\n",
    "original = [1, [2, 3], 4]\n",
    "\n",
    "# Create a deep copy\n",
    "copied = copy.deepcopy(original)"
   ]
  },
  {
   "cell_type": "markdown",
   "metadata": {},
   "source": [
    "Notice that if we create a deep copy of a list, the compound element of the copied list now shows a different memory location. This is because the deep copy creates a new object for the compound element."
   ]
  },
  {
   "cell_type": "code",
   "execution_count": 16,
   "metadata": {},
   "outputs": [
    {
     "name": "stdout",
     "output_type": "stream",
     "text": [
      "List objs: ffff9435d200 ffff94357a00 False\n",
      "Element 1: ffff9c66a1e8 ffff9c66a1e8 True\n",
      "Element 2: ffff9433ef00 ffff94361140 False\n",
      "- Inner 1: ffff9c66a208 ffff9c66a208 True\n",
      "- Inner 2: ffff9c66a228 ffff9c66a228 True\n",
      "Element 3: ffff9c66a248 ffff9c66a248 True\n"
     ]
    }
   ],
   "source": [
    "compare_memory_location(original, copied)"
   ]
  },
  {
   "cell_type": "markdown",
   "metadata": {},
   "source": [
    "### Modifying the Original and Copied List\n",
    "\n",
    "Because the deep copy creates a new object for the compound element, if we modify a compound object in either the original or copied list, the change will not be reflected in the other list."
   ]
  },
  {
   "cell_type": "code",
   "execution_count": 17,
   "metadata": {},
   "outputs": [],
   "source": [
    "original[1][0] = \"A\"\n",
    "copied[1][1] = \"Z\""
   ]
  },
  {
   "cell_type": "code",
   "execution_count": 18,
   "metadata": {},
   "outputs": [
    {
     "name": "stdout",
     "output_type": "stream",
     "text": [
      "[1, ['A', 3], 4]\n",
      "[1, [2, 'Z'], 4]\n"
     ]
    }
   ],
   "source": [
    "print(original)\n",
    "print(copied)"
   ]
  },
  {
   "cell_type": "code",
   "execution_count": 19,
   "metadata": {},
   "outputs": [
    {
     "name": "stdout",
     "output_type": "stream",
     "text": [
      "List objs: ffff9435d200 ffff94357a00 False\n",
      "Element 1: ffff9c66a1e8 ffff9c66a1e8 True\n",
      "Element 2: ffff9433ef00 ffff94361140 False\n",
      "- Inner 1: ffff9c679308 ffff9c66a208 False\n",
      "- Inner 2: ffff9c66a228 ffff9c6797b8 False\n",
      "Element 3: ffff9c66a248 ffff9c66a248 True\n"
     ]
    }
   ],
   "source": [
    "compare_memory_location(original, copied)"
   ]
  }
 ],
 "metadata": {
  "kernelspec": {
   "display_name": "Python 3",
   "language": "python",
   "name": "python3"
  },
  "language_info": {
   "codemirror_mode": {
    "name": "ipython",
    "version": 3
   },
   "file_extension": ".py",
   "mimetype": "text/x-python",
   "name": "python",
   "nbconvert_exporter": "python",
   "pygments_lexer": "ipython3",
   "version": "3.12.2"
  }
 },
 "nbformat": 4,
 "nbformat_minor": 2
}
