{
 "cells": [
  {
   "cell_type": "markdown",
   "metadata": {},
   "source": [
    "# Lists: Hands-on Practice\n",
    "\n",
    "Complete these exercises to gain hands-on experience with Python lists. Remember to experiment and try out different operations to deepen your understanding of this fundamental data structure."
   ]
  },
  {
   "cell_type": "markdown",
   "metadata": {},
   "source": [
    "## Exercise 1: List Modification\n",
    "\n",
    "Using the `foods` list, perform the following operations:\n",
    "\n",
    "1. Print the original list.\n",
    "2. Add a new food to the end of the list.\n",
    "3. Change the second item in the list to a different food.\n",
    "4. Remove the last item from the list.\n",
    "5. Print the modified list."
   ]
  },
  {
   "cell_type": "code",
   "execution_count": 1,
   "metadata": {},
   "outputs": [],
   "source": [
    "# Your code here\n",
    "foods = [\"pizza\", \"sushi\", \"ice cream\", \"tacos\"]\n",
    "\n",
    "# 1. Print the original list\n",
    "\n",
    "\n",
    "# 2. Add a new food to the end of the list\n",
    "\n",
    "\n",
    "# 3. Change the second item in the list\n",
    "\n",
    "\n",
    "# 4. Remove the last item from the list\n",
    "\n",
    "\n",
    "# 5. Print the modified list"
   ]
  },
  {
   "cell_type": "markdown",
   "metadata": {},
   "source": [
    "### Exercise 2: List Operations\n",
    "\n",
    "Given the following list of numbers, perform the requested operations:"
   ]
  },
  {
   "cell_type": "code",
   "execution_count": 2,
   "metadata": {},
   "outputs": [],
   "source": [
    "numbers = [10, 20, 30, 40, 50, 60, 70, 80, 90, 100]\n",
    "\n",
    "# 1. Print the first and last elements of the list\n",
    "\n",
    "\n",
    "# 2. Reverse the order of the list and print it\n",
    "\n",
    "\n",
    "# 3. Find and print the index of the number 60 in the list\n",
    "\n",
    "\n",
    "# 4. Remove the number 90 from the list and print it\n"
   ]
  },
  {
   "cell_type": "markdown",
   "metadata": {},
   "source": [
    "### Exercise 3: List Methods\n",
    "\n",
    "Create a list of random words and use list methods to manipulate it:"
   ]
  },
  {
   "cell_type": "code",
   "execution_count": 3,
   "metadata": {},
   "outputs": [],
   "source": [
    "words = [\"python\", \"programming\", \"list\", \"practice\", \"data\", \"structure\"]\n",
    "\n",
    "# 1. Sort the list alphabetically and print it\n",
    "\n",
    "# 2. Add the word \"algorithm\" to the beginning of the list\n",
    "\n",
    "# 3. Remove the word \"practice\" from the list\n",
    "\n",
    "# 4. Print how many times the word \"list\" appears in the list\n",
    "\n",
    "# 5. Create a new list with the first three words and print it"
   ]
  }
 ],
 "metadata": {
  "kernelspec": {
   "display_name": "Python 3",
   "language": "python",
   "name": "python3"
  },
  "language_info": {
   "codemirror_mode": {
    "name": "ipython",
    "version": 3
   },
   "file_extension": ".py",
   "mimetype": "text/x-python",
   "name": "python",
   "nbconvert_exporter": "python",
   "pygments_lexer": "ipython3",
   "version": "3.12.2"
  }
 },
 "nbformat": 4,
 "nbformat_minor": 2
}
