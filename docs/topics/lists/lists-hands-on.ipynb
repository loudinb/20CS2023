{
    "cells": [
        {
            "cell_type": "markdown",
            "metadata": {},
            "source": [
                "# Lists: Hands-On Practice\n",
                "\n",
                "Take 10 minute to complete the following exercises on Python lists.\n",
                "\n",
                "You may access this file through the [Lecture 3 Hands-On Practice](https://classroom.github.com/a/bJa2Rh_V) GitHub Classroom Assignment"
            ]
        },
        {
            "cell_type": "markdown",
            "metadata": {},
            "source": [
                "## Exercise 1: Creating and Accessing Lists\n",
                "\n",
                "Create a list of your favorite fruits and access specific elements."
            ]
        },
        {
            "cell_type": "code",
            "execution_count": null,
            "metadata": {},
            "outputs": [],
            "source": [
                "# Create a list called 'fruits' with at least 5 of your favorite fruits\n",
                "fruits = []\n",
                "\n",
                "# Print the entire list\n",
                "print(\"My favorite fruits:\", fruits)\n",
                "\n",
                "# Print the first fruit in the list\n",
                "print(\"First fruit:\", )\n",
                "\n",
                "# Print the last fruit in the list\n",
                "print(\"Last fruit:\", )\n",
                "\n",
                "# Print the third fruit in the list\n",
                "print(\"Third fruit:\", )"
            ]
        },
        {
            "cell_type": "markdown",
            "metadata": {},
            "source": [
                "## Exercise 2: List Operations\n",
                "\n",
                "Perform various operations on a list of numbers."
            ]
        },
        {
            "cell_type": "code",
            "execution_count": null,
            "metadata": {},
            "outputs": [],
            "source": [
                "numbers = [10, 20, 30, 40, 50]\n",
                "\n",
                "# Add the number 60 to the end of the list\n",
                "\n",
                "# Insert the number 15 at index 1\n",
                "\n",
                "# Remove the number 30 from the list\n",
                "\n",
                "# Sort the list in descending order\n",
                "\n",
                "print(\"Modified list:\", numbers)\n",
                "\n",
                "# Calculate and print the sum of all numbers in the list\n",
                "total = \n",
                "print(\"Sum of numbers:\", total)"
            ]
        },
        {
            "cell_type": "markdown",
            "metadata": {},
            "source": [
                "## Exercise 3: List Slicing\n",
                "\n",
                "Practice list slicing with a list of letters."
            ]
        },
        {
            "cell_type": "code",
            "execution_count": null,
            "metadata": {},
            "outputs": [],
            "source": [
                "letters = ['a', 'b', 'c', 'd', 'e', 'f', 'g']\n",
                "\n",
                "# Get the first three letters\n",
                "first_three = \n",
                "print(\"First three letters:\", first_three)\n",
                "\n",
                "# Get the last three letters\n",
                "last_three = \n",
                "print(\"Last three letters:\", last_three)\n",
                "\n",
                "# Get every second letter\n",
                "every_second = \n",
                "print(\"Every second letter:\", every_second)\n",
                "\n",
                "# Reverse the list\n",
                "reversed_letters = \n",
                "print(\"Reversed letters:\", reversed_letters)"
            ]
        },
        {
            "cell_type": "markdown",
            "metadata": {},
            "source": [
                "## Exercise 4: List Comprehension\n",
                "\n",
                "Use list comprehension to create new lists based on given conditions."
            ]
        },
        {
            "cell_type": "code",
            "execution_count": null,
            "metadata": {},
            "outputs": [],
            "source": [
                "numbers = [1, 2, 3, 4, 5, 6, 7, 8, 9, 10]\n",
                "\n",
                "# Create a new list with the squares of even numbers\n",
                "even_squares = \n",
                "print(\"Squares of even numbers:\", even_squares)\n",
                "\n",
                "# Create a new list with numbers greater than 5\n",
                "greater_than_five = \n",
                "print(\"Numbers greater than 5:\", greater_than_five)"
            ]
        }
    ],
    "metadata": {
        "kernelspec": {
            "display_name": "Python 3",
            "language": "python",
            "name": "python3"
        },
        "language_info": {
            "codemirror_mode": {
                "name": "ipython",
                "version": 3
            },
            "file_extension": ".py",
            "mimetype": "text/x-python",
            "name": "python",
            "nbconvert_exporter": "python",
            "pygments_lexer": "ipython3",
            "version": "3.8.8"
        }
    },
    "nbformat": 4,
    "nbformat_minor": 4
}
