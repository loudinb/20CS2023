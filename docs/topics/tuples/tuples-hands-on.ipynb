{
    "cells": [
        {
            "cell_type": "markdown",
            "metadata": {},
            "source": [
                "# Tuples: Hands-On Practice\n",
                "\n",
                "Take 10 minutes to complete the following exercises on Python tuples.\n",
                "\n",
                "You may access this file through the [Lecture 3 Hands-On Practice](https://classroom.github.com/a/bJa2Rh_V) GitHub Classroom Assignment"
            ]
        },
        {
            "cell_type": "markdown",
            "metadata": {},
            "source": [
                "## Exercise 1: Creating and Accessing Tuples\n",
                "\n",
                "Create a tuple of your favorite colors and access specific elements."
            ]
        },
        {
            "cell_type": "code",
            "execution_count": null,
            "metadata": {},
            "outputs": [],
            "source": [
                "# Create a tuple called 'colors' with at least 5 of your favorite colors\n",
                "colors = ()\n",
                "\n",
                "# Print the entire tuple\n",
                "print(\"My favorite colors:\", colors)\n",
                "\n",
                "# Print the first color in the tuple\n",
                "print(\"First color:\", )\n",
                "\n",
                "# Print the last color in the tuple\n",
                "print(\"Last color:\", )\n",
                "\n",
                "# Print the number of items in the tuple\n",
                "print(\"Number of colors:\", )"
            ]
        },
        {
            "cell_type": "code",
            "execution_count": null,
            "metadata": {},
            "outputs": [],
            "source": [
                "# Try to modify the second color in the tuple (this will raise an error)\n"
            ]
        },
        {
            "cell_type": "markdown",
            "metadata": {},
            "source": [
                "## Exercise 2: Tuple Packing and Unpacking\n",
                "\n",
                "Practice tuple packing and unpacking with personal information."
            ]
        },
        {
            "cell_type": "code",
            "execution_count": null,
            "metadata": {},
            "outputs": [],
            "source": [
                "# Create a tuple with your name, age, and favorite hobby\n",
                "person_info = \n",
                "\n",
                "# Unpack the tuple into separate variables\n",
                "name, age, hobby = \n",
                "\n",
                "print(f\"Name: {name}\")\n",
                "print(f\"Age: {age}\")\n",
                "print(f\"Hobby: {hobby}\")\n",
                "\n",
                "# Create a list of tuples with information about your friends\n",
                "friends = [\n",
                "    ('Alice', 25, 'reading'),\n",
                "    ('Bob', 30, 'swimming'),\n",
                "    ('Charlie', 22, 'painting')\n",
                "]\n",
                "\n",
                "# Use a for loop to unpack and print each friend's information\n",
                "for friend in friends:\n",
                "    # Unpack the tuple and print the information\n",
                "    "
            ]
        },
        {
            "cell_type": "markdown",
            "metadata": {},
            "source": [
                "## Exercise 3: Tuple Methods and Operations\n",
                "\n",
                "Explore tuple methods and operations."
            ]
        },
        {
            "cell_type": "code",
            "execution_count": null,
            "metadata": {},
            "outputs": [],
            "source": [
                "numbers = (3, 1, 4, 1, 5, 9, 2, 6, 5, 3, 5)\n",
                "\n",
                "# Count how many times 5 appears in the tuple\n",
                "count_of_5 = \n",
                "print(\"Number of 5s:\", count_of_5)\n",
                "\n",
                "# Find the index of the first occurrence of 9\n",
                "index_of_9 = \n",
                "print(\"Index of 9:\", index_of_9)\n",
                "\n",
                "# Find the minimum and maximum values in the tuple\n",
                "min_value = \n",
                "max_value = \n",
                "print(f\"Minimum value: {min_value}, Maximum value: {max_value}\")"
            ]
        },
        {
            "cell_type": "markdown",
            "metadata": {},
            "source": [
                "## Exercise 4: Tuple as Return Value\n",
                "\n",
                "Create a function that returns multiple values as a tuple."
            ]
        },
        {
            "cell_type": "code",
            "execution_count": null,
            "metadata": {},
            "outputs": [],
            "source": [
                "def calculate_statistics(numbers):\n",
                "    # Calculate the sum and average of the numbers\n",
                "    # Return these values as a tuple\n",
                "    \n",
                "    return \n",
                "\n",
                "# Test the function with a list of numbers\n",
                "test_numbers = [2, 4, 6, 8, 10]\n",
                "result = calculate_statistics(test_numbers)\n",
                "\n",
                "# Unpack the returned tuple and print the results\n",
                "sum_result, avg_result = result\n",
                "print(f\"Sum: {sum_result}\")\n",
                "print(f\"Average: {avg_result}\")"
            ]
        }
    ],
    "metadata": {
        "kernelspec": {
            "display_name": "Python 3",
            "language": "python",
            "name": "python3"
        },
        "language_info": {
            "codemirror_mode": {
                "name": "ipython",
                "version": 3
            },
            "file_extension": ".py",
            "mimetype": "text/x-python",
            "name": "python",
            "nbconvert_exporter": "python",
            "pygments_lexer": "ipython3",
            "version": "3.12.2"
        }
    },
    "nbformat": 4,
    "nbformat_minor": 4
}
