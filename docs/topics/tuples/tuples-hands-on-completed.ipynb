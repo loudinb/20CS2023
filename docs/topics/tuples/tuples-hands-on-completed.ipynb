{
    "cells": [
        {
            "cell_type": "markdown",
            "metadata": {},
            "source": [
                "# Tuples: Hands-On Practice Completed\n",
                "\n",
                "This notebook contains the completed hands-on exercises for Python tuples."
            ]
        },
        {
            "cell_type": "markdown",
            "metadata": {},
            "source": [
                "## Exercise 1: Creating and Accessing Tuples\n",
                "\n",
                "Create a tuple of your favorite colors and access specific elements."
            ]
        },
        {
            "cell_type": "code",
            "execution_count": 1,
            "metadata": {},
            "outputs": [
                {
                    "name": "stdout",
                    "output_type": "stream",
                    "text": [
                        "My favorite colors: ('red', 'blue', 'green', 'yellow', 'orange')\n",
                        "First color: red\n",
                        "Last color: orange\n",
                        "Number of colors: 5\n"
                    ]
                }
            ],
            "source": [
                "# Create a tuple called 'colors' with at least 5 of your favorite colors\n",
                "colors = ('red', 'blue', 'green', 'yellow', 'orange')\n",
                "\n",
                "# Print the entire tuple\n",
                "print(\"My favorite colors:\", colors)\n",
                "\n",
                "# Print the first color in the tuple\n",
                "print(\"First color:\", colors[0])\n",
                "\n",
                "# Print the last color in the tuple\n",
                "print(\"Last color:\", colors[-1])\n",
                "\n",
                "# Print the number of items in the tuple\n",
                "print(\"Number of colors:\", len(colors))"
            ]
        },
        {
            "cell_type": "code",
            "execution_count": 2,
            "metadata": {},
            "outputs": [
                {
                    "ename": "TypeError",
                    "evalue": "'tuple' object does not support item assignment",
                    "output_type": "error",
                    "traceback": [
                        "\u001b[0;31m---------------------------------------------------------------------------\u001b[0m",
                        "\u001b[0;31mTypeError\u001b[0m                                 Traceback (most recent call last)",
                        "Cell \u001b[0;32mIn[2], line 4\u001b[0m\n\u001b[1;32m      1\u001b[0m \u001b[38;5;66;03m# Try to modify the second color in the tuple (this will raise an error)\u001b[39;00m\n\u001b[1;32m      2\u001b[0m \u001b[38;5;66;03m# Uncomment the line below to see the error\u001b[39;00m\n\u001b[1;32m      3\u001b[0m \u001b[38;5;66;03m# colors[1] = 'purple'\u001b[39;00m\n\u001b[0;32m----> 4\u001b[0m \u001b[43mcolors\u001b[49m\u001b[43m[\u001b[49m\u001b[38;5;241;43m1\u001b[39;49m\u001b[43m]\u001b[49m \u001b[38;5;241m=\u001b[39m \u001b[38;5;124m'\u001b[39m\u001b[38;5;124mpurple\u001b[39m\u001b[38;5;124m'\u001b[39m\n",
                        "\u001b[0;31mTypeError\u001b[0m: 'tuple' object does not support item assignment"
                    ]
                }
            ],
            "source": [
                "# Try to modify the second color in the tuple (this will raise an error)\n",
                "# Uncomment the line below to see the error\n",
                "# colors[1] = 'purple'\n",
                "colors[1] = 'purple'"
            ]
        },
        {
            "cell_type": "markdown",
            "metadata": {},
            "source": [
                "## Exercise 2: Tuple Packing and Unpacking\n",
                "\n",
                "Practice tuple packing and unpacking with personal information."
            ]
        },
        {
            "cell_type": "code",
            "execution_count": null,
            "metadata": {},
            "outputs": [
                {
                    "name": "stdout",
                    "output_type": "stream",
                    "text": [
                        "Name: Alice\n",
                        "Age: 25\n",
                        "Hobby: reading\n",
                        "Name: Alice\n",
                        "Age: 25\n",
                        "Hobby: reading\n",
                        "Name: Bob\n",
                        "Age: 30\n",
                        "Hobby: swimming\n",
                        "Name: Charlie\n",
                        "Age: 22\n",
                        "Hobby: painting\n"
                    ]
                }
            ],
            "source": [
                "# Create a tuple with your name, age, and favorite hobby\n",
                "person_info = ('Alice', 25, 'reading')\n",
                "\n",
                "# Unpack the tuple into separate variables\n",
                "name, age, hobby = person_info\n",
                "\n",
                "print(f\"Name: {name}\")\n",
                "print(f\"Age: {age}\")\n",
                "print(f\"Hobby: {hobby}\")\n",
                "\n",
                "# Create a list of tuples with information about your friends\n",
                "friends = [\n",
                "    ('Alice', 25, 'reading'),\n",
                "    ('Bob', 30, 'swimming'),\n",
                "    ('Charlie', 22, 'painting')\n",
                "]\n",
                "\n",
                "# Use a for loop to unpack and print each friend's information\n",
                "for friend in friends:\n",
                "    # Unpack the tuple and print the information\n",
                "    name, age, hobby = friend\n",
                "    print(f\"Name: {name}\")\n",
                "    print(f\"Age: {age}\")\n",
                "    print(f\"Hobby: {hobby}\")\n"
            ]
        },
        {
            "cell_type": "markdown",
            "metadata": {},
            "source": [
                "## Exercise 3: Tuple Methods and Operations\n",
                "\n",
                "Explore tuple methods and operations."
            ]
        },
        {
            "cell_type": "code",
            "execution_count": null,
            "metadata": {},
            "outputs": [
                {
                    "name": "stdout",
                    "output_type": "stream",
                    "text": [
                        "Number of 5s: 3\n",
                        "Index of 9: 5\n",
                        "Minimum value: 1, Maximum value: 9\n"
                    ]
                }
            ],
            "source": [
                "numbers = (3, 1, 4, 1, 5, 9, 2, 6, 5, 3, 5)\n",
                "\n",
                "# Count how many times 5 appears in the tuple\n",
                "count_of_5 = numbers.count(5)\n",
                "print(\"Number of 5s:\", count_of_5)\n",
                "\n",
                "# Find the index of the first occurrence of 9\n",
                "index_of_9 = numbers.index(9)\n",
                "print(\"Index of 9:\", index_of_9)\n",
                "\n",
                "# Find the minimum and maximum values in the tuple\n",
                "min_value = min(numbers)\n",
                "max_value = max(numbers)\n",
                "print(f\"Minimum value: {min_value}, Maximum value: {max_value}\")"
            ]
        },
        {
            "cell_type": "markdown",
            "metadata": {},
            "source": [
                "## Exercise 4: Tuple as Return Value\n",
                "\n",
                "Create a function that returns multiple values as a tuple."
            ]
        },
        {
            "cell_type": "code",
            "execution_count": 3,
            "metadata": {},
            "outputs": [
                {
                    "name": "stdout",
                    "output_type": "stream",
                    "text": [
                        "Sum: 30\n",
                        "Average: 6.0\n"
                    ]
                }
            ],
            "source": [
                "def calculate_statistics(numbers):\n",
                "    # Calculate the sum and average of the numbers\n",
                "    # Return these values as a tuple\n",
                "    sum_of_numbers = sum(numbers)\n",
                "    avg_of_numbers = sum_of_numbers / len(numbers)\n",
                "\n",
                "    return (sum_of_numbers, avg_of_numbers)\n",
                "\n",
                "# Test the function with a list of numbers\n",
                "test_numbers = [2, 4, 6, 8, 10]\n",
                "result = calculate_statistics(test_numbers)\n",
                "\n",
                "# Unpack the returned tuple and print the results\n",
                "sum_result, avg_result = result\n",
                "print(f\"Sum: {sum_result}\")\n",
                "print(f\"Average: {avg_result}\")"
            ]
        }
    ],
    "metadata": {
        "kernelspec": {
            "display_name": "Python 3",
            "language": "python",
            "name": "python3"
        },
        "language_info": {
            "codemirror_mode": {
                "name": "ipython",
                "version": 3
            },
            "file_extension": ".py",
            "mimetype": "text/x-python",
            "name": "python",
            "nbconvert_exporter": "python",
            "pygments_lexer": "ipython3",
            "version": "3.12.2"
        }
    },
    "nbformat": 4,
    "nbformat_minor": 4
}
