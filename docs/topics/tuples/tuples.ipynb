{
 "cells": [
  {
   "cell_type": "markdown",
   "metadata": {},
   "source": [
    "# Tuples\n",
    "\n",
    "Tuples are data structures that allow you to store multiple pieces of information in a single variable. They are similar to lists but are immutable, meaning their contents cannot be changed once created. This immutability makes tuples useful for storing data that should not be modified, such as the coordinates of a point in space or the RGB values of a color. Additionally, tuples are valuable when you need to return multiple values from a function.\n",
    "\n",
    "```python\n",
    "numbers = (1, 2, 3, 4, 5)\n",
    "````\n",
    "\n",
    "Key properties of Python tuples:\n",
    "\n",
    "1. **Immutable**: Tuples are immutable data structures, meaning that their contents cannot be changed after they are created. This makes them useful for storing data that should not be modified.\n",
    "2. **Sequence Protocol Implementation**: Tuples implement the sequence protocol, which defines them as ordered collections with the following properties:\n",
    "\n",
    "   a) **Indexing**: Elements can be accessed using integer indices, starting from 0.\n",
    "   \n",
    "   b) **Ordering**: Items maintain a specific order, preserving the sequence in which they were added.\n",
    "   \n",
    "   c) **Slicing**: Supports the extraction of sub-lists using slice notation.\n",
    "   \n",
    "   d) **Iteration**: Allows for element-by-element traversal using loops or iterators.\n",
    "   \n",
    "   e) **Length**: The number of elements can be determined using the `len()` function."
   ]
  },
  {
   "cell_type": "markdown",
   "metadata": {},
   "source": [
    "## Python Documentation References\n",
    "\n",
    "The following links are references to the Python documentation relevant to the topics discussed here:\n",
    "\n",
    "- [Tuple Type](https://docs.python.org/3/library/stdtypes.html#tuples)\n",
    "\n",
    "- [Common Sequence Operations](https://docs.python.org/3/library/stdtypes.html#common-sequence-operations)\n",
    "\n",
    "- [Data Structures - Tuples and Sequences](https://docs.python.org/3/tutorial/datastructures.html#tuples-and-sequences)"
   ]
  },
  {
   "cell_type": "markdown",
   "metadata": {},
   "source": [
    "## Tuple Construction\n",
    "\n",
    "Tuples may be constructed in several ways:\n",
    "\n",
    "- Using a pair of parentheses to denote the empty tuple: `()`\n",
    "- Using comma-separated values without parentheses: `a,` or `a, b, c`\n",
    "- Using parentheses and separating items with commas: `(a,)` or `(a, b, c)`\n",
    "- Using the tuple constructor: `tuple()` or `tuple(iterable)`\n",
    "\n",
    "```{warning}\n",
    "It is recommended to use parentheses to improve readability and avoid ambiguity when creating tuples with a single element.\n",
    "```"
   ]
  },
  {
   "cell_type": "code",
   "execution_count": 1,
   "metadata": {},
   "outputs": [
    {
     "name": "stdout",
     "output_type": "stream",
     "text": [
      "()\n",
      "(1.0, 0.0, 0.0)\n",
      "(1.0, 0.0, 0.0)\n"
     ]
    }
   ],
   "source": [
    "# Create an empty tuple\n",
    "coordinate = ()\n",
    "print(coordinate)\n",
    "\n",
    "# Create a tuple with a single value\n",
    "coordinate = (1.0,) # Note the comma, this is a tuple singelton\n",
    "\n",
    "# Create a tuple with values\n",
    "coordinate = (1.0, 0.0, 0.0)\n",
    "print(coordinate)\n",
    "\n",
    "# Create a tuple using the tuple constructor\n",
    "coordinate = tuple([1.0, 0.0, 0.0])\n",
    "print(coordinate)"
   ]
  },
  {
   "cell_type": "markdown",
   "metadata": {},
   "source": [
    "### Additional Initialization Examples"
   ]
  },
  {
   "cell_type": "code",
   "execution_count": 2,
   "metadata": {},
   "outputs": [],
   "source": [
    "# Create a heterogeneous tuple\n",
    "person = (\"Alice Smith\", 28, 1.65, True,)\n",
    "\n",
    "# Create a tuple with a nested tuple\n",
    "person = (\"Alice Smith\", 28, 1.65, True, (1.0, 0.0, 0.0))"
   ]
  },
  {
   "cell_type": "markdown",
   "metadata": {},
   "source": [
    "## Getting the Length of a Tuple\n",
    "\n",
    "The len() function returns the number of elements in a tuple. It only counts the elements at the top level, not the nested ones.\n"
   ]
  },
  {
   "cell_type": "code",
   "execution_count": 3,
   "metadata": {},
   "outputs": [
    {
     "name": "stdout",
     "output_type": "stream",
     "text": [
      "4\n",
      "5\n"
     ]
    }
   ],
   "source": [
    "person = (\"Alice Smith\", 28, 1.65, True,)\n",
    "print(len(person))\n",
    "\n",
    "person = (\"Alice Smith\", 28, 1.65, True, (1.0, 0.0, 0.0))\n",
    "print(len(person))"
   ]
  },
  {
   "cell_type": "markdown",
   "metadata": {},
   "source": [
    "## Accessing Elements\n",
    "\n",
    "Tuple elements are accessed using index notation.\n",
    "\n",
    "```{note}\n",
    "Python uses zero-based indexing, meaning that the first element in a list has an index of `0`, the second element has an index of `1`, and so on.\n",
    "```"
   ]
  },
  {
   "cell_type": "code",
   "execution_count": 4,
   "metadata": {},
   "outputs": [
    {
     "name": "stdout",
     "output_type": "stream",
     "text": [
      "Alice Smith\n",
      "1.65\n"
     ]
    }
   ],
   "source": [
    "person = (\"Alice Smith\", 28, 1.65, True,)\n",
    "\n",
    "print(person[0])  # First element\n",
    "print(person[2])  # Third element"
   ]
  },
  {
   "cell_type": "markdown",
   "metadata": {},
   "source": [
    "### Negative Indexing\n",
    "\n",
    "Negative indexing allows you to access elements from the end of the list. The last element has an index of `-1`, the second-to-last element has an index of `-2`, and so on."
   ]
  },
  {
   "cell_type": "code",
   "execution_count": 5,
   "metadata": {},
   "outputs": [
    {
     "name": "stdout",
     "output_type": "stream",
     "text": [
      "True\n",
      "1.65\n"
     ]
    }
   ],
   "source": [
    "person = (\"Alice Smith\", 28, 1.65, True,)\n",
    "\n",
    "print(person[-1])  # Last element\n",
    "print(person[-2])  # Second from last element"
   ]
  },
  {
   "cell_type": "markdown",
   "metadata": {},
   "source": [
    "## Modifying Elements\n",
    "\n",
    "Tuples are immutable, meaning that their contents cannot be changed after they are created. This property distinguishes tuples from lists, which are mutable data structures.\n",
    "\n",
    "If you attempt to modify a tuple, Python will raise a `TypeError` with the message `'tuple' object does not support item assignment`."
   ]
  },
  {
   "cell_type": "code",
   "execution_count": 6,
   "metadata": {
    "tags": [
     "raises-exception"
    ]
   },
   "outputs": [
    {
     "ename": "TypeError",
     "evalue": "'tuple' object does not support item assignment",
     "output_type": "error",
     "traceback": [
      "\u001b[0;31m---------------------------------------------------------------------------\u001b[0m",
      "\u001b[0;31mTypeError\u001b[0m                                 Traceback (most recent call last)",
      "Cell \u001b[0;32mIn[6], line 3\u001b[0m\n\u001b[1;32m      1\u001b[0m person \u001b[38;5;241m=\u001b[39m (\u001b[38;5;124m\"\u001b[39m\u001b[38;5;124mAlice Smith\u001b[39m\u001b[38;5;124m\"\u001b[39m, \u001b[38;5;241m28\u001b[39m, \u001b[38;5;241m1.65\u001b[39m, \u001b[38;5;28;01mTrue\u001b[39;00m,)\n\u001b[0;32m----> 3\u001b[0m \u001b[43mperson\u001b[49m\u001b[43m[\u001b[49m\u001b[38;5;241;43m0\u001b[39;49m\u001b[43m]\u001b[49m \u001b[38;5;241m=\u001b[39m \u001b[38;5;124m\"\u001b[39m\u001b[38;5;124mAlice Brown\u001b[39m\u001b[38;5;124m\"\u001b[39m \u001b[38;5;66;03m# This will raise an error\u001b[39;00m\n",
      "\u001b[0;31mTypeError\u001b[0m: 'tuple' object does not support item assignment"
     ]
    }
   ],
   "source": [
    "person = (\"Alice Smith\", 28, 1.65, True,)\n",
    "\n",
    "person[0] = \"Alice Brown\" # This will raise an error"
   ]
  },
  {
   "cell_type": "markdown",
   "metadata": {},
   "source": [
    "### Reassignment\n",
    "\n",
    "Do not be confuse reassignment with modification.  You can achieve the effect of modifying a tuple by creating a new tuple with the desired changes and **reassigning** it to the same variable. This process doesn’t alter the original tuple; instead, it creates a new one with a different memory address."
   ]
  },
  {
   "cell_type": "code",
   "execution_count": null,
   "metadata": {},
   "outputs": [
    {
     "name": "stdout",
     "output_type": "stream",
     "text": [
      "0xffff9882cb80\n",
      "0xffff987250d0\n"
     ]
    }
   ],
   "source": [
    "# Create an initial tuple\n",
    "person = (\"Alice Smith\", 28, 1.65, True)\n",
    "\n",
    "# Check the memory address\n",
    "print(hex(id(person)))\n",
    "\n",
    "# Create a new tuple with additional information (a nested tuple)\n",
    "person = (\"Alice Smith\", 28, 1.65, True, (1.0, 0.0, 0.0))\n",
    "\n",
    "# Check the memory address again\n",
    "print(hex(id(person)))"
   ]
  },
  {
   "cell_type": "markdown",
   "metadata": {},
   "source": [
    "## Adding and Removing Elements\n",
    "\n",
    "As noted earlier, tuples are immutable, so you cannot add or remove elements from them."
   ]
  },
  {
   "cell_type": "markdown",
   "metadata": {},
   "source": [
    "## Slicing\n",
    "\n",
    "Tuple slicing is a technique that allows you to access a subset of elements from a tuple. It is done by specifying the start and end indices, separated by a colon `:`.\n",
    "\n",
    "The general syntax for tuple slicing is `tuple[start:end]`, where `start` is the index of the first element you want to include, and `end` is the index of the first element you **do not** want to include.\n",
    "\n",
    "Omitting one index in the slice means the slice will extend to the beginning or end of the tuple. For a reverse slice (with a negative step), when the start is omitted, Python interprets this as starting from the end of the tuple. Omitting the end index makes it go to the beginning of the tuple.\n",
    "\n",
    "You can also specify a step, which is the length of the step from one index to the next. The general syntax for this is `tuple[start:end:step]`."
   ]
  },
  {
   "cell_type": "code",
   "execution_count": null,
   "metadata": {},
   "outputs": [
    {
     "name": "stdout",
     "output_type": "stream",
     "text": [
      "(2, 3, 4)\n",
      "(2, 3, 4, 5, 6, 7, 8, 9)\n",
      "(0, 1, 2, 3, 4, 5, 6)\n",
      "(9, 8, 7, 6, 5, 4, 3, 2, 1, 0)\n",
      "(7, 6, 5, 4, 3, 2, 1, 0)\n",
      "(9, 8, 7, 6, 5, 4)\n"
     ]
    }
   ],
   "source": [
    "numbers = (0, 1, 2, 3, 4, 5, 6, 7, 8, 9)\n",
    "\n",
    "# Regular slices\n",
    "print(numbers[2:5])   # [2, 3, 4]\n",
    "print(numbers[2:])    # [2, 3, 4, 5, 6, 7, 8, 9]\n",
    "print(numbers[:7])    # [0, 1, 2, 3, 4, 5, 6]\n",
    "\n",
    "# Reverse slices (with negative step)\n",
    "print(numbers[::-1])  # [9, 8, 7, 6, 5, 4, 3, 2, 1, 0]\n",
    "print(numbers[7::-1]) # [7, 6, 5, 4, 3, 2, 1, 0]\n",
    "print(numbers[:3:-1]) # [9, 8, 7, 6, 5, 4]"
   ]
  },
  {
   "cell_type": "markdown",
   "metadata": {},
   "source": [
    "## Tuple Membership\n",
    "\n",
    "You can check if an element is present in a tuple using the `in` and `not in` operators."
   ]
  },
  {
   "cell_type": "code",
   "execution_count": null,
   "metadata": {},
   "outputs": [
    {
     "name": "stdout",
     "output_type": "stream",
     "text": [
      "True\n",
      "True\n"
     ]
    }
   ],
   "source": [
    "person = (\"Alice Smith\", 28, 1.65, True)\n",
    "\n",
    "print(28 in person) # True\n",
    "\n",
    "print(True in person) # True"
   ]
  },
  {
   "cell_type": "markdown",
   "metadata": {},
   "source": [
    "## Merging Tuples - zip()\n",
    "\n",
    "The `zip()` function takes two or more tuples and merges them into a single tuple of **tuples**. Each tuple contains the elements from the corresponding position in the input tuple.\n",
    "\n",
    "```{note}\n",
    "If the input tuples are of different lengths, the resulting tuple will have the length of the shortest input tuple.\n",
    "```"
   ]
  },
  {
   "cell_type": "code",
   "execution_count": null,
   "metadata": {},
   "outputs": [
    {
     "name": "stdout",
     "output_type": "stream",
     "text": [
      "[(0, 'red'), (1, 'green'), (2, 'blue'), (3, 'yellow'), (4, 'black')]\n"
     ]
    }
   ],
   "source": [
    "ind = (0, 1, 2, 3, 4)\n",
    "color = (\"red\", \"green\", \"blue\", \"yellow\", \"black\")\n",
    "\n",
    "# Combine the two lists into a new list of tuples\n",
    "combined = list(zip(ind, color))\n",
    "print(combined)"
   ]
  }
 ],
 "metadata": {
  "kernelspec": {
   "display_name": "Python 3",
   "language": "python",
   "name": "python3"
  },
  "language_info": {
   "codemirror_mode": {
    "name": "ipython",
    "version": 3
   },
   "file_extension": ".py",
   "mimetype": "text/x-python",
   "name": "python",
   "nbconvert_exporter": "python",
   "pygments_lexer": "ipython3",
   "version": "3.12.2"
  }
 },
 "nbformat": 4,
 "nbformat_minor": 2
}
