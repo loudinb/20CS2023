{
 "cells": [
  {
   "cell_type": "markdown",
   "metadata": {},
   "source": [
    "# Conditional Statements\n",
    "\n",
    "Conditional statements are a fundamental concept in programming that allow you to control the flow of your code based on certain conditions. In Python, the primary conditional statement is the `if` statement."
   ]
  },
  {
   "cell_type": "markdown",
   "metadata": {},
   "source": [
    "## `if` Statement\n",
    "\n",
    "The most basic form of a conditional statement is the `if` statement. The `if` statement is used to evaluate a condition and execute a block of code if the condition is `True`. The general syntax of an `if` statement is as follows:\n",
    "\n",
    "```python\n",
    "if condition:\n",
    "    # code block\n",
    "```"
   ]
  },
  {
   "cell_type": "code",
   "execution_count": 1,
   "metadata": {},
   "outputs": [
    {
     "name": "stdout",
     "output_type": "stream",
     "text": [
      "You are eligible to vote.\n"
     ]
    }
   ],
   "source": [
    "age = 18\n",
    "if age >= 18:\n",
    "    print(\"You are eligible to vote.\")"
   ]
  },
  {
   "cell_type": "markdown",
   "metadata": {},
   "source": [
    "## `if-else` Statement\n",
    "\n",
    "The `if-else` statement is an extension of the `if` statement that allows you to execute one block of code if the condition is `True` and another block of code if the condition is `False`. The general syntax of an `if-else` statement is as follows:\n",
    "\n",
    "```python\n",
    "if condition:\n",
    "    # code block 1\n",
    "else:\n",
    "    # code block 2\n",
    "```"
   ]
  },
  {
   "cell_type": "code",
   "execution_count": 2,
   "metadata": {},
   "outputs": [
    {
     "name": "stdout",
     "output_type": "stream",
     "text": [
      "The weather is pleasant.\n"
     ]
    }
   ],
   "source": [
    "temperature = 25\n",
    "if temperature > 30:\n",
    "    print(\"It's hot outside!\")\n",
    "else:\n",
    "    print(\"The weather is pleasant.\")"
   ]
  },
  {
   "cell_type": "markdown",
   "metadata": {},
   "source": [
    "## `if-elif-else` Statement\n",
    "\n",
    "The `if-elif-else` statement is an extension of the `if-else` statement that allows you to evaluate multiple conditions. The `elif` keyword is short for \"else if\" and is used to check additional conditions if the previous conditions are `False`. The general syntax of an `if-elif-else` statement is as follows:\n",
    "\n",
    "```python\n",
    "if condition1:\n",
    "    # code block 1\n",
    "elif condition2:\n",
    "    # code block 2\n",
    "else:\n",
    "    # code block 3\n",
    "```\n",
    "\n",
    "You can have multiple `elif` blocks to check as many conditions as needed. The `else` block is optional and will execute if none of the conditions are `True`."
   ]
  },
  {
   "cell_type": "code",
   "execution_count": 3,
   "metadata": {},
   "outputs": [
    {
     "name": "stdout",
     "output_type": "stream",
     "text": [
      "B\n"
     ]
    }
   ],
   "source": [
    "score = 85\n",
    "if score >= 90:\n",
    "    print(\"A\")\n",
    "elif score >= 80:\n",
    "    print(\"B\")\n",
    "elif score >= 70:\n",
    "    print(\"C\")\n",
    "else:\n",
    "    print(\"D\")"
   ]
  },
  {
   "cell_type": "markdown",
   "metadata": {},
   "source": [
    "## Nested Comparisons\n",
    "\n",
    "You can nest conditional statements within other conditional statements to create more complex decision-making structures. This allows you to check multiple conditions in sequence or in combination.\n",
    "\n",
    "```python\n",
    "if condition1:\n",
    "    if condition2:\n",
    "        # code block 1\n",
    "    else:\n",
    "        # code block 2\n",
    "else:\n",
    "    # code block 3\n",
    "```\n",
    "\n",
    "\n",
    "```{warning}\n",
    "Excessive nesting of conditional statements can reduce code readability and maintainability. To simplify complex logic, consider using functions, or alternative control structures like elif, switch, or early returns.\n",
    "```"
   ]
  },
  {
   "cell_type": "markdown",
   "metadata": {},
   "source": [
    "## `match` Statement\n",
    "\n",
    "The `match` statement is a new feature introduced in Python 3.10 that provides a more concise and readable way to write conditional statements. It allows you to match a value against multiple patterns and execute different code blocks based on the matched pattern. The `match` statement can be used to replace complex `if-elif-else` chains.\n",
    "\n",
    "The general syntax of a `match` statement is as follows:\n",
    "\n",
    "```python\n",
    "match value:\n",
    "    case pattern1:\n",
    "        # code block 1\n",
    "    case pattern2:\n",
    "        # code block 2\n",
    "    case _:\n",
    "        # default code block\n",
    "```\n",
    "\n",
    "\n",
    "The `_` acts as a wildcard or catch-all, matching any value that does not match the previous patterns. \n",
    "\n"
   ]
  },
  {
   "cell_type": "code",
   "execution_count": 6,
   "metadata": {},
   "outputs": [
    {
     "name": "stdout",
     "output_type": "stream",
     "text": [
      "B\n"
     ]
    }
   ],
   "source": [
    "score = 85\n",
    "\n",
    "match score:\n",
    "    case score if score >= 90:\n",
    "        print(\"A\")\n",
    "    case score if score >= 80:\n",
    "        print(\"B\")\n",
    "    case score if score >= 70:\n",
    "        print(\"C\")\n",
    "    case _:\n",
    "        print(\"D\")"
   ]
  }
 ],
 "metadata": {
  "kernelspec": {
   "display_name": "Python 3",
   "language": "python",
   "name": "python3"
  },
  "language_info": {
   "codemirror_mode": {
    "name": "ipython",
    "version": 3
   },
   "file_extension": ".py",
   "mimetype": "text/x-python",
   "name": "python",
   "nbconvert_exporter": "python",
   "pygments_lexer": "ipython3",
   "version": "3.12.5"
  }
 },
 "nbformat": 4,
 "nbformat_minor": 2
}
