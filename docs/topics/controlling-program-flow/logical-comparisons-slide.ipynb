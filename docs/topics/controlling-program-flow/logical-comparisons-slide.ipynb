{
 "cells": [
  {
   "cell_type": "markdown",
   "metadata": {
    "vscode": {
     "languageId": "plaintext"
    }
   },
   "source": [
    "## Data Type Comparisons\n",
    "\n",
    "```python\n",
    "print(5 == 5.0)      # True (int and float)\n",
    "print(\"5\" == 5)      # False (str and int)\n",
    "print(\"apple\" < \"banana\")  # True (alphabetical order)\n",
    "print([1, 2, 3] == [1, 2])  # False (different lengths)\n",
    "```\n",
    "\n",
    "::: {.notes}\n",
    "Comparison operators in Python can be used to compare values of different data types. When comparing values of different types, Python may perform implicit type conversion (type promotion) to bring the values to a compatible type before making the comparison. For example, when comparing an integer and a float, Python will convert the integer to a float before making the comparison. However, this process is limited to certain types (e.g., numbers), and it is not full type coercion. Python does not perform automatic type promotion across incompatible types, such as strings and integers.\n",
    ":::"
   ]
  },
  {
   "cell_type": "markdown",
   "metadata": {},
   "source": [
    "## Logical Operators\n",
    "\n",
    "Logical operators in Python are used to combine multiple conditions or values and return a single Boolean value.\n",
    "\n",
    "::: presentation-medium\n",
    "\n",
    "| Operator | Description | Example |\n",
    "|----------|-------------|---------|\n",
    "| `and` | Returns `True` if both operands are true | `(5 > 3) and (10 < 20)` returns `True` |\n",
    "| `or` | Returns `True` if at least one operand is true | `(5 < 3) or (10 < 20)` returns `True` |\n",
    "| `not` | Negates the operand, returning the opposite Boolean value | `not (5 > 10)` returns `True` |\n",
    "\n",
    ":::"
   ]
  },
  {
   "cell_type": "markdown",
   "metadata": {},
   "source": [
    "## Chaining Comparisons\n",
    "\n",
    "Python allows chaining multiple comparison operations together to create more complex logical expressions. This feature is known as \"chained comparison\" or \"comparison chaining.\" In a chained comparison, the result of one comparison is used as an operand in the next comparison. For example, the expression `1 < 2 < 3` is equivalent to `(1 < 2) and (2 < 3)`."
   ]
  },
  {
   "cell_type": "code",
   "execution_count": 2,
   "metadata": {},
   "outputs": [
    {
     "name": "stdout",
     "output_type": "stream",
     "text": [
      "True\n"
     ]
    }
   ],
   "source": [
    "x = 10\n",
    "print(5 < x < 15)  # True - equivalent to (5 < x) and (x < 15)"
   ]
  },
  {
   "cell_type": "markdown",
   "metadata": {},
   "source": [
    "## Truthiness\n",
    "\n",
    "Truithiness is a concept in programming languages that determines whether a value is considered `True` or `False` in a Boolean context.  Every value in Python has an associated truth value, which is used in conditional statements and logical operations. In Python, the following values are considered `False`:\n",
    "\n",
    "- `False`\n",
    "- `None`\n",
    "- `0` (integer)\n",
    "- `0.0` (float)\n",
    "- `0j` (complex number)\n",
    "- `''` (empty string)\n",
    "- `[]` (empty list)\n",
    "- `{}` (empty dictionary)\n",
    "- `()` (empty tuple)\n",
    "- `set()` (empty set)\n",
    "\n",
    "All other values are considered `True` in a Boolean context."
   ]
  },
  {
   "cell_type": "markdown",
   "metadata": {},
   "source": [
    "## Short-Circuit Evaluation\n",
    "\n",
    "Short-circuit evaluation is a technique used in programming to optimize logical expressions. In short-circuit evaluation, the evaluation of a logical expression stops as soon as the result is determined. For example, in the expression `A and B`, if `A` is `False`, the result of the expression is `False`, regardless of the value of `B`. In this case, `B` is not evaluated because the result is already known. Similarly, in the expression `A or B`, if `A` is `True`, the result of the expression is `True`, and `B` is not evaluated."
   ]
  }
 ],
 "metadata": {
  "kernelspec": {
   "display_name": "Python 3",
   "language": "python",
   "name": "python3"
  },
  "language_info": {
   "codemirror_mode": {
    "name": "ipython",
    "version": 3
   },
   "file_extension": ".py",
   "mimetype": "text/x-python",
   "name": "python",
   "nbconvert_exporter": "python",
   "pygments_lexer": "ipython3",
   "version": "3.12.5"
  }
 },
 "nbformat": 4,
 "nbformat_minor": 2
}
