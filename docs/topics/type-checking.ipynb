{
    "cells": [
        {
            "cell_type": "markdown",
            "metadata": {},
            "source": [
                "# Type Checking\n",
                "\n",
                "Although Python is a dynamically typed language, it is often useful to check the type of an object. This can help you catch errors early in the development process and ensure that your code works correctly with different types of data. In this lesson, we'll explore type checking in Python, using the `type()` and `isinstance()` functions."
            ]
        },
        {
            "cell_type": "markdown",
            "metadata": {},
            "source": [
                "## type()\n",
                "\n",
                "The `type()` function returns the type of an object. For example, if you pass an integer to the `type()` function, it will return `<class 'int'>`. Similarly, if you pass a string to the `type()` function, it will return `<class 'str'>`.\n",
                "\n",
                "The general syntax of the `type()` function is as follows:\n",
                "\n",
                "```python\n",
                "type(object)\n",
                "```"
            ]
        },
        {
            "cell_type": "code",
            "execution_count": 2,
            "metadata": {},
            "outputs": [
                {
                    "name": "stdout",
                    "output_type": "stream",
                    "text": [
                        "x is 5, type: <class 'int'>\n",
                        "x is Hello, type: <class 'str'>\n"
                    ]
                }
            ],
            "source": [
                "# Example of dynamic typing\n",
                "x = 5\n",
                "print(f\"x is {x}, type: {type(x)}\")\n",
                "\n",
                "x = \"Hello\"\n",
                "print(f\"x is {x}, type: {type(x)}\")"
            ]
        },
        {
            "cell_type": "markdown",
            "metadata": {},
            "source": [
                "## `isinstance()`\n",
                "\n",
                "The `isinstance()` function is a powerful tool for type checking in Python. It returns `True` if the object is of the specified type or a subclass thereof, and `False` otherwise.  The key difference between `type()` and `isinstance()` is that `isinstance()` can check for subclasses, while `type()` cannot.\n",
                "\n",
                "The general syntax for `isinstance()` is:\n",
                "\n",
                "```python\n",
                "isinstance(object, classinfo)\n",
                "```\n",
                "\n",
                "Where `object` is the object you want to check, and `classinfo` is the type you want to check against."
            ]
        },
        {
            "cell_type": "code",
            "execution_count": 3,
            "metadata": {},
            "outputs": [
                {
                    "name": "stdout",
                    "output_type": "stream",
                    "text": [
                        "True\n",
                        "True\n",
                        "True\n",
                        "False\n"
                    ]
                }
            ],
            "source": [
                "# Basic usage of isinstance()\n",
                "x = 5\n",
                "y = \"Hello\"\n",
                "z = [1, 2, 3]\n",
                "\n",
                "print(isinstance(x, int))    # True\n",
                "print(isinstance(y, str))    # True\n",
                "print(isinstance(z, list))   # True\n",
                "print(isinstance(x, float))  # False"
            ]
        },
        {
            "cell_type": "markdown",
            "metadata": {},
            "source": [
                "### Checking Multiple Types\n",
                "\n",
                "You can check for multiple types using a tuple as the second argument to `isinstance()`.  The function will return `True` if the object is of any of the specified types, and `False` otherwise.\n",
                "\n",
                "```python\n",
                "isinstance(object, (type1, type2, ...))\n",
                "```"
            ]
        },
        {
            "cell_type": "code",
            "execution_count": null,
            "metadata": {},
            "outputs": [],
            "source": [
                "def print_number(num):\n",
                "    if isinstance(num, (int, float)):\n",
                "        print(f\"{num} is a number\")\n",
                "    else:\n",
                "        print(f\"{num} is not a number\")\n",
                "\n",
                "print_number(5)      # 5 is a number\n",
                "print_number(3.14)   # 3.14 is a number\n",
                "print_number(\"10\")   # 10 is not a number"
            ]
        },
        {
            "cell_type": "markdown",
            "metadata": {},
            "source": [
                "### Custom Classes and Inheritance\n",
                "\n",
                "One of the key benefits of `isinstance()` is that it works with custom classes and inheritance. If you have a custom class that inherits from another class, `isinstance()` will return `True` for both the custom class and the parent class."
            ]
        },
        {
            "cell_type": "code",
            "execution_count": 4,
            "metadata": {},
            "outputs": [
                {
                    "name": "stdout",
                    "output_type": "stream",
                    "text": [
                        "True\n",
                        "True\n",
                        "False\n",
                        "True\n"
                    ]
                }
            ],
            "source": [
                "class Animal:\n",
                "    pass\n",
                "\n",
                "class Dog(Animal):\n",
                "    pass\n",
                "\n",
                "class Cat(Animal):\n",
                "    pass\n",
                "\n",
                "fido = Dog()\n",
                "whiskers = Cat()\n",
                "\n",
                "print(isinstance(fido, Dog))      # True\n",
                "print(isinstance(fido, Animal))   # True\n",
                "print(isinstance(whiskers, Dog))  # False\n",
                "print(isinstance(whiskers, Animal))  # True"
            ]
        },
        {
            "cell_type": "markdown",
            "metadata": {},
            "source": [
                "## Duck Typing\n",
                "\n",
                "```{note}\n",
                "Remember, while type checking can be useful, it's important to balance it with Python's dynamic nature and the principle of duck typing. _If it walks like a duck and quacks like a duck, it's a duck._ This means focusing on the behavior rather than the type.\n",
                "```\n",
                "\n",
                "Type checking can be useful in a variety of situations, including:\n",
                "\n",
                "1. Input validation\n",
                "2. Handling different types in a function\n",
                "3. Ensuring correct usage of custom classes\n",
                "4. Debugging and troubleshooting\n",
                "\n",
                "\n",
                "The next example demonstrates the importance of focusing on an object's behavior rather than its type. In the `calculate_area` function, instead of checking if an object is a specific type like `Circle` or `Square`, the function simply checks if the object has an `area()` method. If the method exists and is callable, the function uses it, making the code flexible and easily extendable to new shapes that implement an `area()` method. This approach allows for clean, adaptable code without requiring explicit type checks, enabling new classes to work seamlessly as long as they follow the expected behavior. Duck typing promotes simplicity, flexibility, and code that can handle future changes with minimal adjustments.\n"
            ]
        },
        {
            "cell_type": "code",
            "execution_count": 5,
            "metadata": {},
            "outputs": [
                {
                    "name": "stdout",
                    "output_type": "stream",
                    "text": [
                        "78.5\n",
                        "16\n",
                        "Error: Shape doesn't have an area() method\n"
                    ]
                }
            ],
            "source": [
                "def calculate_area(shape):\n",
                "    if hasattr(shape, 'area') and callable(shape.area):\n",
                "        return shape.area()\n",
                "    else:\n",
                "        raise AttributeError(\"Shape doesn't have an area() method\")\n",
                "\n",
                "class Circle:\n",
                "    def __init__(self, radius):\n",
                "        self.radius = radius\n",
                "    \n",
                "    def area(self):\n",
                "        return 3.14 * self.radius ** 2\n",
                "\n",
                "class Square:\n",
                "    def __init__(self, side):\n",
                "        self.side = side\n",
                "    \n",
                "    def area(self):\n",
                "        return self.side ** 2\n",
                "\n",
                "class Line:\n",
                "    def __init__(self, length):\n",
                "        self.length = length\n",
                "    \n",
                "    # Note: Line doesn't have an area() method\n",
                "\n",
                "# Test the classes\n",
                "circle = Circle(5)\n",
                "square = Square(4)\n",
                "line = Line(3)\n",
                "\n",
                "print(calculate_area(circle))  # Works\n",
                "print(calculate_area(square))  # Also works\n",
                "\n",
                "try:\n",
                "    print(calculate_area(line))  # This will raise an AttributeError\n",
                "except AttributeError as e:\n",
                "    print(f\"Error: {e}\")"
            ]
        }
    ],
    "metadata": {
        "kernelspec": {
            "display_name": "Python 3",
            "language": "python",
            "name": "python3"
        },
        "language_info": {
            "codemirror_mode": {
                "name": "ipython",
                "version": 3
            },
            "file_extension": ".py",
            "mimetype": "text/x-python",
            "name": "python",
            "nbconvert_exporter": "python",
            "pygments_lexer": "ipython3",
            "version": "3.12.2"
        }
    },
    "nbformat": 4,
    "nbformat_minor": 4
}
